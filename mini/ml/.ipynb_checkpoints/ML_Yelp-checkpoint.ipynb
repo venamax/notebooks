{
 "cells": [
  {
   "cell_type": "code",
   "execution_count": 129,
   "metadata": {
    "collapsed": true
   },
   "outputs": [],
   "source": [
    "%matplotlib inline\n",
    "import matplotlib\n",
    "import seaborn as sns\n",
    "matplotlib.rcParams['savefig.dpi'] = 2 * matplotlib.rcParams['savefig.dpi']"
   ]
  },
  {
   "cell_type": "code",
   "execution_count": 376,
   "metadata": {
    "collapsed": false
   },
   "outputs": [],
   "source": [
    "import sys\n",
    "import gzip\n",
    "import numpy as np\n",
    "import pandas as pd\n",
    "import dill\n",
    "from sklearn import neighbors\n",
    "from matplotlib import pylab as plt"
   ]
  },
  {
   "cell_type": "code",
   "execution_count": 6,
   "metadata": {
    "collapsed": false
   },
   "outputs": [
    {
     "data": {
      "text/plain": [
       "['{\"business_id\": \"vcNAWiLM4dR7D2nwwJ7nCA\", \"full_address\": \"4840 E Indian School Rd\\\\nSte 101\\\\nPhoenix, AZ 85018\", \"hours\": {\"Tuesday\": {\"close\": \"17:00\", \"open\": \"08:00\"}, \"Friday\": {\"close\": \"17:00\", \"open\": \"08:00\"}, \"Monday\": {\"close\": \"17:00\", \"open\": \"08:00\"}, \"Wednesday\": {\"close\": \"17:00\", \"open\": \"08:00\"}, \"Thursday\": {\"close\": \"17:00\", \"open\": \"08:00\"}}, \"open\": true, \"categories\": [\"Doctors\", \"Health & Medical\"], \"city\": \"Phoenix\", \"review_count\": 7, \"name\": \"Eric Goldberg, MD\", \"neighborhoods\": [], \"longitude\": -111.98375799999999, \"state\": \"AZ\", \"stars\": 3.5, \"latitude\": 33.499313000000001, \"attributes\": {\"By Appointment Only\": true}, \"type\": \"business\"}\\n',\n",
       " '{\"business_id\": \"JwUE5GmEO-sH1FuwJgKBlQ\", \"full_address\": \"6162 US Highway 51\\\\nDe Forest, WI 53532\", \"hours\": {}, \"open\": true, \"categories\": [\"Restaurants\"], \"city\": \"De Forest\", \"review_count\": 26, \"name\": \"Pine Cone Restaurant\", \"neighborhoods\": [], \"longitude\": -89.335843999999994, \"state\": \"WI\", \"stars\": 4.0, \"latitude\": 43.238892999999997, \"attributes\": {\"Take-out\": true, \"Good For\": {\"dessert\": false, \"latenight\": false, \"lunch\": true, \"dinner\": false, \"breakfast\": false, \"brunch\": false}, \"Caters\": false, \"Noise Level\": \"average\", \"Takes Reservations\": false, \"Delivery\": false, \"Ambience\": {\"romantic\": false, \"intimate\": false, \"touristy\": false, \"hipster\": false, \"divey\": false, \"classy\": false, \"trendy\": false, \"upscale\": false, \"casual\": false}, \"Parking\": {\"garage\": false, \"street\": false, \"validated\": false, \"lot\": true, \"valet\": false}, \"Has TV\": true, \"Outdoor Seating\": false, \"Attire\": \"casual\", \"Alcohol\": \"none\", \"Waiter Service\": true, \"Accepts Credit Cards\": true, \"Good for Kids\": true, \"Good For Groups\": true, \"Price Range\": 1}, \"type\": \"business\"}\\n']"
      ]
     },
     "execution_count": 6,
     "metadata": {},
     "output_type": "execute_result"
    }
   ],
   "source": [
    "# read the entire file into a python array\n",
    "with gzip.open('yelp_train_academic_dataset_business.json.gz', 'rb') as f:\n",
    "    data = f.readlines()\n",
    "\n",
    "data[:2]"
   ]
  },
  {
   "cell_type": "code",
   "execution_count": 10,
   "metadata": {
    "collapsed": true
   },
   "outputs": [],
   "source": [
    "# remove the trailing \"\\n\" from each line\n",
    "data = map(lambda x: x.rstrip(), data)"
   ]
  },
  {
   "cell_type": "code",
   "execution_count": 11,
   "metadata": {
    "collapsed": false
   },
   "outputs": [],
   "source": [
    "# each element of 'data' is an individual JSON object.\n",
    "# i want to convert it into an *array* of JSON objects\n",
    "# which, in and of itself, is one large JSON object\n",
    "# basically... add square brackets to the beginning\n",
    "# and end, and have all the individual business JSON objects\n",
    "# separated by a comma\n",
    "data_json_str = \"[\" + ','.join(data) + \"]\"\n",
    "\n",
    "# now, load it into pandas\n",
    "df = pd.read_json(data_json_str)"
   ]
  },
  {
   "cell_type": "code",
   "execution_count": 1396,
   "metadata": {
    "collapsed": false
   },
   "outputs": [
    {
     "data": {
      "text/html": [
       "<div>\n",
       "<table border=\"1\" class=\"dataframe\">\n",
       "  <thead>\n",
       "    <tr style=\"text-align: right;\">\n",
       "      <th></th>\n",
       "      <th>attributes</th>\n",
       "      <th>business_id</th>\n",
       "      <th>categories</th>\n",
       "      <th>city</th>\n",
       "      <th>full_address</th>\n",
       "      <th>hours</th>\n",
       "      <th>latitude</th>\n",
       "      <th>longitude</th>\n",
       "      <th>name</th>\n",
       "      <th>neighborhoods</th>\n",
       "      <th>open</th>\n",
       "      <th>review_count</th>\n",
       "      <th>stars</th>\n",
       "      <th>state</th>\n",
       "      <th>type</th>\n",
       "    </tr>\n",
       "  </thead>\n",
       "  <tbody>\n",
       "    <tr>\n",
       "      <th>0</th>\n",
       "      <td>{u'By Appointment Only': True}</td>\n",
       "      <td>vcNAWiLM4dR7D2nwwJ7nCA</td>\n",
       "      <td>[Doctors, Health &amp; Medical]</td>\n",
       "      <td>Phoenix</td>\n",
       "      <td>4840 E Indian School Rd\\nSte 101\\nPhoenix, AZ ...</td>\n",
       "      <td>{u'Thursday': {u'close': u'17:00', u'open': u'...</td>\n",
       "      <td>33.499313</td>\n",
       "      <td>-111.983758</td>\n",
       "      <td>Eric Goldberg, MD</td>\n",
       "      <td>[]</td>\n",
       "      <td>True</td>\n",
       "      <td>7</td>\n",
       "      <td>3.5</td>\n",
       "      <td>AZ</td>\n",
       "      <td>business</td>\n",
       "    </tr>\n",
       "    <tr>\n",
       "      <th>1</th>\n",
       "      <td>{u'Take-out': True, u'Price Range': 1, u'Outdo...</td>\n",
       "      <td>JwUE5GmEO-sH1FuwJgKBlQ</td>\n",
       "      <td>[Restaurants]</td>\n",
       "      <td>De Forest</td>\n",
       "      <td>6162 US Highway 51\\nDe Forest, WI 53532</td>\n",
       "      <td>{}</td>\n",
       "      <td>43.238893</td>\n",
       "      <td>-89.335844</td>\n",
       "      <td>Pine Cone Restaurant</td>\n",
       "      <td>[]</td>\n",
       "      <td>True</td>\n",
       "      <td>26</td>\n",
       "      <td>4.0</td>\n",
       "      <td>WI</td>\n",
       "      <td>business</td>\n",
       "    </tr>\n",
       "    <tr>\n",
       "      <th>2</th>\n",
       "      <td>{u'Take-out': True, u'Outdoor Seating': False,...</td>\n",
       "      <td>uGykseHzyS5xAMWoN6YUqA</td>\n",
       "      <td>[American (Traditional), Restaurants]</td>\n",
       "      <td>De Forest</td>\n",
       "      <td>505 W North St\\nDe Forest, WI 53532</td>\n",
       "      <td>{u'Monday': {u'close': u'22:00', u'open': u'06...</td>\n",
       "      <td>43.252267</td>\n",
       "      <td>-89.353437</td>\n",
       "      <td>Deforest Family Restaurant</td>\n",
       "      <td>[]</td>\n",
       "      <td>True</td>\n",
       "      <td>16</td>\n",
       "      <td>4.0</td>\n",
       "      <td>WI</td>\n",
       "      <td>business</td>\n",
       "    </tr>\n",
       "    <tr>\n",
       "      <th>3</th>\n",
       "      <td>{u'Take-out': True, u'Accepts Credit Cards': T...</td>\n",
       "      <td>LRKJF43s9-3jG9Lgx4zODg</td>\n",
       "      <td>[Food, Ice Cream &amp; Frozen Yogurt, Fast Food, R...</td>\n",
       "      <td>De Forest</td>\n",
       "      <td>4910 County Rd V\\nDe Forest, WI 53532</td>\n",
       "      <td>{u'Monday': {u'close': u'22:00', u'open': u'10...</td>\n",
       "      <td>43.251045</td>\n",
       "      <td>-89.374983</td>\n",
       "      <td>Culver's</td>\n",
       "      <td>[]</td>\n",
       "      <td>True</td>\n",
       "      <td>7</td>\n",
       "      <td>4.5</td>\n",
       "      <td>WI</td>\n",
       "      <td>business</td>\n",
       "    </tr>\n",
       "    <tr>\n",
       "      <th>4</th>\n",
       "      <td>{u'Take-out': True, u'Has TV': False, u'Outdoo...</td>\n",
       "      <td>RgDg-k9S5YD_BaxMckifkg</td>\n",
       "      <td>[Chinese, Restaurants]</td>\n",
       "      <td>De Forest</td>\n",
       "      <td>631 S Main St\\nDe Forest, WI 53532</td>\n",
       "      <td>{u'Monday': {u'close': u'22:00', u'open': u'11...</td>\n",
       "      <td>43.240875</td>\n",
       "      <td>-89.343722</td>\n",
       "      <td>Chang Jiang Chinese Kitchen</td>\n",
       "      <td>[]</td>\n",
       "      <td>True</td>\n",
       "      <td>3</td>\n",
       "      <td>4.0</td>\n",
       "      <td>WI</td>\n",
       "      <td>business</td>\n",
       "    </tr>\n",
       "    <tr>\n",
       "      <th>5</th>\n",
       "      <td>{}</td>\n",
       "      <td>oLctHIA1AxmsgOuu4dM6Vw</td>\n",
       "      <td>[Television Stations, Mass Media]</td>\n",
       "      <td>Mc Farland</td>\n",
       "      <td>4156 County Rd B\\nMc Farland, WI 53558</td>\n",
       "      <td>{}</td>\n",
       "      <td>42.968507</td>\n",
       "      <td>-89.322920</td>\n",
       "      <td>Charter Communications</td>\n",
       "      <td>[]</td>\n",
       "      <td>False</td>\n",
       "      <td>10</td>\n",
       "      <td>1.5</td>\n",
       "      <td>WI</td>\n",
       "      <td>business</td>\n",
       "    </tr>\n",
       "    <tr>\n",
       "      <th>6</th>\n",
       "      <td>{}</td>\n",
       "      <td>ZW2WeP2Hp20tq0RG1NFkoQ</td>\n",
       "      <td>[Home Services, Heating &amp; Air Conditioning/HVAC]</td>\n",
       "      <td>Mc Farland</td>\n",
       "      <td>4709 Triangle St\\nMc Farland, WI 53558</td>\n",
       "      <td>{}</td>\n",
       "      <td>43.030356</td>\n",
       "      <td>-89.298544</td>\n",
       "      <td>Air Quality Systems</td>\n",
       "      <td>[]</td>\n",
       "      <td>True</td>\n",
       "      <td>4</td>\n",
       "      <td>2.0</td>\n",
       "      <td>WI</td>\n",
       "      <td>business</td>\n",
       "    </tr>\n",
       "    <tr>\n",
       "      <th>7</th>\n",
       "      <td>{u'Wi-Fi': u'free'}</td>\n",
       "      <td>95p9Xg358BezJyk1wqzzyg</td>\n",
       "      <td>[Libraries, Public Services &amp; Government]</td>\n",
       "      <td>Mc Farland</td>\n",
       "      <td>5114 Farwell St\\nMc Farland, WI 53558</td>\n",
       "      <td>{u'Monday': {u'close': u'20:00', u'open': u'09...</td>\n",
       "      <td>43.014093</td>\n",
       "      <td>-89.294175</td>\n",
       "      <td>McFarland Public Library</td>\n",
       "      <td>[]</td>\n",
       "      <td>True</td>\n",
       "      <td>4</td>\n",
       "      <td>2.5</td>\n",
       "      <td>WI</td>\n",
       "      <td>business</td>\n",
       "    </tr>\n",
       "    <tr>\n",
       "      <th>8</th>\n",
       "      <td>{}</td>\n",
       "      <td>ZlhAvs_6ryi4_efZ1SpMbg</td>\n",
       "      <td>[Veterinarians, Pets]</td>\n",
       "      <td>Mc Farland</td>\n",
       "      <td>4811 Larson Beach Rd\\nMc Farland, WI 53558</td>\n",
       "      <td>{u'Monday': {u'close': u'18:00', u'open': u'07...</td>\n",
       "      <td>43.017124</td>\n",
       "      <td>-89.299119</td>\n",
       "      <td>Spartan Animal Hospital</td>\n",
       "      <td>[]</td>\n",
       "      <td>True</td>\n",
       "      <td>3</td>\n",
       "      <td>4.5</td>\n",
       "      <td>WI</td>\n",
       "      <td>business</td>\n",
       "    </tr>\n",
       "    <tr>\n",
       "      <th>9</th>\n",
       "      <td>{u'Alcohol': u'full_bar', u'Noise Level': u'lo...</td>\n",
       "      <td>_wZTYYL7cutanzAnJUTGMA</td>\n",
       "      <td>[Bars, American (Traditional), Nightlife, Loun...</td>\n",
       "      <td>Mc Farland</td>\n",
       "      <td>4506 Larson Beach Rd\\nMc Farland, WI 53558</td>\n",
       "      <td>{}</td>\n",
       "      <td>43.017701</td>\n",
       "      <td>-89.303789</td>\n",
       "      <td>Beach House Restaurant &amp; Lounge</td>\n",
       "      <td>[]</td>\n",
       "      <td>True</td>\n",
       "      <td>31</td>\n",
       "      <td>3.5</td>\n",
       "      <td>WI</td>\n",
       "      <td>business</td>\n",
       "    </tr>\n",
       "    <tr>\n",
       "      <th>10</th>\n",
       "      <td>{u'Accepts Credit Cards': True, u'Wi-Fi': u'fr...</td>\n",
       "      <td>XrzTVrJAjs0yYLvhFI9vkQ</td>\n",
       "      <td>[Hotels &amp; Travel, Bed &amp; Breakfast, Event Plann...</td>\n",
       "      <td>Mc Farland</td>\n",
       "      <td>5508 Broadhead St\\nMc Farland, WI 53558</td>\n",
       "      <td>{}</td>\n",
       "      <td>43.015931</td>\n",
       "      <td>-89.285206</td>\n",
       "      <td>Parsonage Bed &amp; Breakfast the</td>\n",
       "      <td>[]</td>\n",
       "      <td>True</td>\n",
       "      <td>9</td>\n",
       "      <td>5.0</td>\n",
       "      <td>WI</td>\n",
       "      <td>business</td>\n",
       "    </tr>\n",
       "    <tr>\n",
       "      <th>11</th>\n",
       "      <td>{u'Good for Kids': True}</td>\n",
       "      <td>1tkeiIa-daD8LbM6mHm_9A</td>\n",
       "      <td>[Active Life, Bowling]</td>\n",
       "      <td>Mc Farland</td>\n",
       "      <td>4711 Farwell St\\nMc Farland, WI 53558</td>\n",
       "      <td>{u'Monday': {u'close': u'02:00', u'open': u'11...</td>\n",
       "      <td>43.013156</td>\n",
       "      <td>-89.302164</td>\n",
       "      <td>Spartan Bowl</td>\n",
       "      <td>[]</td>\n",
       "      <td>True</td>\n",
       "      <td>3</td>\n",
       "      <td>1.5</td>\n",
       "      <td>WI</td>\n",
       "      <td>business</td>\n",
       "    </tr>\n",
       "    <tr>\n",
       "      <th>12</th>\n",
       "      <td>{u'Take-out': True, u'Price Range': 1, u'Outdo...</td>\n",
       "      <td>zOc8lbjViUZajbY7M0aUCQ</td>\n",
       "      <td>[Pizza, Restaurants]</td>\n",
       "      <td>Mc Farland</td>\n",
       "      <td>5813 Main St\\nMc Farland, WI 53558</td>\n",
       "      <td>{u'Tuesday': {u'close': u'22:00', u'open': u'1...</td>\n",
       "      <td>43.014164</td>\n",
       "      <td>-89.288567</td>\n",
       "      <td>Spartan Pizza</td>\n",
       "      <td>[]</td>\n",
       "      <td>True</td>\n",
       "      <td>4</td>\n",
       "      <td>3.5</td>\n",
       "      <td>WI</td>\n",
       "      <td>business</td>\n",
       "    </tr>\n",
       "    <tr>\n",
       "      <th>13</th>\n",
       "      <td>{u'Take-out': True, u'Accepts Credit Cards': T...</td>\n",
       "      <td>UgjVZTSOaYoEvws_lAP_Dw</td>\n",
       "      <td>[Chinese, Restaurants]</td>\n",
       "      <td>Mc Farland</td>\n",
       "      <td>4850 Larson Beach Rd\\nMc Farland, WI 53558</td>\n",
       "      <td>{}</td>\n",
       "      <td>43.017939</td>\n",
       "      <td>-89.298628</td>\n",
       "      <td>Main Moon Chinese Restaurant</td>\n",
       "      <td>[]</td>\n",
       "      <td>True</td>\n",
       "      <td>8</td>\n",
       "      <td>3.5</td>\n",
       "      <td>WI</td>\n",
       "      <td>business</td>\n",
       "    </tr>\n",
       "    <tr>\n",
       "      <th>14</th>\n",
       "      <td>{u'Take-out': True, u'Caters': True, u'Attire'...</td>\n",
       "      <td>HxPpZSY6Q1eARuiahhra6A</td>\n",
       "      <td>[Event Planning &amp; Services, Party &amp; Event Plan...</td>\n",
       "      <td>Middleton</td>\n",
       "      <td>6401 University Ave\\nMiddleton, WI 53562</td>\n",
       "      <td>{}</td>\n",
       "      <td>43.093265</td>\n",
       "      <td>-89.491800</td>\n",
       "      <td>Crandalls Carryout &amp; Catering</td>\n",
       "      <td>[]</td>\n",
       "      <td>False</td>\n",
       "      <td>5</td>\n",
       "      <td>4.0</td>\n",
       "      <td>WI</td>\n",
       "      <td>business</td>\n",
       "    </tr>\n",
       "    <tr>\n",
       "      <th>15</th>\n",
       "      <td>{u'Take-out': True, u'Price Range': 2, u'Outdo...</td>\n",
       "      <td>SKLw05kEIlZcpTD5pqma8Q</td>\n",
       "      <td>[Party &amp; Event Planning, Asian Fusion, Event P...</td>\n",
       "      <td>Middleton</td>\n",
       "      <td>2039 Allen Blvd\\nMiddleton, WI 53562</td>\n",
       "      <td>{u'Monday': {u'close': u'14:00', u'open': u'11...</td>\n",
       "      <td>43.090642</td>\n",
       "      <td>-89.485169</td>\n",
       "      <td>Imperial Garden Chinese Restaurant</td>\n",
       "      <td>[]</td>\n",
       "      <td>True</td>\n",
       "      <td>41</td>\n",
       "      <td>3.0</td>\n",
       "      <td>WI</td>\n",
       "      <td>business</td>\n",
       "    </tr>\n",
       "    <tr>\n",
       "      <th>16</th>\n",
       "      <td>{u'Take-out': True, u'Accepts Credit Cards': T...</td>\n",
       "      <td>77ESrCo7hQ96VpCWWdvoxg</td>\n",
       "      <td>[Mexican, Restaurants]</td>\n",
       "      <td>Middleton</td>\n",
       "      <td>6230 University Ave\\nMiddleton, WI 53562</td>\n",
       "      <td>{u'Monday': {u'close': u'21:00', u'open': u'06...</td>\n",
       "      <td>43.091061</td>\n",
       "      <td>-89.487487</td>\n",
       "      <td>Mi Cocina</td>\n",
       "      <td>[]</td>\n",
       "      <td>False</td>\n",
       "      <td>17</td>\n",
       "      <td>3.0</td>\n",
       "      <td>WI</td>\n",
       "      <td>business</td>\n",
       "    </tr>\n",
       "    <tr>\n",
       "      <th>17</th>\n",
       "      <td>{u'Good for Kids': True}</td>\n",
       "      <td>368m5-RtrrYWf4hPM_bMlg</td>\n",
       "      <td>[Active Life, Arts &amp; Entertainment, Stadiums &amp;...</td>\n",
       "      <td>Middleton</td>\n",
       "      <td>8312 Forsythia St\\nMiddleton, WI 53562</td>\n",
       "      <td>{u'Monday': {u'close': u'21:00', u'open': u'09...</td>\n",
       "      <td>43.110157</td>\n",
       "      <td>-89.526428</td>\n",
       "      <td>Keva Sports Center</td>\n",
       "      <td>[]</td>\n",
       "      <td>True</td>\n",
       "      <td>3</td>\n",
       "      <td>3.5</td>\n",
       "      <td>WI</td>\n",
       "      <td>business</td>\n",
       "    </tr>\n",
       "    <tr>\n",
       "      <th>18</th>\n",
       "      <td>{u'Accepts Credit Cards': True, u'Price Range'...</td>\n",
       "      <td>YjoSdr8uJslIebsQP6c18w</td>\n",
       "      <td>[Pet Services, Pets]</td>\n",
       "      <td>Middleton</td>\n",
       "      <td>8402 Old Sauk Rd\\nMiddleton, WI 53562</td>\n",
       "      <td>{}</td>\n",
       "      <td>43.077415</td>\n",
       "      <td>-89.527273</td>\n",
       "      <td>Wild Birds Unlimited</td>\n",
       "      <td>[]</td>\n",
       "      <td>True</td>\n",
       "      <td>3</td>\n",
       "      <td>4.5</td>\n",
       "      <td>WI</td>\n",
       "      <td>business</td>\n",
       "    </tr>\n",
       "    <tr>\n",
       "      <th>19</th>\n",
       "      <td>{u'Accepts Credit Cards': True, u'Wi-Fi': u'fr...</td>\n",
       "      <td>rKNtd_M2kWDW8sQKYzetKA</td>\n",
       "      <td>[Hotels &amp; Travel, Event Planning &amp; Services, V...</td>\n",
       "      <td>Middleton</td>\n",
       "      <td>7790 Elmwood Ave\\nMiddleton, WI 53562</td>\n",
       "      <td>{}</td>\n",
       "      <td>43.096271</td>\n",
       "      <td>-89.516038</td>\n",
       "      <td>Staybridge Suites Extended Stay Hotel Middleto...</td>\n",
       "      <td>[]</td>\n",
       "      <td>True</td>\n",
       "      <td>6</td>\n",
       "      <td>4.5</td>\n",
       "      <td>WI</td>\n",
       "      <td>business</td>\n",
       "    </tr>\n",
       "    <tr>\n",
       "      <th>20</th>\n",
       "      <td>{u'By Appointment Only': False, u'Good for Kid...</td>\n",
       "      <td>x7xS2DJvu8klyNzcpN8QHg</td>\n",
       "      <td>[Pilates, Yoga, Weight Loss Centers, Health &amp; ...</td>\n",
       "      <td>Middleton</td>\n",
       "      <td>2529 Allen Blvd\\nMiddleton, WI 53562</td>\n",
       "      <td>{u'Monday': {u'close': u'00:00', u'open': u'00...</td>\n",
       "      <td>43.103072</td>\n",
       "      <td>-89.486082</td>\n",
       "      <td>Harbor Athletic Club</td>\n",
       "      <td>[]</td>\n",
       "      <td>True</td>\n",
       "      <td>5</td>\n",
       "      <td>5.0</td>\n",
       "      <td>WI</td>\n",
       "      <td>business</td>\n",
       "    </tr>\n",
       "    <tr>\n",
       "      <th>21</th>\n",
       "      <td>{u'Take-out': True, u'Takes Reservations': Fal...</td>\n",
       "      <td>KTqNU4plO23583DYAMGXYg</td>\n",
       "      <td>[Sandwiches, Pizza, Chicken Wings, Restaurants]</td>\n",
       "      <td>Middleton</td>\n",
       "      <td>2411 Allen Blvd\\nMiddleton, WI 53562</td>\n",
       "      <td>{}</td>\n",
       "      <td>43.100384</td>\n",
       "      <td>-89.486219</td>\n",
       "      <td>Domino's Pizza</td>\n",
       "      <td>[]</td>\n",
       "      <td>True</td>\n",
       "      <td>3</td>\n",
       "      <td>3.0</td>\n",
       "      <td>WI</td>\n",
       "      <td>business</td>\n",
       "    </tr>\n",
       "    <tr>\n",
       "      <th>22</th>\n",
       "      <td>{u'Accepts Credit Cards': True, u'Price Range'...</td>\n",
       "      <td>cgCqxPhadIAlsqnD1MoWuQ</td>\n",
       "      <td>[Shopping, Arts &amp; Crafts, Event Planning &amp; Ser...</td>\n",
       "      <td>Middleton</td>\n",
       "      <td>1661 Deming Way\\nMiddleton, WI 53562</td>\n",
       "      <td>{u'Monday': {u'close': u'21:00', u'open': u'09...</td>\n",
       "      <td>43.095498</td>\n",
       "      <td>-89.523525</td>\n",
       "      <td>Archivers</td>\n",
       "      <td>[]</td>\n",
       "      <td>True</td>\n",
       "      <td>4</td>\n",
       "      <td>3.0</td>\n",
       "      <td>WI</td>\n",
       "      <td>business</td>\n",
       "    </tr>\n",
       "    <tr>\n",
       "      <th>23</th>\n",
       "      <td>{u'Accepts Credit Cards': True, u'Price Range'...</td>\n",
       "      <td>YDUB7-NgjKEFn8CERLoKXQ</td>\n",
       "      <td>[Arts &amp; Crafts, Shopping, Knitting Supplies, H...</td>\n",
       "      <td>Middleton</td>\n",
       "      <td>1700 Deming Way\\nMiddleton, WI 53562</td>\n",
       "      <td>{u'Monday': {u'close': u'21:00', u'open': u'09...</td>\n",
       "      <td>43.092903</td>\n",
       "      <td>-89.527703</td>\n",
       "      <td>Michaels</td>\n",
       "      <td>[]</td>\n",
       "      <td>True</td>\n",
       "      <td>3</td>\n",
       "      <td>4.0</td>\n",
       "      <td>WI</td>\n",
       "      <td>business</td>\n",
       "    </tr>\n",
       "    <tr>\n",
       "      <th>24</th>\n",
       "      <td>{u'Price Range': 2, u'Accepts Credit Cards': T...</td>\n",
       "      <td>x7pStpT09Tdc8d7oRU0Tmw</td>\n",
       "      <td>[Women's Clothing, Shopping Centers, Fashion, ...</td>\n",
       "      <td>Middleton</td>\n",
       "      <td>1620 Deming Way\\nMiddleton, WI 53562</td>\n",
       "      <td>{u'Monday': {u'close': u'20:00', u'open': u'10...</td>\n",
       "      <td>43.091816</td>\n",
       "      <td>-89.528450</td>\n",
       "      <td>Greenway Station Shopping Center</td>\n",
       "      <td>[]</td>\n",
       "      <td>True</td>\n",
       "      <td>7</td>\n",
       "      <td>3.5</td>\n",
       "      <td>WI</td>\n",
       "      <td>business</td>\n",
       "    </tr>\n",
       "    <tr>\n",
       "      <th>25</th>\n",
       "      <td>{u'Accepts Credit Cards': True, u'Price Range'...</td>\n",
       "      <td>1-EIdeHewfEVcpoZm38N8A</td>\n",
       "      <td>[Food, Beer, Wine &amp; Spirits, Coffee &amp; Tea]</td>\n",
       "      <td>Middleton</td>\n",
       "      <td>1901 Cayuga St\\nMiddleton, WI 53562</td>\n",
       "      <td>{u'Monday': {u'close': u'21:00', u'open': u'06...</td>\n",
       "      <td>43.096359</td>\n",
       "      <td>-89.513737</td>\n",
       "      <td>Barriques Wine &amp; Spirits</td>\n",
       "      <td>[]</td>\n",
       "      <td>True</td>\n",
       "      <td>22</td>\n",
       "      <td>4.0</td>\n",
       "      <td>WI</td>\n",
       "      <td>business</td>\n",
       "    </tr>\n",
       "    <tr>\n",
       "      <th>26</th>\n",
       "      <td>{u'Take-out': True, u'Accepts Credit Cards': F...</td>\n",
       "      <td>ShEYKerTwb2LSORE5o_s7A</td>\n",
       "      <td>[Bakeries, Food, Breakfast &amp; Brunch, Coffee &amp; ...</td>\n",
       "      <td>Middleton</td>\n",
       "      <td>6720 Frank Lloyd Wright Ave\\nMiddleton, WI 53562</td>\n",
       "      <td>{u'Monday': {u'close': u'15:00', u'open': u'07...</td>\n",
       "      <td>43.107227</td>\n",
       "      <td>-89.496995</td>\n",
       "      <td>Prairie Cafe &amp; Bakery</td>\n",
       "      <td>[]</td>\n",
       "      <td>True</td>\n",
       "      <td>38</td>\n",
       "      <td>3.5</td>\n",
       "      <td>WI</td>\n",
       "      <td>business</td>\n",
       "    </tr>\n",
       "    <tr>\n",
       "      <th>27</th>\n",
       "      <td>{u'Price Range': 1, u'Good For': {u'dessert': ...</td>\n",
       "      <td>HaBkx5PwvbBpQ2iNCgHnVQ</td>\n",
       "      <td>[Bars, American (New), Nightlife, Restaurants]</td>\n",
       "      <td>Middleton</td>\n",
       "      <td>2401 Parmenter St\\nMiddleton, WI 53562</td>\n",
       "      <td>{u'Monday': {u'close': u'11:00', u'open': u'07...</td>\n",
       "      <td>43.101460</td>\n",
       "      <td>-89.511162</td>\n",
       "      <td>Paul's Neighborhood Bar</td>\n",
       "      <td>[]</td>\n",
       "      <td>True</td>\n",
       "      <td>11</td>\n",
       "      <td>3.5</td>\n",
       "      <td>WI</td>\n",
       "      <td>business</td>\n",
       "    </tr>\n",
       "    <tr>\n",
       "      <th>28</th>\n",
       "      <td>{u'Take-out': True, u'Price Range': 2, u'Outdo...</td>\n",
       "      <td>KW6HejC-67KSL9J8Cz1dSw</td>\n",
       "      <td>[Chinese, Restaurants]</td>\n",
       "      <td>Middleton</td>\n",
       "      <td>8414 Old Sauk Rd\\nMiddleton, WI 53562</td>\n",
       "      <td>{u'Monday': {u'close': u'21:00', u'open': u'11...</td>\n",
       "      <td>43.075345</td>\n",
       "      <td>-89.528480</td>\n",
       "      <td>Chin's Asia Fresh</td>\n",
       "      <td>[]</td>\n",
       "      <td>True</td>\n",
       "      <td>28</td>\n",
       "      <td>3.0</td>\n",
       "      <td>WI</td>\n",
       "      <td>business</td>\n",
       "    </tr>\n",
       "    <tr>\n",
       "      <th>29</th>\n",
       "      <td>{u'Take-out': True, u'Price Range': 1, u'Parki...</td>\n",
       "      <td>wl-7A4jC0f27MOEmW-XTbQ</td>\n",
       "      <td>[Chinese, Restaurants]</td>\n",
       "      <td>Middleton</td>\n",
       "      <td>2608 Allen Blvd\\nMiddleton, WI 53562</td>\n",
       "      <td>{u'Monday': {u'close': u'22:00', u'open': u'11...</td>\n",
       "      <td>43.103663</td>\n",
       "      <td>-89.486491</td>\n",
       "      <td>Grand China Restaurant</td>\n",
       "      <td>[]</td>\n",
       "      <td>True</td>\n",
       "      <td>6</td>\n",
       "      <td>3.0</td>\n",
       "      <td>WI</td>\n",
       "      <td>business</td>\n",
       "    </tr>\n",
       "    <tr>\n",
       "      <th>...</th>\n",
       "      <td>...</td>\n",
       "      <td>...</td>\n",
       "      <td>...</td>\n",
       "      <td>...</td>\n",
       "      <td>...</td>\n",
       "      <td>...</td>\n",
       "      <td>...</td>\n",
       "      <td>...</td>\n",
       "      <td>...</td>\n",
       "      <td>...</td>\n",
       "      <td>...</td>\n",
       "      <td>...</td>\n",
       "      <td>...</td>\n",
       "      <td>...</td>\n",
       "      <td>...</td>\n",
       "    </tr>\n",
       "    <tr>\n",
       "      <th>37908</th>\n",
       "      <td>{u'Accepts Credit Cards': True}</td>\n",
       "      <td>uV2EhAuAmPDxZOlIgAGFxw</td>\n",
       "      <td>[Local Services, Data Recovery, Mobile Phone R...</td>\n",
       "      <td>Las Vegas</td>\n",
       "      <td>1033 S Rainbow Blvd\\nWestside\\nLas Vegas, NV 8...</td>\n",
       "      <td>{u'Monday': {u'close': u'19:00', u'open': u'10...</td>\n",
       "      <td>36.159549</td>\n",
       "      <td>-115.245389</td>\n",
       "      <td>My Computer Bytes</td>\n",
       "      <td>[Westside]</td>\n",
       "      <td>True</td>\n",
       "      <td>3</td>\n",
       "      <td>4.5</td>\n",
       "      <td>NV</td>\n",
       "      <td>business</td>\n",
       "    </tr>\n",
       "    <tr>\n",
       "      <th>37909</th>\n",
       "      <td>{u'Take-out': False, u'Price Range': 4, u'Outd...</td>\n",
       "      <td>aybLDQRhUwOr7WoQfdofPQ</td>\n",
       "      <td>[Steakhouses, Restaurants]</td>\n",
       "      <td>Madison</td>\n",
       "      <td>14 W Mifflin St\\nCapitol\\nMadison, WI 53703</td>\n",
       "      <td>{}</td>\n",
       "      <td>43.075200</td>\n",
       "      <td>-89.385835</td>\n",
       "      <td>Rare Steakhouse</td>\n",
       "      <td>[Capitol]</td>\n",
       "      <td>True</td>\n",
       "      <td>7</td>\n",
       "      <td>3.5</td>\n",
       "      <td>WI</td>\n",
       "      <td>business</td>\n",
       "    </tr>\n",
       "    <tr>\n",
       "      <th>37910</th>\n",
       "      <td>{u'Accepts Credit Cards': True, u'Price Range'...</td>\n",
       "      <td>l48YFfpkcTEh0mvSG9wfLA</td>\n",
       "      <td>[Shopping, Home &amp; Garden, Furniture Stores]</td>\n",
       "      <td>Gilbert</td>\n",
       "      <td>2757 S San Tan Village Pkwy\\nGilbert, AZ 85295</td>\n",
       "      <td>{u'Monday': {u'close': u'19:00', u'open': u'10...</td>\n",
       "      <td>33.308632</td>\n",
       "      <td>-111.746902</td>\n",
       "      <td>At Home Furnishings</td>\n",
       "      <td>[]</td>\n",
       "      <td>True</td>\n",
       "      <td>4</td>\n",
       "      <td>5.0</td>\n",
       "      <td>AZ</td>\n",
       "      <td>business</td>\n",
       "    </tr>\n",
       "    <tr>\n",
       "      <th>37911</th>\n",
       "      <td>{u'Take-out': True, u'Good For': {u'dessert': ...</td>\n",
       "      <td>fmfiSDAJtjxbnRBBtYhnNw</td>\n",
       "      <td>[American (New), Comfort Food, Restaurants]</td>\n",
       "      <td>Sun Prairie</td>\n",
       "      <td>2804 Prairie Lakes Dr\\nSte 106\\nSun Prairie, W...</td>\n",
       "      <td>{}</td>\n",
       "      <td>43.166396</td>\n",
       "      <td>-89.270095</td>\n",
       "      <td>MACS</td>\n",
       "      <td>[]</td>\n",
       "      <td>True</td>\n",
       "      <td>7</td>\n",
       "      <td>3.5</td>\n",
       "      <td>WI</td>\n",
       "      <td>business</td>\n",
       "    </tr>\n",
       "    <tr>\n",
       "      <th>37912</th>\n",
       "      <td>{}</td>\n",
       "      <td>pOz8fQ1Y8fP3C4ARE9TG_w</td>\n",
       "      <td>[Arts &amp; Entertainment, Performing Arts]</td>\n",
       "      <td>Las Vegas</td>\n",
       "      <td>83 Panorama Crest Ave\\nSouth Summerlin\\nLas Ve...</td>\n",
       "      <td>{}</td>\n",
       "      <td>36.121936</td>\n",
       "      <td>-115.344752</td>\n",
       "      <td>Water Beauties</td>\n",
       "      <td>[South Summerlin]</td>\n",
       "      <td>True</td>\n",
       "      <td>5</td>\n",
       "      <td>5.0</td>\n",
       "      <td>NV</td>\n",
       "      <td>business</td>\n",
       "    </tr>\n",
       "    <tr>\n",
       "      <th>37913</th>\n",
       "      <td>{u'Has TV': False, u'Good For Groups': True, u...</td>\n",
       "      <td>xT1MO7MLMp3jK4XT1LXiKA</td>\n",
       "      <td>[Tapas Bars, Restaurants]</td>\n",
       "      <td>Edinburgh</td>\n",
       "      <td>297 Leith Walk\\nLeith\\nEdinburgh EH6 8SA</td>\n",
       "      <td>{}</td>\n",
       "      <td>55.964986</td>\n",
       "      <td>-3.176367</td>\n",
       "      <td>Serrano Manchego</td>\n",
       "      <td>[Leith]</td>\n",
       "      <td>True</td>\n",
       "      <td>4</td>\n",
       "      <td>2.5</td>\n",
       "      <td>MLN</td>\n",
       "      <td>business</td>\n",
       "    </tr>\n",
       "    <tr>\n",
       "      <th>37914</th>\n",
       "      <td>{u'Take-out': True, u'Price Range': 1, u'Outdo...</td>\n",
       "      <td>51vtDjP79vBjaI5dbkPoPw</td>\n",
       "      <td>[Pizza, Restaurants]</td>\n",
       "      <td>Phoenix</td>\n",
       "      <td>1031 NW Grand Ave\\nPhoenix, AZ 85007</td>\n",
       "      <td>{u'Tuesday': {u'close': u'04:00', u'open': u'2...</td>\n",
       "      <td>33.454960</td>\n",
       "      <td>-112.087116</td>\n",
       "      <td>Grand Avenue Pizza Company</td>\n",
       "      <td>[]</td>\n",
       "      <td>True</td>\n",
       "      <td>6</td>\n",
       "      <td>4.0</td>\n",
       "      <td>AZ</td>\n",
       "      <td>business</td>\n",
       "    </tr>\n",
       "    <tr>\n",
       "      <th>37915</th>\n",
       "      <td>{u'Take-out': True, u'Accepts Credit Cards': T...</td>\n",
       "      <td>F8ZrWvngdHYnKrALwZAdBw</td>\n",
       "      <td>[Food, Tea Rooms, Coffee &amp; Tea, Asian Fusion, ...</td>\n",
       "      <td>Waterloo</td>\n",
       "      <td>255 King Street N\\nWaterloo, ON N2J</td>\n",
       "      <td>{}</td>\n",
       "      <td>43.477274</td>\n",
       "      <td>-80.525499</td>\n",
       "      <td>Chatime</td>\n",
       "      <td>[]</td>\n",
       "      <td>True</td>\n",
       "      <td>6</td>\n",
       "      <td>4.0</td>\n",
       "      <td>ON</td>\n",
       "      <td>business</td>\n",
       "    </tr>\n",
       "    <tr>\n",
       "      <th>37916</th>\n",
       "      <td>{u'Accepts Credit Cards': True, u'Price Range'...</td>\n",
       "      <td>NRjz0_SjSqNbIoXWGnlp7w</td>\n",
       "      <td>[Used, Vintage &amp; Consignment, Fashion, Shopping]</td>\n",
       "      <td>Scottsdale</td>\n",
       "      <td>1312 N Scottsdale Rd\\nScottsdale, AZ 85257</td>\n",
       "      <td>{u'Monday': {u'close': u'21:00', u'open': u'10...</td>\n",
       "      <td>33.462616</td>\n",
       "      <td>-111.926974</td>\n",
       "      <td>Plato's Closet</td>\n",
       "      <td>[]</td>\n",
       "      <td>True</td>\n",
       "      <td>5</td>\n",
       "      <td>1.5</td>\n",
       "      <td>AZ</td>\n",
       "      <td>business</td>\n",
       "    </tr>\n",
       "    <tr>\n",
       "      <th>37917</th>\n",
       "      <td>{u'Take-out': True, u'Accepts Credit Cards': T...</td>\n",
       "      <td>0EXVIF07vw-QTTy9V7-ebg</td>\n",
       "      <td>[Cafes, Restaurants]</td>\n",
       "      <td>Queen Creek</td>\n",
       "      <td>22721 S Ellsworth Rd\\nSte 107\\nQueen Creek, AZ...</td>\n",
       "      <td>{u'Monday': {u'close': u'16:00', u'open': u'07...</td>\n",
       "      <td>33.241852</td>\n",
       "      <td>-111.634005</td>\n",
       "      <td>The Bistro Queen Creek</td>\n",
       "      <td>[]</td>\n",
       "      <td>True</td>\n",
       "      <td>5</td>\n",
       "      <td>5.0</td>\n",
       "      <td>AZ</td>\n",
       "      <td>business</td>\n",
       "    </tr>\n",
       "    <tr>\n",
       "      <th>37918</th>\n",
       "      <td>{u'Accepts Credit Cards': True}</td>\n",
       "      <td>jTUe25wOiM0ZtP9Ba7i8VQ</td>\n",
       "      <td>[Movers, Home Services]</td>\n",
       "      <td>Phoenix</td>\n",
       "      <td>1816 E Oak St\\nSte 4566\\nPhoenix, AZ 85006</td>\n",
       "      <td>{u'Monday': {u'close': u'20:00', u'open': u'07...</td>\n",
       "      <td>33.464409</td>\n",
       "      <td>-112.064650</td>\n",
       "      <td>Movers Phoenix Professional</td>\n",
       "      <td>[]</td>\n",
       "      <td>True</td>\n",
       "      <td>8</td>\n",
       "      <td>5.0</td>\n",
       "      <td>AZ</td>\n",
       "      <td>business</td>\n",
       "    </tr>\n",
       "    <tr>\n",
       "      <th>37919</th>\n",
       "      <td>{u'Accepts Credit Cards': True, u'Price Range'...</td>\n",
       "      <td>pU88U9_yEUVfpox30VBWPg</td>\n",
       "      <td>[Bakeries, Food]</td>\n",
       "      <td>Henderson</td>\n",
       "      <td>10251 S Eastern Ave\\nSte C\\nAnthem\\nHenderson,...</td>\n",
       "      <td>{u'Monday': {u'close': u'16:30', u'open': u'06...</td>\n",
       "      <td>36.003386</td>\n",
       "      <td>-115.110455</td>\n",
       "      <td>Pink Box Doughnuts</td>\n",
       "      <td>[Anthem]</td>\n",
       "      <td>True</td>\n",
       "      <td>12</td>\n",
       "      <td>3.5</td>\n",
       "      <td>NV</td>\n",
       "      <td>business</td>\n",
       "    </tr>\n",
       "    <tr>\n",
       "      <th>37920</th>\n",
       "      <td>{u'Accepts Credit Cards': True}</td>\n",
       "      <td>k6CRXdN7GMMNQ4VJUOEzbg</td>\n",
       "      <td>[Handyman, Home Services]</td>\n",
       "      <td>Queen Creek</td>\n",
       "      <td>Queen Creek, AZ 85142</td>\n",
       "      <td>{}</td>\n",
       "      <td>33.248664</td>\n",
       "      <td>-111.634299</td>\n",
       "      <td>A-1 Hand Handyman</td>\n",
       "      <td>[]</td>\n",
       "      <td>True</td>\n",
       "      <td>3</td>\n",
       "      <td>5.0</td>\n",
       "      <td>AZ</td>\n",
       "      <td>business</td>\n",
       "    </tr>\n",
       "    <tr>\n",
       "      <th>37921</th>\n",
       "      <td>{u'Accepts Credit Cards': False, u'Price Range...</td>\n",
       "      <td>0Nwda6h7mRhiQBbxi0xhhw</td>\n",
       "      <td>[Food, Shaved Ice]</td>\n",
       "      <td>Avondale</td>\n",
       "      <td>13045 W Rancho Santa Fe Blvd\\nA105\\nAvondale, ...</td>\n",
       "      <td>{u'Monday': {u'close': u'21:00', u'open': u'11...</td>\n",
       "      <td>33.460467</td>\n",
       "      <td>-112.336565</td>\n",
       "      <td>Zoni Shave Ice</td>\n",
       "      <td>[]</td>\n",
       "      <td>True</td>\n",
       "      <td>5</td>\n",
       "      <td>5.0</td>\n",
       "      <td>AZ</td>\n",
       "      <td>business</td>\n",
       "    </tr>\n",
       "    <tr>\n",
       "      <th>37922</th>\n",
       "      <td>{u'Accepts Credit Cards': True, u'Price Range'...</td>\n",
       "      <td>qZkW6s0qxtUTrjWw_0je-g</td>\n",
       "      <td>[Food, Specialty Food]</td>\n",
       "      <td>Las Vegas</td>\n",
       "      <td>3700 S Hualapai Way\\nSte 108\\nSouth Summerlin\\...</td>\n",
       "      <td>{u'Monday': {u'close': u'21:00', u'open': u'10...</td>\n",
       "      <td>36.121962</td>\n",
       "      <td>-115.314146</td>\n",
       "      <td>Popped Gourmet Popcorn Spot</td>\n",
       "      <td>[South Summerlin, Spring Valley]</td>\n",
       "      <td>True</td>\n",
       "      <td>3</td>\n",
       "      <td>4.5</td>\n",
       "      <td>NV</td>\n",
       "      <td>business</td>\n",
       "    </tr>\n",
       "    <tr>\n",
       "      <th>37923</th>\n",
       "      <td>{u'Take-out': True, u'Price Range': 2, u'Outdo...</td>\n",
       "      <td>8K4pWvuJmGWXDgCugYKYvw</td>\n",
       "      <td>[Sushi Bars, Restaurants]</td>\n",
       "      <td>Scottsdale</td>\n",
       "      <td>4320 N Miller Rd\\nScottsdale, AZ 85251</td>\n",
       "      <td>{u'Monday': {u'close': u'21:30', u'open': u'17...</td>\n",
       "      <td>33.499192</td>\n",
       "      <td>-111.917816</td>\n",
       "      <td>Sushi J</td>\n",
       "      <td>[]</td>\n",
       "      <td>True</td>\n",
       "      <td>15</td>\n",
       "      <td>4.5</td>\n",
       "      <td>AZ</td>\n",
       "      <td>business</td>\n",
       "    </tr>\n",
       "    <tr>\n",
       "      <th>37924</th>\n",
       "      <td>{u'Take-out': True, u'Accepts Credit Cards': T...</td>\n",
       "      <td>wmm19sGdCiL5IZhViYQY2Q</td>\n",
       "      <td>[Vietnamese, Restaurants]</td>\n",
       "      <td>Las Vegas</td>\n",
       "      <td>4860 W Desert Inn Rd\\nSte 9\\nWestside\\nLas Veg...</td>\n",
       "      <td>{u'Monday': {u'close': u'22:00', u'open': u'11...</td>\n",
       "      <td>36.129992</td>\n",
       "      <td>-115.207404</td>\n",
       "      <td>Pho Lan</td>\n",
       "      <td>[Westside]</td>\n",
       "      <td>True</td>\n",
       "      <td>12</td>\n",
       "      <td>4.5</td>\n",
       "      <td>NV</td>\n",
       "      <td>business</td>\n",
       "    </tr>\n",
       "    <tr>\n",
       "      <th>37925</th>\n",
       "      <td>{u'Accepts Credit Cards': True, u'Price Range'...</td>\n",
       "      <td>flhtNfzfGiySc3g_U0Zkeg</td>\n",
       "      <td>[Food, Desserts, Cupcakes, Bakeries]</td>\n",
       "      <td>Las Vegas</td>\n",
       "      <td>Southeast\\nLas Vegas, NV 89120</td>\n",
       "      <td>{u'Monday': {u'close': u'17:00', u'open': u'09...</td>\n",
       "      <td>36.083335</td>\n",
       "      <td>-115.099975</td>\n",
       "      <td>Bakeshop</td>\n",
       "      <td>[Southeast]</td>\n",
       "      <td>True</td>\n",
       "      <td>4</td>\n",
       "      <td>5.0</td>\n",
       "      <td>NV</td>\n",
       "      <td>business</td>\n",
       "    </tr>\n",
       "    <tr>\n",
       "      <th>37926</th>\n",
       "      <td>{u'Take-out': True, u'Outdoor Seating': False,...</td>\n",
       "      <td>5se9c1ggSm2oMrnWO3ZSgw</td>\n",
       "      <td>[Filipino, Restaurants]</td>\n",
       "      <td>Las Vegas</td>\n",
       "      <td>6820 W Flamingo Rd\\nSte A\\nLas Vegas, NV 89103</td>\n",
       "      <td>{u'Monday': {u'close': u'22:00', u'open': u'10...</td>\n",
       "      <td>36.114987</td>\n",
       "      <td>-115.241094</td>\n",
       "      <td>D' Pinoy Joint</td>\n",
       "      <td>[]</td>\n",
       "      <td>True</td>\n",
       "      <td>9</td>\n",
       "      <td>4.0</td>\n",
       "      <td>NV</td>\n",
       "      <td>business</td>\n",
       "    </tr>\n",
       "    <tr>\n",
       "      <th>37927</th>\n",
       "      <td>{u'Good for Kids': True}</td>\n",
       "      <td>UH4BReVAqpMVjyVroEJAGA</td>\n",
       "      <td>[Active Life, Amusement Parks]</td>\n",
       "      <td>Henderson</td>\n",
       "      <td>900 Galleria Dr\\nHenderson, NV 89011</td>\n",
       "      <td>{}</td>\n",
       "      <td>36.070909</td>\n",
       "      <td>-115.024682</td>\n",
       "      <td>Cowabunga Bay-Water Park</td>\n",
       "      <td>[]</td>\n",
       "      <td>True</td>\n",
       "      <td>26</td>\n",
       "      <td>3.5</td>\n",
       "      <td>NV</td>\n",
       "      <td>business</td>\n",
       "    </tr>\n",
       "    <tr>\n",
       "      <th>37928</th>\n",
       "      <td>{u'Take-out': False, u'Accepts Credit Cards': ...</td>\n",
       "      <td>EYpqqsJZ3L2EFAPK-NEOFA</td>\n",
       "      <td>[Burgers, Restaurants]</td>\n",
       "      <td>Edinburgh</td>\n",
       "      <td>45 Broughton St\\nNew Town\\nEdinburgh EH1 3JU</td>\n",
       "      <td>{u'Tuesday': {u'close': u'21:30', u'open': u'1...</td>\n",
       "      <td>55.957536</td>\n",
       "      <td>-3.188413</td>\n",
       "      <td>Burger Meats Bun</td>\n",
       "      <td>[New Town]</td>\n",
       "      <td>True</td>\n",
       "      <td>6</td>\n",
       "      <td>3.5</td>\n",
       "      <td>MLN</td>\n",
       "      <td>business</td>\n",
       "    </tr>\n",
       "    <tr>\n",
       "      <th>37929</th>\n",
       "      <td>{u'Take-out': True, u'Accepts Credit Cards': T...</td>\n",
       "      <td>KN-3Sg8TZ-y67026TFwmjw</td>\n",
       "      <td>[Chicken Wings, Restaurants]</td>\n",
       "      <td>Las Vegas</td>\n",
       "      <td>6475 W Charleston Blvd\\nSte 150\\nWestside\\nLas...</td>\n",
       "      <td>{u'Monday': {u'close': u'20:00', u'open': u'11...</td>\n",
       "      <td>36.158604</td>\n",
       "      <td>-115.236715</td>\n",
       "      <td>702 Wing Spot</td>\n",
       "      <td>[Westside]</td>\n",
       "      <td>True</td>\n",
       "      <td>9</td>\n",
       "      <td>4.5</td>\n",
       "      <td>NV</td>\n",
       "      <td>business</td>\n",
       "    </tr>\n",
       "    <tr>\n",
       "      <th>37930</th>\n",
       "      <td>{u'Take-out': True, u'Price Range': 2, u'Outdo...</td>\n",
       "      <td>ZpB2O-WAbbRHdP0V8GrwXA</td>\n",
       "      <td>[American (New), Restaurants]</td>\n",
       "      <td>Henderson</td>\n",
       "      <td>140 S Green Valley Pkwy\\nSte 142\\nHenderson, N...</td>\n",
       "      <td>{}</td>\n",
       "      <td>36.022463</td>\n",
       "      <td>-115.083362</td>\n",
       "      <td>LYFE Kitchen</td>\n",
       "      <td>[]</td>\n",
       "      <td>True</td>\n",
       "      <td>34</td>\n",
       "      <td>3.5</td>\n",
       "      <td>NV</td>\n",
       "      <td>business</td>\n",
       "    </tr>\n",
       "    <tr>\n",
       "      <th>37931</th>\n",
       "      <td>{u'Take-out': True, u'Accepts Credit Cards': T...</td>\n",
       "      <td>OEUIE8VBa1BbBfr5EPcTOA</td>\n",
       "      <td>[Food, Juice Bars &amp; Smoothies, American (New),...</td>\n",
       "      <td>Henderson</td>\n",
       "      <td>19 S Stephanie\\nSte140\\nHenderson, NV 89012</td>\n",
       "      <td>{u'Monday': {u'close': u'20:00', u'open': u'08...</td>\n",
       "      <td>36.028049</td>\n",
       "      <td>-115.048825</td>\n",
       "      <td>Presto Cafe</td>\n",
       "      <td>[]</td>\n",
       "      <td>True</td>\n",
       "      <td>27</td>\n",
       "      <td>4.5</td>\n",
       "      <td>NV</td>\n",
       "      <td>business</td>\n",
       "    </tr>\n",
       "    <tr>\n",
       "      <th>37932</th>\n",
       "      <td>{u'Alcohol': u'full_bar', u'Noise Level': u'qu...</td>\n",
       "      <td>yZXEELxi8KMwzXCHP345GQ</td>\n",
       "      <td>[Bars, Turkish, Mediterranean, Nightlife, Loun...</td>\n",
       "      <td>Las Vegas</td>\n",
       "      <td>2550 S Rainbow Blvd\\nSte  W1\\nWestside\\nLas Ve...</td>\n",
       "      <td>{u'Monday': {u'close': u'22:00', u'open': u'11...</td>\n",
       "      <td>36.143397</td>\n",
       "      <td>-115.241975</td>\n",
       "      <td>Maza Mediterranean Grill &amp; Lounge</td>\n",
       "      <td>[Westside]</td>\n",
       "      <td>True</td>\n",
       "      <td>18</td>\n",
       "      <td>4.5</td>\n",
       "      <td>NV</td>\n",
       "      <td>business</td>\n",
       "    </tr>\n",
       "    <tr>\n",
       "      <th>37933</th>\n",
       "      <td>{u'Alcohol': u'none', u'Good For Dancing': Tru...</td>\n",
       "      <td>iyKyJoDcbkGrMCgvyfMHxw</td>\n",
       "      <td>[Bars, Hookah Bars, Nightlife, Lounges]</td>\n",
       "      <td>Glendale</td>\n",
       "      <td>4340 W Thunderbird Rd\\nGlendale, AZ 85306</td>\n",
       "      <td>{u'Monday': {u'close': u'02:00', u'open': u'18...</td>\n",
       "      <td>33.610822</td>\n",
       "      <td>-112.152529</td>\n",
       "      <td>The V Lounge</td>\n",
       "      <td>[]</td>\n",
       "      <td>True</td>\n",
       "      <td>4</td>\n",
       "      <td>5.0</td>\n",
       "      <td>AZ</td>\n",
       "      <td>business</td>\n",
       "    </tr>\n",
       "    <tr>\n",
       "      <th>37934</th>\n",
       "      <td>{}</td>\n",
       "      <td>tsvWY4o64xiv7K0VA89R8A</td>\n",
       "      <td>[Active Life, Barre Classes, Pilates, Fitness ...</td>\n",
       "      <td>Madison</td>\n",
       "      <td>1 E Main St\\nLower Level Suite 5\\nCapitol\\nMad...</td>\n",
       "      <td>{}</td>\n",
       "      <td>43.073871</td>\n",
       "      <td>-89.382842</td>\n",
       "      <td>Pilates Central</td>\n",
       "      <td>[Capitol]</td>\n",
       "      <td>True</td>\n",
       "      <td>3</td>\n",
       "      <td>5.0</td>\n",
       "      <td>WI</td>\n",
       "      <td>business</td>\n",
       "    </tr>\n",
       "    <tr>\n",
       "      <th>37935</th>\n",
       "      <td>{u'Good for Kids': False}</td>\n",
       "      <td>nYer89hXYAoddMEKTxw7kA</td>\n",
       "      <td>[Yelp Events, Local Flavor]</td>\n",
       "      <td>Phoenix</td>\n",
       "      <td>FilmBar\\n815 N 2nd St\\nPhoenix, AZ 85004</td>\n",
       "      <td>{}</td>\n",
       "      <td>33.457106</td>\n",
       "      <td>-112.071074</td>\n",
       "      <td>Yelp's Secret Cinema: Made In Arizona</td>\n",
       "      <td>[]</td>\n",
       "      <td>True</td>\n",
       "      <td>17</td>\n",
       "      <td>5.0</td>\n",
       "      <td>AZ</td>\n",
       "      <td>business</td>\n",
       "    </tr>\n",
       "    <tr>\n",
       "      <th>37936</th>\n",
       "      <td>{u'Take-out': True, u'Accepts Credit Cards': T...</td>\n",
       "      <td>BMjggIgOghBMEXPo8q7q3w</td>\n",
       "      <td>[Kosher, Italian, Pizza, Restaurants]</td>\n",
       "      <td>Phoenix</td>\n",
       "      <td>6505 N 7th St\\nPhoenix, AZ 85014</td>\n",
       "      <td>{u'Monday': {u'close': u'21:00', u'open': u'11...</td>\n",
       "      <td>33.531310</td>\n",
       "      <td>-112.064508</td>\n",
       "      <td>LaBella Pizzeria and Restaurant</td>\n",
       "      <td>[]</td>\n",
       "      <td>True</td>\n",
       "      <td>5</td>\n",
       "      <td>5.0</td>\n",
       "      <td>AZ</td>\n",
       "      <td>business</td>\n",
       "    </tr>\n",
       "    <tr>\n",
       "      <th>37937</th>\n",
       "      <td>{u'Accepts Credit Cards': True, u'Price Range'...</td>\n",
       "      <td>BVxlrYWgmi-8TPGMe6CTpg</td>\n",
       "      <td>[Food, Ethnic Food, Grocery, Specialty Food]</td>\n",
       "      <td>Edinburgh</td>\n",
       "      <td>125 Lauriston Pl\\nTollcross\\nEdinburgh EH3 9JN</td>\n",
       "      <td>{}</td>\n",
       "      <td>55.944170</td>\n",
       "      <td>-3.202529</td>\n",
       "      <td>Oriental Supermarket</td>\n",
       "      <td>[Tollcross, Old Town]</td>\n",
       "      <td>True</td>\n",
       "      <td>7</td>\n",
       "      <td>3.5</td>\n",
       "      <td>EDH</td>\n",
       "      <td>business</td>\n",
       "    </tr>\n",
       "  </tbody>\n",
       "</table>\n",
       "<p>37938 rows × 15 columns</p>\n",
       "</div>"
      ],
      "text/plain": [
       "                                              attributes  \\\n",
       "0                         {u'By Appointment Only': True}   \n",
       "1      {u'Take-out': True, u'Price Range': 1, u'Outdo...   \n",
       "2      {u'Take-out': True, u'Outdoor Seating': False,...   \n",
       "3      {u'Take-out': True, u'Accepts Credit Cards': T...   \n",
       "4      {u'Take-out': True, u'Has TV': False, u'Outdoo...   \n",
       "5                                                     {}   \n",
       "6                                                     {}   \n",
       "7                                    {u'Wi-Fi': u'free'}   \n",
       "8                                                     {}   \n",
       "9      {u'Alcohol': u'full_bar', u'Noise Level': u'lo...   \n",
       "10     {u'Accepts Credit Cards': True, u'Wi-Fi': u'fr...   \n",
       "11                              {u'Good for Kids': True}   \n",
       "12     {u'Take-out': True, u'Price Range': 1, u'Outdo...   \n",
       "13     {u'Take-out': True, u'Accepts Credit Cards': T...   \n",
       "14     {u'Take-out': True, u'Caters': True, u'Attire'...   \n",
       "15     {u'Take-out': True, u'Price Range': 2, u'Outdo...   \n",
       "16     {u'Take-out': True, u'Accepts Credit Cards': T...   \n",
       "17                              {u'Good for Kids': True}   \n",
       "18     {u'Accepts Credit Cards': True, u'Price Range'...   \n",
       "19     {u'Accepts Credit Cards': True, u'Wi-Fi': u'fr...   \n",
       "20     {u'By Appointment Only': False, u'Good for Kid...   \n",
       "21     {u'Take-out': True, u'Takes Reservations': Fal...   \n",
       "22     {u'Accepts Credit Cards': True, u'Price Range'...   \n",
       "23     {u'Accepts Credit Cards': True, u'Price Range'...   \n",
       "24     {u'Price Range': 2, u'Accepts Credit Cards': T...   \n",
       "25     {u'Accepts Credit Cards': True, u'Price Range'...   \n",
       "26     {u'Take-out': True, u'Accepts Credit Cards': F...   \n",
       "27     {u'Price Range': 1, u'Good For': {u'dessert': ...   \n",
       "28     {u'Take-out': True, u'Price Range': 2, u'Outdo...   \n",
       "29     {u'Take-out': True, u'Price Range': 1, u'Parki...   \n",
       "...                                                  ...   \n",
       "37908                    {u'Accepts Credit Cards': True}   \n",
       "37909  {u'Take-out': False, u'Price Range': 4, u'Outd...   \n",
       "37910  {u'Accepts Credit Cards': True, u'Price Range'...   \n",
       "37911  {u'Take-out': True, u'Good For': {u'dessert': ...   \n",
       "37912                                                 {}   \n",
       "37913  {u'Has TV': False, u'Good For Groups': True, u...   \n",
       "37914  {u'Take-out': True, u'Price Range': 1, u'Outdo...   \n",
       "37915  {u'Take-out': True, u'Accepts Credit Cards': T...   \n",
       "37916  {u'Accepts Credit Cards': True, u'Price Range'...   \n",
       "37917  {u'Take-out': True, u'Accepts Credit Cards': T...   \n",
       "37918                    {u'Accepts Credit Cards': True}   \n",
       "37919  {u'Accepts Credit Cards': True, u'Price Range'...   \n",
       "37920                    {u'Accepts Credit Cards': True}   \n",
       "37921  {u'Accepts Credit Cards': False, u'Price Range...   \n",
       "37922  {u'Accepts Credit Cards': True, u'Price Range'...   \n",
       "37923  {u'Take-out': True, u'Price Range': 2, u'Outdo...   \n",
       "37924  {u'Take-out': True, u'Accepts Credit Cards': T...   \n",
       "37925  {u'Accepts Credit Cards': True, u'Price Range'...   \n",
       "37926  {u'Take-out': True, u'Outdoor Seating': False,...   \n",
       "37927                           {u'Good for Kids': True}   \n",
       "37928  {u'Take-out': False, u'Accepts Credit Cards': ...   \n",
       "37929  {u'Take-out': True, u'Accepts Credit Cards': T...   \n",
       "37930  {u'Take-out': True, u'Price Range': 2, u'Outdo...   \n",
       "37931  {u'Take-out': True, u'Accepts Credit Cards': T...   \n",
       "37932  {u'Alcohol': u'full_bar', u'Noise Level': u'qu...   \n",
       "37933  {u'Alcohol': u'none', u'Good For Dancing': Tru...   \n",
       "37934                                                 {}   \n",
       "37935                          {u'Good for Kids': False}   \n",
       "37936  {u'Take-out': True, u'Accepts Credit Cards': T...   \n",
       "37937  {u'Accepts Credit Cards': True, u'Price Range'...   \n",
       "\n",
       "                  business_id  \\\n",
       "0      vcNAWiLM4dR7D2nwwJ7nCA   \n",
       "1      JwUE5GmEO-sH1FuwJgKBlQ   \n",
       "2      uGykseHzyS5xAMWoN6YUqA   \n",
       "3      LRKJF43s9-3jG9Lgx4zODg   \n",
       "4      RgDg-k9S5YD_BaxMckifkg   \n",
       "5      oLctHIA1AxmsgOuu4dM6Vw   \n",
       "6      ZW2WeP2Hp20tq0RG1NFkoQ   \n",
       "7      95p9Xg358BezJyk1wqzzyg   \n",
       "8      ZlhAvs_6ryi4_efZ1SpMbg   \n",
       "9      _wZTYYL7cutanzAnJUTGMA   \n",
       "10     XrzTVrJAjs0yYLvhFI9vkQ   \n",
       "11     1tkeiIa-daD8LbM6mHm_9A   \n",
       "12     zOc8lbjViUZajbY7M0aUCQ   \n",
       "13     UgjVZTSOaYoEvws_lAP_Dw   \n",
       "14     HxPpZSY6Q1eARuiahhra6A   \n",
       "15     SKLw05kEIlZcpTD5pqma8Q   \n",
       "16     77ESrCo7hQ96VpCWWdvoxg   \n",
       "17     368m5-RtrrYWf4hPM_bMlg   \n",
       "18     YjoSdr8uJslIebsQP6c18w   \n",
       "19     rKNtd_M2kWDW8sQKYzetKA   \n",
       "20     x7xS2DJvu8klyNzcpN8QHg   \n",
       "21     KTqNU4plO23583DYAMGXYg   \n",
       "22     cgCqxPhadIAlsqnD1MoWuQ   \n",
       "23     YDUB7-NgjKEFn8CERLoKXQ   \n",
       "24     x7pStpT09Tdc8d7oRU0Tmw   \n",
       "25     1-EIdeHewfEVcpoZm38N8A   \n",
       "26     ShEYKerTwb2LSORE5o_s7A   \n",
       "27     HaBkx5PwvbBpQ2iNCgHnVQ   \n",
       "28     KW6HejC-67KSL9J8Cz1dSw   \n",
       "29     wl-7A4jC0f27MOEmW-XTbQ   \n",
       "...                       ...   \n",
       "37908  uV2EhAuAmPDxZOlIgAGFxw   \n",
       "37909  aybLDQRhUwOr7WoQfdofPQ   \n",
       "37910  l48YFfpkcTEh0mvSG9wfLA   \n",
       "37911  fmfiSDAJtjxbnRBBtYhnNw   \n",
       "37912  pOz8fQ1Y8fP3C4ARE9TG_w   \n",
       "37913  xT1MO7MLMp3jK4XT1LXiKA   \n",
       "37914  51vtDjP79vBjaI5dbkPoPw   \n",
       "37915  F8ZrWvngdHYnKrALwZAdBw   \n",
       "37916  NRjz0_SjSqNbIoXWGnlp7w   \n",
       "37917  0EXVIF07vw-QTTy9V7-ebg   \n",
       "37918  jTUe25wOiM0ZtP9Ba7i8VQ   \n",
       "37919  pU88U9_yEUVfpox30VBWPg   \n",
       "37920  k6CRXdN7GMMNQ4VJUOEzbg   \n",
       "37921  0Nwda6h7mRhiQBbxi0xhhw   \n",
       "37922  qZkW6s0qxtUTrjWw_0je-g   \n",
       "37923  8K4pWvuJmGWXDgCugYKYvw   \n",
       "37924  wmm19sGdCiL5IZhViYQY2Q   \n",
       "37925  flhtNfzfGiySc3g_U0Zkeg   \n",
       "37926  5se9c1ggSm2oMrnWO3ZSgw   \n",
       "37927  UH4BReVAqpMVjyVroEJAGA   \n",
       "37928  EYpqqsJZ3L2EFAPK-NEOFA   \n",
       "37929  KN-3Sg8TZ-y67026TFwmjw   \n",
       "37930  ZpB2O-WAbbRHdP0V8GrwXA   \n",
       "37931  OEUIE8VBa1BbBfr5EPcTOA   \n",
       "37932  yZXEELxi8KMwzXCHP345GQ   \n",
       "37933  iyKyJoDcbkGrMCgvyfMHxw   \n",
       "37934  tsvWY4o64xiv7K0VA89R8A   \n",
       "37935  nYer89hXYAoddMEKTxw7kA   \n",
       "37936  BMjggIgOghBMEXPo8q7q3w   \n",
       "37937  BVxlrYWgmi-8TPGMe6CTpg   \n",
       "\n",
       "                                              categories         city  \\\n",
       "0                            [Doctors, Health & Medical]      Phoenix   \n",
       "1                                          [Restaurants]    De Forest   \n",
       "2                  [American (Traditional), Restaurants]    De Forest   \n",
       "3      [Food, Ice Cream & Frozen Yogurt, Fast Food, R...    De Forest   \n",
       "4                                 [Chinese, Restaurants]    De Forest   \n",
       "5                      [Television Stations, Mass Media]   Mc Farland   \n",
       "6       [Home Services, Heating & Air Conditioning/HVAC]   Mc Farland   \n",
       "7              [Libraries, Public Services & Government]   Mc Farland   \n",
       "8                                  [Veterinarians, Pets]   Mc Farland   \n",
       "9      [Bars, American (Traditional), Nightlife, Loun...   Mc Farland   \n",
       "10     [Hotels & Travel, Bed & Breakfast, Event Plann...   Mc Farland   \n",
       "11                                [Active Life, Bowling]   Mc Farland   \n",
       "12                                  [Pizza, Restaurants]   Mc Farland   \n",
       "13                                [Chinese, Restaurants]   Mc Farland   \n",
       "14     [Event Planning & Services, Party & Event Plan...    Middleton   \n",
       "15     [Party & Event Planning, Asian Fusion, Event P...    Middleton   \n",
       "16                                [Mexican, Restaurants]    Middleton   \n",
       "17     [Active Life, Arts & Entertainment, Stadiums &...    Middleton   \n",
       "18                                  [Pet Services, Pets]    Middleton   \n",
       "19     [Hotels & Travel, Event Planning & Services, V...    Middleton   \n",
       "20     [Pilates, Yoga, Weight Loss Centers, Health & ...    Middleton   \n",
       "21       [Sandwiches, Pizza, Chicken Wings, Restaurants]    Middleton   \n",
       "22     [Shopping, Arts & Crafts, Event Planning & Ser...    Middleton   \n",
       "23     [Arts & Crafts, Shopping, Knitting Supplies, H...    Middleton   \n",
       "24     [Women's Clothing, Shopping Centers, Fashion, ...    Middleton   \n",
       "25            [Food, Beer, Wine & Spirits, Coffee & Tea]    Middleton   \n",
       "26     [Bakeries, Food, Breakfast & Brunch, Coffee & ...    Middleton   \n",
       "27        [Bars, American (New), Nightlife, Restaurants]    Middleton   \n",
       "28                                [Chinese, Restaurants]    Middleton   \n",
       "29                                [Chinese, Restaurants]    Middleton   \n",
       "...                                                  ...          ...   \n",
       "37908  [Local Services, Data Recovery, Mobile Phone R...    Las Vegas   \n",
       "37909                         [Steakhouses, Restaurants]      Madison   \n",
       "37910        [Shopping, Home & Garden, Furniture Stores]      Gilbert   \n",
       "37911        [American (New), Comfort Food, Restaurants]  Sun Prairie   \n",
       "37912            [Arts & Entertainment, Performing Arts]    Las Vegas   \n",
       "37913                          [Tapas Bars, Restaurants]    Edinburgh   \n",
       "37914                               [Pizza, Restaurants]      Phoenix   \n",
       "37915  [Food, Tea Rooms, Coffee & Tea, Asian Fusion, ...     Waterloo   \n",
       "37916   [Used, Vintage & Consignment, Fashion, Shopping]   Scottsdale   \n",
       "37917                               [Cafes, Restaurants]  Queen Creek   \n",
       "37918                            [Movers, Home Services]      Phoenix   \n",
       "37919                                   [Bakeries, Food]    Henderson   \n",
       "37920                          [Handyman, Home Services]  Queen Creek   \n",
       "37921                                 [Food, Shaved Ice]     Avondale   \n",
       "37922                             [Food, Specialty Food]    Las Vegas   \n",
       "37923                          [Sushi Bars, Restaurants]   Scottsdale   \n",
       "37924                          [Vietnamese, Restaurants]    Las Vegas   \n",
       "37925               [Food, Desserts, Cupcakes, Bakeries]    Las Vegas   \n",
       "37926                            [Filipino, Restaurants]    Las Vegas   \n",
       "37927                     [Active Life, Amusement Parks]    Henderson   \n",
       "37928                             [Burgers, Restaurants]    Edinburgh   \n",
       "37929                       [Chicken Wings, Restaurants]    Las Vegas   \n",
       "37930                      [American (New), Restaurants]    Henderson   \n",
       "37931  [Food, Juice Bars & Smoothies, American (New),...    Henderson   \n",
       "37932  [Bars, Turkish, Mediterranean, Nightlife, Loun...    Las Vegas   \n",
       "37933            [Bars, Hookah Bars, Nightlife, Lounges]     Glendale   \n",
       "37934  [Active Life, Barre Classes, Pilates, Fitness ...      Madison   \n",
       "37935                        [Yelp Events, Local Flavor]      Phoenix   \n",
       "37936              [Kosher, Italian, Pizza, Restaurants]      Phoenix   \n",
       "37937       [Food, Ethnic Food, Grocery, Specialty Food]    Edinburgh   \n",
       "\n",
       "                                            full_address  \\\n",
       "0      4840 E Indian School Rd\\nSte 101\\nPhoenix, AZ ...   \n",
       "1                6162 US Highway 51\\nDe Forest, WI 53532   \n",
       "2                    505 W North St\\nDe Forest, WI 53532   \n",
       "3                  4910 County Rd V\\nDe Forest, WI 53532   \n",
       "4                     631 S Main St\\nDe Forest, WI 53532   \n",
       "5                 4156 County Rd B\\nMc Farland, WI 53558   \n",
       "6                 4709 Triangle St\\nMc Farland, WI 53558   \n",
       "7                  5114 Farwell St\\nMc Farland, WI 53558   \n",
       "8             4811 Larson Beach Rd\\nMc Farland, WI 53558   \n",
       "9             4506 Larson Beach Rd\\nMc Farland, WI 53558   \n",
       "10               5508 Broadhead St\\nMc Farland, WI 53558   \n",
       "11                 4711 Farwell St\\nMc Farland, WI 53558   \n",
       "12                    5813 Main St\\nMc Farland, WI 53558   \n",
       "13            4850 Larson Beach Rd\\nMc Farland, WI 53558   \n",
       "14              6401 University Ave\\nMiddleton, WI 53562   \n",
       "15                  2039 Allen Blvd\\nMiddleton, WI 53562   \n",
       "16              6230 University Ave\\nMiddleton, WI 53562   \n",
       "17                8312 Forsythia St\\nMiddleton, WI 53562   \n",
       "18                 8402 Old Sauk Rd\\nMiddleton, WI 53562   \n",
       "19                 7790 Elmwood Ave\\nMiddleton, WI 53562   \n",
       "20                  2529 Allen Blvd\\nMiddleton, WI 53562   \n",
       "21                  2411 Allen Blvd\\nMiddleton, WI 53562   \n",
       "22                  1661 Deming Way\\nMiddleton, WI 53562   \n",
       "23                  1700 Deming Way\\nMiddleton, WI 53562   \n",
       "24                  1620 Deming Way\\nMiddleton, WI 53562   \n",
       "25                   1901 Cayuga St\\nMiddleton, WI 53562   \n",
       "26      6720 Frank Lloyd Wright Ave\\nMiddleton, WI 53562   \n",
       "27                2401 Parmenter St\\nMiddleton, WI 53562   \n",
       "28                 8414 Old Sauk Rd\\nMiddleton, WI 53562   \n",
       "29                  2608 Allen Blvd\\nMiddleton, WI 53562   \n",
       "...                                                  ...   \n",
       "37908  1033 S Rainbow Blvd\\nWestside\\nLas Vegas, NV 8...   \n",
       "37909        14 W Mifflin St\\nCapitol\\nMadison, WI 53703   \n",
       "37910     2757 S San Tan Village Pkwy\\nGilbert, AZ 85295   \n",
       "37911  2804 Prairie Lakes Dr\\nSte 106\\nSun Prairie, W...   \n",
       "37912  83 Panorama Crest Ave\\nSouth Summerlin\\nLas Ve...   \n",
       "37913           297 Leith Walk\\nLeith\\nEdinburgh EH6 8SA   \n",
       "37914               1031 NW Grand Ave\\nPhoenix, AZ 85007   \n",
       "37915                255 King Street N\\nWaterloo, ON N2J   \n",
       "37916         1312 N Scottsdale Rd\\nScottsdale, AZ 85257   \n",
       "37917  22721 S Ellsworth Rd\\nSte 107\\nQueen Creek, AZ...   \n",
       "37918         1816 E Oak St\\nSte 4566\\nPhoenix, AZ 85006   \n",
       "37919  10251 S Eastern Ave\\nSte C\\nAnthem\\nHenderson,...   \n",
       "37920                              Queen Creek, AZ 85142   \n",
       "37921  13045 W Rancho Santa Fe Blvd\\nA105\\nAvondale, ...   \n",
       "37922  3700 S Hualapai Way\\nSte 108\\nSouth Summerlin\\...   \n",
       "37923             4320 N Miller Rd\\nScottsdale, AZ 85251   \n",
       "37924  4860 W Desert Inn Rd\\nSte 9\\nWestside\\nLas Veg...   \n",
       "37925                     Southeast\\nLas Vegas, NV 89120   \n",
       "37926     6820 W Flamingo Rd\\nSte A\\nLas Vegas, NV 89103   \n",
       "37927               900 Galleria Dr\\nHenderson, NV 89011   \n",
       "37928       45 Broughton St\\nNew Town\\nEdinburgh EH1 3JU   \n",
       "37929  6475 W Charleston Blvd\\nSte 150\\nWestside\\nLas...   \n",
       "37930  140 S Green Valley Pkwy\\nSte 142\\nHenderson, N...   \n",
       "37931        19 S Stephanie\\nSte140\\nHenderson, NV 89012   \n",
       "37932  2550 S Rainbow Blvd\\nSte  W1\\nWestside\\nLas Ve...   \n",
       "37933          4340 W Thunderbird Rd\\nGlendale, AZ 85306   \n",
       "37934  1 E Main St\\nLower Level Suite 5\\nCapitol\\nMad...   \n",
       "37935           FilmBar\\n815 N 2nd St\\nPhoenix, AZ 85004   \n",
       "37936                   6505 N 7th St\\nPhoenix, AZ 85014   \n",
       "37937     125 Lauriston Pl\\nTollcross\\nEdinburgh EH3 9JN   \n",
       "\n",
       "                                                   hours   latitude  \\\n",
       "0      {u'Thursday': {u'close': u'17:00', u'open': u'...  33.499313   \n",
       "1                                                     {}  43.238893   \n",
       "2      {u'Monday': {u'close': u'22:00', u'open': u'06...  43.252267   \n",
       "3      {u'Monday': {u'close': u'22:00', u'open': u'10...  43.251045   \n",
       "4      {u'Monday': {u'close': u'22:00', u'open': u'11...  43.240875   \n",
       "5                                                     {}  42.968507   \n",
       "6                                                     {}  43.030356   \n",
       "7      {u'Monday': {u'close': u'20:00', u'open': u'09...  43.014093   \n",
       "8      {u'Monday': {u'close': u'18:00', u'open': u'07...  43.017124   \n",
       "9                                                     {}  43.017701   \n",
       "10                                                    {}  43.015931   \n",
       "11     {u'Monday': {u'close': u'02:00', u'open': u'11...  43.013156   \n",
       "12     {u'Tuesday': {u'close': u'22:00', u'open': u'1...  43.014164   \n",
       "13                                                    {}  43.017939   \n",
       "14                                                    {}  43.093265   \n",
       "15     {u'Monday': {u'close': u'14:00', u'open': u'11...  43.090642   \n",
       "16     {u'Monday': {u'close': u'21:00', u'open': u'06...  43.091061   \n",
       "17     {u'Monday': {u'close': u'21:00', u'open': u'09...  43.110157   \n",
       "18                                                    {}  43.077415   \n",
       "19                                                    {}  43.096271   \n",
       "20     {u'Monday': {u'close': u'00:00', u'open': u'00...  43.103072   \n",
       "21                                                    {}  43.100384   \n",
       "22     {u'Monday': {u'close': u'21:00', u'open': u'09...  43.095498   \n",
       "23     {u'Monday': {u'close': u'21:00', u'open': u'09...  43.092903   \n",
       "24     {u'Monday': {u'close': u'20:00', u'open': u'10...  43.091816   \n",
       "25     {u'Monday': {u'close': u'21:00', u'open': u'06...  43.096359   \n",
       "26     {u'Monday': {u'close': u'15:00', u'open': u'07...  43.107227   \n",
       "27     {u'Monday': {u'close': u'11:00', u'open': u'07...  43.101460   \n",
       "28     {u'Monday': {u'close': u'21:00', u'open': u'11...  43.075345   \n",
       "29     {u'Monday': {u'close': u'22:00', u'open': u'11...  43.103663   \n",
       "...                                                  ...        ...   \n",
       "37908  {u'Monday': {u'close': u'19:00', u'open': u'10...  36.159549   \n",
       "37909                                                 {}  43.075200   \n",
       "37910  {u'Monday': {u'close': u'19:00', u'open': u'10...  33.308632   \n",
       "37911                                                 {}  43.166396   \n",
       "37912                                                 {}  36.121936   \n",
       "37913                                                 {}  55.964986   \n",
       "37914  {u'Tuesday': {u'close': u'04:00', u'open': u'2...  33.454960   \n",
       "37915                                                 {}  43.477274   \n",
       "37916  {u'Monday': {u'close': u'21:00', u'open': u'10...  33.462616   \n",
       "37917  {u'Monday': {u'close': u'16:00', u'open': u'07...  33.241852   \n",
       "37918  {u'Monday': {u'close': u'20:00', u'open': u'07...  33.464409   \n",
       "37919  {u'Monday': {u'close': u'16:30', u'open': u'06...  36.003386   \n",
       "37920                                                 {}  33.248664   \n",
       "37921  {u'Monday': {u'close': u'21:00', u'open': u'11...  33.460467   \n",
       "37922  {u'Monday': {u'close': u'21:00', u'open': u'10...  36.121962   \n",
       "37923  {u'Monday': {u'close': u'21:30', u'open': u'17...  33.499192   \n",
       "37924  {u'Monday': {u'close': u'22:00', u'open': u'11...  36.129992   \n",
       "37925  {u'Monday': {u'close': u'17:00', u'open': u'09...  36.083335   \n",
       "37926  {u'Monday': {u'close': u'22:00', u'open': u'10...  36.114987   \n",
       "37927                                                 {}  36.070909   \n",
       "37928  {u'Tuesday': {u'close': u'21:30', u'open': u'1...  55.957536   \n",
       "37929  {u'Monday': {u'close': u'20:00', u'open': u'11...  36.158604   \n",
       "37930                                                 {}  36.022463   \n",
       "37931  {u'Monday': {u'close': u'20:00', u'open': u'08...  36.028049   \n",
       "37932  {u'Monday': {u'close': u'22:00', u'open': u'11...  36.143397   \n",
       "37933  {u'Monday': {u'close': u'02:00', u'open': u'18...  33.610822   \n",
       "37934                                                 {}  43.073871   \n",
       "37935                                                 {}  33.457106   \n",
       "37936  {u'Monday': {u'close': u'21:00', u'open': u'11...  33.531310   \n",
       "37937                                                 {}  55.944170   \n",
       "\n",
       "        longitude                                               name  \\\n",
       "0     -111.983758                                  Eric Goldberg, MD   \n",
       "1      -89.335844                               Pine Cone Restaurant   \n",
       "2      -89.353437                         Deforest Family Restaurant   \n",
       "3      -89.374983                                           Culver's   \n",
       "4      -89.343722                        Chang Jiang Chinese Kitchen   \n",
       "5      -89.322920                             Charter Communications   \n",
       "6      -89.298544                                Air Quality Systems   \n",
       "7      -89.294175                           McFarland Public Library   \n",
       "8      -89.299119                            Spartan Animal Hospital   \n",
       "9      -89.303789                    Beach House Restaurant & Lounge   \n",
       "10     -89.285206                      Parsonage Bed & Breakfast the   \n",
       "11     -89.302164                                       Spartan Bowl   \n",
       "12     -89.288567                                      Spartan Pizza   \n",
       "13     -89.298628                       Main Moon Chinese Restaurant   \n",
       "14     -89.491800                      Crandalls Carryout & Catering   \n",
       "15     -89.485169                 Imperial Garden Chinese Restaurant   \n",
       "16     -89.487487                                          Mi Cocina   \n",
       "17     -89.526428                                 Keva Sports Center   \n",
       "18     -89.527273                               Wild Birds Unlimited   \n",
       "19     -89.516038  Staybridge Suites Extended Stay Hotel Middleto...   \n",
       "20     -89.486082                               Harbor Athletic Club   \n",
       "21     -89.486219                                     Domino's Pizza   \n",
       "22     -89.523525                                          Archivers   \n",
       "23     -89.527703                                           Michaels   \n",
       "24     -89.528450                   Greenway Station Shopping Center   \n",
       "25     -89.513737                           Barriques Wine & Spirits   \n",
       "26     -89.496995                              Prairie Cafe & Bakery   \n",
       "27     -89.511162                            Paul's Neighborhood Bar   \n",
       "28     -89.528480                                  Chin's Asia Fresh   \n",
       "29     -89.486491                             Grand China Restaurant   \n",
       "...           ...                                                ...   \n",
       "37908 -115.245389                                  My Computer Bytes   \n",
       "37909  -89.385835                                    Rare Steakhouse   \n",
       "37910 -111.746902                                At Home Furnishings   \n",
       "37911  -89.270095                                               MACS   \n",
       "37912 -115.344752                                     Water Beauties   \n",
       "37913   -3.176367                                   Serrano Manchego   \n",
       "37914 -112.087116                         Grand Avenue Pizza Company   \n",
       "37915  -80.525499                                            Chatime   \n",
       "37916 -111.926974                                     Plato's Closet   \n",
       "37917 -111.634005                             The Bistro Queen Creek   \n",
       "37918 -112.064650                        Movers Phoenix Professional   \n",
       "37919 -115.110455                                 Pink Box Doughnuts   \n",
       "37920 -111.634299                                  A-1 Hand Handyman   \n",
       "37921 -112.336565                                     Zoni Shave Ice   \n",
       "37922 -115.314146                        Popped Gourmet Popcorn Spot   \n",
       "37923 -111.917816                                            Sushi J   \n",
       "37924 -115.207404                                            Pho Lan   \n",
       "37925 -115.099975                                           Bakeshop   \n",
       "37926 -115.241094                                     D' Pinoy Joint   \n",
       "37927 -115.024682                           Cowabunga Bay-Water Park   \n",
       "37928   -3.188413                                   Burger Meats Bun   \n",
       "37929 -115.236715                                      702 Wing Spot   \n",
       "37930 -115.083362                                       LYFE Kitchen   \n",
       "37931 -115.048825                                        Presto Cafe   \n",
       "37932 -115.241975                  Maza Mediterranean Grill & Lounge   \n",
       "37933 -112.152529                                       The V Lounge   \n",
       "37934  -89.382842                                    Pilates Central   \n",
       "37935 -112.071074              Yelp's Secret Cinema: Made In Arizona   \n",
       "37936 -112.064508                    LaBella Pizzeria and Restaurant   \n",
       "37937   -3.202529                               Oriental Supermarket   \n",
       "\n",
       "                          neighborhoods   open  review_count  stars state  \\\n",
       "0                                    []   True             7    3.5    AZ   \n",
       "1                                    []   True            26    4.0    WI   \n",
       "2                                    []   True            16    4.0    WI   \n",
       "3                                    []   True             7    4.5    WI   \n",
       "4                                    []   True             3    4.0    WI   \n",
       "5                                    []  False            10    1.5    WI   \n",
       "6                                    []   True             4    2.0    WI   \n",
       "7                                    []   True             4    2.5    WI   \n",
       "8                                    []   True             3    4.5    WI   \n",
       "9                                    []   True            31    3.5    WI   \n",
       "10                                   []   True             9    5.0    WI   \n",
       "11                                   []   True             3    1.5    WI   \n",
       "12                                   []   True             4    3.5    WI   \n",
       "13                                   []   True             8    3.5    WI   \n",
       "14                                   []  False             5    4.0    WI   \n",
       "15                                   []   True            41    3.0    WI   \n",
       "16                                   []  False            17    3.0    WI   \n",
       "17                                   []   True             3    3.5    WI   \n",
       "18                                   []   True             3    4.5    WI   \n",
       "19                                   []   True             6    4.5    WI   \n",
       "20                                   []   True             5    5.0    WI   \n",
       "21                                   []   True             3    3.0    WI   \n",
       "22                                   []   True             4    3.0    WI   \n",
       "23                                   []   True             3    4.0    WI   \n",
       "24                                   []   True             7    3.5    WI   \n",
       "25                                   []   True            22    4.0    WI   \n",
       "26                                   []   True            38    3.5    WI   \n",
       "27                                   []   True            11    3.5    WI   \n",
       "28                                   []   True            28    3.0    WI   \n",
       "29                                   []   True             6    3.0    WI   \n",
       "...                                 ...    ...           ...    ...   ...   \n",
       "37908                        [Westside]   True             3    4.5    NV   \n",
       "37909                         [Capitol]   True             7    3.5    WI   \n",
       "37910                                []   True             4    5.0    AZ   \n",
       "37911                                []   True             7    3.5    WI   \n",
       "37912                 [South Summerlin]   True             5    5.0    NV   \n",
       "37913                           [Leith]   True             4    2.5   MLN   \n",
       "37914                                []   True             6    4.0    AZ   \n",
       "37915                                []   True             6    4.0    ON   \n",
       "37916                                []   True             5    1.5    AZ   \n",
       "37917                                []   True             5    5.0    AZ   \n",
       "37918                                []   True             8    5.0    AZ   \n",
       "37919                          [Anthem]   True            12    3.5    NV   \n",
       "37920                                []   True             3    5.0    AZ   \n",
       "37921                                []   True             5    5.0    AZ   \n",
       "37922  [South Summerlin, Spring Valley]   True             3    4.5    NV   \n",
       "37923                                []   True            15    4.5    AZ   \n",
       "37924                        [Westside]   True            12    4.5    NV   \n",
       "37925                       [Southeast]   True             4    5.0    NV   \n",
       "37926                                []   True             9    4.0    NV   \n",
       "37927                                []   True            26    3.5    NV   \n",
       "37928                        [New Town]   True             6    3.5   MLN   \n",
       "37929                        [Westside]   True             9    4.5    NV   \n",
       "37930                                []   True            34    3.5    NV   \n",
       "37931                                []   True            27    4.5    NV   \n",
       "37932                        [Westside]   True            18    4.5    NV   \n",
       "37933                                []   True             4    5.0    AZ   \n",
       "37934                         [Capitol]   True             3    5.0    WI   \n",
       "37935                                []   True            17    5.0    AZ   \n",
       "37936                                []   True             5    5.0    AZ   \n",
       "37937             [Tollcross, Old Town]   True             7    3.5   EDH   \n",
       "\n",
       "           type  \n",
       "0      business  \n",
       "1      business  \n",
       "2      business  \n",
       "3      business  \n",
       "4      business  \n",
       "5      business  \n",
       "6      business  \n",
       "7      business  \n",
       "8      business  \n",
       "9      business  \n",
       "10     business  \n",
       "11     business  \n",
       "12     business  \n",
       "13     business  \n",
       "14     business  \n",
       "15     business  \n",
       "16     business  \n",
       "17     business  \n",
       "18     business  \n",
       "19     business  \n",
       "20     business  \n",
       "21     business  \n",
       "22     business  \n",
       "23     business  \n",
       "24     business  \n",
       "25     business  \n",
       "26     business  \n",
       "27     business  \n",
       "28     business  \n",
       "29     business  \n",
       "...         ...  \n",
       "37908  business  \n",
       "37909  business  \n",
       "37910  business  \n",
       "37911  business  \n",
       "37912  business  \n",
       "37913  business  \n",
       "37914  business  \n",
       "37915  business  \n",
       "37916  business  \n",
       "37917  business  \n",
       "37918  business  \n",
       "37919  business  \n",
       "37920  business  \n",
       "37921  business  \n",
       "37922  business  \n",
       "37923  business  \n",
       "37924  business  \n",
       "37925  business  \n",
       "37926  business  \n",
       "37927  business  \n",
       "37928  business  \n",
       "37929  business  \n",
       "37930  business  \n",
       "37931  business  \n",
       "37932  business  \n",
       "37933  business  \n",
       "37934  business  \n",
       "37935  business  \n",
       "37936  business  \n",
       "37937  business  \n",
       "\n",
       "[37938 rows x 15 columns]"
      ]
     },
     "execution_count": 1396,
     "metadata": {},
     "output_type": "execute_result"
    }
   ],
   "source": [
    "df"
   ]
  },
  {
   "cell_type": "code",
   "execution_count": 30,
   "metadata": {
    "collapsed": false
   },
   "outputs": [],
   "source": [
    "city_means = df.groupby('city').apply(np.mean)['stars']"
   ]
  },
  {
   "cell_type": "code",
   "execution_count": 948,
   "metadata": {
    "collapsed": false
   },
   "outputs": [
    {
     "data": {
      "text/plain": [
       "3.6702903946388683"
      ]
     },
     "execution_count": 948,
     "metadata": {},
     "output_type": "execute_result"
    }
   ],
   "source": [
    "city_means['Phoenix']"
   ]
  },
  {
   "cell_type": "code",
   "execution_count": 44,
   "metadata": {
    "collapsed": false
   },
   "outputs": [],
   "source": [
    "X = pd.DataFrame(city_means)"
   ]
  },
  {
   "cell_type": "code",
   "execution_count": 73,
   "metadata": {
    "collapsed": false
   },
   "outputs": [
    {
     "data": {
      "text/plain": [
       "3.6054421768707483"
      ]
     },
     "execution_count": 73,
     "metadata": {},
     "output_type": "execute_result"
    }
   ],
   "source": [
    "city_means['Waterloo']"
   ]
  },
  {
   "cell_type": "code",
   "execution_count": null,
   "metadata": {
    "collapsed": true
   },
   "outputs": [],
   "source": [
    "with open('city_model.dill', 'r') as f:\n",
    "    dill.dump(city_means,f)"
   ]
  },
  {
   "cell_type": "code",
   "execution_count": 1392,
   "metadata": {
    "collapsed": true
   },
   "outputs": [],
   "source": [
    "class CityEstimator():\n",
    "    def __init__(self,):\n",
    "        return None\n",
    "    \n",
    "    def fit(self, X):\n",
    "        self.model = X.groupby(\"city\").apply(np.mean)['stars']\n",
    "        return self\n",
    "\n",
    "    def predict(self, x):\n",
    "        x = x ['city']\n",
    "        model=self.model\n",
    "        if x in model.keys():\n",
    "            y_pred = model[x]\n",
    "        else:\n",
    "            y_pred = model.median()\n",
    "        return y_pred\n",
    "\n",
    "#    def score(self, X, y):\n",
    "#        return # custom score implementation"
   ]
  },
  {
   "cell_type": "code",
   "execution_count": 1395,
   "metadata": {
    "collapsed": false
   },
   "outputs": [
    {
     "data": {
      "text/plain": [
       "3.6702903946388683"
      ]
     },
     "execution_count": 1395,
     "metadata": {},
     "output_type": "execute_result"
    }
   ],
   "source": [
    "record = { 'city': 'Phoenix'}\n",
    "\n",
    "est = CityEstimator()\n",
    "city_model = est.fit(df)\n",
    "city_model.predict(record)"
   ]
  },
  {
   "cell_type": "code",
   "execution_count": 55,
   "metadata": {
    "collapsed": false
   },
   "outputs": [
    {
     "data": {
      "text/plain": [
       "'Verona'"
      ]
     },
     "execution_count": 55,
     "metadata": {},
     "output_type": "execute_result"
    }
   ],
   "source": [
    "record['city']"
   ]
  },
  {
   "cell_type": "code",
   "execution_count": 82,
   "metadata": {
    "collapsed": false
   },
   "outputs": [],
   "source": [
    "with open('city_model.dill', 'w') as f:\n",
    "    dill.dump(est,f)"
   ]
  },
  {
   "cell_type": "code",
   "execution_count": 57,
   "metadata": {
    "collapsed": false
   },
   "outputs": [
    {
     "name": "stdout",
     "output_type": "stream",
     "text": [
      "3.85483870968\n"
     ]
    }
   ],
   "source": [
    "if record['city'] in city_means.keys():\n",
    "    print city_means[record['city']]"
   ]
  },
  {
   "cell_type": "markdown",
   "metadata": {},
   "source": [
    "#Lat_Log Model"
   ]
  },
  {
   "cell_type": "code",
   "execution_count": 1401,
   "metadata": {
    "collapsed": false
   },
   "outputs": [
    {
     "data": {
      "text/plain": [
       "167"
      ]
     },
     "execution_count": 1401,
     "metadata": {},
     "output_type": "execute_result"
    }
   ],
   "source": [
    "# Unique Cities\n",
    "\n",
    "len(df['city'].unique())"
   ]
  },
  {
   "cell_type": "code",
   "execution_count": 1402,
   "metadata": {
    "collapsed": false
   },
   "outputs": [
    {
     "data": {
      "text/plain": [
       "37938"
      ]
     },
     "execution_count": 1402,
     "metadata": {},
     "output_type": "execute_result"
    }
   ],
   "source": [
    "# Locations\n",
    "\n",
    "df['city'].count()"
   ]
  },
  {
   "cell_type": "code",
   "execution_count": 1464,
   "metadata": {
    "collapsed": false
   },
   "outputs": [],
   "source": [
    "class ColumnSelectTransformer():\n",
    "    \"\"\"\n",
    "    Returns the columns  of a panda table\n",
    "    \"\"\"\n",
    "    def __init__(self, cols):\n",
    "        self.cols = cols\n",
    "        pass\n",
    "\n",
    "    def fit(self, X, y):\n",
    "        return self\n",
    "    \n",
    "    def transform(self, X):\n",
    "        return [X[column] for column in self.cols]"
   ]
  },
  {
   "cell_type": "code",
   "execution_count": 1465,
   "metadata": {
    "collapsed": false
   },
   "outputs": [],
   "source": [
    "Y_cols = ['stars']\n",
    "X_geo_cols = ['longitude', 'latitude']\n",
    "X_geo_transformer = ColumnSelectTransformer(X_geo_cols)\n",
    "Y_transformer = ColumnSelectTransformer(Y_cols)\n"
   ]
  },
  {
   "cell_type": "code",
   "execution_count": 1466,
   "metadata": {
    "collapsed": false
   },
   "outputs": [],
   "source": [
    "df_geo_X = X_geo_transformer.transform(df)\n",
    "df_geo_Y = Y_transformer.transform(df)"
   ]
  },
  {
   "cell_type": "code",
   "execution_count": 1467,
   "metadata": {
    "collapsed": false
   },
   "outputs": [],
   "source": [
    "X = np.array(df_geo_X)"
   ]
  },
  {
   "cell_type": "code",
   "execution_count": 1468,
   "metadata": {
    "collapsed": false
   },
   "outputs": [
    {
     "data": {
      "text/plain": [
       "array([[-111.983758 ,  -89.335844 ,  -89.353437 , ..., -112.071074 ,\n",
       "        -112.064508 ,   -3.2025293],\n",
       "       [  33.499313 ,   43.238893 ,   43.252267 , ...,   33.4571063,\n",
       "          33.5313101,   55.9441696]])"
      ]
     },
     "execution_count": 1468,
     "metadata": {},
     "output_type": "execute_result"
    }
   ],
   "source": [
    "X"
   ]
  },
  {
   "cell_type": "code",
   "execution_count": 1462,
   "metadata": {
    "collapsed": false
   },
   "outputs": [],
   "source": [
    "y = df_geo_Y.values"
   ]
  },
  {
   "cell_type": "code",
   "execution_count": 1463,
   "metadata": {
    "collapsed": false
   },
   "outputs": [
    {
     "data": {
      "text/plain": [
       "array([[ 3.5],\n",
       "       [ 4. ],\n",
       "       [ 4. ],\n",
       "       ..., \n",
       "       [ 5. ],\n",
       "       [ 5. ],\n",
       "       [ 3.5]])"
      ]
     },
     "execution_count": 1463,
     "metadata": {},
     "output_type": "execute_result"
    }
   ],
   "source": [
    "y"
   ]
  },
  {
   "cell_type": "code",
   "execution_count": 768,
   "metadata": {
    "collapsed": true
   },
   "outputs": [],
   "source": [
    "class LongLatTransformer():\n",
    "    def __init__(self):\n",
    "        return None\n",
    "        \n",
    "        \n",
    "    def transform(self,rec):\n",
    "        self.longlat_pair = [rec['longitude'], rec['latitude']]\n",
    "        return self.longlat_pair\n",
    "    \n",
    "        "
   ]
  },
  {
   "cell_type": "code",
   "execution_count": 1103,
   "metadata": {
    "collapsed": false
   },
   "outputs": [],
   "source": [
    "class KNNEstimator():\n",
    "    def __init__(self,n_neighbors, algorithm):\n",
    "        self.n_neighbors=n_neighbors\n",
    "        self.algorithm=algorithm\n",
    "        self.trans = \n",
    "        pass\n",
    "    \n",
    "    def fit(self, X, y):\n",
    "        self.model = neighbors.KNeighborsRegressor(n_neighbors=self.n_neighbors, algorithm=self.algorithm)\n",
    "        self.model.fit(X,y)\n",
    "        return self\n",
    "\n",
    "    def predict(self, X):\n",
    "        locations = [self.longlat_transformer.transform(x) for x in X]\n",
    "        model=self.model\n",
    "        return [[model.predict(location)[0]]for location in  locations]\n",
    "\n",
    "    def score(self, X, y):\n",
    "        return model.score"
   ]
  },
  {
   "cell_type": "code",
   "execution_count": 771,
   "metadata": {
    "collapsed": false
   },
   "outputs": [],
   "source": [
    "knn = KNNEstimator(77,\"auto\")\n"
   ]
  },
  {
   "cell_type": "code",
   "execution_count": 772,
   "metadata": {
    "collapsed": true
   },
   "outputs": [],
   "source": [
    "lat_long_model = knn.fit(X,y)"
   ]
  },
  {
   "cell_type": "code",
   "execution_count": 773,
   "metadata": {
    "collapsed": false
   },
   "outputs": [
    {
     "data": {
      "text/plain": [
       "KNeighborsRegressor(algorithm='auto', leaf_size=30, metric='minkowski',\n",
       "          metric_params=None, n_neighbors=77, p=2, weights='uniform')"
      ]
     },
     "execution_count": 773,
     "metadata": {},
     "output_type": "execute_result"
    }
   ],
   "source": [
    "lat_long_model.model"
   ]
  },
  {
   "cell_type": "code",
   "execution_count": 774,
   "metadata": {
    "collapsed": true
   },
   "outputs": [],
   "source": [
    "record = { 'longitude': -111.983758 ,'latitude': 33.499313 }"
   ]
  },
  {
   "cell_type": "code",
   "execution_count": 775,
   "metadata": {
    "collapsed": false
   },
   "outputs": [
    {
     "data": {
      "text/plain": [
       "3.8766233766233764"
      ]
     },
     "execution_count": 775,
     "metadata": {},
     "output_type": "execute_result"
    }
   ],
   "source": [
    "lat_long_model.predict(record)"
   ]
  },
  {
   "cell_type": "code",
   "execution_count": 776,
   "metadata": {
    "collapsed": false
   },
   "outputs": [],
   "source": [
    "with open('lat_long_model3.dill', 'w') as g:\n",
    "    dill.dump(lat_long_model,g)"
   ]
  },
  {
   "cell_type": "code",
   "execution_count": 758,
   "metadata": {
    "collapsed": false
   },
   "outputs": [
    {
     "data": {
      "text/plain": [
       "((37938, 2), (37938, 1))"
      ]
     },
     "execution_count": 758,
     "metadata": {},
     "output_type": "execute_result"
    }
   ],
   "source": [
    "from sklearn import metrics\n",
    "\n",
    "X = np.array((df_geo_X))\n",
    "y = df_geo_Y.values\n",
    "\n",
    "X.shape, y.shape"
   ]
  },
  {
   "cell_type": "code",
   "execution_count": 759,
   "metadata": {
    "collapsed": false
   },
   "outputs": [
    {
     "data": {
      "text/plain": [
       "array([-89.335844,  43.238893])"
      ]
     },
     "execution_count": 759,
     "metadata": {},
     "output_type": "execute_result"
    }
   ],
   "source": [
    "X[1]"
   ]
  },
  {
   "cell_type": "code",
   "execution_count": 760,
   "metadata": {
    "collapsed": false,
    "scrolled": false
   },
   "outputs": [
    {
     "data": {
      "text/plain": [
       "<matplotlib.legend.Legend at 0x7f17a1b58090>"
      ]
     },
     "execution_count": 760,
     "metadata": {},
     "output_type": "execute_result"
    },
    {
     "data": {
      "image/png": "[encoded data removed]",
      "text/plain": [
       "<matplotlib.figure.Figure at 0x7f17a1b58950>"
      ]
     },
     "metadata": {},
     "output_type": "display_data"
    }
   ],
   "source": [
    "n_neighbors = range(1, 20)\n",
    "in_sample_errors = []\n",
    "for n in n_neighbors:\n",
    "    knn = KNNEstimator(n,\"auto\")\n",
    "    knn_train = knn.fit(X, y)\n",
    "    train_set = [{'longitude':x[0], 'latitude':x[1]} for x in X]\n",
    "    y_pred=[knn.predict(point) for point in train_set ]\n",
    "    in_sample_errors.append(metrics.mean_squared_error(y, y_pred))\n",
    "    \n",
    "plt.plot(n_neighbors, in_sample_errors, label='In-Sample Error')\n",
    "plt.xlabel('N neighbors')\n",
    "plt.ylabel('MSE')\n",
    "plt.legend(loc='upper right')"
   ]
  },
  {
   "cell_type": "code",
   "execution_count": 761,
   "metadata": {
    "collapsed": false
   },
   "outputs": [
    {
     "data": {
      "text/plain": [
       "((37938, 2), (30350, 2), (7588, 2))"
      ]
     },
     "execution_count": 761,
     "metadata": {},
     "output_type": "execute_result"
    }
   ],
   "source": [
    "from sklearn import cross_validation\n",
    "from sklearn import metrics\n",
    "\n",
    "X_train, X_test, y_train, y_test = cross_validation.train_test_split(X, y, test_size=0.2, random_state=42)\n",
    "X.shape, X_train.shape, X_test.shape"
   ]
  },
  {
   "cell_type": "code",
   "execution_count": 398,
   "metadata": {
    "collapsed": false
   },
   "outputs": [
    {
     "data": {
      "text/plain": [
       "<matplotlib.legend.Legend at 0x7f17d479ec50>"
      ]
     },
     "execution_count": 398,
     "metadata": {},
     "output_type": "execute_result"
    },
    {
     "data": {
      "image/png": "[encoded data removed]",
      "text/plain": [
       "<matplotlib.figure.Figure at 0x7f17d4758ad0>"
      ]
     },
     "metadata": {},
     "output_type": "display_data"
    }
   ],
   "source": [
    "n_neighbors = range(1, 20)\n",
    "test_errors = []\n",
    "for n in n_neighbors:\n",
    "    knn = KNNEstimator(n,\"auto\")\n",
    "    knn_train = knn.fit(X_train, y_train)\n",
    "    test_set = [{'longitude':x[0], 'latitude':x[1]} for x in X_test]\n",
    "    y_pred=[knn.predict(point) for point in test_set ]\n",
    "    test_errors.append(metrics.mean_squared_error(y_test, y_pred))\n",
    "\n",
    "plt.plot(n_neighbors, in_sample_errors, label='In-Sample Error')\n",
    "plt.plot(n_neighbors, test_errors, label='Out-of-Sample Error')\n",
    "plt.xlabel('N neighbors')\n",
    "plt.ylabel('MSE')\n",
    "plt.legend(loc='upper right')"
   ]
  },
  {
   "cell_type": "code",
   "execution_count": 382,
   "metadata": {
    "collapsed": false
   },
   "outputs": [
    {
     "data": {
      "text/plain": [
       "((37938, 2), (37938, 1))"
      ]
     },
     "execution_count": 382,
     "metadata": {},
     "output_type": "execute_result"
    }
   ],
   "source": [
    "# The K-fold Cross Validation algorithm has a bug (feature?) where it makes the\n",
    "# folds consecutive elements.  Because the input data is presorted along X, we have\n",
    "# to first shuffle the input data.  (Exercise: What happens if we don't?)\n",
    "indices = np.random.permutation(xrange(len(y)))\n",
    "X_random_order, y_random_order = X[indices], y[indices]\n",
    "X_random_order.shape, y_random_order.shape"
   ]
  },
  {
   "cell_type": "code",
   "execution_count": 390,
   "metadata": {
    "collapsed": false
   },
   "outputs": [
    {
     "data": {
      "text/plain": [
       "<matplotlib.legend.Legend at 0x7f17d64b7950>"
      ]
     },
     "execution_count": 390,
     "metadata": {},
     "output_type": "execute_result"
    },
    {
     "data": {
      "image/png": "[encoded data removed]",
      "text/plain": [
       "<matplotlib.figure.Figure at 0x7f17dd5b94d0>"
      ]
     },
     "metadata": {},
     "output_type": "display_data"
    }
   ],
   "source": [
    "cv_test_errors = []\n",
    "\n",
    "for n in n_neighbors:\n",
    "    knn = neighbors.KNeighborsRegressor(n_neighbors=n, weights='uniform', algorithm=\"auto\")\n",
    "    \n",
    "    # Note that cross_val_score performs K-fold Cross Validation but returns a score,\n",
    "    # which is the negative of the error.\n",
    "    cv_test_error = -cross_validation.cross_val_score(\n",
    "        knn,\n",
    "        X_random_order,\n",
    "        y_random_order,\n",
    "        cv=5,  # Number of folds\n",
    "        scoring='mean_squared_error'\n",
    "    )\n",
    "    cv_test_errors.append(cv_test_error.mean())\n",
    "\n",
    "plt.plot(n_neighbors, in_sample_errors, label='In-Sample Error')\n",
    "plt.plot(n_neighbors, test_errors, label='Out-of-Sample Error')\n",
    "plt.plot(n_neighbors, cv_test_errors, label='Cross-Validation Error')\n",
    "plt.xlabel('N Neighbors')\n",
    "plt.ylabel('MSE')\n",
    "plt.legend(loc='upper right')"
   ]
  },
  {
   "cell_type": "code",
   "execution_count": 763,
   "metadata": {
    "collapsed": false
   },
   "outputs": [
    {
     "name": "stdout",
     "output_type": "stream",
     "text": [
      "{'n_neighbors': 77}\n"
     ]
    }
   ],
   "source": [
    "from sklearn import grid_search\n",
    "\n",
    "knn = neighbors.KNeighborsRegressor(n_neighbors=n, weights='uniform', algorithm=\"auto\")\n",
    "gs = grid_search.GridSearchCV(\n",
    "    knn,\n",
    "    {\"n_neighbors\": range(1,100)}, ## \n",
    "    cv = 10,  # 5-fold cross validation\n",
    "    n_jobs=2,  # run each hyperparameter in one of two parallel jobs\n",
    "    scoring='mean_squared_error'\n",
    ")\n",
    "gs.fit(X_random_order, y_random_order)\n",
    "print gs.best_params_\n",
    "\n",
    "##plt.plot(X[:,], y, 'b.', label='data')\n",
    "##line = plt.plot(X[:,], gs.predict(X), 'r-', label='model')\n",
    "##plt.setp(line, linewidth=3.)\n",
    "##plt.xlabel('X')\n",
    "##plt.ylabel('Y')\n",
    "##plt.legend(loc='upper right')\n",
    "##plt.show()"
   ]
  },
  {
   "cell_type": "markdown",
   "metadata": {},
   "source": [
    "# category model"
   ]
  },
  {
   "cell_type": "code",
   "execution_count": 898,
   "metadata": {
    "collapsed": true
   },
   "outputs": [],
   "source": [
    "Y_cols = ['stars']\n",
    "X_cat_cols = ['categories']\n",
    "X_cat_transformer = ColumnSelectTransformer(X_cat_cols)\n",
    "Y_transformer = ColumnSelectTransformer(Y_cols)"
   ]
  },
  {
   "cell_type": "code",
   "execution_count": 899,
   "metadata": {
    "collapsed": false
   },
   "outputs": [],
   "source": [
    "df_cat_X = X_cat_transformer.transform(df)\n",
    "df_cat_Y = Y_transformer.transform(df)"
   ]
  },
  {
   "cell_type": "code",
   "execution_count": 1335,
   "metadata": {
    "collapsed": false
   },
   "outputs": [],
   "source": [
    "class CatTransformer():\n",
    "    def __init__(self):\n",
    "        from sklearn.feature_extraction import DictVectorizer\n",
    "        from sklearn.feature_extraction.text import TfidfTransformer\n",
    "        self.vec = DictVectorizer(sparse=False)\n",
    "        self.tfid = TfidfTransformer()\n",
    "        return None\n",
    "        \n",
    "    def fit(self,X):\n",
    "        X_pre_vec = []       \n",
    "        for rec in X:\n",
    "            cat_set = {cat:1 for cat in rec}\n",
    "            X_pre_vec.append(cat_set)\n",
    "        self.X_vec = self.vec.fit_transform(X_pre_vec)\n",
    "        self.X_vec = self.tfid.fit_transform(X_vec).toarray()\n",
    "        return self.X_vec\n",
    "        \n",
    "    def transform(self,recs):\n",
    "        cat_set = {cat:1 for cat in rec} \n",
    "        self.rec_vec = self.vec.transform(cat_set)\n",
    "        return self.rec_vec\n",
    "    \n",
    "    def colnames(self):\n",
    "        return self.vec.feature_names_ \n",
    "        "
   ]
  },
  {
   "cell_type": "code",
   "execution_count": 1336,
   "metadata": {
    "collapsed": false
   },
   "outputs": [],
   "source": [
    "cat_transformer = CatTransformer()"
   ]
  },
  {
   "cell_type": "code",
   "execution_count": 1337,
   "metadata": {
    "collapsed": false
   },
   "outputs": [],
   "source": [
    "X = df_cat_X['categories']"
   ]
  },
  {
   "cell_type": "code",
   "execution_count": 1338,
   "metadata": {
    "collapsed": false
   },
   "outputs": [
    {
     "data": {
      "text/plain": [
       "[u'Doctors', u'Health & Medical']"
      ]
     },
     "execution_count": 1338,
     "metadata": {},
     "output_type": "execute_result"
    }
   ],
   "source": [
    "X[0]"
   ]
  },
  {
   "cell_type": "code",
   "execution_count": 1339,
   "metadata": {
    "collapsed": false
   },
   "outputs": [],
   "source": [
    "y = df_cat_Y.values"
   ]
  },
  {
   "cell_type": "code",
   "execution_count": 1340,
   "metadata": {
    "collapsed": false
   },
   "outputs": [
    {
     "data": {
      "text/plain": [
       "array([[ 3.5],\n",
       "       [ 4. ],\n",
       "       [ 4. ],\n",
       "       ..., \n",
       "       [ 5. ],\n",
       "       [ 5. ],\n",
       "       [ 3.5]])"
      ]
     },
     "execution_count": 1340,
     "metadata": {},
     "output_type": "execute_result"
    }
   ],
   "source": [
    "y"
   ]
  },
  {
   "cell_type": "code",
   "execution_count": 1341,
   "metadata": {
    "collapsed": false
   },
   "outputs": [
    {
     "data": {
      "text/plain": [
       "0                              [Doctors, Health & Medical]\n",
       "1                                            [Restaurants]\n",
       "2                    [American (Traditional), Restaurants]\n",
       "3        [Food, Ice Cream & Frozen Yogurt, Fast Food, R...\n",
       "4                                   [Chinese, Restaurants]\n",
       "5                        [Television Stations, Mass Media]\n",
       "6         [Home Services, Heating & Air Conditioning/HVAC]\n",
       "7                [Libraries, Public Services & Government]\n",
       "8                                    [Veterinarians, Pets]\n",
       "9        [Bars, American (Traditional), Nightlife, Loun...\n",
       "10       [Hotels & Travel, Bed & Breakfast, Event Plann...\n",
       "11                                  [Active Life, Bowling]\n",
       "12                                    [Pizza, Restaurants]\n",
       "13                                  [Chinese, Restaurants]\n",
       "14       [Event Planning & Services, Party & Event Plan...\n",
       "15       [Party & Event Planning, Asian Fusion, Event P...\n",
       "16                                  [Mexican, Restaurants]\n",
       "17       [Active Life, Arts & Entertainment, Stadiums &...\n",
       "18                                    [Pet Services, Pets]\n",
       "19       [Hotels & Travel, Event Planning & Services, V...\n",
       "20       [Pilates, Yoga, Weight Loss Centers, Health & ...\n",
       "21         [Sandwiches, Pizza, Chicken Wings, Restaurants]\n",
       "22       [Shopping, Arts & Crafts, Event Planning & Ser...\n",
       "23       [Arts & Crafts, Shopping, Knitting Supplies, H...\n",
       "24       [Women's Clothing, Shopping Centers, Fashion, ...\n",
       "25              [Food, Beer, Wine & Spirits, Coffee & Tea]\n",
       "26       [Bakeries, Food, Breakfast & Brunch, Coffee & ...\n",
       "27          [Bars, American (New), Nightlife, Restaurants]\n",
       "28                                  [Chinese, Restaurants]\n",
       "29                                  [Chinese, Restaurants]\n",
       "                               ...                        \n",
       "37908    [Local Services, Data Recovery, Mobile Phone R...\n",
       "37909                           [Steakhouses, Restaurants]\n",
       "37910          [Shopping, Home & Garden, Furniture Stores]\n",
       "37911          [American (New), Comfort Food, Restaurants]\n",
       "37912              [Arts & Entertainment, Performing Arts]\n",
       "37913                            [Tapas Bars, Restaurants]\n",
       "37914                                 [Pizza, Restaurants]\n",
       "37915    [Food, Tea Rooms, Coffee & Tea, Asian Fusion, ...\n",
       "37916     [Used, Vintage & Consignment, Fashion, Shopping]\n",
       "37917                                 [Cafes, Restaurants]\n",
       "37918                              [Movers, Home Services]\n",
       "37919                                     [Bakeries, Food]\n",
       "37920                            [Handyman, Home Services]\n",
       "37921                                   [Food, Shaved Ice]\n",
       "37922                               [Food, Specialty Food]\n",
       "37923                            [Sushi Bars, Restaurants]\n",
       "37924                            [Vietnamese, Restaurants]\n",
       "37925                 [Food, Desserts, Cupcakes, Bakeries]\n",
       "37926                              [Filipino, Restaurants]\n",
       "37927                       [Active Life, Amusement Parks]\n",
       "37928                               [Burgers, Restaurants]\n",
       "37929                         [Chicken Wings, Restaurants]\n",
       "37930                        [American (New), Restaurants]\n",
       "37931    [Food, Juice Bars & Smoothies, American (New),...\n",
       "37932    [Bars, Turkish, Mediterranean, Nightlife, Loun...\n",
       "37933              [Bars, Hookah Bars, Nightlife, Lounges]\n",
       "37934    [Active Life, Barre Classes, Pilates, Fitness ...\n",
       "37935                          [Yelp Events, Local Flavor]\n",
       "37936                [Kosher, Italian, Pizza, Restaurants]\n",
       "37937         [Food, Ethnic Food, Grocery, Specialty Food]\n",
       "Name: categories, dtype: object"
      ]
     },
     "execution_count": 1341,
     "metadata": {},
     "output_type": "execute_result"
    }
   ],
   "source": [
    "X"
   ]
  },
  {
   "cell_type": "code",
   "execution_count": 1342,
   "metadata": {
    "collapsed": false
   },
   "outputs": [],
   "source": [
    "X_t = cat_transformer.fit(X)"
   ]
  },
  {
   "cell_type": "code",
   "execution_count": 1343,
   "metadata": {
    "collapsed": false
   },
   "outputs": [
    {
     "data": {
      "text/plain": [
       "(37938, 706)"
      ]
     },
     "execution_count": 1343,
     "metadata": {},
     "output_type": "execute_result"
    }
   ],
   "source": [
    "X_t.shape"
   ]
  },
  {
   "cell_type": "code",
   "execution_count": 1344,
   "metadata": {
    "collapsed": false
   },
   "outputs": [],
   "source": [
    "record = {'categories': ['Yelp Events', 'Local Flavor']}"
   ]
  },
  {
   "cell_type": "code",
   "execution_count": 1345,
   "metadata": {
    "collapsed": false
   },
   "outputs": [],
   "source": [
    "r_t = cat_transformer.transform(record)"
   ]
  },
  {
   "cell_type": "code",
   "execution_count": 1346,
   "metadata": {
    "collapsed": false
   },
   "outputs": [
    {
     "data": {
      "text/plain": [
       "(1, 706)"
      ]
     },
     "execution_count": 1346,
     "metadata": {},
     "output_type": "execute_result"
    }
   ],
   "source": [
    "r_t.shape"
   ]
  },
  {
   "cell_type": "code",
   "execution_count": 1347,
   "metadata": {
    "collapsed": false
   },
   "outputs": [
    {
     "data": {
      "text/plain": [
       "706"
      ]
     },
     "execution_count": 1347,
     "metadata": {},
     "output_type": "execute_result"
    }
   ],
   "source": [
    "len(cat_transformer.colnames())"
   ]
  },
  {
   "cell_type": "code",
   "execution_count": 1348,
   "metadata": {
    "collapsed": true
   },
   "outputs": [],
   "source": [
    "class CatEstimator():\n",
    "    def __init__(self, alpha):\n",
    "        self.cat_transformer = CatTransformer()    \n",
    "        self.alpha = alpha\n",
    "        pass\n",
    "    \n",
    "    def fit(self, X, y):\n",
    "        X_t = self.cat_transformer.fit(X)\n",
    "        self.model = linear_model.LassoLars(alpha=self.alpha)\n",
    "        self.model.fit(X_t,y)\n",
    "        return self\n",
    "\n",
    "    def predict(self, X):\n",
    "        r_ts = [self.cat_transformer.transform(x) for x in X]\n",
    "        model=self.model\n",
    "        return [[model.predict(r_t)[0]] for r_t in r_ts]\n",
    "\n",
    "    def score(self, X, y):\n",
    "        return model.score"
   ]
  },
  {
   "cell_type": "code",
   "execution_count": 1329,
   "metadata": {
    "collapsed": true
   },
   "outputs": [],
   "source": [
    "with open('cat_model2.dill', 'w') as h:\n",
    "    dill.dump(cat_model,h)"
   ]
  },
  {
   "cell_type": "code",
   "execution_count": 1349,
   "metadata": {
    "collapsed": false
   },
   "outputs": [],
   "source": [
    "cat_model = CatEstimator(0.01)"
   ]
  },
  {
   "cell_type": "code",
   "execution_count": 1350,
   "metadata": {
    "collapsed": false
   },
   "outputs": [
    {
     "data": {
      "text/plain": [
       "<__main__.CatEstimator instance at 0x7f179a597a70>"
      ]
     },
     "execution_count": 1350,
     "metadata": {},
     "output_type": "execute_result"
    }
   ],
   "source": [
    "cat_model.fit(X,y)"
   ]
  },
  {
   "cell_type": "code",
   "execution_count": 1351,
   "metadata": {
    "collapsed": false
   },
   "outputs": [
    {
     "data": {
      "text/plain": [
       "LassoLars(alpha=0.01, copy_X=True, eps=2.2204460492503131e-16,\n",
       "     fit_intercept=True, fit_path=True, max_iter=500, normalize=True,\n",
       "     precompute='auto', verbose=False)"
      ]
     },
     "execution_count": 1351,
     "metadata": {},
     "output_type": "execute_result"
    }
   ],
   "source": [
    "cat_model.model"
   ]
  },
  {
   "cell_type": "code",
   "execution_count": 1352,
   "metadata": {
    "collapsed": true
   },
   "outputs": [],
   "source": [
    "record = {'categories': ['Yelp Events', 'Local Flavor']}"
   ]
  },
  {
   "cell_type": "code",
   "execution_count": 1353,
   "metadata": {
    "collapsed": false
   },
   "outputs": [
    {
     "data": {
      "text/plain": [
       "[[3.6729137013021247]]"
      ]
     },
     "execution_count": 1353,
     "metadata": {},
     "output_type": "execute_result"
    }
   ],
   "source": [
    "cat_model.predict(record)"
   ]
  },
  {
   "cell_type": "code",
   "execution_count": 1354,
   "metadata": {
    "collapsed": false
   },
   "outputs": [
    {
     "data": {
      "text/plain": [
       "((37938, 706), (37938, 1))"
      ]
     },
     "execution_count": 1354,
     "metadata": {},
     "output_type": "execute_result"
    }
   ],
   "source": [
    "from sklearn import metrics\n",
    "\n",
    "X_t.shape, y.shape"
   ]
  },
  {
   "cell_type": "code",
   "execution_count": 1356,
   "metadata": {
    "collapsed": false
   },
   "outputs": [
    {
     "ename": "MemoryError",
     "evalue": "",
     "output_type": "error",
     "traceback": [
      "\u001b[1;31m---------------------------------------------------------------------------\u001b[0m",
      "\u001b[1;31mMemoryError\u001b[0m                               Traceback (most recent call last)",
      "\u001b[1;32m<ipython-input-1356-72ecc2200b1c>\u001b[0m in \u001b[0;36m<module>\u001b[1;34m()\u001b[0m\n\u001b[0;32m      5\u001b[0m \u001b[1;32mfor\u001b[0m \u001b[0malpha\u001b[0m \u001b[1;32min\u001b[0m \u001b[0malphas\u001b[0m\u001b[1;33m:\u001b[0m\u001b[1;33m\u001b[0m\u001b[0m\n\u001b[0;32m      6\u001b[0m     \u001b[0mlml\u001b[0m \u001b[1;33m=\u001b[0m \u001b[0mCatEstimator\u001b[0m\u001b[1;33m(\u001b[0m\u001b[0malpha\u001b[0m\u001b[1;33m)\u001b[0m\u001b[1;33m\u001b[0m\u001b[0m\n\u001b[1;32m----> 7\u001b[1;33m     \u001b[0mlml_train\u001b[0m \u001b[1;33m=\u001b[0m \u001b[0mlml\u001b[0m\u001b[1;33m.\u001b[0m\u001b[0mfit\u001b[0m\u001b[1;33m(\u001b[0m\u001b[0mX_t\u001b[0m\u001b[1;33m,\u001b[0m \u001b[0my\u001b[0m\u001b[1;33m)\u001b[0m\u001b[1;33m\u001b[0m\u001b[0m\n\u001b[0m\u001b[0;32m      8\u001b[0m     \u001b[0mtrain_set\u001b[0m \u001b[1;33m=\u001b[0m \u001b[1;33m[\u001b[0m\u001b[1;33m{\u001b[0m\u001b[1;34m'categories'\u001b[0m\u001b[1;33m:\u001b[0m\u001b[0mx\u001b[0m\u001b[1;33m}\u001b[0m \u001b[1;32mfor\u001b[0m \u001b[0mx\u001b[0m \u001b[1;32min\u001b[0m \u001b[0mX\u001b[0m\u001b[1;33m]\u001b[0m\u001b[1;33m\u001b[0m\u001b[0m\n\u001b[0;32m      9\u001b[0m     \u001b[0my_pred\u001b[0m\u001b[1;33m=\u001b[0m\u001b[1;33m[\u001b[0m\u001b[0mlml\u001b[0m\u001b[1;33m.\u001b[0m\u001b[0mpredict\u001b[0m\u001b[1;33m(\u001b[0m\u001b[0mpoint\u001b[0m\u001b[1;33m)\u001b[0m \u001b[1;32mfor\u001b[0m \u001b[0mpoint\u001b[0m \u001b[1;32min\u001b[0m \u001b[0mtrain_set\u001b[0m \u001b[1;33m]\u001b[0m\u001b[1;33m\u001b[0m\u001b[0m\n",
      "\u001b[1;32m<ipython-input-1348-f4994b4bb0a0>\u001b[0m in \u001b[0;36mfit\u001b[1;34m(self, X, y)\u001b[0m\n\u001b[0;32m      6\u001b[0m \u001b[1;33m\u001b[0m\u001b[0m\n\u001b[0;32m      7\u001b[0m     \u001b[1;32mdef\u001b[0m \u001b[0mfit\u001b[0m\u001b[1;33m(\u001b[0m\u001b[0mself\u001b[0m\u001b[1;33m,\u001b[0m \u001b[0mX\u001b[0m\u001b[1;33m,\u001b[0m \u001b[0my\u001b[0m\u001b[1;33m)\u001b[0m\u001b[1;33m:\u001b[0m\u001b[1;33m\u001b[0m\u001b[0m\n\u001b[1;32m----> 8\u001b[1;33m         \u001b[0mX_t\u001b[0m \u001b[1;33m=\u001b[0m \u001b[0mself\u001b[0m\u001b[1;33m.\u001b[0m\u001b[0mcat_transformer\u001b[0m\u001b[1;33m.\u001b[0m\u001b[0mfit\u001b[0m\u001b[1;33m(\u001b[0m\u001b[0mX\u001b[0m\u001b[1;33m)\u001b[0m\u001b[1;33m\u001b[0m\u001b[0m\n\u001b[0m\u001b[0;32m      9\u001b[0m         \u001b[0mself\u001b[0m\u001b[1;33m.\u001b[0m\u001b[0mmodel\u001b[0m \u001b[1;33m=\u001b[0m \u001b[0mlinear_model\u001b[0m\u001b[1;33m.\u001b[0m\u001b[0mLassoLars\u001b[0m\u001b[1;33m(\u001b[0m\u001b[0malpha\u001b[0m\u001b[1;33m=\u001b[0m\u001b[0mself\u001b[0m\u001b[1;33m.\u001b[0m\u001b[0malpha\u001b[0m\u001b[1;33m)\u001b[0m\u001b[1;33m\u001b[0m\u001b[0m\n\u001b[0;32m     10\u001b[0m         \u001b[0mself\u001b[0m\u001b[1;33m.\u001b[0m\u001b[0mmodel\u001b[0m\u001b[1;33m.\u001b[0m\u001b[0mfit\u001b[0m\u001b[1;33m(\u001b[0m\u001b[0mX_t\u001b[0m\u001b[1;33m,\u001b[0m\u001b[0my\u001b[0m\u001b[1;33m)\u001b[0m\u001b[1;33m\u001b[0m\u001b[0m\n",
      "\u001b[1;32m<ipython-input-1335-f559a7a176a0>\u001b[0m in \u001b[0;36mfit\u001b[1;34m(self, X)\u001b[0m\n\u001b[0;32m     12\u001b[0m             \u001b[0mcat_set\u001b[0m \u001b[1;33m=\u001b[0m \u001b[1;33m{\u001b[0m\u001b[0mcat\u001b[0m\u001b[1;33m:\u001b[0m\u001b[1;36m1\u001b[0m \u001b[1;32mfor\u001b[0m \u001b[0mcat\u001b[0m \u001b[1;32min\u001b[0m \u001b[0mrec\u001b[0m\u001b[1;33m}\u001b[0m\u001b[1;33m\u001b[0m\u001b[0m\n\u001b[0;32m     13\u001b[0m             \u001b[0mX_pre_vec\u001b[0m\u001b[1;33m.\u001b[0m\u001b[0mappend\u001b[0m\u001b[1;33m(\u001b[0m\u001b[0mcat_set\u001b[0m\u001b[1;33m)\u001b[0m\u001b[1;33m\u001b[0m\u001b[0m\n\u001b[1;32m---> 14\u001b[1;33m         \u001b[0mself\u001b[0m\u001b[1;33m.\u001b[0m\u001b[0mX_vec\u001b[0m \u001b[1;33m=\u001b[0m \u001b[0mself\u001b[0m\u001b[1;33m.\u001b[0m\u001b[0mvec\u001b[0m\u001b[1;33m.\u001b[0m\u001b[0mfit_transform\u001b[0m\u001b[1;33m(\u001b[0m\u001b[0mX_pre_vec\u001b[0m\u001b[1;33m)\u001b[0m\u001b[1;33m\u001b[0m\u001b[0m\n\u001b[0m\u001b[0;32m     15\u001b[0m         \u001b[0mself\u001b[0m\u001b[1;33m.\u001b[0m\u001b[0mX_vec\u001b[0m \u001b[1;33m=\u001b[0m \u001b[0mself\u001b[0m\u001b[1;33m.\u001b[0m\u001b[0mtfid\u001b[0m\u001b[1;33m.\u001b[0m\u001b[0mfit_transform\u001b[0m\u001b[1;33m(\u001b[0m\u001b[0mX_vec\u001b[0m\u001b[1;33m)\u001b[0m\u001b[1;33m.\u001b[0m\u001b[0mtoarray\u001b[0m\u001b[1;33m(\u001b[0m\u001b[1;33m)\u001b[0m\u001b[1;33m\u001b[0m\u001b[0m\n\u001b[0;32m     16\u001b[0m         \u001b[1;32mreturn\u001b[0m \u001b[0mself\u001b[0m\u001b[1;33m.\u001b[0m\u001b[0mX_vec\u001b[0m\u001b[1;33m\u001b[0m\u001b[0m\n",
      "\u001b[1;32m/opt/conda/lib/python2.7/site-packages/sklearn/feature_extraction/dict_vectorizer.pyc\u001b[0m in \u001b[0;36mfit_transform\u001b[1;34m(self, X, y)\u001b[0m\n\u001b[0;32m    222\u001b[0m             \u001b[0mFeature\u001b[0m \u001b[0mvectors\u001b[0m\u001b[1;33m;\u001b[0m \u001b[0malways\u001b[0m \u001b[1;36m2\u001b[0m\u001b[1;33m-\u001b[0m\u001b[0md\u001b[0m\u001b[1;33m.\u001b[0m\u001b[1;33m\u001b[0m\u001b[0m\n\u001b[0;32m    223\u001b[0m         \"\"\"\n\u001b[1;32m--> 224\u001b[1;33m         \u001b[1;32mreturn\u001b[0m \u001b[0mself\u001b[0m\u001b[1;33m.\u001b[0m\u001b[0m_transform\u001b[0m\u001b[1;33m(\u001b[0m\u001b[0mX\u001b[0m\u001b[1;33m,\u001b[0m \u001b[0mfitting\u001b[0m\u001b[1;33m=\u001b[0m\u001b[0mTrue\u001b[0m\u001b[1;33m)\u001b[0m\u001b[1;33m\u001b[0m\u001b[0m\n\u001b[0m\u001b[0;32m    225\u001b[0m \u001b[1;33m\u001b[0m\u001b[0m\n\u001b[0;32m    226\u001b[0m     \u001b[1;32mdef\u001b[0m \u001b[0minverse_transform\u001b[0m\u001b[1;33m(\u001b[0m\u001b[0mself\u001b[0m\u001b[1;33m,\u001b[0m \u001b[0mX\u001b[0m\u001b[1;33m,\u001b[0m \u001b[0mdict_type\u001b[0m\u001b[1;33m=\u001b[0m\u001b[0mdict\u001b[0m\u001b[1;33m)\u001b[0m\u001b[1;33m:\u001b[0m\u001b[1;33m\u001b[0m\u001b[0m\n",
      "\u001b[1;32m/opt/conda/lib/python2.7/site-packages/sklearn/feature_extraction/dict_vectorizer.pyc\u001b[0m in \u001b[0;36m_transform\u001b[1;34m(self, X, fitting)\u001b[0m\n\u001b[0;32m    196\u001b[0m             \u001b[0mresult_matrix\u001b[0m\u001b[1;33m.\u001b[0m\u001b[0msort_indices\u001b[0m\u001b[1;33m(\u001b[0m\u001b[1;33m)\u001b[0m\u001b[1;33m\u001b[0m\u001b[0m\n\u001b[0;32m    197\u001b[0m         \u001b[1;32melse\u001b[0m\u001b[1;33m:\u001b[0m\u001b[1;33m\u001b[0m\u001b[0m\n\u001b[1;32m--> 198\u001b[1;33m             \u001b[0mresult_matrix\u001b[0m \u001b[1;33m=\u001b[0m \u001b[0mresult_matrix\u001b[0m\u001b[1;33m.\u001b[0m\u001b[0mtoarray\u001b[0m\u001b[1;33m(\u001b[0m\u001b[1;33m)\u001b[0m\u001b[1;33m\u001b[0m\u001b[0m\n\u001b[0m\u001b[0;32m    199\u001b[0m \u001b[1;33m\u001b[0m\u001b[0m\n\u001b[0;32m    200\u001b[0m         \u001b[1;32mif\u001b[0m \u001b[0mfitting\u001b[0m\u001b[1;33m:\u001b[0m\u001b[1;33m\u001b[0m\u001b[0m\n",
      "\u001b[1;32m/opt/conda/lib/python2.7/site-packages/scipy/sparse/compressed.pyc\u001b[0m in \u001b[0;36mtoarray\u001b[1;34m(self, order, out)\u001b[0m\n\u001b[0;32m    947\u001b[0m     \u001b[1;32mdef\u001b[0m \u001b[0mtoarray\u001b[0m\u001b[1;33m(\u001b[0m\u001b[0mself\u001b[0m\u001b[1;33m,\u001b[0m \u001b[0morder\u001b[0m\u001b[1;33m=\u001b[0m\u001b[0mNone\u001b[0m\u001b[1;33m,\u001b[0m \u001b[0mout\u001b[0m\u001b[1;33m=\u001b[0m\u001b[0mNone\u001b[0m\u001b[1;33m)\u001b[0m\u001b[1;33m:\u001b[0m\u001b[1;33m\u001b[0m\u001b[0m\n\u001b[0;32m    948\u001b[0m         \u001b[1;34m\"\"\"See the docstring for `spmatrix.toarray`.\"\"\"\u001b[0m\u001b[1;33m\u001b[0m\u001b[0m\n\u001b[1;32m--> 949\u001b[1;33m         \u001b[1;32mreturn\u001b[0m \u001b[0mself\u001b[0m\u001b[1;33m.\u001b[0m\u001b[0mtocoo\u001b[0m\u001b[1;33m(\u001b[0m\u001b[0mcopy\u001b[0m\u001b[1;33m=\u001b[0m\u001b[0mFalse\u001b[0m\u001b[1;33m)\u001b[0m\u001b[1;33m.\u001b[0m\u001b[0mtoarray\u001b[0m\u001b[1;33m(\u001b[0m\u001b[0morder\u001b[0m\u001b[1;33m=\u001b[0m\u001b[0morder\u001b[0m\u001b[1;33m,\u001b[0m \u001b[0mout\u001b[0m\u001b[1;33m=\u001b[0m\u001b[0mout\u001b[0m\u001b[1;33m)\u001b[0m\u001b[1;33m\u001b[0m\u001b[0m\n\u001b[0m\u001b[0;32m    950\u001b[0m \u001b[1;33m\u001b[0m\u001b[0m\n\u001b[0;32m    951\u001b[0m     \u001b[1;31m##############################################################\u001b[0m\u001b[1;33m\u001b[0m\u001b[1;33m\u001b[0m\u001b[0m\n",
      "\u001b[1;32m/opt/conda/lib/python2.7/site-packages/scipy/sparse/coo.pyc\u001b[0m in \u001b[0;36mtoarray\u001b[1;34m(self, order, out)\u001b[0m\n\u001b[0;32m    272\u001b[0m     \u001b[1;32mdef\u001b[0m \u001b[0mtoarray\u001b[0m\u001b[1;33m(\u001b[0m\u001b[0mself\u001b[0m\u001b[1;33m,\u001b[0m \u001b[0morder\u001b[0m\u001b[1;33m=\u001b[0m\u001b[0mNone\u001b[0m\u001b[1;33m,\u001b[0m \u001b[0mout\u001b[0m\u001b[1;33m=\u001b[0m\u001b[0mNone\u001b[0m\u001b[1;33m)\u001b[0m\u001b[1;33m:\u001b[0m\u001b[1;33m\u001b[0m\u001b[0m\n\u001b[0;32m    273\u001b[0m         \u001b[1;34m\"\"\"See the docstring for `spmatrix.toarray`.\"\"\"\u001b[0m\u001b[1;33m\u001b[0m\u001b[0m\n\u001b[1;32m--> 274\u001b[1;33m         \u001b[0mB\u001b[0m \u001b[1;33m=\u001b[0m \u001b[0mself\u001b[0m\u001b[1;33m.\u001b[0m\u001b[0m_process_toarray_args\u001b[0m\u001b[1;33m(\u001b[0m\u001b[0morder\u001b[0m\u001b[1;33m,\u001b[0m \u001b[0mout\u001b[0m\u001b[1;33m)\u001b[0m\u001b[1;33m\u001b[0m\u001b[0m\n\u001b[0m\u001b[0;32m    275\u001b[0m         \u001b[0mfortran\u001b[0m \u001b[1;33m=\u001b[0m \u001b[0mint\u001b[0m\u001b[1;33m(\u001b[0m\u001b[0mB\u001b[0m\u001b[1;33m.\u001b[0m\u001b[0mflags\u001b[0m\u001b[1;33m.\u001b[0m\u001b[0mf_contiguous\u001b[0m\u001b[1;33m)\u001b[0m\u001b[1;33m\u001b[0m\u001b[0m\n\u001b[0;32m    276\u001b[0m         \u001b[1;32mif\u001b[0m \u001b[1;32mnot\u001b[0m \u001b[0mfortran\u001b[0m \u001b[1;32mand\u001b[0m \u001b[1;32mnot\u001b[0m \u001b[0mB\u001b[0m\u001b[1;33m.\u001b[0m\u001b[0mflags\u001b[0m\u001b[1;33m.\u001b[0m\u001b[0mc_contiguous\u001b[0m\u001b[1;33m:\u001b[0m\u001b[1;33m\u001b[0m\u001b[0m\n",
      "\u001b[1;32m/opt/conda/lib/python2.7/site-packages/scipy/sparse/base.pyc\u001b[0m in \u001b[0;36m_process_toarray_args\u001b[1;34m(self, order, out)\u001b[0m\n\u001b[0;32m    798\u001b[0m             \u001b[1;32mreturn\u001b[0m \u001b[0mout\u001b[0m\u001b[1;33m\u001b[0m\u001b[0m\n\u001b[0;32m    799\u001b[0m         \u001b[1;32melse\u001b[0m\u001b[1;33m:\u001b[0m\u001b[1;33m\u001b[0m\u001b[0m\n\u001b[1;32m--> 800\u001b[1;33m             \u001b[1;32mreturn\u001b[0m \u001b[0mnp\u001b[0m\u001b[1;33m.\u001b[0m\u001b[0mzeros\u001b[0m\u001b[1;33m(\u001b[0m\u001b[0mself\u001b[0m\u001b[1;33m.\u001b[0m\u001b[0mshape\u001b[0m\u001b[1;33m,\u001b[0m \u001b[0mdtype\u001b[0m\u001b[1;33m=\u001b[0m\u001b[0mself\u001b[0m\u001b[1;33m.\u001b[0m\u001b[0mdtype\u001b[0m\u001b[1;33m,\u001b[0m \u001b[0morder\u001b[0m\u001b[1;33m=\u001b[0m\u001b[0morder\u001b[0m\u001b[1;33m)\u001b[0m\u001b[1;33m\u001b[0m\u001b[0m\n\u001b[0m\u001b[0;32m    801\u001b[0m \u001b[1;33m\u001b[0m\u001b[0m\n\u001b[0;32m    802\u001b[0m     \u001b[1;32mdef\u001b[0m \u001b[0m__numpy_ufunc__\u001b[0m\u001b[1;33m(\u001b[0m\u001b[0mself\u001b[0m\u001b[1;33m,\u001b[0m \u001b[0mfunc\u001b[0m\u001b[1;33m,\u001b[0m \u001b[0mmethod\u001b[0m\u001b[1;33m,\u001b[0m \u001b[0mpos\u001b[0m\u001b[1;33m,\u001b[0m \u001b[0minputs\u001b[0m\u001b[1;33m,\u001b[0m \u001b[1;33m**\u001b[0m\u001b[0mkwargs\u001b[0m\u001b[1;33m)\u001b[0m\u001b[1;33m:\u001b[0m\u001b[1;33m\u001b[0m\u001b[0m\n",
      "\u001b[1;31mMemoryError\u001b[0m: "
     ]
    }
   ],
   "source": [
    "np.random.seed(42)\n",
    "##alphas = np.logspace(0.01, 1, 20)\n",
    "alphas = [0.001, 0.05, 0.5, 1]\n",
    "in_sample_errors = []\n",
    "for alpha in alphas:\n",
    "    lml = CatEstimator(alpha)\n",
    "    lml_train = lml.fit(X_t, y)\n",
    "    train_set = [{'categories':x} for x in X]\n",
    "    y_pred=[lml.predict(point) for point in train_set ]\n",
    "    in_sample_errors.append(metrics.mean_squared_error(y, y_pred))\n",
    "    \n",
    "plt.plot(alphas, in_sample_errors, label='In-Sample Error')\n",
    "plt.xlabel('Alphas')\n",
    "plt.ylabel('MSE')\n",
    "plt.legend(loc='upper right')"
   ]
  },
  {
   "cell_type": "code",
   "execution_count": 1357,
   "metadata": {
    "collapsed": false,
    "scrolled": true
   },
   "outputs": [
    {
     "name": "stderr",
     "output_type": "stream",
     "text": [
      "/opt/conda/lib/python2.7/site-packages/sklearn/linear_model/least_angle.py:310: ConvergenceWarning: Early stopping the lars path, as the residues are small and the current value of alpha is no longer well controlled. 351 iterations, alpha=3.587e-05, previous alpha=3.584e-05, with an active set of 350 regressors.\n",
      "  ConvergenceWarning)\n",
      "/opt/conda/lib/python2.7/site-packages/sklearn/linear_model/least_angle.py:310: ConvergenceWarning: Early stopping the lars path, as the residues are small and the current value of alpha is no longer well controlled. 496 iterations, alpha=1.977e-05, previous alpha=1.976e-05, with an active set of 491 regressors.\n",
      "  ConvergenceWarning)\n",
      "/opt/conda/lib/python2.7/site-packages/sklearn/linear_model/least_angle.py:310: ConvergenceWarning: Early stopping the lars path, as the residues are small and the current value of alpha is no longer well controlled. 440 iterations, alpha=2.574e-05, previous alpha=2.573e-05, with an active set of 439 regressors.\n",
      "  ConvergenceWarning)\n",
      "/opt/conda/lib/python2.7/site-packages/sklearn/linear_model/least_angle.py:310: ConvergenceWarning: Early stopping the lars path, as the residues are small and the current value of alpha is no longer well controlled. 356 iterations, alpha=3.602e-05, previous alpha=3.600e-05, with an active set of 355 regressors.\n",
      "  ConvergenceWarning)\n",
      "/opt/conda/lib/python2.7/site-packages/sklearn/linear_model/least_angle.py:285: ConvergenceWarning: Regressors in active set degenerate. Dropping a regressor, after 360 iterations, i.e. alpha=3.561e-05, with an active set of 358 regressors, and the smallest cholesky pivot element being 7.885e-08\n",
      "  ConvergenceWarning)\n",
      "/opt/conda/lib/python2.7/site-packages/sklearn/linear_model/least_angle.py:285: ConvergenceWarning: Regressors in active set degenerate. Dropping a regressor, after 339 iterations, i.e. alpha=3.638e-05, with an active set of 339 regressors, and the smallest cholesky pivot element being 3.942e-08\n",
      "  ConvergenceWarning)\n",
      "/opt/conda/lib/python2.7/site-packages/sklearn/linear_model/least_angle.py:285: ConvergenceWarning: Regressors in active set degenerate. Dropping a regressor, after 374 iterations, i.e. alpha=3.139e-05, with an active set of 372 regressors, and the smallest cholesky pivot element being 3.650e-08\n",
      "  ConvergenceWarning)\n"
     ]
    },
    {
     "data": {
      "text/plain": [
       "<matplotlib.axes._subplots.AxesSubplot at 0x7f162da2aa10>"
      ]
     },
     "execution_count": 1357,
     "metadata": {},
     "output_type": "execute_result"
    },
    {
     "data": {
      "image/png": "[encoded data removed]",
      "text/plain": [
       "<matplotlib.figure.Figure at 0x7f162d001f10>"
      ]
     },
     "metadata": {},
     "output_type": "display_data"
    }
   ],
   "source": [
    "# Lasso Regression with cross validation\n",
    "np.random.seed(42)\n",
    "##alphas = np.logspace(0.01, 1, 20)\n",
    "alphas = [-0.5, 0.05, 0.5, 1, 5]\n",
    "\n",
    "# Let's try to evaluate the model on different sets of features and compare their performance\n",
    "\n",
    "from sklearn import cross_validation\n",
    "from scipy import stats\n",
    "\n",
    "cv = cross_validation.ShuffleSplit(len(y), n_iter=20, test_size=0.2, random_state=42)\n",
    "def compute_error(lml, X, y):\n",
    "    return -cross_validation.cross_val_score(lml, X, y, cv=cv, scoring='mean_squared_error').mean()\n",
    "\n",
    "def abs_corr(x, y):\n",
    "    return np.abs(stats.pearsonr(x, y)[0])\n",
    "\n",
    "\n",
    "\n",
    "\n",
    "lasso_models = pd.DataFrame(\n",
    "    [(alpha,\n",
    "      \"Lasso with alpha = %f\" % alpha,\n",
    "      compute_error(linear_model.LassoLars(alpha=alpha), X_t, y)) for alpha in alphas],\n",
    "    columns=['alpha', 'Model', 'MSE'])\n",
    "lasso_models.plot(x='alpha', y='MSE', logx=True, title='MSE')"
   ]
  },
  {
   "cell_type": "code",
   "execution_count": 811,
   "metadata": {
    "collapsed": false
   },
   "outputs": [
    {
     "data": {
      "text/plain": [
       "((37938, 706), (37938, 1))"
      ]
     },
     "execution_count": 811,
     "metadata": {},
     "output_type": "execute_result"
    }
   ],
   "source": [
    "# The K-fold Cross Validation algorithm has a bug (feature?) where it makes the\n",
    "# folds consecutive elements.  Because the input data is presorted along X, we have\n",
    "# to first shuffle the input data.  (Exercise: What happens if we don't?)\n",
    "indices = np.random.permutation(xrange(len(y)))\n",
    "X_random_order, y_random_order = X_t[indices], y[indices]\n",
    "X_random_order.shape, y_random_order.shape"
   ]
  },
  {
   "cell_type": "code",
   "execution_count": 816,
   "metadata": {
    "collapsed": false
   },
   "outputs": [
    {
     "name": "stdout",
     "output_type": "stream",
     "text": [
      "An unexpected error occurred while tokenizing input\n",
      "The following traceback may be corrupted or invalid\n",
      "The error message is: ('EOF in multi-line statement', (2, 0))\n",
      "An unexpected error occurred while tokenizing input\n",
      "The following traceback may be corrupted or invalid\n",
      "The error message is: ('EOF in multi-line statement', (2, 0))\n",
      "\n",
      "\n",
      "An unexpected error occurred while tokenizing input\n",
      "The following traceback may be corrupted or invalid\n",
      "The error message is: ('EOF in multi-line statement', (2, 0))\n",
      "An unexpected error occurred while tokenizing input\n",
      "The following traceback may be corrupted or invalid\n",
      "The error message is: ('EOF in multi-line statement', (2, 0))\n",
      "\n",
      "\n"
     ]
    },
    {
     "ename": "JoblibValueError",
     "evalue": "JoblibValueError\n___________________________________________________________________________\nMultiprocessing exception:\n    ...........................................................................\n/opt/conda/lib/python2.7/runpy.py in _run_module_as_main(mod_name='IPython.kernel.__main__', alter_argv=1)\n    157     pkg_name = mod_name.rpartition('.')[0]\n    158     main_globals = sys.modules[\"__main__\"].__dict__\n    159     if alter_argv:\n    160         sys.argv[0] = fname\n    161     return _run_code(code, main_globals, None,\n--> 162                      \"__main__\", fname, loader, pkg_name)\n        fname = '/opt/conda/lib/python2.7/site-packages/IPython/kernel/__main__.py'\n        loader = <pkgutil.ImpLoader instance>\n        pkg_name = 'IPython.kernel'\n    163 \n    164 def run_module(mod_name, init_globals=None,\n    165                run_name=None, alter_sys=False):\n    166     \"\"\"Execute a module's code without importing it\n\n...........................................................................\n/opt/conda/lib/python2.7/runpy.py in _run_code(code=<code object <module> at 0x7f1825597530, file \"/...ite-packages/IPython/kernel/__main__.py\", line 1>, run_globals={'__builtins__': <module '__builtin__' (built-in)>, '__doc__': None, '__file__': '/opt/conda/lib/python2.7/site-packages/IPython/kernel/__main__.py', '__loader__': <pkgutil.ImpLoader instance>, '__name__': '__main__', '__package__': 'IPython.kernel', 'app': <module 'IPython.kernel.zmq.kernelapp' from '/op.../site-packages/IPython/kernel/zmq/kernelapp.pyc'>}, init_globals=None, mod_name='__main__', mod_fname='/opt/conda/lib/python2.7/site-packages/IPython/kernel/__main__.py', mod_loader=<pkgutil.ImpLoader instance>, pkg_name='IPython.kernel')\n     67         run_globals.update(init_globals)\n     68     run_globals.update(__name__ = mod_name,\n     69                        __file__ = mod_fname,\n     70                        __loader__ = mod_loader,\n     71                        __package__ = pkg_name)\n---> 72     exec code in run_globals\n        code = <code object <module> at 0x7f1825597530, file \"/...ite-packages/IPython/kernel/__main__.py\", line 1>\n        run_globals = {'__builtins__': <module '__builtin__' (built-in)>, '__doc__': None, '__file__': '/opt/conda/lib/python2.7/site-packages/IPython/kernel/__main__.py', '__loader__': <pkgutil.ImpLoader instance>, '__name__': '__main__', '__package__': 'IPython.kernel', 'app': <module 'IPython.kernel.zmq.kernelapp' from '/op.../site-packages/IPython/kernel/zmq/kernelapp.pyc'>}\n     73     return run_globals\n     74 \n     75 def _run_module_code(code, init_globals=None,\n     76                     mod_name=None, mod_fname=None,\n\n...........................................................................\n/opt/conda/lib/python2.7/site-packages/IPython/kernel/__main__.py in <module>()\n      1 \n      2 \n----> 3 \n      4 if __name__ == '__main__':\n      5     from IPython.kernel.zmq import kernelapp as app\n      6     app.launch_new_instance()\n      7 \n      8 \n      9 \n     10 \n\n...........................................................................\n/opt/conda/lib/python2.7/site-packages/IPython/config/application.py in launch_instance(cls=<class 'IPython.kernel.zmq.kernelapp.IPKernelApp'>, argv=None, **kwargs={})\n    569         \n    570         If a global instance already exists, this reinitializes and starts it\n    571         \"\"\"\n    572         app = cls.instance(**kwargs)\n    573         app.initialize(argv)\n--> 574         app.start()\n        app.start = <bound method IPKernelApp.start of <IPython.kernel.zmq.kernelapp.IPKernelApp object>>\n    575 \n    576 #-----------------------------------------------------------------------------\n    577 # utility functions, for convenience\n    578 #-----------------------------------------------------------------------------\n\n...........................................................................\n/opt/conda/lib/python2.7/site-packages/IPython/kernel/zmq/kernelapp.py in start(self=<IPython.kernel.zmq.kernelapp.IPKernelApp object>)\n    368     def start(self):\n    369         if self.poller is not None:\n    370             self.poller.start()\n    371         self.kernel.start()\n    372         try:\n--> 373             ioloop.IOLoop.instance().start()\n    374         except KeyboardInterrupt:\n    375             pass\n    376 \n    377 launch_new_instance = IPKernelApp.launch_instance\n\n...........................................................................\n/opt/conda/lib/python2.7/site-packages/zmq/eventloop/ioloop.py in start(self=<zmq.eventloop.ioloop.ZMQIOLoop object>)\n    146             PollIOLoop.configure(ZMQIOLoop)\n    147         return PollIOLoop.instance()\n    148     \n    149     def start(self):\n    150         try:\n--> 151             super(ZMQIOLoop, self).start()\n        self.start = <bound method ZMQIOLoop.start of <zmq.eventloop.ioloop.ZMQIOLoop object>>\n    152         except ZMQError as e:\n    153             if e.errno == ETERM:\n    154                 # quietly return on ETERM\n    155                 pass\n\n...........................................................................\n/opt/conda/lib/python2.7/site-packages/tornado/ioloop.py in start(self=<zmq.eventloop.ioloop.ZMQIOLoop object>)\n    861                 self._events.update(event_pairs)\n    862                 while self._events:\n    863                     fd, events = self._events.popitem()\n    864                     try:\n    865                         fd_obj, handler_func = self._handlers[fd]\n--> 866                         handler_func(fd_obj, events)\n        handler_func = <function null_wrapper>\n        fd_obj = <zmq.sugar.socket.Socket object>\n        events = 5\n    867                     except (OSError, IOError) as e:\n    868                         if errno_from_exception(e) == errno.EPIPE:\n    869                             # Happens when the client closes the connection\n    870                             pass\n\n...........................................................................\n/opt/conda/lib/python2.7/site-packages/tornado/stack_context.py in null_wrapper(*args=(<zmq.sugar.socket.Socket object>, 5), **kwargs={})\n    270         # Fast path when there are no active contexts.\n    271         def null_wrapper(*args, **kwargs):\n    272             try:\n    273                 current_state = _state.contexts\n    274                 _state.contexts = cap_contexts[0]\n--> 275                 return fn(*args, **kwargs)\n        args = (<zmq.sugar.socket.Socket object>, 5)\n        kwargs = {}\n    276             finally:\n    277                 _state.contexts = current_state\n    278         null_wrapper._wrapped = True\n    279         return null_wrapper\n\n...........................................................................\n/opt/conda/lib/python2.7/site-packages/zmq/eventloop/zmqstream.py in _handle_events(self=<zmq.eventloop.zmqstream.ZMQStream object>, fd=<zmq.sugar.socket.Socket object>, events=5)\n    428             # dispatch events:\n    429             if events & IOLoop.ERROR:\n    430                 gen_log.error(\"got POLLERR event on ZMQStream, which doesn't make sense\")\n    431                 return\n    432             if events & IOLoop.READ:\n--> 433                 self._handle_recv()\n        self._handle_recv = <bound method ZMQStream._handle_recv of <zmq.eventloop.zmqstream.ZMQStream object>>\n    434                 if not self.socket:\n    435                     return\n    436             if events & IOLoop.WRITE:\n    437                 self._handle_send()\n\n...........................................................................\n/opt/conda/lib/python2.7/site-packages/zmq/eventloop/zmqstream.py in _handle_recv(self=<zmq.eventloop.zmqstream.ZMQStream object>)\n    460                 gen_log.error(\"RECV Error: %s\"%zmq.strerror(e.errno))\n    461         else:\n    462             if self._recv_callback:\n    463                 callback = self._recv_callback\n    464                 # self._recv_callback = None\n--> 465                 self._run_callback(callback, msg)\n        self._run_callback = <bound method ZMQStream._run_callback of <zmq.eventloop.zmqstream.ZMQStream object>>\n        callback = <function null_wrapper>\n        msg = [<zmq.sugar.frame.Frame object>, <zmq.sugar.frame.Frame object>, <zmq.sugar.frame.Frame object>, <zmq.sugar.frame.Frame object>, <zmq.sugar.frame.Frame object>, <zmq.sugar.frame.Frame object>, <zmq.sugar.frame.Frame object>]\n    466                 \n    467         # self.update_state()\n    468         \n    469 \n\n...........................................................................\n/opt/conda/lib/python2.7/site-packages/zmq/eventloop/zmqstream.py in _run_callback(self=<zmq.eventloop.zmqstream.ZMQStream object>, callback=<function null_wrapper>, *args=([<zmq.sugar.frame.Frame object>, <zmq.sugar.frame.Frame object>, <zmq.sugar.frame.Frame object>, <zmq.sugar.frame.Frame object>, <zmq.sugar.frame.Frame object>, <zmq.sugar.frame.Frame object>, <zmq.sugar.frame.Frame object>],), **kwargs={})\n    402         close our socket.\"\"\"\n    403         try:\n    404             # Use a NullContext to ensure that all StackContexts are run\n    405             # inside our blanket exception handler rather than outside.\n    406             with stack_context.NullContext():\n--> 407                 callback(*args, **kwargs)\n        callback = <function null_wrapper>\n        args = ([<zmq.sugar.frame.Frame object>, <zmq.sugar.frame.Frame object>, <zmq.sugar.frame.Frame object>, <zmq.sugar.frame.Frame object>, <zmq.sugar.frame.Frame object>, <zmq.sugar.frame.Frame object>, <zmq.sugar.frame.Frame object>],)\n        kwargs = {}\n    408         except:\n    409             gen_log.error(\"Uncaught exception, closing connection.\",\n    410                           exc_info=True)\n    411             # Close the socket on an uncaught exception from a user callback\n\n...........................................................................\n/opt/conda/lib/python2.7/site-packages/tornado/stack_context.py in null_wrapper(*args=([<zmq.sugar.frame.Frame object>, <zmq.sugar.frame.Frame object>, <zmq.sugar.frame.Frame object>, <zmq.sugar.frame.Frame object>, <zmq.sugar.frame.Frame object>, <zmq.sugar.frame.Frame object>, <zmq.sugar.frame.Frame object>],), **kwargs={})\n    270         # Fast path when there are no active contexts.\n    271         def null_wrapper(*args, **kwargs):\n    272             try:\n    273                 current_state = _state.contexts\n    274                 _state.contexts = cap_contexts[0]\n--> 275                 return fn(*args, **kwargs)\n        args = ([<zmq.sugar.frame.Frame object>, <zmq.sugar.frame.Frame object>, <zmq.sugar.frame.Frame object>, <zmq.sugar.frame.Frame object>, <zmq.sugar.frame.Frame object>, <zmq.sugar.frame.Frame object>, <zmq.sugar.frame.Frame object>],)\n        kwargs = {}\n    276             finally:\n    277                 _state.contexts = current_state\n    278         null_wrapper._wrapped = True\n    279         return null_wrapper\n\n...........................................................................\n/opt/conda/lib/python2.7/site-packages/IPython/kernel/zmq/kernelbase.py in dispatcher(msg=[<zmq.sugar.frame.Frame object>, <zmq.sugar.frame.Frame object>, <zmq.sugar.frame.Frame object>, <zmq.sugar.frame.Frame object>, <zmq.sugar.frame.Frame object>, <zmq.sugar.frame.Frame object>, <zmq.sugar.frame.Frame object>])\n    247         if self.control_stream:\n    248             self.control_stream.on_recv(self.dispatch_control, copy=False)\n    249 \n    250         def make_dispatcher(stream):\n    251             def dispatcher(msg):\n--> 252                 return self.dispatch_shell(stream, msg)\n        msg = [<zmq.sugar.frame.Frame object>, <zmq.sugar.frame.Frame object>, <zmq.sugar.frame.Frame object>, <zmq.sugar.frame.Frame object>, <zmq.sugar.frame.Frame object>, <zmq.sugar.frame.Frame object>, <zmq.sugar.frame.Frame object>]\n    253             return dispatcher\n    254 \n    255         for s in self.shell_streams:\n    256             s.on_recv(make_dispatcher(s), copy=False)\n\n...........................................................................\n/opt/conda/lib/python2.7/site-packages/IPython/kernel/zmq/kernelbase.py in dispatch_shell(self=<IPython.kernel.zmq.ipkernel.IPythonKernel object>, stream=<zmq.eventloop.zmqstream.ZMQStream object>, msg={'buffers': [], 'content': {'allow_stdin': True, 'code': \"from sklearn import grid_search\\n\\nlml = linear_mo...'Y')\\n##plt.legend(loc='upper right')\\n##plt.show()\", 'silent': False, 'stop_on_error': True, 'store_history': True, 'user_expressions': {}}, 'header': {'msg_id': '1FF1E63E03E5457E867514ABDFA66644', 'msg_type': 'execute_request', 'session': '61A3539C55134C4C8673206D3B091243', 'username': 'username', 'version': '5.0'}, 'metadata': {}, 'msg_id': '1FF1E63E03E5457E867514ABDFA66644', 'msg_type': 'execute_request', 'parent_header': {}})\n    208         else:\n    209             # ensure default_int_handler during handler call\n    210             sig = signal(SIGINT, default_int_handler)\n    211             self.log.debug(\"%s: %s\", msg_type, msg)\n    212             try:\n--> 213                 handler(stream, idents, msg)\n        handler = <bound method IPythonKernel.execute_request of <IPython.kernel.zmq.ipkernel.IPythonKernel object>>\n        stream = <zmq.eventloop.zmqstream.ZMQStream object>\n        idents = ['61A3539C55134C4C8673206D3B091243']\n        msg = {'buffers': [], 'content': {'allow_stdin': True, 'code': \"from sklearn import grid_search\\n\\nlml = linear_mo...'Y')\\n##plt.legend(loc='upper right')\\n##plt.show()\", 'silent': False, 'stop_on_error': True, 'store_history': True, 'user_expressions': {}}, 'header': {'msg_id': '1FF1E63E03E5457E867514ABDFA66644', 'msg_type': 'execute_request', 'session': '61A3539C55134C4C8673206D3B091243', 'username': 'username', 'version': '5.0'}, 'metadata': {}, 'msg_id': '1FF1E63E03E5457E867514ABDFA66644', 'msg_type': 'execute_request', 'parent_header': {}}\n    214             except Exception:\n    215                 self.log.error(\"Exception in message handler:\", exc_info=True)\n    216             finally:\n    217                 signal(SIGINT, sig)\n\n...........................................................................\n/opt/conda/lib/python2.7/site-packages/IPython/kernel/zmq/kernelbase.py in execute_request(self=<IPython.kernel.zmq.ipkernel.IPythonKernel object>, stream=<zmq.eventloop.zmqstream.ZMQStream object>, ident=['61A3539C55134C4C8673206D3B091243'], parent={'buffers': [], 'content': {'allow_stdin': True, 'code': \"from sklearn import grid_search\\n\\nlml = linear_mo...'Y')\\n##plt.legend(loc='upper right')\\n##plt.show()\", 'silent': False, 'stop_on_error': True, 'store_history': True, 'user_expressions': {}}, 'header': {'msg_id': '1FF1E63E03E5457E867514ABDFA66644', 'msg_type': 'execute_request', 'session': '61A3539C55134C4C8673206D3B091243', 'username': 'username', 'version': '5.0'}, 'metadata': {}, 'msg_id': '1FF1E63E03E5457E867514ABDFA66644', 'msg_type': 'execute_request', 'parent_header': {}})\n    357         if not silent:\n    358             self.execution_count += 1\n    359             self._publish_execute_input(code, parent, self.execution_count)\n    360         \n    361         reply_content = self.do_execute(code, silent, store_history,\n--> 362                                         user_expressions, allow_stdin)\n        user_expressions = {}\n        allow_stdin = True\n    363 \n    364         # Flush output before sending the reply.\n    365         sys.stdout.flush()\n    366         sys.stderr.flush()\n\n...........................................................................\n/opt/conda/lib/python2.7/site-packages/IPython/kernel/zmq/ipkernel.py in do_execute(self=<IPython.kernel.zmq.ipkernel.IPythonKernel object>, code=u'from sklearn import grid_search\\n\\nlml = linea...n##plt.legend(loc=\\'upper right\\')\\n##plt.show()', silent=False, store_history=True, user_expressions={}, allow_stdin=True)\n    176 \n    177         reply_content = {}\n    178         # FIXME: the shell calls the exception handler itself.\n    179         shell._reply_content = None\n    180         try:\n--> 181             shell.run_cell(code, store_history=store_history, silent=silent)\n        shell.run_cell = <bound method ZMQInteractiveShell.run_cell of <I....kernel.zmq.zmqshell.ZMQInteractiveShell object>>\n        code = u'from sklearn import grid_search\\n\\nlml = linea...n##plt.legend(loc=\\'upper right\\')\\n##plt.show()'\n        store_history = True\n        silent = False\n    182         except:\n    183             status = u'error'\n    184             # FIXME: this code right now isn't being used yet by default,\n    185             # because the run_cell() call above directly fires off exception\n\n...........................................................................\n/opt/conda/lib/python2.7/site-packages/IPython/core/interactiveshell.py in run_cell(self=<IPython.kernel.zmq.zmqshell.ZMQInteractiveShell object>, raw_cell=u'from sklearn import grid_search\\n\\nlml = linea...n##plt.legend(loc=\\'upper right\\')\\n##plt.show()', store_history=True, silent=False, shell_futures=True)\n   2866                 self.displayhook.exec_result = result\n   2867 \n   2868                 # Execute the user code\n   2869                 interactivity = \"none\" if silent else self.ast_node_interactivity\n   2870                 self.run_ast_nodes(code_ast.body, cell_name,\n-> 2871                    interactivity=interactivity, compiler=compiler, result=result)\n        interactivity = 'last_expr'\n        compiler = <IPython.core.compilerop.CachingCompiler instance>\n   2872 \n   2873                 # Reset this so later displayed values do not modify the\n   2874                 # ExecutionResult\n   2875                 self.displayhook.exec_result = None\n\n...........................................................................\n/opt/conda/lib/python2.7/site-packages/IPython/core/interactiveshell.py in run_ast_nodes(self=<IPython.kernel.zmq.zmqshell.ZMQInteractiveShell object>, nodelist=[<_ast.ImportFrom object>, <_ast.Assign object>, <_ast.Assign object>, <_ast.Expr object>, <_ast.Print object>], cell_name='<ipython-input-816-f4dbaef3a19d>', interactivity='none', compiler=<IPython.core.compilerop.CachingCompiler instance>, result=<IPython.core.interactiveshell.ExecutionResult object>)\n   2970 \n   2971         try:\n   2972             for i, node in enumerate(to_run_exec):\n   2973                 mod = ast.Module([node])\n   2974                 code = compiler(mod, cell_name, \"exec\")\n-> 2975                 if self.run_code(code, result):\n        self.run_code = <bound method ZMQInteractiveShell.run_code of <I....kernel.zmq.zmqshell.ZMQInteractiveShell object>>\n        code = <code object <module> at 0x7f17dd6a8830, file \"<ipython-input-816-f4dbaef3a19d>\", line 11>\n        result = <IPython.core.interactiveshell.ExecutionResult object>\n   2976                     return True\n   2977 \n   2978             for i, node in enumerate(to_run_interactive):\n   2979                 mod = ast.Interactive([node])\n\n...........................................................................\n/opt/conda/lib/python2.7/site-packages/IPython/core/interactiveshell.py in run_code(self=<IPython.kernel.zmq.zmqshell.ZMQInteractiveShell object>, code_obj=<code object <module> at 0x7f17dd6a8830, file \"<ipython-input-816-f4dbaef3a19d>\", line 11>, result=<IPython.core.interactiveshell.ExecutionResult object>)\n   3030         outflag = 1  # happens in more places, so it's easier as default\n   3031         try:\n   3032             try:\n   3033                 self.hooks.pre_run_code_hook()\n   3034                 #rprint('Running code', repr(code_obj)) # dbg\n-> 3035                 exec(code_obj, self.user_global_ns, self.user_ns)\n        code_obj = <code object <module> at 0x7f17dd6a8830, file \"<ipython-input-816-f4dbaef3a19d>\", line 11>\n        self.user_global_ns = {'AttTransformer': <class __main__.AttTransformer>, 'CatEstimator': <class __main__.CatEstimator>, 'CatTransformer': <class __main__.CatTransformer>, 'CityEstimator': <class __main__.CityEstimator>, 'ColumnSelectTransformer': <class __main__.ColumnSelectTransformer>, 'DictVectorizer': <class 'sklearn.feature_extraction.dict_vectorizer.DictVectorizer'>, 'In': ['', u'import dil', u\"import sys\\n# read the entire file into a pyth...rb') as f:\\n    data = f.readlines()\\n\\ndata[:2]\", u\"import sys\\nimport gzip\\n\\n# read the entire f...rb') as f:\\n    data = f.readlines()\\n\\ndata[:2]\", u\"# read the entire file into a python array\\nwi...rb') as f:\\n    data = f.readlines()\\n\\ndata[:2]\", u'import sys\\nimport gzip\\nimport numpy as np', u\"# read the entire file into a python array\\nwi...rb') as f:\\n    data = f.readlines()\\n\\ndata[:2]\", u'import sys\\nimport gzip\\nimport numpy as np\\nimport pandas as pd', u'df = pd.DataFrame(data[:2])', u'df', u'# remove the trailing \"\\\\n\" from each line\\ndata = map(lambda x: x.rstrip(), data)', u'# each element of \\'data\\' is an individual JS...it into pandas\\ndf = pd.read_json(data_json_str)', u'df', u\"df.groupby('city')['stars'].mean()\", u\"city_means = {df.groupby('city')['stars'].mean()}\", u\"city_means = df.groupby('city')['stars'].mean()\", u\"city_means['New York']\", u'city_means', u\"city_means['Verona']\", u\"with open('model.dill', 'w') as f:\\n    dill.dump(citymeans,f)\", ...], 'KNNEstimator': <class __main__.KNNEstimator>, 'LongLatTransformer': <class __main__.LongLatTransformer>, 'Out': {3: ['{\"business_id\": \"vcNAWiLM4dR7D2nwwJ7nCA\", \"full_...By Appointment Only\": true}, \"type\": \"business\"}\\n', '{\"business_id\": \"JwUE5GmEO-sH1FuwJgKBlQ\", \"full_...s\": true, \"Price Range\": 1}, \"type\": \"business\"}\\n'], 4: ['{\"business_id\": \"vcNAWiLM4dR7D2nwwJ7nCA\", \"full_...By Appointment Only\": true}, \"type\": \"business\"}\\n', '{\"business_id\": \"JwUE5GmEO-sH1FuwJgKBlQ\", \"full_...s\": true, \"Price Range\": 1}, \"type\": \"business\"}\\n'], 6: ['{\"business_id\": \"vcNAWiLM4dR7D2nwwJ7nCA\", \"full_...By Appointment Only\": true}, \"type\": \"business\"}\\n', '{\"business_id\": \"JwUE5GmEO-sH1FuwJgKBlQ\", \"full_...s\": true, \"Price Range\": 1}, \"type\": \"business\"}\\n'], 9:                                                 ...{\"business_id\": \"JwUE5GmEO-sH1FuwJgKBlQ\", \"ful..., 12:                                               at...ss  \n37937  business  \n\n[37938 rows x 15 columns], 13: city\nAhwatukee               3.687500\nAnthem    ...             5.000000\nName: stars, dtype: float64, 16: 5.0, 17: city\nAhwatukee               3.687500\nAnthem    ...             5.000000\nName: stars, dtype: float64, 18: 3.8548387096774195, 23: city\nAhwatukee               3.687500\nAnthem    ...             5.000000\nName: stars, dtype: float64, ...}, ...}\n        self.user_ns = {'AttTransformer': <class __main__.AttTransformer>, 'CatEstimator': <class __main__.CatEstimator>, 'CatTransformer': <class __main__.CatTransformer>, 'CityEstimator': <class __main__.CityEstimator>, 'ColumnSelectTransformer': <class __main__.ColumnSelectTransformer>, 'DictVectorizer': <class 'sklearn.feature_extraction.dict_vectorizer.DictVectorizer'>, 'In': ['', u'import dil', u\"import sys\\n# read the entire file into a pyth...rb') as f:\\n    data = f.readlines()\\n\\ndata[:2]\", u\"import sys\\nimport gzip\\n\\n# read the entire f...rb') as f:\\n    data = f.readlines()\\n\\ndata[:2]\", u\"# read the entire file into a python array\\nwi...rb') as f:\\n    data = f.readlines()\\n\\ndata[:2]\", u'import sys\\nimport gzip\\nimport numpy as np', u\"# read the entire file into a python array\\nwi...rb') as f:\\n    data = f.readlines()\\n\\ndata[:2]\", u'import sys\\nimport gzip\\nimport numpy as np\\nimport pandas as pd', u'df = pd.DataFrame(data[:2])', u'df', u'# remove the trailing \"\\\\n\" from each line\\ndata = map(lambda x: x.rstrip(), data)', u'# each element of \\'data\\' is an individual JS...it into pandas\\ndf = pd.read_json(data_json_str)', u'df', u\"df.groupby('city')['stars'].mean()\", u\"city_means = {df.groupby('city')['stars'].mean()}\", u\"city_means = df.groupby('city')['stars'].mean()\", u\"city_means['New York']\", u'city_means', u\"city_means['Verona']\", u\"with open('model.dill', 'w') as f:\\n    dill.dump(citymeans,f)\", ...], 'KNNEstimator': <class __main__.KNNEstimator>, 'LongLatTransformer': <class __main__.LongLatTransformer>, 'Out': {3: ['{\"business_id\": \"vcNAWiLM4dR7D2nwwJ7nCA\", \"full_...By Appointment Only\": true}, \"type\": \"business\"}\\n', '{\"business_id\": \"JwUE5GmEO-sH1FuwJgKBlQ\", \"full_...s\": true, \"Price Range\": 1}, \"type\": \"business\"}\\n'], 4: ['{\"business_id\": \"vcNAWiLM4dR7D2nwwJ7nCA\", \"full_...By Appointment Only\": true}, \"type\": \"business\"}\\n', '{\"business_id\": \"JwUE5GmEO-sH1FuwJgKBlQ\", \"full_...s\": true, \"Price Range\": 1}, \"type\": \"business\"}\\n'], 6: ['{\"business_id\": \"vcNAWiLM4dR7D2nwwJ7nCA\", \"full_...By Appointment Only\": true}, \"type\": \"business\"}\\n', '{\"business_id\": \"JwUE5GmEO-sH1FuwJgKBlQ\", \"full_...s\": true, \"Price Range\": 1}, \"type\": \"business\"}\\n'], 9:                                                 ...{\"business_id\": \"JwUE5GmEO-sH1FuwJgKBlQ\", \"ful..., 12:                                               at...ss  \n37937  business  \n\n[37938 rows x 15 columns], 13: city\nAhwatukee               3.687500\nAnthem    ...             5.000000\nName: stars, dtype: float64, 16: 5.0, 17: city\nAhwatukee               3.687500\nAnthem    ...             5.000000\nName: stars, dtype: float64, 18: 3.8548387096774195, 23: city\nAhwatukee               3.687500\nAnthem    ...             5.000000\nName: stars, dtype: float64, ...}, ...}\n   3036             finally:\n   3037                 # Reset our crash handler in place\n   3038                 sys.excepthook = old_excepthook\n   3039         except SystemExit as e:\n\n...........................................................................\n/home/vagrant/datacourse/mini/ml/<ipython-input-816-f4dbaef3a19d> in <module>()\n      6     {\"alphas\": [0.01, 0.05,0.5]}, ## \n      7     cv = 5,  # 5-fold cross validation\n      8     n_jobs=2,  # run each hyperparameter in one of two parallel jobs\n      9     scoring='mean_squared_error'\n     10 )\n---> 11 gs.fit(X_t, y)\n     12 print gs.best_params_\n     13 \n     14 ##plt.plot(X[:,], y, 'b.', label='data')\n     15 ##line = plt.plot(X[:,], gs.predict(X), 'r-', label='model')\n\n...........................................................................\n/opt/conda/lib/python2.7/site-packages/sklearn/grid_search.py in fit(self=GridSearchCV(cv=5, error_score='raise',\n       e..., scoring='mean_squared_error',\n       verbose=0), X=array([[ 0.,  0.,  0., ...,  0.,  0.,  0.],\n    ...0.],\n       [ 0.,  0.,  0., ...,  0.,  0.,  0.]]), y=array([[ 3.5],\n       [ 4. ],\n       [ 4. ],\n   ...., \n       [ 5. ],\n       [ 5. ],\n       [ 3.5]]))\n    727         y : array-like, shape = [n_samples] or [n_samples, n_output], optional\n    728             Target relative to X for classification or regression;\n    729             None for unsupervised learning.\n    730 \n    731         \"\"\"\n--> 732         return self._fit(X, y, ParameterGrid(self.param_grid))\n        self._fit = <bound method GridSearchCV._fit of GridSearchCV(... scoring='mean_squared_error',\n       verbose=0)>\n        X = array([[ 0.,  0.,  0., ...,  0.,  0.,  0.],\n    ...0.],\n       [ 0.,  0.,  0., ...,  0.,  0.,  0.]])\n        y = array([[ 3.5],\n       [ 4. ],\n       [ 4. ],\n   ...., \n       [ 5. ],\n       [ 5. ],\n       [ 3.5]])\n        self.param_grid = {'alphas': [0.01, 0.05, 0.5]}\n    733 \n    734 \n    735 class RandomizedSearchCV(BaseSearchCV):\n    736     \"\"\"Randomized search on hyper parameters.\n\n...........................................................................\n/opt/conda/lib/python2.7/site-packages/sklearn/grid_search.py in _fit(self=GridSearchCV(cv=5, error_score='raise',\n       e..., scoring='mean_squared_error',\n       verbose=0), X=array([[ 0.,  0.,  0., ...,  0.,  0.,  0.],\n    ...0.],\n       [ 0.,  0.,  0., ...,  0.,  0.,  0.]]), y=array([[ 3.5],\n       [ 4. ],\n       [ 4. ],\n   ...., \n       [ 5. ],\n       [ 5. ],\n       [ 3.5]]), parameter_iterable=<sklearn.grid_search.ParameterGrid object>)\n    500         )(\n    501             delayed(_fit_and_score)(clone(base_estimator), X, y, self.scorer_,\n    502                                     train, test, self.verbose, parameters,\n    503                                     self.fit_params, return_parameters=True,\n    504                                     error_score=self.error_score)\n--> 505                 for parameters in parameter_iterable\n        parameters = undefined\n        parameter_iterable = <sklearn.grid_search.ParameterGrid object>\n    506                 for train, test in cv)\n    507 \n    508         # Out is a list of triplet: score, estimator, n_test_samples\n    509         n_fits = len(out)\n\n...........................................................................\n/opt/conda/lib/python2.7/site-packages/sklearn/externals/joblib/parallel.py in __call__(self=Parallel(n_jobs=2), iterable=<itertools.islice object>)\n    661             if pre_dispatch == \"all\" or n_jobs == 1:\n    662                 # The iterable was consumed all at once by the above for loop.\n    663                 # No need to wait for async callbacks to trigger to\n    664                 # consumption.\n    665                 self._iterating = False\n--> 666             self.retrieve()\n        self.retrieve = <bound method Parallel.retrieve of Parallel(n_jobs=2)>\n    667             # Make sure that we get a last message telling us we are done\n    668             elapsed_time = time.time() - self._start_time\n    669             self._print('Done %3i out of %3i | elapsed: %s finished',\n    670                         (len(self._output),\n\n    ---------------------------------------------------------------------------\n    Sub-process traceback:\n    ---------------------------------------------------------------------------\n    ValueError                                         Sat Apr  2 21:29:04 2016\nPID: 9731                              Python 2.7.10: /opt/conda/bin/python\n...........................................................................\n/opt/conda/lib/python2.7/site-packages/sklearn/cross_validation.pyc in _fit_and_score(estimator=LassoLars(alpha=[-0.5, 0.05, 0.5, 1], copy_X=Tru...lize=True,\n     precompute='auto', verbose=False), X=memmap([[ 0.,  0.,  0., ...,  0.,  0.,  0.],\n   ...0.],\n       [ 0.,  0.,  0., ...,  0.,  0.,  0.]]), y=array([[ 3.5],\n       [ 4. ],\n       [ 4. ],\n   ...., \n       [ 5. ],\n       [ 5. ],\n       [ 3.5]]), scorer=make_scorer(mean_squared_error, greater_is_better=False), train=array([ 7588,  7589,  7590, ..., 37935, 37936, 37937]), test=array([   0,    1,    2, ..., 7585, 7586, 7587]), verbose=0, parameters={'alphas': 0.01}, fit_params={}, return_train_score=False, return_parameters=True, error_score='raise')\n   1443     fit_params = fit_params if fit_params is not None else {}\n   1444     fit_params = dict([(k, _index_param_value(X, v, train))\n   1445                       for k, v in fit_params.items()])\n   1446 \n   1447     if parameters is not None:\n-> 1448         estimator.set_params(**parameters)\n   1449 \n   1450     start_time = time.time()\n   1451 \n   1452     X_train, y_train = _safe_split(estimator, X, y, train)\n\n...........................................................................\n/opt/conda/lib/python2.7/site-packages/sklearn/base.pyc in set_params(self=LassoLars(alpha=[-0.5, 0.05, 0.5, 1], copy_X=Tru...lize=True,\n     precompute='auto', verbose=False), **params={'alphas': 0.01})\n    251                 sub_object.set_params(**{sub_name: value})\n    252             else:\n    253                 # simple objects case\n    254                 if not key in valid_params:\n    255                     raise ValueError('Invalid parameter %s ' 'for estimator %s'\n--> 256                                      % (key, self.__class__.__name__))\n    257                 setattr(self, key, value)\n    258         return self\n    259 \n    260     def __repr__(self):\n\nValueError: Invalid parameter alphas for estimator LassoLars\n___________________________________________________________________________",
     "output_type": "error",
     "traceback": [
      "\u001b[1;31m---------------------------------------------------------------------------\u001b[0m",
      "\u001b[1;31mJoblibValueError\u001b[0m                          Traceback (most recent call last)",
      "\u001b[1;32m<ipython-input-816-f4dbaef3a19d>\u001b[0m in \u001b[0;36m<module>\u001b[1;34m()\u001b[0m\n\u001b[0;32m      9\u001b[0m     \u001b[0mscoring\u001b[0m\u001b[1;33m=\u001b[0m\u001b[1;34m'mean_squared_error'\u001b[0m\u001b[1;33m\u001b[0m\u001b[0m\n\u001b[0;32m     10\u001b[0m )\n\u001b[1;32m---> 11\u001b[1;33m \u001b[0mgs\u001b[0m\u001b[1;33m.\u001b[0m\u001b[0mfit\u001b[0m\u001b[1;33m(\u001b[0m\u001b[0mX_t\u001b[0m\u001b[1;33m,\u001b[0m \u001b[0my\u001b[0m\u001b[1;33m)\u001b[0m\u001b[1;33m\u001b[0m\u001b[0m\n\u001b[0m\u001b[0;32m     12\u001b[0m \u001b[1;32mprint\u001b[0m \u001b[0mgs\u001b[0m\u001b[1;33m.\u001b[0m\u001b[0mbest_params_\u001b[0m\u001b[1;33m\u001b[0m\u001b[0m\n\u001b[0;32m     13\u001b[0m \u001b[1;33m\u001b[0m\u001b[0m\n",
      "\u001b[1;32m/opt/conda/lib/python2.7/site-packages/sklearn/grid_search.pyc\u001b[0m in \u001b[0;36mfit\u001b[1;34m(self, X, y)\u001b[0m\n\u001b[0;32m    730\u001b[0m \u001b[1;33m\u001b[0m\u001b[0m\n\u001b[0;32m    731\u001b[0m         \"\"\"\n\u001b[1;32m--> 732\u001b[1;33m         \u001b[1;32mreturn\u001b[0m \u001b[0mself\u001b[0m\u001b[1;33m.\u001b[0m\u001b[0m_fit\u001b[0m\u001b[1;33m(\u001b[0m\u001b[0mX\u001b[0m\u001b[1;33m,\u001b[0m \u001b[0my\u001b[0m\u001b[1;33m,\u001b[0m \u001b[0mParameterGrid\u001b[0m\u001b[1;33m(\u001b[0m\u001b[0mself\u001b[0m\u001b[1;33m.\u001b[0m\u001b[0mparam_grid\u001b[0m\u001b[1;33m)\u001b[0m\u001b[1;33m)\u001b[0m\u001b[1;33m\u001b[0m\u001b[0m\n\u001b[0m\u001b[0;32m    733\u001b[0m \u001b[1;33m\u001b[0m\u001b[0m\n\u001b[0;32m    734\u001b[0m \u001b[1;33m\u001b[0m\u001b[0m\n",
      "\u001b[1;32m/opt/conda/lib/python2.7/site-packages/sklearn/grid_search.pyc\u001b[0m in \u001b[0;36m_fit\u001b[1;34m(self, X, y, parameter_iterable)\u001b[0m\n\u001b[0;32m    503\u001b[0m                                     \u001b[0mself\u001b[0m\u001b[1;33m.\u001b[0m\u001b[0mfit_params\u001b[0m\u001b[1;33m,\u001b[0m \u001b[0mreturn_parameters\u001b[0m\u001b[1;33m=\u001b[0m\u001b[0mTrue\u001b[0m\u001b[1;33m,\u001b[0m\u001b[1;33m\u001b[0m\u001b[0m\n\u001b[0;32m    504\u001b[0m                                     error_score=self.error_score)\n\u001b[1;32m--> 505\u001b[1;33m                 \u001b[1;32mfor\u001b[0m \u001b[0mparameters\u001b[0m \u001b[1;32min\u001b[0m \u001b[0mparameter_iterable\u001b[0m\u001b[1;33m\u001b[0m\u001b[0m\n\u001b[0m\u001b[0;32m    506\u001b[0m                 for train, test in cv)\n\u001b[0;32m    507\u001b[0m \u001b[1;33m\u001b[0m\u001b[0m\n",
      "\u001b[1;32m/opt/conda/lib/python2.7/site-packages/sklearn/externals/joblib/parallel.pyc\u001b[0m in \u001b[0;36m__call__\u001b[1;34m(self, iterable)\u001b[0m\n\u001b[0;32m    664\u001b[0m                 \u001b[1;31m# consumption.\u001b[0m\u001b[1;33m\u001b[0m\u001b[1;33m\u001b[0m\u001b[0m\n\u001b[0;32m    665\u001b[0m                 \u001b[0mself\u001b[0m\u001b[1;33m.\u001b[0m\u001b[0m_iterating\u001b[0m \u001b[1;33m=\u001b[0m \u001b[0mFalse\u001b[0m\u001b[1;33m\u001b[0m\u001b[0m\n\u001b[1;32m--> 666\u001b[1;33m             \u001b[0mself\u001b[0m\u001b[1;33m.\u001b[0m\u001b[0mretrieve\u001b[0m\u001b[1;33m(\u001b[0m\u001b[1;33m)\u001b[0m\u001b[1;33m\u001b[0m\u001b[0m\n\u001b[0m\u001b[0;32m    667\u001b[0m             \u001b[1;31m# Make sure that we get a last message telling us we are done\u001b[0m\u001b[1;33m\u001b[0m\u001b[1;33m\u001b[0m\u001b[0m\n\u001b[0;32m    668\u001b[0m             \u001b[0melapsed_time\u001b[0m \u001b[1;33m=\u001b[0m \u001b[0mtime\u001b[0m\u001b[1;33m.\u001b[0m\u001b[0mtime\u001b[0m\u001b[1;33m(\u001b[0m\u001b[1;33m)\u001b[0m \u001b[1;33m-\u001b[0m \u001b[0mself\u001b[0m\u001b[1;33m.\u001b[0m\u001b[0m_start_time\u001b[0m\u001b[1;33m\u001b[0m\u001b[0m\n",
      "\u001b[1;32m/opt/conda/lib/python2.7/site-packages/sklearn/externals/joblib/parallel.pyc\u001b[0m in \u001b[0;36mretrieve\u001b[1;34m(self)\u001b[0m\n\u001b[0;32m    547\u001b[0m                         \u001b[1;31m# Convert this to a JoblibException\u001b[0m\u001b[1;33m\u001b[0m\u001b[1;33m\u001b[0m\u001b[0m\n\u001b[0;32m    548\u001b[0m                         \u001b[0mexception_type\u001b[0m \u001b[1;33m=\u001b[0m \u001b[0m_mk_exception\u001b[0m\u001b[1;33m(\u001b[0m\u001b[0mexception\u001b[0m\u001b[1;33m.\u001b[0m\u001b[0metype\u001b[0m\u001b[1;33m)\u001b[0m\u001b[1;33m[\u001b[0m\u001b[1;36m0\u001b[0m\u001b[1;33m]\u001b[0m\u001b[1;33m\u001b[0m\u001b[0m\n\u001b[1;32m--> 549\u001b[1;33m                         \u001b[1;32mraise\u001b[0m \u001b[0mexception_type\u001b[0m\u001b[1;33m(\u001b[0m\u001b[0mreport\u001b[0m\u001b[1;33m)\u001b[0m\u001b[1;33m\u001b[0m\u001b[0m\n\u001b[0m\u001b[0;32m    550\u001b[0m                     \u001b[1;32mraise\u001b[0m \u001b[0mexception\u001b[0m\u001b[1;33m\u001b[0m\u001b[0m\n\u001b[0;32m    551\u001b[0m                 \u001b[1;32mfinally\u001b[0m\u001b[1;33m:\u001b[0m\u001b[1;33m\u001b[0m\u001b[0m\n",
      "\u001b[1;31mJoblibValueError\u001b[0m: JoblibValueError\n___________________________________________________________________________\nMultiprocessing exception:\n    ...........................................................................\n/opt/conda/lib/python2.7/runpy.py in _run_module_as_main(mod_name='IPython.kernel.__main__', alter_argv=1)\n    157     pkg_name = mod_name.rpartition('.')[0]\n    158     main_globals = sys.modules[\"__main__\"].__dict__\n    159     if alter_argv:\n    160         sys.argv[0] = fname\n    161     return _run_code(code, main_globals, None,\n--> 162                      \"__main__\", fname, loader, pkg_name)\n        fname = '/opt/conda/lib/python2.7/site-packages/IPython/kernel/__main__.py'\n        loader = <pkgutil.ImpLoader instance>\n        pkg_name = 'IPython.kernel'\n    163 \n    164 def run_module(mod_name, init_globals=None,\n    165                run_name=None, alter_sys=False):\n    166     \"\"\"Execute a module's code without importing it\n\n...........................................................................\n/opt/conda/lib/python2.7/runpy.py in _run_code(code=<code object <module> at 0x7f1825597530, file \"/...ite-packages/IPython/kernel/__main__.py\", line 1>, run_globals={'__builtins__': <module '__builtin__' (built-in)>, '__doc__': None, '__file__': '/opt/conda/lib/python2.7/site-packages/IPython/kernel/__main__.py', '__loader__': <pkgutil.ImpLoader instance>, '__name__': '__main__', '__package__': 'IPython.kernel', 'app': <module 'IPython.kernel.zmq.kernelapp' from '/op.../site-packages/IPython/kernel/zmq/kernelapp.pyc'>}, init_globals=None, mod_name='__main__', mod_fname='/opt/conda/lib/python2.7/site-packages/IPython/kernel/__main__.py', mod_loader=<pkgutil.ImpLoader instance>, pkg_name='IPython.kernel')\n     67         run_globals.update(init_globals)\n     68     run_globals.update(__name__ = mod_name,\n     69                        __file__ = mod_fname,\n     70                        __loader__ = mod_loader,\n     71                        __package__ = pkg_name)\n---> 72     exec code in run_globals\n        code = <code object <module> at 0x7f1825597530, file \"/...ite-packages/IPython/kernel/__main__.py\", line 1>\n        run_globals = {'__builtins__': <module '__builtin__' (built-in)>, '__doc__': None, '__file__': '/opt/conda/lib/python2.7/site-packages/IPython/kernel/__main__.py', '__loader__': <pkgutil.ImpLoader instance>, '__name__': '__main__', '__package__': 'IPython.kernel', 'app': <module 'IPython.kernel.zmq.kernelapp' from '/op.../site-packages/IPython/kernel/zmq/kernelapp.pyc'>}\n     73     return run_globals\n     74 \n     75 def _run_module_code(code, init_globals=None,\n     76                     mod_name=None, mod_fname=None,\n\n...........................................................................\n/opt/conda/lib/python2.7/site-packages/IPython/kernel/__main__.py in <module>()\n      1 \n      2 \n----> 3 \n      4 if __name__ == '__main__':\n      5     from IPython.kernel.zmq import kernelapp as app\n      6     app.launch_new_instance()\n      7 \n      8 \n      9 \n     10 \n\n...........................................................................\n/opt/conda/lib/python2.7/site-packages/IPython/config/application.py in launch_instance(cls=<class 'IPython.kernel.zmq.kernelapp.IPKernelApp'>, argv=None, **kwargs={})\n    569         \n    570         If a global instance already exists, this reinitializes and starts it\n    571         \"\"\"\n    572         app = cls.instance(**kwargs)\n    573         app.initialize(argv)\n--> 574         app.start()\n        app.start = <bound method IPKernelApp.start of <IPython.kernel.zmq.kernelapp.IPKernelApp object>>\n    575 \n    576 #-----------------------------------------------------------------------------\n    577 # utility functions, for convenience\n    578 #-----------------------------------------------------------------------------\n\n...........................................................................\n/opt/conda/lib/python2.7/site-packages/IPython/kernel/zmq/kernelapp.py in start(self=<IPython.kernel.zmq.kernelapp.IPKernelApp object>)\n    368     def start(self):\n    369         if self.poller is not None:\n    370             self.poller.start()\n    371         self.kernel.start()\n    372         try:\n--> 373             ioloop.IOLoop.instance().start()\n    374         except KeyboardInterrupt:\n    375             pass\n    376 \n    377 launch_new_instance = IPKernelApp.launch_instance\n\n...........................................................................\n/opt/conda/lib/python2.7/site-packages/zmq/eventloop/ioloop.py in start(self=<zmq.eventloop.ioloop.ZMQIOLoop object>)\n    146             PollIOLoop.configure(ZMQIOLoop)\n    147         return PollIOLoop.instance()\n    148     \n    149     def start(self):\n    150         try:\n--> 151             super(ZMQIOLoop, self).start()\n        self.start = <bound method ZMQIOLoop.start of <zmq.eventloop.ioloop.ZMQIOLoop object>>\n    152         except ZMQError as e:\n    153             if e.errno == ETERM:\n    154                 # quietly return on ETERM\n    155                 pass\n\n...........................................................................\n/opt/conda/lib/python2.7/site-packages/tornado/ioloop.py in start(self=<zmq.eventloop.ioloop.ZMQIOLoop object>)\n    861                 self._events.update(event_pairs)\n    862                 while self._events:\n    863                     fd, events = self._events.popitem()\n    864                     try:\n    865                         fd_obj, handler_func = self._handlers[fd]\n--> 866                         handler_func(fd_obj, events)\n        handler_func = <function null_wrapper>\n        fd_obj = <zmq.sugar.socket.Socket object>\n        events = 5\n    867                     except (OSError, IOError) as e:\n    868                         if errno_from_exception(e) == errno.EPIPE:\n    869                             # Happens when the client closes the connection\n    870                             pass\n\n...........................................................................\n/opt/conda/lib/python2.7/site-packages/tornado/stack_context.py in null_wrapper(*args=(<zmq.sugar.socket.Socket object>, 5), **kwargs={})\n    270         # Fast path when there are no active contexts.\n    271         def null_wrapper(*args, **kwargs):\n    272             try:\n    273                 current_state = _state.contexts\n    274                 _state.contexts = cap_contexts[0]\n--> 275                 return fn(*args, **kwargs)\n        args = (<zmq.sugar.socket.Socket object>, 5)\n        kwargs = {}\n    276             finally:\n    277                 _state.contexts = current_state\n    278         null_wrapper._wrapped = True\n    279         return null_wrapper\n\n...........................................................................\n/opt/conda/lib/python2.7/site-packages/zmq/eventloop/zmqstream.py in _handle_events(self=<zmq.eventloop.zmqstream.ZMQStream object>, fd=<zmq.sugar.socket.Socket object>, events=5)\n    428             # dispatch events:\n    429             if events & IOLoop.ERROR:\n    430                 gen_log.error(\"got POLLERR event on ZMQStream, which doesn't make sense\")\n    431                 return\n    432             if events & IOLoop.READ:\n--> 433                 self._handle_recv()\n        self._handle_recv = <bound method ZMQStream._handle_recv of <zmq.eventloop.zmqstream.ZMQStream object>>\n    434                 if not self.socket:\n    435                     return\n    436             if events & IOLoop.WRITE:\n    437                 self._handle_send()\n\n...........................................................................\n/opt/conda/lib/python2.7/site-packages/zmq/eventloop/zmqstream.py in _handle_recv(self=<zmq.eventloop.zmqstream.ZMQStream object>)\n    460                 gen_log.error(\"RECV Error: %s\"%zmq.strerror(e.errno))\n    461         else:\n    462             if self._recv_callback:\n    463                 callback = self._recv_callback\n    464                 # self._recv_callback = None\n--> 465                 self._run_callback(callback, msg)\n        self._run_callback = <bound method ZMQStream._run_callback of <zmq.eventloop.zmqstream.ZMQStream object>>\n        callback = <function null_wrapper>\n        msg = [<zmq.sugar.frame.Frame object>, <zmq.sugar.frame.Frame object>, <zmq.sugar.frame.Frame object>, <zmq.sugar.frame.Frame object>, <zmq.sugar.frame.Frame object>, <zmq.sugar.frame.Frame object>, <zmq.sugar.frame.Frame object>]\n    466                 \n    467         # self.update_state()\n    468         \n    469 \n\n...........................................................................\n/opt/conda/lib/python2.7/site-packages/zmq/eventloop/zmqstream.py in _run_callback(self=<zmq.eventloop.zmqstream.ZMQStream object>, callback=<function null_wrapper>, *args=([<zmq.sugar.frame.Frame object>, <zmq.sugar.frame.Frame object>, <zmq.sugar.frame.Frame object>, <zmq.sugar.frame.Frame object>, <zmq.sugar.frame.Frame object>, <zmq.sugar.frame.Frame object>, <zmq.sugar.frame.Frame object>],), **kwargs={})\n    402         close our socket.\"\"\"\n    403         try:\n    404             # Use a NullContext to ensure that all StackContexts are run\n    405             # inside our blanket exception handler rather than outside.\n    406             with stack_context.NullContext():\n--> 407                 callback(*args, **kwargs)\n        callback = <function null_wrapper>\n        args = ([<zmq.sugar.frame.Frame object>, <zmq.sugar.frame.Frame object>, <zmq.sugar.frame.Frame object>, <zmq.sugar.frame.Frame object>, <zmq.sugar.frame.Frame object>, <zmq.sugar.frame.Frame object>, <zmq.sugar.frame.Frame object>],)\n        kwargs = {}\n    408         except:\n    409             gen_log.error(\"Uncaught exception, closing connection.\",\n    410                           exc_info=True)\n    411             # Close the socket on an uncaught exception from a user callback\n\n...........................................................................\n/opt/conda/lib/python2.7/site-packages/tornado/stack_context.py in null_wrapper(*args=([<zmq.sugar.frame.Frame object>, <zmq.sugar.frame.Frame object>, <zmq.sugar.frame.Frame object>, <zmq.sugar.frame.Frame object>, <zmq.sugar.frame.Frame object>, <zmq.sugar.frame.Frame object>, <zmq.sugar.frame.Frame object>],), **kwargs={})\n    270         # Fast path when there are no active contexts.\n    271         def null_wrapper(*args, **kwargs):\n    272             try:\n    273                 current_state = _state.contexts\n    274                 _state.contexts = cap_contexts[0]\n--> 275                 return fn(*args, **kwargs)\n        args = ([<zmq.sugar.frame.Frame object>, <zmq.sugar.frame.Frame object>, <zmq.sugar.frame.Frame object>, <zmq.sugar.frame.Frame object>, <zmq.sugar.frame.Frame object>, <zmq.sugar.frame.Frame object>, <zmq.sugar.frame.Frame object>],)\n        kwargs = {}\n    276             finally:\n    277                 _state.contexts = current_state\n    278         null_wrapper._wrapped = True\n    279         return null_wrapper\n\n...........................................................................\n/opt/conda/lib/python2.7/site-packages/IPython/kernel/zmq/kernelbase.py in dispatcher(msg=[<zmq.sugar.frame.Frame object>, <zmq.sugar.frame.Frame object>, <zmq.sugar.frame.Frame object>, <zmq.sugar.frame.Frame object>, <zmq.sugar.frame.Frame object>, <zmq.sugar.frame.Frame object>, <zmq.sugar.frame.Frame object>])\n    247         if self.control_stream:\n    248             self.control_stream.on_recv(self.dispatch_control, copy=False)\n    249 \n    250         def make_dispatcher(stream):\n    251             def dispatcher(msg):\n--> 252                 return self.dispatch_shell(stream, msg)\n        msg = [<zmq.sugar.frame.Frame object>, <zmq.sugar.frame.Frame object>, <zmq.sugar.frame.Frame object>, <zmq.sugar.frame.Frame object>, <zmq.sugar.frame.Frame object>, <zmq.sugar.frame.Frame object>, <zmq.sugar.frame.Frame object>]\n    253             return dispatcher\n    254 \n    255         for s in self.shell_streams:\n    256             s.on_recv(make_dispatcher(s), copy=False)\n\n...........................................................................\n/opt/conda/lib/python2.7/site-packages/IPython/kernel/zmq/kernelbase.py in dispatch_shell(self=<IPython.kernel.zmq.ipkernel.IPythonKernel object>, stream=<zmq.eventloop.zmqstream.ZMQStream object>, msg={'buffers': [], 'content': {'allow_stdin': True, 'code': \"from sklearn import grid_search\\n\\nlml = linear_mo...'Y')\\n##plt.legend(loc='upper right')\\n##plt.show()\", 'silent': False, 'stop_on_error': True, 'store_history': True, 'user_expressions': {}}, 'header': {'msg_id': '1FF1E63E03E5457E867514ABDFA66644', 'msg_type': 'execute_request', 'session': '61A3539C55134C4C8673206D3B091243', 'username': 'username', 'version': '5.0'}, 'metadata': {}, 'msg_id': '1FF1E63E03E5457E867514ABDFA66644', 'msg_type': 'execute_request', 'parent_header': {}})\n    208         else:\n    209             # ensure default_int_handler during handler call\n    210             sig = signal(SIGINT, default_int_handler)\n    211             self.log.debug(\"%s: %s\", msg_type, msg)\n    212             try:\n--> 213                 handler(stream, idents, msg)\n        handler = <bound method IPythonKernel.execute_request of <IPython.kernel.zmq.ipkernel.IPythonKernel object>>\n        stream = <zmq.eventloop.zmqstream.ZMQStream object>\n        idents = ['61A3539C55134C4C8673206D3B091243']\n        msg = {'buffers': [], 'content': {'allow_stdin': True, 'code': \"from sklearn import grid_search\\n\\nlml = linear_mo...'Y')\\n##plt.legend(loc='upper right')\\n##plt.show()\", 'silent': False, 'stop_on_error': True, 'store_history': True, 'user_expressions': {}}, 'header': {'msg_id': '1FF1E63E03E5457E867514ABDFA66644', 'msg_type': 'execute_request', 'session': '61A3539C55134C4C8673206D3B091243', 'username': 'username', 'version': '5.0'}, 'metadata': {}, 'msg_id': '1FF1E63E03E5457E867514ABDFA66644', 'msg_type': 'execute_request', 'parent_header': {}}\n    214             except Exception:\n    215                 self.log.error(\"Exception in message handler:\", exc_info=True)\n    216             finally:\n    217                 signal(SIGINT, sig)\n\n...........................................................................\n/opt/conda/lib/python2.7/site-packages/IPython/kernel/zmq/kernelbase.py in execute_request(self=<IPython.kernel.zmq.ipkernel.IPythonKernel object>, stream=<zmq.eventloop.zmqstream.ZMQStream object>, ident=['61A3539C55134C4C8673206D3B091243'], parent={'buffers': [], 'content': {'allow_stdin': True, 'code': \"from sklearn import grid_search\\n\\nlml = linear_mo...'Y')\\n##plt.legend(loc='upper right')\\n##plt.show()\", 'silent': False, 'stop_on_error': True, 'store_history': True, 'user_expressions': {}}, 'header': {'msg_id': '1FF1E63E03E5457E867514ABDFA66644', 'msg_type': 'execute_request', 'session': '61A3539C55134C4C8673206D3B091243', 'username': 'username', 'version': '5.0'}, 'metadata': {}, 'msg_id': '1FF1E63E03E5457E867514ABDFA66644', 'msg_type': 'execute_request', 'parent_header': {}})\n    357         if not silent:\n    358             self.execution_count += 1\n    359             self._publish_execute_input(code, parent, self.execution_count)\n    360         \n    361         reply_content = self.do_execute(code, silent, store_history,\n--> 362                                         user_expressions, allow_stdin)\n        user_expressions = {}\n        allow_stdin = True\n    363 \n    364         # Flush output before sending the reply.\n    365         sys.stdout.flush()\n    366         sys.stderr.flush()\n\n...........................................................................\n/opt/conda/lib/python2.7/site-packages/IPython/kernel/zmq/ipkernel.py in do_execute(self=<IPython.kernel.zmq.ipkernel.IPythonKernel object>, code=u'from sklearn import grid_search\\n\\nlml = linea...n##plt.legend(loc=\\'upper right\\')\\n##plt.show()', silent=False, store_history=True, user_expressions={}, allow_stdin=True)\n    176 \n    177         reply_content = {}\n    178         # FIXME: the shell calls the exception handler itself.\n    179         shell._reply_content = None\n    180         try:\n--> 181             shell.run_cell(code, store_history=store_history, silent=silent)\n        shell.run_cell = <bound method ZMQInteractiveShell.run_cell of <I....kernel.zmq.zmqshell.ZMQInteractiveShell object>>\n        code = u'from sklearn import grid_search\\n\\nlml = linea...n##plt.legend(loc=\\'upper right\\')\\n##plt.show()'\n        store_history = True\n        silent = False\n    182         except:\n    183             status = u'error'\n    184             # FIXME: this code right now isn't being used yet by default,\n    185             # because the run_cell() call above directly fires off exception\n\n...........................................................................\n/opt/conda/lib/python2.7/site-packages/IPython/core/interactiveshell.py in run_cell(self=<IPython.kernel.zmq.zmqshell.ZMQInteractiveShell object>, raw_cell=u'from sklearn import grid_search\\n\\nlml = linea...n##plt.legend(loc=\\'upper right\\')\\n##plt.show()', store_history=True, silent=False, shell_futures=True)\n   2866                 self.displayhook.exec_result = result\n   2867 \n   2868                 # Execute the user code\n   2869                 interactivity = \"none\" if silent else self.ast_node_interactivity\n   2870                 self.run_ast_nodes(code_ast.body, cell_name,\n-> 2871                    interactivity=interactivity, compiler=compiler, result=result)\n        interactivity = 'last_expr'\n        compiler = <IPython.core.compilerop.CachingCompiler instance>\n   2872 \n   2873                 # Reset this so later displayed values do not modify the\n   2874                 # ExecutionResult\n   2875                 self.displayhook.exec_result = None\n\n...........................................................................\n/opt/conda/lib/python2.7/site-packages/IPython/core/interactiveshell.py in run_ast_nodes(self=<IPython.kernel.zmq.zmqshell.ZMQInteractiveShell object>, nodelist=[<_ast.ImportFrom object>, <_ast.Assign object>, <_ast.Assign object>, <_ast.Expr object>, <_ast.Print object>], cell_name='<ipython-input-816-f4dbaef3a19d>', interactivity='none', compiler=<IPython.core.compilerop.CachingCompiler instance>, result=<IPython.core.interactiveshell.ExecutionResult object>)\n   2970 \n   2971         try:\n   2972             for i, node in enumerate(to_run_exec):\n   2973                 mod = ast.Module([node])\n   2974                 code = compiler(mod, cell_name, \"exec\")\n-> 2975                 if self.run_code(code, result):\n        self.run_code = <bound method ZMQInteractiveShell.run_code of <I....kernel.zmq.zmqshell.ZMQInteractiveShell object>>\n        code = <code object <module> at 0x7f17dd6a8830, file \"<ipython-input-816-f4dbaef3a19d>\", line 11>\n        result = <IPython.core.interactiveshell.ExecutionResult object>\n   2976                     return True\n   2977 \n   2978             for i, node in enumerate(to_run_interactive):\n   2979                 mod = ast.Interactive([node])\n\n...........................................................................\n/opt/conda/lib/python2.7/site-packages/IPython/core/interactiveshell.py in run_code(self=<IPython.kernel.zmq.zmqshell.ZMQInteractiveShell object>, code_obj=<code object <module> at 0x7f17dd6a8830, file \"<ipython-input-816-f4dbaef3a19d>\", line 11>, result=<IPython.core.interactiveshell.ExecutionResult object>)\n   3030         outflag = 1  # happens in more places, so it's easier as default\n   3031         try:\n   3032             try:\n   3033                 self.hooks.pre_run_code_hook()\n   3034                 #rprint('Running code', repr(code_obj)) # dbg\n-> 3035                 exec(code_obj, self.user_global_ns, self.user_ns)\n        code_obj = <code object <module> at 0x7f17dd6a8830, file \"<ipython-input-816-f4dbaef3a19d>\", line 11>\n        self.user_global_ns = {'AttTransformer': <class __main__.AttTransformer>, 'CatEstimator': <class __main__.CatEstimator>, 'CatTransformer': <class __main__.CatTransformer>, 'CityEstimator': <class __main__.CityEstimator>, 'ColumnSelectTransformer': <class __main__.ColumnSelectTransformer>, 'DictVectorizer': <class 'sklearn.feature_extraction.dict_vectorizer.DictVectorizer'>, 'In': ['', u'import dil', u\"import sys\\n# read the entire file into a pyth...rb') as f:\\n    data = f.readlines()\\n\\ndata[:2]\", u\"import sys\\nimport gzip\\n\\n# read the entire f...rb') as f:\\n    data = f.readlines()\\n\\ndata[:2]\", u\"# read the entire file into a python array\\nwi...rb') as f:\\n    data = f.readlines()\\n\\ndata[:2]\", u'import sys\\nimport gzip\\nimport numpy as np', u\"# read the entire file into a python array\\nwi...rb') as f:\\n    data = f.readlines()\\n\\ndata[:2]\", u'import sys\\nimport gzip\\nimport numpy as np\\nimport pandas as pd', u'df = pd.DataFrame(data[:2])', u'df', u'# remove the trailing \"\\\\n\" from each line\\ndata = map(lambda x: x.rstrip(), data)', u'# each element of \\'data\\' is an individual JS...it into pandas\\ndf = pd.read_json(data_json_str)', u'df', u\"df.groupby('city')['stars'].mean()\", u\"city_means = {df.groupby('city')['stars'].mean()}\", u\"city_means = df.groupby('city')['stars'].mean()\", u\"city_means['New York']\", u'city_means', u\"city_means['Verona']\", u\"with open('model.dill', 'w') as f:\\n    dill.dump(citymeans,f)\", ...], 'KNNEstimator': <class __main__.KNNEstimator>, 'LongLatTransformer': <class __main__.LongLatTransformer>, 'Out': {3: ['{\"business_id\": \"vcNAWiLM4dR7D2nwwJ7nCA\", \"full_...By Appointment Only\": true}, \"type\": \"business\"}\\n', '{\"business_id\": \"JwUE5GmEO-sH1FuwJgKBlQ\", \"full_...s\": true, \"Price Range\": 1}, \"type\": \"business\"}\\n'], 4: ['{\"business_id\": \"vcNAWiLM4dR7D2nwwJ7nCA\", \"full_...By Appointment Only\": true}, \"type\": \"business\"}\\n', '{\"business_id\": \"JwUE5GmEO-sH1FuwJgKBlQ\", \"full_...s\": true, \"Price Range\": 1}, \"type\": \"business\"}\\n'], 6: ['{\"business_id\": \"vcNAWiLM4dR7D2nwwJ7nCA\", \"full_...By Appointment Only\": true}, \"type\": \"business\"}\\n', '{\"business_id\": \"JwUE5GmEO-sH1FuwJgKBlQ\", \"full_...s\": true, \"Price Range\": 1}, \"type\": \"business\"}\\n'], 9:                                                 ...{\"business_id\": \"JwUE5GmEO-sH1FuwJgKBlQ\", \"ful..., 12:                                               at...ss  \n37937  business  \n\n[37938 rows x 15 columns], 13: city\nAhwatukee               3.687500\nAnthem    ...             5.000000\nName: stars, dtype: float64, 16: 5.0, 17: city\nAhwatukee               3.687500\nAnthem    ...             5.000000\nName: stars, dtype: float64, 18: 3.8548387096774195, 23: city\nAhwatukee               3.687500\nAnthem    ...             5.000000\nName: stars, dtype: float64, ...}, ...}\n        self.user_ns = {'AttTransformer': <class __main__.AttTransformer>, 'CatEstimator': <class __main__.CatEstimator>, 'CatTransformer': <class __main__.CatTransformer>, 'CityEstimator': <class __main__.CityEstimator>, 'ColumnSelectTransformer': <class __main__.ColumnSelectTransformer>, 'DictVectorizer': <class 'sklearn.feature_extraction.dict_vectorizer.DictVectorizer'>, 'In': ['', u'import dil', u\"import sys\\n# read the entire file into a pyth...rb') as f:\\n    data = f.readlines()\\n\\ndata[:2]\", u\"import sys\\nimport gzip\\n\\n# read the entire f...rb') as f:\\n    data = f.readlines()\\n\\ndata[:2]\", u\"# read the entire file into a python array\\nwi...rb') as f:\\n    data = f.readlines()\\n\\ndata[:2]\", u'import sys\\nimport gzip\\nimport numpy as np', u\"# read the entire file into a python array\\nwi...rb') as f:\\n    data = f.readlines()\\n\\ndata[:2]\", u'import sys\\nimport gzip\\nimport numpy as np\\nimport pandas as pd', u'df = pd.DataFrame(data[:2])', u'df', u'# remove the trailing \"\\\\n\" from each line\\ndata = map(lambda x: x.rstrip(), data)', u'# each element of \\'data\\' is an individual JS...it into pandas\\ndf = pd.read_json(data_json_str)', u'df', u\"df.groupby('city')['stars'].mean()\", u\"city_means = {df.groupby('city')['stars'].mean()}\", u\"city_means = df.groupby('city')['stars'].mean()\", u\"city_means['New York']\", u'city_means', u\"city_means['Verona']\", u\"with open('model.dill', 'w') as f:\\n    dill.dump(citymeans,f)\", ...], 'KNNEstimator': <class __main__.KNNEstimator>, 'LongLatTransformer': <class __main__.LongLatTransformer>, 'Out': {3: ['{\"business_id\": \"vcNAWiLM4dR7D2nwwJ7nCA\", \"full_...By Appointment Only\": true}, \"type\": \"business\"}\\n', '{\"business_id\": \"JwUE5GmEO-sH1FuwJgKBlQ\", \"full_...s\": true, \"Price Range\": 1}, \"type\": \"business\"}\\n'], 4: ['{\"business_id\": \"vcNAWiLM4dR7D2nwwJ7nCA\", \"full_...By Appointment Only\": true}, \"type\": \"business\"}\\n', '{\"business_id\": \"JwUE5GmEO-sH1FuwJgKBlQ\", \"full_...s\": true, \"Price Range\": 1}, \"type\": \"business\"}\\n'], 6: ['{\"business_id\": \"vcNAWiLM4dR7D2nwwJ7nCA\", \"full_...By Appointment Only\": true}, \"type\": \"business\"}\\n', '{\"business_id\": \"JwUE5GmEO-sH1FuwJgKBlQ\", \"full_...s\": true, \"Price Range\": 1}, \"type\": \"business\"}\\n'], 9:                                                 ...{\"business_id\": \"JwUE5GmEO-sH1FuwJgKBlQ\", \"ful..., 12:                                               at...ss  \n37937  business  \n\n[37938 rows x 15 columns], 13: city\nAhwatukee               3.687500\nAnthem    ...             5.000000\nName: stars, dtype: float64, 16: 5.0, 17: city\nAhwatukee               3.687500\nAnthem    ...             5.000000\nName: stars, dtype: float64, 18: 3.8548387096774195, 23: city\nAhwatukee               3.687500\nAnthem    ...             5.000000\nName: stars, dtype: float64, ...}, ...}\n   3036             finally:\n   3037                 # Reset our crash handler in place\n   3038                 sys.excepthook = old_excepthook\n   3039         except SystemExit as e:\n\n...........................................................................\n/home/vagrant/datacourse/mini/ml/<ipython-input-816-f4dbaef3a19d> in <module>()\n      6     {\"alphas\": [0.01, 0.05,0.5]}, ## \n      7     cv = 5,  # 5-fold cross validation\n      8     n_jobs=2,  # run each hyperparameter in one of two parallel jobs\n      9     scoring='mean_squared_error'\n     10 )\n---> 11 gs.fit(X_t, y)\n     12 print gs.best_params_\n     13 \n     14 ##plt.plot(X[:,], y, 'b.', label='data')\n     15 ##line = plt.plot(X[:,], gs.predict(X), 'r-', label='model')\n\n...........................................................................\n/opt/conda/lib/python2.7/site-packages/sklearn/grid_search.py in fit(self=GridSearchCV(cv=5, error_score='raise',\n       e..., scoring='mean_squared_error',\n       verbose=0), X=array([[ 0.,  0.,  0., ...,  0.,  0.,  0.],\n    ...0.],\n       [ 0.,  0.,  0., ...,  0.,  0.,  0.]]), y=array([[ 3.5],\n       [ 4. ],\n       [ 4. ],\n   ...., \n       [ 5. ],\n       [ 5. ],\n       [ 3.5]]))\n    727         y : array-like, shape = [n_samples] or [n_samples, n_output], optional\n    728             Target relative to X for classification or regression;\n    729             None for unsupervised learning.\n    730 \n    731         \"\"\"\n--> 732         return self._fit(X, y, ParameterGrid(self.param_grid))\n        self._fit = <bound method GridSearchCV._fit of GridSearchCV(... scoring='mean_squared_error',\n       verbose=0)>\n        X = array([[ 0.,  0.,  0., ...,  0.,  0.,  0.],\n    ...0.],\n       [ 0.,  0.,  0., ...,  0.,  0.,  0.]])\n        y = array([[ 3.5],\n       [ 4. ],\n       [ 4. ],\n   ...., \n       [ 5. ],\n       [ 5. ],\n       [ 3.5]])\n        self.param_grid = {'alphas': [0.01, 0.05, 0.5]}\n    733 \n    734 \n    735 class RandomizedSearchCV(BaseSearchCV):\n    736     \"\"\"Randomized search on hyper parameters.\n\n...........................................................................\n/opt/conda/lib/python2.7/site-packages/sklearn/grid_search.py in _fit(self=GridSearchCV(cv=5, error_score='raise',\n       e..., scoring='mean_squared_error',\n       verbose=0), X=array([[ 0.,  0.,  0., ...,  0.,  0.,  0.],\n    ...0.],\n       [ 0.,  0.,  0., ...,  0.,  0.,  0.]]), y=array([[ 3.5],\n       [ 4. ],\n       [ 4. ],\n   ...., \n       [ 5. ],\n       [ 5. ],\n       [ 3.5]]), parameter_iterable=<sklearn.grid_search.ParameterGrid object>)\n    500         )(\n    501             delayed(_fit_and_score)(clone(base_estimator), X, y, self.scorer_,\n    502                                     train, test, self.verbose, parameters,\n    503                                     self.fit_params, return_parameters=True,\n    504                                     error_score=self.error_score)\n--> 505                 for parameters in parameter_iterable\n        parameters = undefined\n        parameter_iterable = <sklearn.grid_search.ParameterGrid object>\n    506                 for train, test in cv)\n    507 \n    508         # Out is a list of triplet: score, estimator, n_test_samples\n    509         n_fits = len(out)\n\n...........................................................................\n/opt/conda/lib/python2.7/site-packages/sklearn/externals/joblib/parallel.py in __call__(self=Parallel(n_jobs=2), iterable=<itertools.islice object>)\n    661             if pre_dispatch == \"all\" or n_jobs == 1:\n    662                 # The iterable was consumed all at once by the above for loop.\n    663                 # No need to wait for async callbacks to trigger to\n    664                 # consumption.\n    665                 self._iterating = False\n--> 666             self.retrieve()\n        self.retrieve = <bound method Parallel.retrieve of Parallel(n_jobs=2)>\n    667             # Make sure that we get a last message telling us we are done\n    668             elapsed_time = time.time() - self._start_time\n    669             self._print('Done %3i out of %3i | elapsed: %s finished',\n    670                         (len(self._output),\n\n    ---------------------------------------------------------------------------\n    Sub-process traceback:\n    ---------------------------------------------------------------------------\n    ValueError                                         Sat Apr  2 21:29:04 2016\nPID: 9731                              Python 2.7.10: /opt/conda/bin/python\n...........................................................................\n/opt/conda/lib/python2.7/site-packages/sklearn/cross_validation.pyc in _fit_and_score(estimator=LassoLars(alpha=[-0.5, 0.05, 0.5, 1], copy_X=Tru...lize=True,\n     precompute='auto', verbose=False), X=memmap([[ 0.,  0.,  0., ...,  0.,  0.,  0.],\n   ...0.],\n       [ 0.,  0.,  0., ...,  0.,  0.,  0.]]), y=array([[ 3.5],\n       [ 4. ],\n       [ 4. ],\n   ...., \n       [ 5. ],\n       [ 5. ],\n       [ 3.5]]), scorer=make_scorer(mean_squared_error, greater_is_better=False), train=array([ 7588,  7589,  7590, ..., 37935, 37936, 37937]), test=array([   0,    1,    2, ..., 7585, 7586, 7587]), verbose=0, parameters={'alphas': 0.01}, fit_params={}, return_train_score=False, return_parameters=True, error_score='raise')\n   1443     fit_params = fit_params if fit_params is not None else {}\n   1444     fit_params = dict([(k, _index_param_value(X, v, train))\n   1445                       for k, v in fit_params.items()])\n   1446 \n   1447     if parameters is not None:\n-> 1448         estimator.set_params(**parameters)\n   1449 \n   1450     start_time = time.time()\n   1451 \n   1452     X_train, y_train = _safe_split(estimator, X, y, train)\n\n...........................................................................\n/opt/conda/lib/python2.7/site-packages/sklearn/base.pyc in set_params(self=LassoLars(alpha=[-0.5, 0.05, 0.5, 1], copy_X=Tru...lize=True,\n     precompute='auto', verbose=False), **params={'alphas': 0.01})\n    251                 sub_object.set_params(**{sub_name: value})\n    252             else:\n    253                 # simple objects case\n    254                 if not key in valid_params:\n    255                     raise ValueError('Invalid parameter %s ' 'for estimator %s'\n--> 256                                      % (key, self.__class__.__name__))\n    257                 setattr(self, key, value)\n    258         return self\n    259 \n    260     def __repr__(self):\n\nValueError: Invalid parameter alphas for estimator LassoLars\n___________________________________________________________________________"
     ]
    }
   ],
   "source": [
    "from sklearn import grid_search\n",
    "\n",
    "lml = linear_model.LassoLars(alpha=alphas)\n",
    "gs = grid_search.GridSearchCV(\n",
    "    lml,\n",
    "    {\"alphas\": [0.01, 0.05,0.5]}, ## \n",
    "    cv = 5,  # 5-fold cross validation\n",
    "    n_jobs=2,  # run each hyperparameter in one of two parallel jobs\n",
    "    scoring='mean_squared_error'\n",
    ")\n",
    "gs.fit(X_t, y)\n",
    "print gs.best_params_\n",
    "\n",
    "##plt.plot(X[:,], y, 'b.', label='data')\n",
    "##line = plt.plot(X[:,], gs.predict(X), 'r-', label='model')\n",
    "##plt.setp(line, linewidth=3.)\n",
    "##plt.xlabel('X')\n",
    "##plt.ylabel('Y')\n",
    "##plt.legend(loc='upper right')\n",
    "##plt.show()"
   ]
  },
  {
   "cell_type": "code",
   "execution_count": 540,
   "metadata": {
    "collapsed": true
   },
   "outputs": [],
   "source": [
    "from sklearn import linear_model, utils, preprocessing"
   ]
  },
  {
   "cell_type": "code",
   "execution_count": null,
   "metadata": {
    "collapsed": true
   },
   "outputs": [],
   "source": [
    "# Ridge regression using cross validation linear_model.Ridge\n",
    "import numpy as np\n",
    "np.random.seed(42)\n",
    "\n",
    "alphas = np.logspace(-6., -.3, 20)\n",
    "ridge_models = pd.DataFrame(\n",
    "    [(alpha,\n",
    "      \"Ridge Regression with alpha = %f\" % alpha, \n",
    "      compute_error(linear_model.Ridge(alpha=alpha), X, y)) for alpha in alphas],\n",
    "    columns=['alpha', 'Model', 'MSE'])\n",
    "ridge_models.plot(x='alpha', y='MSE', logx=True, title='MSE')"
   ]
  },
  {
   "cell_type": "markdown",
   "metadata": {},
   "source": [
    "# Attributes"
   ]
  },
  {
   "cell_type": "code",
   "execution_count": 638,
   "metadata": {
    "collapsed": false
   },
   "outputs": [],
   "source": [
    "Y_cols = ['stars']\n",
    "X_att_cols = ['attributes']\n",
    "X_att_transformer = ColumnSelectTransformer(X_att_cols)\n",
    "Y_transformer = ColumnSelectTransformer(Y_cols)"
   ]
  },
  {
   "cell_type": "code",
   "execution_count": 641,
   "metadata": {
    "collapsed": true
   },
   "outputs": [],
   "source": [
    "df_att_X = X_att_transformer.transform(df)\n",
    "df_att_Y = Y_transformer.transform(df)"
   ]
  },
  {
   "cell_type": "code",
   "execution_count": 642,
   "metadata": {
    "collapsed": false
   },
   "outputs": [],
   "source": [
    "X = df_att_X['attributes']"
   ]
  },
  {
   "cell_type": "code",
   "execution_count": 643,
   "metadata": {
    "collapsed": false,
    "scrolled": false
   },
   "outputs": [
    {
     "data": {
      "text/plain": [
       "0                           {u'By Appointment Only': True}\n",
       "1        {u'Take-out': True, u'Price Range': 1, u'Outdo...\n",
       "2        {u'Take-out': True, u'Outdoor Seating': False,...\n",
       "3        {u'Take-out': True, u'Accepts Credit Cards': T...\n",
       "4        {u'Take-out': True, u'Has TV': False, u'Outdoo...\n",
       "5                                                       {}\n",
       "6                                                       {}\n",
       "7                                      {u'Wi-Fi': u'free'}\n",
       "8                                                       {}\n",
       "9        {u'Alcohol': u'full_bar', u'Noise Level': u'lo...\n",
       "10       {u'Accepts Credit Cards': True, u'Wi-Fi': u'fr...\n",
       "11                                {u'Good for Kids': True}\n",
       "12       {u'Take-out': True, u'Price Range': 1, u'Outdo...\n",
       "13       {u'Take-out': True, u'Accepts Credit Cards': T...\n",
       "14       {u'Take-out': True, u'Caters': True, u'Attire'...\n",
       "15       {u'Take-out': True, u'Price Range': 2, u'Outdo...\n",
       "16       {u'Take-out': True, u'Accepts Credit Cards': T...\n",
       "17                                {u'Good for Kids': True}\n",
       "18       {u'Accepts Credit Cards': True, u'Price Range'...\n",
       "19       {u'Accepts Credit Cards': True, u'Wi-Fi': u'fr...\n",
       "20       {u'By Appointment Only': False, u'Good for Kid...\n",
       "21       {u'Take-out': True, u'Takes Reservations': Fal...\n",
       "22       {u'Accepts Credit Cards': True, u'Price Range'...\n",
       "23       {u'Accepts Credit Cards': True, u'Price Range'...\n",
       "24       {u'Price Range': 2, u'Accepts Credit Cards': T...\n",
       "25       {u'Accepts Credit Cards': True, u'Price Range'...\n",
       "26       {u'Take-out': True, u'Accepts Credit Cards': F...\n",
       "27       {u'Price Range': 1, u'Good For': {u'dessert': ...\n",
       "28       {u'Take-out': True, u'Price Range': 2, u'Outdo...\n",
       "29       {u'Take-out': True, u'Price Range': 1, u'Parki...\n",
       "                               ...                        \n",
       "37908                      {u'Accepts Credit Cards': True}\n",
       "37909    {u'Take-out': False, u'Price Range': 4, u'Outd...\n",
       "37910    {u'Accepts Credit Cards': True, u'Price Range'...\n",
       "37911    {u'Take-out': True, u'Good For': {u'dessert': ...\n",
       "37912                                                   {}\n",
       "37913    {u'Has TV': False, u'Good For Groups': True, u...\n",
       "37914    {u'Take-out': True, u'Price Range': 1, u'Outdo...\n",
       "37915    {u'Take-out': True, u'Accepts Credit Cards': T...\n",
       "37916    {u'Accepts Credit Cards': True, u'Price Range'...\n",
       "37917    {u'Take-out': True, u'Accepts Credit Cards': T...\n",
       "37918                      {u'Accepts Credit Cards': True}\n",
       "37919    {u'Accepts Credit Cards': True, u'Price Range'...\n",
       "37920                      {u'Accepts Credit Cards': True}\n",
       "37921    {u'Accepts Credit Cards': False, u'Price Range...\n",
       "37922    {u'Accepts Credit Cards': True, u'Price Range'...\n",
       "37923    {u'Take-out': True, u'Price Range': 2, u'Outdo...\n",
       "37924    {u'Take-out': True, u'Accepts Credit Cards': T...\n",
       "37925    {u'Accepts Credit Cards': True, u'Price Range'...\n",
       "37926    {u'Take-out': True, u'Outdoor Seating': False,...\n",
       "37927                             {u'Good for Kids': True}\n",
       "37928    {u'Take-out': False, u'Accepts Credit Cards': ...\n",
       "37929    {u'Take-out': True, u'Accepts Credit Cards': T...\n",
       "37930    {u'Take-out': True, u'Price Range': 2, u'Outdo...\n",
       "37931    {u'Take-out': True, u'Accepts Credit Cards': T...\n",
       "37932    {u'Alcohol': u'full_bar', u'Noise Level': u'qu...\n",
       "37933    {u'Alcohol': u'none', u'Good For Dancing': Tru...\n",
       "37934                                                   {}\n",
       "37935                            {u'Good for Kids': False}\n",
       "37936    {u'Take-out': True, u'Accepts Credit Cards': T...\n",
       "37937    {u'Accepts Credit Cards': True, u'Price Range'...\n",
       "Name: attributes, dtype: object"
      ]
     },
     "execution_count": 643,
     "metadata": {},
     "output_type": "execute_result"
    }
   ],
   "source": [
    "X"
   ]
  },
  {
   "cell_type": "code",
   "execution_count": 660,
   "metadata": {
    "collapsed": false
   },
   "outputs": [
    {
     "data": {
      "text/plain": [
       "{u'Accepts Credit Cards': True,\n",
       " u'Alcohol': u'none',\n",
       " u'Ambience': {u'casual': False,\n",
       "  u'classy': False,\n",
       "  u'divey': False,\n",
       "  u'hipster': False,\n",
       "  u'intimate': False,\n",
       "  u'romantic': False,\n",
       "  u'touristy': False,\n",
       "  u'trendy': False,\n",
       "  u'upscale': False},\n",
       " u'Attire': u'casual',\n",
       " u'Caters': False,\n",
       " u'Delivery': False,\n",
       " u'Good For': {u'breakfast': False,\n",
       "  u'brunch': False,\n",
       "  u'dessert': False,\n",
       "  u'dinner': False,\n",
       "  u'latenight': False,\n",
       "  u'lunch': True},\n",
       " u'Good For Groups': True,\n",
       " u'Good for Kids': True,\n",
       " u'Has TV': True,\n",
       " u'Noise Level': u'average',\n",
       " u'Outdoor Seating': False,\n",
       " u'Parking': {u'garage': False,\n",
       "  u'lot': True,\n",
       "  u'street': False,\n",
       "  u'valet': False,\n",
       "  u'validated': False},\n",
       " u'Price Range': 1,\n",
       " u'Take-out': True,\n",
       " u'Takes Reservations': False,\n",
       " u'Waiter Service': True}"
      ]
     },
     "execution_count": 660,
     "metadata": {},
     "output_type": "execute_result"
    }
   ],
   "source": [
    "X[1]"
   ]
  },
  {
   "cell_type": "code",
   "execution_count": 662,
   "metadata": {
    "collapsed": false
   },
   "outputs": [
    {
     "data": {
      "text/plain": [
       "[u'Take-out',\n",
       " u'Price Range',\n",
       " u'Outdoor Seating',\n",
       " u'Caters',\n",
       " u'Noise Level',\n",
       " u'Parking',\n",
       " u'Delivery',\n",
       " u'Attire',\n",
       " u'Has TV',\n",
       " u'Good For',\n",
       " u'Takes Reservations',\n",
       " u'Ambience',\n",
       " u'Waiter Service',\n",
       " u'Accepts Credit Cards',\n",
       " u'Good for Kids',\n",
       " u'Good For Groups',\n",
       " u'Alcohol']"
      ]
     },
     "execution_count": 662,
     "metadata": {},
     "output_type": "execute_result"
    }
   ],
   "source": [
    "X[1].keys()"
   ]
  },
  {
   "cell_type": "code",
   "execution_count": 663,
   "metadata": {
    "collapsed": false
   },
   "outputs": [
    {
     "data": {
      "text/plain": [
       "[True,\n",
       " 1,\n",
       " False,\n",
       " False,\n",
       " u'average',\n",
       " {u'garage': False,\n",
       "  u'lot': True,\n",
       "  u'street': False,\n",
       "  u'valet': False,\n",
       "  u'validated': False},\n",
       " False,\n",
       " u'casual',\n",
       " True,\n",
       " {u'breakfast': False,\n",
       "  u'brunch': False,\n",
       "  u'dessert': False,\n",
       "  u'dinner': False,\n",
       "  u'latenight': False,\n",
       "  u'lunch': True},\n",
       " False,\n",
       " {u'casual': False,\n",
       "  u'classy': False,\n",
       "  u'divey': False,\n",
       "  u'hipster': False,\n",
       "  u'intimate': False,\n",
       "  u'romantic': False,\n",
       "  u'touristy': False,\n",
       "  u'trendy': False,\n",
       "  u'upscale': False},\n",
       " True,\n",
       " True,\n",
       " True,\n",
       " True,\n",
       " u'none']"
      ]
     },
     "execution_count": 663,
     "metadata": {},
     "output_type": "execute_result"
    }
   ],
   "source": [
    "X[1].values()"
   ]
  },
  {
   "cell_type": "code",
   "execution_count": 675,
   "metadata": {
    "collapsed": false
   },
   "outputs": [],
   "source": [
    "def flatten_dict(d):\n",
    "    def expand(key, value):\n",
    "        if isinstance(value, dict):\n",
    "            return [ (key + '_' + k, v) for k, v in flatten_dict(value).items() ]\n",
    "        else:\n",
    "            return [ (key, value) ]\n",
    "\n",
    "    items = [ item for k, v in d.items() for item in expand(k, v) ]\n",
    "\n",
    "    return dict(items)"
   ]
  },
  {
   "cell_type": "code",
   "execution_count": 676,
   "metadata": {
    "collapsed": false
   },
   "outputs": [
    {
     "data": {
      "text/plain": [
       "{u'Accepts Credit Cards': True,\n",
       " u'Alcohol': u'none',\n",
       " u'Ambience_casual': False,\n",
       " u'Ambience_classy': False,\n",
       " u'Ambience_divey': False,\n",
       " u'Ambience_hipster': False,\n",
       " u'Ambience_intimate': False,\n",
       " u'Ambience_romantic': False,\n",
       " u'Ambience_touristy': False,\n",
       " u'Ambience_trendy': False,\n",
       " u'Ambience_upscale': False,\n",
       " u'Attire': u'casual',\n",
       " u'Caters': False,\n",
       " u'Delivery': False,\n",
       " u'Good For Groups': True,\n",
       " u'Good For_breakfast': False,\n",
       " u'Good For_brunch': False,\n",
       " u'Good For_dessert': False,\n",
       " u'Good For_dinner': False,\n",
       " u'Good For_latenight': False,\n",
       " u'Good For_lunch': True,\n",
       " u'Good for Kids': True,\n",
       " u'Has TV': True,\n",
       " u'Noise Level': u'average',\n",
       " u'Outdoor Seating': False,\n",
       " u'Parking_garage': False,\n",
       " u'Parking_lot': True,\n",
       " u'Parking_street': False,\n",
       " u'Parking_valet': False,\n",
       " u'Parking_validated': False,\n",
       " u'Price Range': 1,\n",
       " u'Take-out': True,\n",
       " u'Takes Reservations': False,\n",
       " u'Waiter Service': True}"
      ]
     },
     "execution_count": 676,
     "metadata": {},
     "output_type": "execute_result"
    }
   ],
   "source": [
    "\n",
    "flatten_dict(X[1])"
   ]
  },
  {
   "cell_type": "code",
   "execution_count": 681,
   "metadata": {
    "collapsed": false
   },
   "outputs": [],
   "source": [
    "class AttTransformer():\n",
    "    def __init__(self):\n",
    "        from sklearn.feature_extraction import DictVectorizer\n",
    "        self.vec = DictVectorizer(sparse=False)\n",
    "        return None\n",
    "        \n",
    "    def flatten_dict(self, X):\n",
    "        def expand(key, value):\n",
    "            if isinstance(value, dict):\n",
    "                return [ (key + '_' + k, v) for k, v in flatten_dict(value).items() ]\n",
    "            else:\n",
    "                return [ (key, value) ]\n",
    "\n",
    "        items = [ item for k, v in X.items() for item in expand(k, v) ]\n",
    "\n",
    "        return dict(items)\n",
    "    \n",
    "    def fit(self,X):\n",
    "        X_pre_vec = []       \n",
    "        \n",
    "        for rec in X:\n",
    "            rec = flatten_dict(rec)\n",
    "            cat_set = {cat:1 for cat in rec}\n",
    "            X_pre_vec.append(cat_set)\n",
    "        self.X_vec = self.vec.fit_transform(X_pre_vec)\n",
    "        return self.X_vec\n",
    "        \n",
    "    def transform(self,rec):\n",
    "        rec = flatten_dict(rec)\n",
    "        cat_set = {cat:1 for cat in rec}\n",
    "        self.rec_vec = self.vec.transform(cat_set)\n",
    "        return self.rec_vec\n",
    "    \n",
    "    def colnames(self):\n",
    "        return self.vec.feature_names_ \n",
    "     "
   ]
  },
  {
   "cell_type": "code",
   "execution_count": 682,
   "metadata": {
    "collapsed": true
   },
   "outputs": [],
   "source": [
    "att_transformer = AttTransformer()"
   ]
  },
  {
   "cell_type": "code",
   "execution_count": 683,
   "metadata": {
    "collapsed": false
   },
   "outputs": [],
   "source": [
    "X_t = att_transformer.fit(X)"
   ]
  },
  {
   "cell_type": "code",
   "execution_count": 684,
   "metadata": {
    "collapsed": false
   },
   "outputs": [
    {
     "data": {
      "text/plain": [
       "(37938, 78)"
      ]
     },
     "execution_count": 684,
     "metadata": {},
     "output_type": "execute_result"
    }
   ],
   "source": [
    "X_t.shape"
   ]
  },
  {
   "cell_type": "code",
   "execution_count": 687,
   "metadata": {
    "collapsed": false
   },
   "outputs": [],
   "source": [
    "record = {u'Accepts Credit Cards': True,\n",
    " u'Alcohol': u'none',\n",
    " u'Ambience_casual': False,\n",
    " u'Ambience_classy': False,\n",
    " u'Ambience_divey': False,\n",
    " u'Ambience_hipster': False,\n",
    " u'Ambience_intimate': False,\n",
    " u'Ambience_romantic': False,\n",
    " u'Ambience_touristy': False,\n",
    " u'Ambience_trendy': False,\n",
    " u'Ambience_upscale': False,\n",
    " u'Attire': u'casual',\n",
    " u'Caters': False,\n",
    " u'Delivery': False,\n",
    " u'Good For Groups': True,\n",
    " u'Good For_breakfast': False,\n",
    " u'Good For_brunch': False,\n",
    " u'Good For_dessert': False,\n",
    " u'Good For_dinner': False,\n",
    " u'Good For_latenight': False,\n",
    " u'Good For_lunch': True,\n",
    " u'Good for Kids': True,\n",
    " u'Has TV': True,\n",
    " u'Noise Level': u'average',\n",
    " u'Outdoor Seating': False,\n",
    " u'Parking_garage': False,\n",
    " u'Parking_lot': True,\n",
    " u'Parking_street': False,\n",
    " u'Parking_valet': False,\n",
    " u'Parking_validated': False,\n",
    " u'Price Range': 1,\n",
    " u'Take-out': True,\n",
    " u'Takes Reservations': False,\n",
    " u'Waiter Service': True}"
   ]
  },
  {
   "cell_type": "code",
   "execution_count": 688,
   "metadata": {
    "collapsed": true
   },
   "outputs": [],
   "source": [
    "r_t = att_transformer.transform(record)"
   ]
  },
  {
   "cell_type": "code",
   "execution_count": 689,
   "metadata": {
    "collapsed": false
   },
   "outputs": [
    {
     "data": {
      "text/plain": [
       "array([[ 1.,  0.,  0.,  1.,  1.,  1.,  1.,  1.,  1.,  1.,  1.,  1.,  1.,\n",
       "         1.,  0.,  0.,  0.,  1.,  0.,  0.,  1.,  0.,  0.,  0.,  0.,  0.,\n",
       "         0.,  0.,  0.,  0.,  0.,  1.,  0.,  1.,  1.,  1.,  1.,  1.,  1.,\n",
       "         1.,  0.,  0.,  0.,  0.,  0.,  0.,  0.,  0.,  0.,  1.,  0.,  0.,\n",
       "         0.,  0.,  0.,  0.,  0.,  1.,  0.,  0.,  1.,  1.,  1.,  1.,  1.,\n",
       "         1.,  0.,  0.,  0.,  0.,  0.,  1.,  0.,  1.,  1.,  1.,  0.,  0.]])"
      ]
     },
     "execution_count": 689,
     "metadata": {},
     "output_type": "execute_result"
    }
   ],
   "source": [
    "r_t"
   ]
  },
  {
   "cell_type": "code",
   "execution_count": 690,
   "metadata": {
    "collapsed": false
   },
   "outputs": [
    {
     "data": {
      "text/plain": [
       "(1, 78)"
      ]
     },
     "execution_count": 690,
     "metadata": {},
     "output_type": "execute_result"
    }
   ],
   "source": [
    "r_t.shape"
   ]
  },
  {
   "cell_type": "code",
   "execution_count": 692,
   "metadata": {
    "collapsed": true
   },
   "outputs": [],
   "source": [
    "att_model = CatEstimator(0.05)"
   ]
  },
  {
   "cell_type": "code",
   "execution_count": 694,
   "metadata": {
    "collapsed": false
   },
   "outputs": [
    {
     "data": {
      "text/plain": [
       "<__main__.CatEstimator instance at 0x7f17a1b72290>"
      ]
     },
     "execution_count": 694,
     "metadata": {},
     "output_type": "execute_result"
    }
   ],
   "source": [
    "att_model.fit(X,y)"
   ]
  },
  {
   "cell_type": "code",
   "execution_count": 695,
   "metadata": {
    "collapsed": false
   },
   "outputs": [
    {
     "data": {
      "text/plain": [
       "LassoLars(alpha=0.05, copy_X=True, eps=2.2204460492503131e-16,\n",
       "     fit_intercept=True, fit_path=True, max_iter=500, normalize=True,\n",
       "     precompute='auto', verbose=False)"
      ]
     },
     "execution_count": 695,
     "metadata": {},
     "output_type": "execute_result"
    }
   ],
   "source": [
    "att_model.model"
   ]
  },
  {
   "cell_type": "code",
   "execution_count": 697,
   "metadata": {
    "collapsed": false
   },
   "outputs": [
    {
     "data": {
      "text/plain": [
       "3.6729137013021247"
      ]
     },
     "execution_count": 697,
     "metadata": {},
     "output_type": "execute_result"
    }
   ],
   "source": [
    "att_model.predict(record)"
   ]
  },
  {
   "cell_type": "code",
   "execution_count": 698,
   "metadata": {
    "collapsed": false
   },
   "outputs": [],
   "source": [
    "with open('att_model.dill', 'w') as filename:\n",
    "    dill.dump(att_model,filename)"
   ]
  },
  {
   "cell_type": "markdown",
   "metadata": {},
   "source": [
    "# All models"
   ]
  },
  {
   "cell_type": "code",
   "execution_count": 1238,
   "metadata": {
    "collapsed": false
   },
   "outputs": [],
   "source": [
    "X_train = df.drop(['stars'], axis=1)"
   ]
  },
  {
   "cell_type": "code",
   "execution_count": 1239,
   "metadata": {
    "collapsed": false
   },
   "outputs": [
    {
     "data": {
      "text/plain": [
       "(37938, 14)"
      ]
     },
     "execution_count": 1239,
     "metadata": {},
     "output_type": "execute_result"
    }
   ],
   "source": [
    "X_train.shape"
   ]
  },
  {
   "cell_type": "code",
   "execution_count": 1107,
   "metadata": {
    "collapsed": false
   },
   "outputs": [
    {
     "data": {
      "text/plain": [
       "u'Phoenix'"
      ]
     },
     "execution_count": 1107,
     "metadata": {},
     "output_type": "execute_result"
    }
   ],
   "source": [
    "X_train['city'][0]"
   ]
  },
  {
   "cell_type": "code",
   "execution_count": 1108,
   "metadata": {
    "collapsed": false
   },
   "outputs": [],
   "source": [
    "y_train = df['stars']"
   ]
  },
  {
   "cell_type": "code",
   "execution_count": 1109,
   "metadata": {
    "collapsed": false
   },
   "outputs": [
    {
     "data": {
      "text/plain": [
       "37938"
      ]
     },
     "execution_count": 1109,
     "metadata": {},
     "output_type": "execute_result"
    }
   ],
   "source": [
    "X_train.shape[0]##, y_train.shape"
   ]
  },
  {
   "cell_type": "code",
   "execution_count": 1137,
   "metadata": {
    "collapsed": true
   },
   "outputs": [],
   "source": [
    "class CityModelTransformer():\n",
    "    def __init__(self):\n",
    "        self.est = CityEstimator()\n",
    "        return None\n",
    "    \n",
    "    def fit(self, X, y):\n",
    "        self.model = self.est.fit(X)\n",
    "        return self       \n",
    "    \n",
    "    def transform(self,X):\n",
    "        input_data = [{'city': X['city'][i]} for i in range(len(X['city']))]\n",
    "        self.y_pred = self.model.predict(input_data)\n",
    "        return self.y_pred\n",
    "    "
   ]
  },
  {
   "cell_type": "code",
   "execution_count": 1261,
   "metadata": {
    "collapsed": false
   },
   "outputs": [],
   "source": [
    "class LongLatModelTransformer():\n",
    "    def __init__(self,n):\n",
    "        self.est = KNNEstimator(n,\"auto\")\n",
    "        X_geo_cols = ['longitude', 'latitude']\n",
    "        self.X_geo_transformer = ColumnSelectTransformer(X_geo_cols)\n",
    "        return None\n",
    "    \n",
    "    def fit(self, X, y):\n",
    "        self.X_t = np.array(self.X_geo_transformer.transform(X))\n",
    "        self.rows = len(np.array(y))\n",
    "        self.model = self.est.fit(self.X_t,y)\n",
    "        return self    \n",
    "    \n",
    "    def transform(self,X):      \n",
    "        ##dict_you_want = { your_key: old_dict[your_key][0] for your_key in your_keys }\n",
    "        ##input_data = [{'longitude':X['longitude'][i], 'latitude': X['latitude'][i]} for i in range(self.rows)]   \n",
    "        input_data = [{'longitude':r[0], 'latitude': r[1]} for r in zip(X['longitude'], X['latitude'])]\n",
    "        self.y_pred = self.model.predict(input_data)\n",
    "        return self.y_pred\n",
    "  "
   ]
  },
  {
   "cell_type": "code",
   "execution_count": 1262,
   "metadata": {
    "collapsed": false
   },
   "outputs": [],
   "source": [
    "class CatModelTransformer():\n",
    "    def __init__(self,alpha):\n",
    "        self.est = CatEstimator(alpha)\n",
    "        X_cols = ['categories']\n",
    "        self.X_transformer = ColumnSelectTransformer(X_cols)\n",
    "        return None\n",
    "    \n",
    "    def fit(self, X, y):\n",
    "        self.X_t = self.X_transformer.transform(X)['categories']\n",
    "        ##self.rows = len(np.array(y))\n",
    "        self.model = self.est.fit(self.X_t,y)\n",
    "        return self    \n",
    "    \n",
    "    def transform(self,X):\n",
    "        input_data = [{'categories':r} for r in X['categories']]\n",
    "        self.y_pred = self.model.predict(input_data)\n",
    "        return self.y_pred\n",
    "  "
   ]
  },
  {
   "cell_type": "code",
   "execution_count": 1263,
   "metadata": {
    "collapsed": false
   },
   "outputs": [],
   "source": [
    "class AttModelTransformer():\n",
    "    def __init__(self,alpha):\n",
    "        self.est = CatEstimator(alpha)\n",
    "        X_cols = ['attributes']\n",
    "        self.X_transformer = ColumnSelectTransformer(X_cols)\n",
    "        return None\n",
    "    \n",
    "    def fit(self, X, y):\n",
    "        self.X_t = self.X_transformer.transform(X)['attributes']\n",
    "        ##self.rows = len(np.array(y))\n",
    "        self.model = self.est.fit(self.X_t,y)    \n",
    "        return self    \n",
    "    \n",
    "    def transform(self,X):\n",
    "        input_data = [{'attributes':r} for r in X['attributes']]\n",
    "        self.y_pred = self.model.predict(input_data)\n",
    "        return self.y_pred"
   ]
  },
  {
   "cell_type": "code",
   "execution_count": 1264,
   "metadata": {
    "collapsed": false
   },
   "outputs": [],
   "source": [
    "from sklearn import pipeline  \n",
    "all_features = pipeline.FeatureUnion([\n",
    "##  ('city_model', CityModelTransformer()),\n",
    "  ('long_lat_model', LongLatModelTransformer(77)),\n",
    "        ('cat_model', CatModelTransformer(0.05)),\n",
    "        ('att_model', AttModelTransformer(0.05))\n",
    "  ])"
   ]
  },
  {
   "cell_type": "code",
   "execution_count": 1358,
   "metadata": {
    "collapsed": false
   },
   "outputs": [
    {
     "data": {
      "text/plain": [
       "Pipeline(steps=[('features', FeatureUnion(n_jobs=1,\n",
       "       transformer_list=[('long_lat_model', <__main__.LongLatModelTransformer instance at 0x7f17976afb90>), ('cat_model', <__main__.CatModelTransformer instance at 0x7f1798a0eea8>), ('att_model', <__main__.AttModelTransformer instance at 0x7f17998da758>)],\n",
       "       transformer_weights=None)), ('linreg', Ridge(alpha=0.05, copy_X=True, fit_intercept=True, max_iter=None,\n",
       "   normalize=False, solver='auto', tol=0.001))])"
      ]
     },
     "execution_count": 1358,
     "metadata": {},
     "output_type": "execute_result"
    }
   ],
   "source": [
    "from sklearn import linear_model, utils, preprocessing\n",
    "from sklearn.base import BaseEstimator, RegressorMixin \n",
    "from sklearn import neighbors\n",
    "from sklearn import ensemble\n",
    "from sklearn.linear_model import LinearRegression\n",
    "\n",
    "alphas = [0.01,0.05,0.10, 0.50, 1, 5]\n",
    "k_union = pipeline.Pipeline([\n",
    "  (\"features\", all_features),\n",
    "  (\"linreg\", linear_model.Ridge(alpha=0.05))\n",
    "  ])\n",
    "k_union.fit(X_train, y_train)\n",
    "##print k_union.score(X_test, y_test)"
   ]
  },
  {
   "cell_type": "code",
   "execution_count": 1279,
   "metadata": {
    "collapsed": true
   },
   "outputs": [],
   "source": [
    "with open('all_model.dill', 'w') as filename:\n",
    "    dill.dump(k_union,filename)"
   ]
  },
  {
   "cell_type": "code",
   "execution_count": 1244,
   "metadata": {
    "collapsed": false
   },
   "outputs": [
    {
     "data": {
      "text/plain": [
       "{u'attributes': 0                       {u'By Appointment Only': True}\n",
       " 1    {u'Take-out': True, u'Price Range': 1, u'Outdo...\n",
       " 2    {u'Take-out': True, u'Outdoor Seating': False,...\n",
       " 3    {u'Take-out': True, u'Accepts Credit Cards': T...\n",
       " 4    {u'Take-out': True, u'Has TV': False, u'Outdoo...\n",
       " Name: attributes, dtype: object, u'business_id': 0    vcNAWiLM4dR7D2nwwJ7nCA\n",
       " 1    JwUE5GmEO-sH1FuwJgKBlQ\n",
       " 2    uGykseHzyS5xAMWoN6YUqA\n",
       " 3    LRKJF43s9-3jG9Lgx4zODg\n",
       " 4    RgDg-k9S5YD_BaxMckifkg\n",
       " Name: business_id, dtype: object, u'categories': 0                          [Doctors, Health & Medical]\n",
       " 1                                        [Restaurants]\n",
       " 2                [American (Traditional), Restaurants]\n",
       " 3    [Food, Ice Cream & Frozen Yogurt, Fast Food, R...\n",
       " 4                               [Chinese, Restaurants]\n",
       " Name: categories, dtype: object, u'city': 0      Phoenix\n",
       " 1    De Forest\n",
       " 2    De Forest\n",
       " 3    De Forest\n",
       " 4    De Forest\n",
       " Name: city, dtype: object, u'full_address': 0    4840 E Indian School Rd\\nSte 101\\nPhoenix, AZ ...\n",
       " 1              6162 US Highway 51\\nDe Forest, WI 53532\n",
       " 2                  505 W North St\\nDe Forest, WI 53532\n",
       " 3                4910 County Rd V\\nDe Forest, WI 53532\n",
       " 4                   631 S Main St\\nDe Forest, WI 53532\n",
       " Name: full_address, dtype: object, u'hours': 0    {u'Thursday': {u'close': u'17:00', u'open': u'...\n",
       " 1                                                   {}\n",
       " 2    {u'Monday': {u'close': u'22:00', u'open': u'06...\n",
       " 3    {u'Monday': {u'close': u'22:00', u'open': u'10...\n",
       " 4    {u'Monday': {u'close': u'22:00', u'open': u'11...\n",
       " Name: hours, dtype: object, u'latitude': 0    33.499313\n",
       " 1    43.238893\n",
       " 2    43.252267\n",
       " 3    43.251045\n",
       " 4    43.240875\n",
       " Name: latitude, dtype: float64, u'longitude': 0   -111.983758\n",
       " 1    -89.335844\n",
       " 2    -89.353437\n",
       " 3    -89.374983\n",
       " 4    -89.343722\n",
       " Name: longitude, dtype: float64, u'name': 0              Eric Goldberg, MD\n",
       " 1           Pine Cone Restaurant\n",
       " 2     Deforest Family Restaurant\n",
       " 3                       Culver's\n",
       " 4    Chang Jiang Chinese Kitchen\n",
       " Name: name, dtype: object, u'neighborhoods': 0    []\n",
       " 1    []\n",
       " 2    []\n",
       " 3    []\n",
       " 4    []\n",
       " Name: neighborhoods, dtype: object, u'open': 0    True\n",
       " 1    True\n",
       " 2    True\n",
       " 3    True\n",
       " 4    True\n",
       " Name: open, dtype: bool, u'review_count': 0     7\n",
       " 1    26\n",
       " 2    16\n",
       " 3     7\n",
       " 4     3\n",
       " Name: review_count, dtype: int64, u'state': 0    AZ\n",
       " 1    WI\n",
       " 2    WI\n",
       " 3    WI\n",
       " 4    WI\n",
       " Name: state, dtype: object, u'type': 0    business\n",
       " 1    business\n",
       " 2    business\n",
       " 3    business\n",
       " 4    business\n",
       " Name: type, dtype: object}"
      ]
     },
     "execution_count": 1244,
     "metadata": {},
     "output_type": "execute_result"
    }
   ],
   "source": [
    "dict(X_train.head(5))"
   ]
  },
  {
   "cell_type": "code",
   "execution_count": 1246,
   "metadata": {
    "collapsed": false
   },
   "outputs": [],
   "source": [
    " df_test = X_train"
   ]
  },
  {
   "cell_type": "code",
   "execution_count": 1268,
   "metadata": {
    "collapsed": true
   },
   "outputs": [],
   "source": [
    "test = dict(df_test.head(1))"
   ]
  },
  {
   "cell_type": "code",
   "execution_count": 1269,
   "metadata": {
    "collapsed": false
   },
   "outputs": [
    {
     "data": {
      "text/plain": [
       "{u'attributes': 0    {u'By Appointment Only': True}\n",
       " Name: attributes, dtype: object, u'business_id': 0    vcNAWiLM4dR7D2nwwJ7nCA\n",
       " Name: business_id, dtype: object, u'categories': 0    [Doctors, Health & Medical]\n",
       " Name: categories, dtype: object, u'city': 0    Phoenix\n",
       " Name: city, dtype: object, u'full_address': 0    4840 E Indian School Rd\\nSte 101\\nPhoenix, AZ ...\n",
       " Name: full_address, dtype: object, u'hours': 0    {u'Thursday': {u'close': u'17:00', u'open': u'...\n",
       " Name: hours, dtype: object, u'latitude': 0    33.499313\n",
       " Name: latitude, dtype: float64, u'longitude': 0   -111.983758\n",
       " Name: longitude, dtype: float64, u'name': 0    Eric Goldberg, MD\n",
       " Name: name, dtype: object, u'neighborhoods': 0    []\n",
       " Name: neighborhoods, dtype: object, u'open': 0    True\n",
       " Name: open, dtype: bool, u'review_count': 0    7\n",
       " Name: review_count, dtype: int64, u'state': 0    AZ\n",
       " Name: state, dtype: object, u'type': 0    business\n",
       " Name: type, dtype: object}"
      ]
     },
     "execution_count": 1269,
     "metadata": {},
     "output_type": "execute_result"
    }
   ],
   "source": [
    "test"
   ]
  },
  {
   "cell_type": "code",
   "execution_count": 1359,
   "metadata": {
    "collapsed": false
   },
   "outputs": [],
   "source": [
    "y_preds = k_union.predict(X_train) "
   ]
  },
  {
   "cell_type": "code",
   "execution_count": 1360,
   "metadata": {
    "collapsed": false
   },
   "outputs": [
    {
     "data": {
      "text/plain": [
       "(3.8963807043599843, 3.5)"
      ]
     },
     "execution_count": 1360,
     "metadata": {},
     "output_type": "execute_result"
    }
   ],
   "source": [
    "y_preds[0], y_train[0]"
   ]
  },
  {
   "cell_type": "code",
   "execution_count": 1361,
   "metadata": {
    "collapsed": false
   },
   "outputs": [
    {
     "data": {
      "text/plain": [
       "<matplotlib.legend.Legend at 0x7f1797974910>"
      ]
     },
     "execution_count": 1361,
     "metadata": {},
     "output_type": "execute_result"
    },
    {
     "data": {
      "image/png": "[encoded data removed]",
      "text/plain": [
       "<matplotlib.figure.Figure at 0x7f179c4f2ad0>"
      ]
     },
     "metadata": {},
     "output_type": "display_data"
    }
   ],
   "source": [
    "alphas = [0.00001,0.0001,0.001]\n",
    "in_sample_errors = []\n",
    "for alpha in alphas:    \n",
    "    k_union = pipeline.Pipeline([\n",
    "  (\"features\", all_features),\n",
    "  (\"linreg\", linear_model.Ridge(alpha=alpha))\n",
    "  ])\n",
    "    k_union.fit(X_train, y_train)    \n",
    "    y_pred= k_union.predict(X_train) \n",
    "    in_sample_errors.append(metrics.mean_squared_error(y_train, y_pred))\n",
    "    \n",
    "plt.plot(alphas, in_sample_errors, label='In-Sample Error')\n",
    "plt.xlabel('Alphas')\n",
    "plt.ylabel('MSE')\n",
    "plt.legend(loc='upper right')"
   ]
  },
  {
   "cell_type": "code",
   "execution_count": 1363,
   "metadata": {
    "collapsed": false
   },
   "outputs": [
    {
     "data": {
      "text/plain": [
       "0.75166107376689562"
      ]
     },
     "execution_count": 1363,
     "metadata": {},
     "output_type": "execute_result"
    }
   ],
   "source": [
    "in_sample_errors[0]"
   ]
  },
  {
   "cell_type": "code",
   "execution_count": 1364,
   "metadata": {
    "collapsed": false,
    "scrolled": true
   },
   "outputs": [
    {
     "data": {
      "text/plain": [
       "<matplotlib.axes._subplots.AxesSubplot at 0x7f179f6228d0>"
      ]
     },
     "execution_count": 1364,
     "metadata": {},
     "output_type": "execute_result"
    },
    {
     "data": {
      "image/png": "[encoded data removed]",
      "text/plain": [
       "<matplotlib.figure.Figure at 0x7f179c4ff150>"
      ]
     },
     "metadata": {},
     "output_type": "display_data"
    }
   ],
   "source": [
    "# Lasso Regression with cross validation\n",
    "np.random.seed(42)\n",
    "##alphas = np.logspace(0.01, 1, 20)\n",
    "alphas = [0.00001,0.0001,0.001]\n",
    "\n",
    "# Let's try to evaluate the model on different sets of features and compare their performance\n",
    "\n",
    "from sklearn import cross_validation\n",
    "from scipy import stats\n",
    "\n",
    "cv = cross_validation.ShuffleSplit(len(y), n_iter=20, test_size=0.2, random_state=42)\n",
    "def compute_error(lml, X, y):\n",
    "    return -cross_validation.cross_val_score(lml, X, y, cv=cv, scoring='mean_squared_error').mean()\n",
    "\n",
    "def abs_corr(x, y):\n",
    "    return np.abs(stats.pearsonr(x, y)[0])\n",
    "\n",
    "\n",
    "\n",
    "\n",
    "lasso_models = pd.DataFrame(\n",
    "    [(alpha,\n",
    "      \"Lasso with alpha = %f\" % alpha,\n",
    "      compute_error(k_union, X_train, y_train)) for alpha in alphas],\n",
    "    columns=['alpha', 'Model', 'MSE'])\n",
    "lasso_models.plot(x='alpha', y='MSE', logx=True, title='MSE')"
   ]
  },
  {
   "cell_type": "code",
   "execution_count": 1365,
   "metadata": {
    "collapsed": false
   },
   "outputs": [
    {
     "data": {
      "text/html": [
       "<div>\n",
       "<table border=\"1\" class=\"dataframe\">\n",
       "  <thead>\n",
       "    <tr style=\"text-align: right;\">\n",
       "      <th></th>\n",
       "      <th>alpha</th>\n",
       "      <th>Model</th>\n",
       "      <th>MSE</th>\n",
       "    </tr>\n",
       "  </thead>\n",
       "  <tbody>\n",
       "    <tr>\n",
       "      <th>0</th>\n",
       "      <td>0.00001</td>\n",
       "      <td>Lasso with alpha = 0.000010</td>\n",
       "      <td>0.77457</td>\n",
       "    </tr>\n",
       "    <tr>\n",
       "      <th>1</th>\n",
       "      <td>0.00010</td>\n",
       "      <td>Lasso with alpha = 0.000100</td>\n",
       "      <td>0.77457</td>\n",
       "    </tr>\n",
       "    <tr>\n",
       "      <th>2</th>\n",
       "      <td>0.00100</td>\n",
       "      <td>Lasso with alpha = 0.001000</td>\n",
       "      <td>0.77457</td>\n",
       "    </tr>\n",
       "  </tbody>\n",
       "</table>\n",
       "</div>"
      ],
      "text/plain": [
       "     alpha                        Model      MSE\n",
       "0  0.00001  Lasso with alpha = 0.000010  0.77457\n",
       "1  0.00010  Lasso with alpha = 0.000100  0.77457\n",
       "2  0.00100  Lasso with alpha = 0.001000  0.77457"
      ]
     },
     "execution_count": 1365,
     "metadata": {},
     "output_type": "execute_result"
    }
   ],
   "source": [
    "lasso_models"
   ]
  },
  {
   "cell_type": "code",
   "execution_count": 1022,
   "metadata": {
    "collapsed": false
   },
   "outputs": [
    {
     "data": {
      "text/plain": [
       "u'Phoenix'"
      ]
     },
     "execution_count": 1022,
     "metadata": {},
     "output_type": "execute_result"
    }
   ],
   "source": [
    "test['city'][0]"
   ]
  },
  {
   "cell_type": "code",
   "execution_count": 1116,
   "metadata": {
    "collapsed": false
   },
   "outputs": [
    {
     "data": {
      "text/plain": [
       "-111.98375799999999"
      ]
     },
     "execution_count": 1116,
     "metadata": {},
     "output_type": "execute_result"
    }
   ],
   "source": [
    "test['longitude'][0]"
   ]
  },
  {
   "cell_type": "code",
   "execution_count": 1150,
   "metadata": {
    "collapsed": false
   },
   "outputs": [
    {
     "data": {
      "text/plain": [
       "2"
      ]
     },
     "execution_count": 1150,
     "metadata": {},
     "output_type": "execute_result"
    }
   ],
   "source": [
    "len(test['longitude'])"
   ]
  },
  {
   "cell_type": "code",
   "execution_count": 1190,
   "metadata": {
    "collapsed": false
   },
   "outputs": [],
   "source": [
    "old_dict =dict(test)"
   ]
  },
  {
   "cell_type": "code",
   "execution_count": 1191,
   "metadata": {
    "collapsed": true
   },
   "outputs": [],
   "source": [
    "your_keys = ['latitude', 'longitude']"
   ]
  },
  {
   "cell_type": "code",
   "execution_count": 1197,
   "metadata": {
    "collapsed": true
   },
   "outputs": [],
   "source": [
    "dict_you_want = { your_key: old_dict[your_key][0] for your_key in your_keys }"
   ]
  },
  {
   "cell_type": "code",
   "execution_count": 1198,
   "metadata": {
    "collapsed": false
   },
   "outputs": [
    {
     "data": {
      "text/plain": [
       "{'latitude': 33.499313000000001, 'longitude': -111.98375799999999}"
      ]
     },
     "execution_count": 1198,
     "metadata": {},
     "output_type": "execute_result"
    }
   ],
   "source": [
    "dict_you_want"
   ]
  },
  {
   "cell_type": "code",
   "execution_count": 1196,
   "metadata": {
    "collapsed": false
   },
   "outputs": [
    {
     "data": {
      "text/plain": [
       "33.499313000000001"
      ]
     },
     "execution_count": 1196,
     "metadata": {},
     "output_type": "execute_result"
    }
   ],
   "source": [
    "old_dict['latitude'][0]"
   ]
  },
  {
   "cell_type": "code",
   "execution_count": 1214,
   "metadata": {
    "collapsed": false
   },
   "outputs": [
    {
     "ename": "SyntaxError",
     "evalue": "invalid syntax (<ipython-input-1214-793d899c6348>, line 2)",
     "output_type": "error",
     "traceback": [
      "\u001b[1;36m  File \u001b[1;32m\"<ipython-input-1214-793d899c6348>\"\u001b[1;36m, line \u001b[1;32m2\u001b[0m\n\u001b[1;33m    print [r[0] and count+=1 for r in zip(X_train['latitude'], X_train['longitude']) if count <=5 ]\u001b[0m\n\u001b[1;37m                          ^\u001b[0m\n\u001b[1;31mSyntaxError\u001b[0m\u001b[1;31m:\u001b[0m invalid syntax\n"
     ]
    }
   ],
   "source": [
    "count = 0\n",
    "if count <=5:\n",
    " for r in zip(X_train['latitude'], X_train['longitude'])  ]"
   ]
  },
  {
   "cell_type": "code",
   "execution_count": 1215,
   "metadata": {
    "collapsed": true
   },
   "outputs": [],
   "source": [
    "new_tuple =[]\n",
    "for r in zip(X_train['latitude'], X_train['longitude']):\n",
    "    new_tuple.append(r)"
   ]
  },
  {
   "cell_type": "code",
   "execution_count": 1217,
   "metadata": {
    "collapsed": false
   },
   "outputs": [
    {
     "data": {
      "text/plain": [
       "37938"
      ]
     },
     "execution_count": 1217,
     "metadata": {},
     "output_type": "execute_result"
    }
   ],
   "source": [
    "len(new_tuple)"
   ]
  },
  {
   "cell_type": "code",
   "execution_count": 1223,
   "metadata": {
    "collapsed": false
   },
   "outputs": [
    {
     "data": {
      "text/plain": [
       "(43.094420900000003, -89.353684999999999)"
      ]
     },
     "execution_count": 1223,
     "metadata": {},
     "output_type": "execute_result"
    }
   ],
   "source": [
    "new_tuple[200]"
   ]
  },
  {
   "cell_type": "code",
   "execution_count": 1375,
   "metadata": {
    "collapsed": false
   },
   "outputs": [],
   "source": [
    "class EstimatorWrapper():\n",
    "    def __init__(self, estimator):\n",
    "        self.estimator = estimator\n",
    "    \n",
    "    def fit(self, X, y=None):\n",
    "        return self\n",
    "    \n",
    "    def transform(self, X):\n",
    "        return [[x][0] for x in self.estimator.predict(X)]\n",
    "    \n",
    "    def coef_(self):\n",
    "        return self.estimator.coef_"
   ]
  },
  {
   "cell_type": "code",
   "execution_count": 1376,
   "metadata": {
    "collapsed": true
   },
   "outputs": [],
   "source": [
    "full_model = EstimatorWrapper(k_union)"
   ]
  },
  {
   "cell_type": "code",
   "execution_count": 1377,
   "metadata": {
    "collapsed": false
   },
   "outputs": [
    {
     "data": {
      "text/plain": [
       "[3.8963887196455107]"
      ]
     },
     "execution_count": 1377,
     "metadata": {},
     "output_type": "execute_result"
    }
   ],
   "source": [
    "full_model.transform(test)"
   ]
  },
  {
   "cell_type": "code",
   "execution_count": 1371,
   "metadata": {
    "collapsed": true
   },
   "outputs": [],
   "source": [
    "with open('full_model.dill', 'w') as filename:\n",
    "    dill.dump(full_model,filename)"
   ]
  },
  {
   "cell_type": "code",
   "execution_count": 1383,
   "metadata": {
    "collapsed": false
   },
   "outputs": [
    {
     "data": {
      "text/plain": [
       "<bound method EstimatorWrapper.coef_ of <__main__.EstimatorWrapper instance at 0x7f1796dfec20>>"
      ]
     },
     "execution_count": 1383,
     "metadata": {},
     "output_type": "execute_result"
    }
   ],
   "source": [
    "full_model.coef_"
   ]
  },
  {
   "cell_type": "code",
   "execution_count": null,
   "metadata": {
    "collapsed": true
   },
   "outputs": [],
   "source": []
  }
 ],
 "metadata": {
  "kernelspec": {
   "display_name": "Python 2",
   "language": "python",
   "name": "python2"
  },
  "language_info": {
   "codemirror_mode": {
    "name": "ipython",
    "version": 2
   },
   "file_extension": ".py",
   "mimetype": "text/x-python",
   "name": "python",
   "nbconvert_exporter": "python",
   "pygments_lexer": "ipython2",
   "version": "2.7.10"
  }
 },
 "nbformat": 4,
 "nbformat_minor": 0
}
