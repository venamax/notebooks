{
 "cells": [
  {
   "cell_type": "code",
   "execution_count": 5,
   "metadata": {
    "collapsed": false
   },
   "outputs": [
    {
     "ename": "RuntimeError",
     "evalue": "module compiled against API version a but this version of numpy is 9",
     "output_type": "error",
     "traceback": [
      "\u001b[1;31m---------------------------------------------------------------------------\u001b[0m",
      "\u001b[1;31mRuntimeError\u001b[0m                              Traceback (most recent call last)",
      "\u001b[1;31mRuntimeError\u001b[0m: module compiled against API version a but this version of numpy is 9"
     ]
    },
    {
     "ename": "ImportError",
     "evalue": "numpy.core.multiarray failed to import",
     "output_type": "error",
     "traceback": [
      "\u001b[1;31m---------------------------------------------------------------------------\u001b[0m",
      "\u001b[1;31mImportError\u001b[0m                               Traceback (most recent call last)",
      "\u001b[1;32m<ipython-input-5-bf2cf60f99b3>\u001b[0m in \u001b[0;36m<module>\u001b[1;34m()\u001b[0m\n\u001b[1;32m----> 1\u001b[1;33m \u001b[0mget_ipython\u001b[0m\u001b[1;33m(\u001b[0m\u001b[1;33m)\u001b[0m\u001b[1;33m.\u001b[0m\u001b[0mmagic\u001b[0m\u001b[1;33m(\u001b[0m\u001b[1;34mu'matplotlib inline'\u001b[0m\u001b[1;33m)\u001b[0m\u001b[1;33m\u001b[0m\u001b[0m\n\u001b[0m\u001b[0;32m      2\u001b[0m \u001b[1;32mimport\u001b[0m \u001b[0mmatplotlib\u001b[0m\u001b[1;33m\u001b[0m\u001b[0m\n\u001b[0;32m      3\u001b[0m \u001b[1;32mimport\u001b[0m \u001b[0mseaborn\u001b[0m \u001b[1;32mas\u001b[0m \u001b[0msns\u001b[0m\u001b[1;33m\u001b[0m\u001b[0m\n\u001b[0;32m      4\u001b[0m \u001b[0mmatplotlib\u001b[0m\u001b[1;33m.\u001b[0m\u001b[0mrcParams\u001b[0m\u001b[1;33m[\u001b[0m\u001b[1;34m'savefig.dpi'\u001b[0m\u001b[1;33m]\u001b[0m \u001b[1;33m=\u001b[0m \u001b[1;36m2\u001b[0m \u001b[1;33m*\u001b[0m \u001b[0mmatplotlib\u001b[0m\u001b[1;33m.\u001b[0m\u001b[0mrcParams\u001b[0m\u001b[1;33m[\u001b[0m\u001b[1;34m'savefig.dpi'\u001b[0m\u001b[1;33m]\u001b[0m\u001b[1;33m\u001b[0m\u001b[0m\n",
      "\u001b[1;32m/root/anaconda2/lib/python2.7/site-packages/IPython/core/interactiveshell.pyc\u001b[0m in \u001b[0;36mmagic\u001b[1;34m(self, arg_s)\u001b[0m\n\u001b[0;32m   2161\u001b[0m         \u001b[0mmagic_name\u001b[0m\u001b[1;33m,\u001b[0m \u001b[0m_\u001b[0m\u001b[1;33m,\u001b[0m \u001b[0mmagic_arg_s\u001b[0m \u001b[1;33m=\u001b[0m \u001b[0marg_s\u001b[0m\u001b[1;33m.\u001b[0m\u001b[0mpartition\u001b[0m\u001b[1;33m(\u001b[0m\u001b[1;34m' '\u001b[0m\u001b[1;33m)\u001b[0m\u001b[1;33m\u001b[0m\u001b[0m\n\u001b[0;32m   2162\u001b[0m         \u001b[0mmagic_name\u001b[0m \u001b[1;33m=\u001b[0m \u001b[0mmagic_name\u001b[0m\u001b[1;33m.\u001b[0m\u001b[0mlstrip\u001b[0m\u001b[1;33m(\u001b[0m\u001b[0mprefilter\u001b[0m\u001b[1;33m.\u001b[0m\u001b[0mESC_MAGIC\u001b[0m\u001b[1;33m)\u001b[0m\u001b[1;33m\u001b[0m\u001b[0m\n\u001b[1;32m-> 2163\u001b[1;33m         \u001b[1;32mreturn\u001b[0m \u001b[0mself\u001b[0m\u001b[1;33m.\u001b[0m\u001b[0mrun_line_magic\u001b[0m\u001b[1;33m(\u001b[0m\u001b[0mmagic_name\u001b[0m\u001b[1;33m,\u001b[0m \u001b[0mmagic_arg_s\u001b[0m\u001b[1;33m)\u001b[0m\u001b[1;33m\u001b[0m\u001b[0m\n\u001b[0m\u001b[0;32m   2164\u001b[0m \u001b[1;33m\u001b[0m\u001b[0m\n\u001b[0;32m   2165\u001b[0m     \u001b[1;31m#-------------------------------------------------------------------------\u001b[0m\u001b[1;33m\u001b[0m\u001b[1;33m\u001b[0m\u001b[0m\n",
      "\u001b[1;32m/root/anaconda2/lib/python2.7/site-packages/IPython/core/interactiveshell.pyc\u001b[0m in \u001b[0;36mrun_line_magic\u001b[1;34m(self, magic_name, line)\u001b[0m\n\u001b[0;32m   2082\u001b[0m                 \u001b[0mkwargs\u001b[0m\u001b[1;33m[\u001b[0m\u001b[1;34m'local_ns'\u001b[0m\u001b[1;33m]\u001b[0m \u001b[1;33m=\u001b[0m \u001b[0msys\u001b[0m\u001b[1;33m.\u001b[0m\u001b[0m_getframe\u001b[0m\u001b[1;33m(\u001b[0m\u001b[0mstack_depth\u001b[0m\u001b[1;33m)\u001b[0m\u001b[1;33m.\u001b[0m\u001b[0mf_locals\u001b[0m\u001b[1;33m\u001b[0m\u001b[0m\n\u001b[0;32m   2083\u001b[0m             \u001b[1;32mwith\u001b[0m \u001b[0mself\u001b[0m\u001b[1;33m.\u001b[0m\u001b[0mbuiltin_trap\u001b[0m\u001b[1;33m:\u001b[0m\u001b[1;33m\u001b[0m\u001b[0m\n\u001b[1;32m-> 2084\u001b[1;33m                 \u001b[0mresult\u001b[0m \u001b[1;33m=\u001b[0m \u001b[0mfn\u001b[0m\u001b[1;33m(\u001b[0m\u001b[1;33m*\u001b[0m\u001b[0margs\u001b[0m\u001b[1;33m,\u001b[0m\u001b[1;33m**\u001b[0m\u001b[0mkwargs\u001b[0m\u001b[1;33m)\u001b[0m\u001b[1;33m\u001b[0m\u001b[0m\n\u001b[0m\u001b[0;32m   2085\u001b[0m             \u001b[1;32mreturn\u001b[0m \u001b[0mresult\u001b[0m\u001b[1;33m\u001b[0m\u001b[0m\n\u001b[0;32m   2086\u001b[0m \u001b[1;33m\u001b[0m\u001b[0m\n",
      "\u001b[1;32m<decorator-gen-106>\u001b[0m in \u001b[0;36mmatplotlib\u001b[1;34m(self, line)\u001b[0m\n",
      "\u001b[1;32m/root/anaconda2/lib/python2.7/site-packages/IPython/core/magic.pyc\u001b[0m in \u001b[0;36m<lambda>\u001b[1;34m(f, *a, **k)\u001b[0m\n\u001b[0;32m    191\u001b[0m     \u001b[1;31m# but it's overkill for just that one bit of state.\u001b[0m\u001b[1;33m\u001b[0m\u001b[1;33m\u001b[0m\u001b[0m\n\u001b[0;32m    192\u001b[0m     \u001b[1;32mdef\u001b[0m \u001b[0mmagic_deco\u001b[0m\u001b[1;33m(\u001b[0m\u001b[0marg\u001b[0m\u001b[1;33m)\u001b[0m\u001b[1;33m:\u001b[0m\u001b[1;33m\u001b[0m\u001b[0m\n\u001b[1;32m--> 193\u001b[1;33m         \u001b[0mcall\u001b[0m \u001b[1;33m=\u001b[0m \u001b[1;32mlambda\u001b[0m \u001b[0mf\u001b[0m\u001b[1;33m,\u001b[0m \u001b[1;33m*\u001b[0m\u001b[0ma\u001b[0m\u001b[1;33m,\u001b[0m \u001b[1;33m**\u001b[0m\u001b[0mk\u001b[0m\u001b[1;33m:\u001b[0m \u001b[0mf\u001b[0m\u001b[1;33m(\u001b[0m\u001b[1;33m*\u001b[0m\u001b[0ma\u001b[0m\u001b[1;33m,\u001b[0m \u001b[1;33m**\u001b[0m\u001b[0mk\u001b[0m\u001b[1;33m)\u001b[0m\u001b[1;33m\u001b[0m\u001b[0m\n\u001b[0m\u001b[0;32m    194\u001b[0m \u001b[1;33m\u001b[0m\u001b[0m\n\u001b[0;32m    195\u001b[0m         \u001b[1;32mif\u001b[0m \u001b[0mcallable\u001b[0m\u001b[1;33m(\u001b[0m\u001b[0marg\u001b[0m\u001b[1;33m)\u001b[0m\u001b[1;33m:\u001b[0m\u001b[1;33m\u001b[0m\u001b[0m\n",
      "\u001b[1;32m/root/anaconda2/lib/python2.7/site-packages/IPython/core/magics/pylab.pyc\u001b[0m in \u001b[0;36mmatplotlib\u001b[1;34m(self, line)\u001b[0m\n\u001b[0;32m     98\u001b[0m             \u001b[1;32mprint\u001b[0m\u001b[1;33m(\u001b[0m\u001b[1;34m\"Available matplotlib backends: %s\"\u001b[0m \u001b[1;33m%\u001b[0m \u001b[0mbackends_list\u001b[0m\u001b[1;33m)\u001b[0m\u001b[1;33m\u001b[0m\u001b[0m\n\u001b[0;32m     99\u001b[0m         \u001b[1;32melse\u001b[0m\u001b[1;33m:\u001b[0m\u001b[1;33m\u001b[0m\u001b[0m\n\u001b[1;32m--> 100\u001b[1;33m             \u001b[0mgui\u001b[0m\u001b[1;33m,\u001b[0m \u001b[0mbackend\u001b[0m \u001b[1;33m=\u001b[0m \u001b[0mself\u001b[0m\u001b[1;33m.\u001b[0m\u001b[0mshell\u001b[0m\u001b[1;33m.\u001b[0m\u001b[0menable_matplotlib\u001b[0m\u001b[1;33m(\u001b[0m\u001b[0margs\u001b[0m\u001b[1;33m.\u001b[0m\u001b[0mgui\u001b[0m\u001b[1;33m)\u001b[0m\u001b[1;33m\u001b[0m\u001b[0m\n\u001b[0m\u001b[0;32m    101\u001b[0m             \u001b[0mself\u001b[0m\u001b[1;33m.\u001b[0m\u001b[0m_show_matplotlib_backend\u001b[0m\u001b[1;33m(\u001b[0m\u001b[0margs\u001b[0m\u001b[1;33m.\u001b[0m\u001b[0mgui\u001b[0m\u001b[1;33m,\u001b[0m \u001b[0mbackend\u001b[0m\u001b[1;33m)\u001b[0m\u001b[1;33m\u001b[0m\u001b[0m\n\u001b[0;32m    102\u001b[0m \u001b[1;33m\u001b[0m\u001b[0m\n",
      "\u001b[1;32m/root/anaconda2/lib/python2.7/site-packages/IPython/core/interactiveshell.pyc\u001b[0m in \u001b[0;36menable_matplotlib\u001b[1;34m(self, gui)\u001b[0m\n\u001b[0;32m   2949\u001b[0m                 \u001b[0mgui\u001b[0m\u001b[1;33m,\u001b[0m \u001b[0mbackend\u001b[0m \u001b[1;33m=\u001b[0m \u001b[0mpt\u001b[0m\u001b[1;33m.\u001b[0m\u001b[0mfind_gui_and_backend\u001b[0m\u001b[1;33m(\u001b[0m\u001b[0mself\u001b[0m\u001b[1;33m.\u001b[0m\u001b[0mpylab_gui_select\u001b[0m\u001b[1;33m)\u001b[0m\u001b[1;33m\u001b[0m\u001b[0m\n\u001b[0;32m   2950\u001b[0m \u001b[1;33m\u001b[0m\u001b[0m\n\u001b[1;32m-> 2951\u001b[1;33m         \u001b[0mpt\u001b[0m\u001b[1;33m.\u001b[0m\u001b[0mactivate_matplotlib\u001b[0m\u001b[1;33m(\u001b[0m\u001b[0mbackend\u001b[0m\u001b[1;33m)\u001b[0m\u001b[1;33m\u001b[0m\u001b[0m\n\u001b[0m\u001b[0;32m   2952\u001b[0m         \u001b[0mpt\u001b[0m\u001b[1;33m.\u001b[0m\u001b[0mconfigure_inline_support\u001b[0m\u001b[1;33m(\u001b[0m\u001b[0mself\u001b[0m\u001b[1;33m,\u001b[0m \u001b[0mbackend\u001b[0m\u001b[1;33m)\u001b[0m\u001b[1;33m\u001b[0m\u001b[0m\n\u001b[0;32m   2953\u001b[0m \u001b[1;33m\u001b[0m\u001b[0m\n",
      "\u001b[1;32m/root/anaconda2/lib/python2.7/site-packages/IPython/core/pylabtools.pyc\u001b[0m in \u001b[0;36mactivate_matplotlib\u001b[1;34m(backend)\u001b[0m\n\u001b[0;32m    291\u001b[0m     \u001b[0mmatplotlib\u001b[0m\u001b[1;33m.\u001b[0m\u001b[0mrcParams\u001b[0m\u001b[1;33m[\u001b[0m\u001b[1;34m'backend'\u001b[0m\u001b[1;33m]\u001b[0m \u001b[1;33m=\u001b[0m \u001b[0mbackend\u001b[0m\u001b[1;33m\u001b[0m\u001b[0m\n\u001b[0;32m    292\u001b[0m \u001b[1;33m\u001b[0m\u001b[0m\n\u001b[1;32m--> 293\u001b[1;33m     \u001b[1;32mimport\u001b[0m \u001b[0mmatplotlib\u001b[0m\u001b[1;33m.\u001b[0m\u001b[0mpyplot\u001b[0m\u001b[1;33m\u001b[0m\u001b[0m\n\u001b[0m\u001b[0;32m    294\u001b[0m     \u001b[0mmatplotlib\u001b[0m\u001b[1;33m.\u001b[0m\u001b[0mpyplot\u001b[0m\u001b[1;33m.\u001b[0m\u001b[0mswitch_backend\u001b[0m\u001b[1;33m(\u001b[0m\u001b[0mbackend\u001b[0m\u001b[1;33m)\u001b[0m\u001b[1;33m\u001b[0m\u001b[0m\n\u001b[0;32m    295\u001b[0m \u001b[1;33m\u001b[0m\u001b[0m\n",
      "\u001b[1;32m/root/anaconda2/lib/python2.7/site-packages/matplotlib/pyplot.py\u001b[0m in \u001b[0;36m<module>\u001b[1;34m()\u001b[0m\n\u001b[0;32m     27\u001b[0m \u001b[1;32mfrom\u001b[0m \u001b[0mcycler\u001b[0m \u001b[1;32mimport\u001b[0m \u001b[0mcycler\u001b[0m\u001b[1;33m\u001b[0m\u001b[0m\n\u001b[0;32m     28\u001b[0m \u001b[1;32mimport\u001b[0m \u001b[0mmatplotlib\u001b[0m\u001b[1;33m\u001b[0m\u001b[0m\n\u001b[1;32m---> 29\u001b[1;33m \u001b[1;32mimport\u001b[0m \u001b[0mmatplotlib\u001b[0m\u001b[1;33m.\u001b[0m\u001b[0mcolorbar\u001b[0m\u001b[1;33m\u001b[0m\u001b[0m\n\u001b[0m\u001b[0;32m     30\u001b[0m \u001b[1;32mfrom\u001b[0m \u001b[0mmatplotlib\u001b[0m \u001b[1;32mimport\u001b[0m \u001b[0mstyle\u001b[0m\u001b[1;33m\u001b[0m\u001b[0m\n\u001b[0;32m     31\u001b[0m \u001b[1;32mfrom\u001b[0m \u001b[0mmatplotlib\u001b[0m \u001b[1;32mimport\u001b[0m \u001b[0m_pylab_helpers\u001b[0m\u001b[1;33m,\u001b[0m \u001b[0minteractive\u001b[0m\u001b[1;33m\u001b[0m\u001b[0m\n",
      "\u001b[1;32m/root/anaconda2/lib/python2.7/site-packages/matplotlib/colorbar.py\u001b[0m in \u001b[0;36m<module>\u001b[1;34m()\u001b[0m\n\u001b[0;32m     32\u001b[0m \u001b[1;32mimport\u001b[0m \u001b[0mmatplotlib\u001b[0m\u001b[1;33m.\u001b[0m\u001b[0martist\u001b[0m \u001b[1;32mas\u001b[0m \u001b[0mmartist\u001b[0m\u001b[1;33m\u001b[0m\u001b[0m\n\u001b[0;32m     33\u001b[0m \u001b[1;32mimport\u001b[0m \u001b[0mmatplotlib\u001b[0m\u001b[1;33m.\u001b[0m\u001b[0mcbook\u001b[0m \u001b[1;32mas\u001b[0m \u001b[0mcbook\u001b[0m\u001b[1;33m\u001b[0m\u001b[0m\n\u001b[1;32m---> 34\u001b[1;33m \u001b[1;32mimport\u001b[0m \u001b[0mmatplotlib\u001b[0m\u001b[1;33m.\u001b[0m\u001b[0mcollections\u001b[0m \u001b[1;32mas\u001b[0m \u001b[0mcollections\u001b[0m\u001b[1;33m\u001b[0m\u001b[0m\n\u001b[0m\u001b[0;32m     35\u001b[0m \u001b[1;32mimport\u001b[0m \u001b[0mmatplotlib\u001b[0m\u001b[1;33m.\u001b[0m\u001b[0mcolors\u001b[0m \u001b[1;32mas\u001b[0m \u001b[0mcolors\u001b[0m\u001b[1;33m\u001b[0m\u001b[0m\n\u001b[0;32m     36\u001b[0m \u001b[1;32mimport\u001b[0m \u001b[0mmatplotlib\u001b[0m\u001b[1;33m.\u001b[0m\u001b[0mcontour\u001b[0m \u001b[1;32mas\u001b[0m \u001b[0mcontour\u001b[0m\u001b[1;33m\u001b[0m\u001b[0m\n",
      "\u001b[1;32m/root/anaconda2/lib/python2.7/site-packages/matplotlib/collections.py\u001b[0m in \u001b[0;36m<module>\u001b[1;34m()\u001b[0m\n\u001b[0;32m     25\u001b[0m \u001b[1;32mimport\u001b[0m \u001b[0mmatplotlib\u001b[0m\u001b[1;33m.\u001b[0m\u001b[0martist\u001b[0m \u001b[1;32mas\u001b[0m \u001b[0martist\u001b[0m\u001b[1;33m\u001b[0m\u001b[0m\n\u001b[0;32m     26\u001b[0m \u001b[1;32mfrom\u001b[0m \u001b[0mmatplotlib\u001b[0m\u001b[1;33m.\u001b[0m\u001b[0martist\u001b[0m \u001b[1;32mimport\u001b[0m \u001b[0mallow_rasterization\u001b[0m\u001b[1;33m\u001b[0m\u001b[0m\n\u001b[1;32m---> 27\u001b[1;33m \u001b[1;32mimport\u001b[0m \u001b[0mmatplotlib\u001b[0m\u001b[1;33m.\u001b[0m\u001b[0mbackend_bases\u001b[0m \u001b[1;32mas\u001b[0m \u001b[0mbackend_bases\u001b[0m\u001b[1;33m\u001b[0m\u001b[0m\n\u001b[0m\u001b[0;32m     28\u001b[0m \u001b[1;32mimport\u001b[0m \u001b[0mmatplotlib\u001b[0m\u001b[1;33m.\u001b[0m\u001b[0mpath\u001b[0m \u001b[1;32mas\u001b[0m \u001b[0mmpath\u001b[0m\u001b[1;33m\u001b[0m\u001b[0m\n\u001b[0;32m     29\u001b[0m \u001b[1;32mfrom\u001b[0m \u001b[0mmatplotlib\u001b[0m \u001b[1;32mimport\u001b[0m \u001b[0m_path\u001b[0m\u001b[1;33m\u001b[0m\u001b[0m\n",
      "\u001b[1;32m/root/anaconda2/lib/python2.7/site-packages/matplotlib/backend_bases.py\u001b[0m in \u001b[0;36m<module>\u001b[1;34m()\u001b[0m\n\u001b[0;32m     60\u001b[0m \u001b[1;33m\u001b[0m\u001b[0m\n\u001b[0;32m     61\u001b[0m \u001b[1;32mimport\u001b[0m \u001b[0mmatplotlib\u001b[0m\u001b[1;33m.\u001b[0m\u001b[0mtight_bbox\u001b[0m \u001b[1;32mas\u001b[0m \u001b[0mtight_bbox\u001b[0m\u001b[1;33m\u001b[0m\u001b[0m\n\u001b[1;32m---> 62\u001b[1;33m \u001b[1;32mimport\u001b[0m \u001b[0mmatplotlib\u001b[0m\u001b[1;33m.\u001b[0m\u001b[0mtextpath\u001b[0m \u001b[1;32mas\u001b[0m \u001b[0mtextpath\u001b[0m\u001b[1;33m\u001b[0m\u001b[0m\n\u001b[0m\u001b[0;32m     63\u001b[0m \u001b[1;32mfrom\u001b[0m \u001b[0mmatplotlib\u001b[0m\u001b[1;33m.\u001b[0m\u001b[0mpath\u001b[0m \u001b[1;32mimport\u001b[0m \u001b[0mPath\u001b[0m\u001b[1;33m\u001b[0m\u001b[0m\n\u001b[0;32m     64\u001b[0m \u001b[1;32mfrom\u001b[0m \u001b[0mmatplotlib\u001b[0m\u001b[1;33m.\u001b[0m\u001b[0mcbook\u001b[0m \u001b[1;32mimport\u001b[0m \u001b[0mmplDeprecation\u001b[0m\u001b[1;33m,\u001b[0m \u001b[0mwarn_deprecated\u001b[0m\u001b[1;33m\u001b[0m\u001b[0m\n",
      "\u001b[1;32m/root/anaconda2/lib/python2.7/site-packages/matplotlib/textpath.py\u001b[0m in \u001b[0;36m<module>\u001b[1;34m()\u001b[0m\n\u001b[0;32m     13\u001b[0m \u001b[1;32mfrom\u001b[0m \u001b[0mmatplotlib\u001b[0m\u001b[1;33m.\u001b[0m\u001b[0mpath\u001b[0m \u001b[1;32mimport\u001b[0m \u001b[0mPath\u001b[0m\u001b[1;33m\u001b[0m\u001b[0m\n\u001b[0;32m     14\u001b[0m \u001b[1;32mfrom\u001b[0m \u001b[0mmatplotlib\u001b[0m \u001b[1;32mimport\u001b[0m \u001b[0mrcParams\u001b[0m\u001b[1;33m\u001b[0m\u001b[0m\n\u001b[1;32m---> 15\u001b[1;33m \u001b[1;32mimport\u001b[0m \u001b[0mmatplotlib\u001b[0m\u001b[1;33m.\u001b[0m\u001b[0mfont_manager\u001b[0m \u001b[1;32mas\u001b[0m \u001b[0mfont_manager\u001b[0m\u001b[1;33m\u001b[0m\u001b[0m\n\u001b[0m\u001b[0;32m     16\u001b[0m \u001b[1;32mfrom\u001b[0m \u001b[0mmatplotlib\u001b[0m\u001b[1;33m.\u001b[0m\u001b[0mft2font\u001b[0m \u001b[1;32mimport\u001b[0m \u001b[0mFT2Font\u001b[0m\u001b[1;33m,\u001b[0m \u001b[0mKERNING_DEFAULT\u001b[0m\u001b[1;33m,\u001b[0m \u001b[0mLOAD_NO_HINTING\u001b[0m\u001b[1;33m\u001b[0m\u001b[0m\n\u001b[0;32m     17\u001b[0m \u001b[1;32mfrom\u001b[0m \u001b[0mmatplotlib\u001b[0m\u001b[1;33m.\u001b[0m\u001b[0mft2font\u001b[0m \u001b[1;32mimport\u001b[0m \u001b[0mLOAD_TARGET_LIGHT\u001b[0m\u001b[1;33m\u001b[0m\u001b[0m\n",
      "\u001b[1;32m/root/anaconda2/lib/python2.7/site-packages/matplotlib/font_manager.py\u001b[0m in \u001b[0;36m<module>\u001b[1;34m()\u001b[0m\n\u001b[0;32m     56\u001b[0m \u001b[1;32mimport\u001b[0m \u001b[0mmatplotlib\u001b[0m\u001b[1;33m\u001b[0m\u001b[0m\n\u001b[0;32m     57\u001b[0m \u001b[1;32mfrom\u001b[0m \u001b[0mmatplotlib\u001b[0m \u001b[1;32mimport\u001b[0m \u001b[0mafm\u001b[0m\u001b[1;33m\u001b[0m\u001b[0m\n\u001b[1;32m---> 58\u001b[1;33m \u001b[1;32mfrom\u001b[0m \u001b[0mmatplotlib\u001b[0m \u001b[1;32mimport\u001b[0m \u001b[0mft2font\u001b[0m\u001b[1;33m\u001b[0m\u001b[0m\n\u001b[0m\u001b[0;32m     59\u001b[0m \u001b[1;32mfrom\u001b[0m \u001b[0mmatplotlib\u001b[0m \u001b[1;32mimport\u001b[0m \u001b[0mrcParams\u001b[0m\u001b[1;33m,\u001b[0m \u001b[0mget_cachedir\u001b[0m\u001b[1;33m\u001b[0m\u001b[0m\n\u001b[0;32m     60\u001b[0m \u001b[1;32mfrom\u001b[0m \u001b[0mmatplotlib\u001b[0m\u001b[1;33m.\u001b[0m\u001b[0mcbook\u001b[0m \u001b[1;32mimport\u001b[0m \u001b[0mis_string_like\u001b[0m\u001b[1;33m\u001b[0m\u001b[0m\n",
      "\u001b[1;31mImportError\u001b[0m: numpy.core.multiarray failed to import"
     ]
    }
   ],
   "source": [
    "%matplotlib inline\n",
    "import matplotlib\n",
    "import seaborn as sns\n",
    "matplotlib.rcParams['savefig.dpi'] = 2 * matplotlib.rcParams['savefig.dpi']"
   ]
  },
  {
   "cell_type": "code",
   "execution_count": 6,
   "metadata": {
    "collapsed": false
   },
   "outputs": [
    {
     "data": {
      "text/plain": [
       "'1.9.2'"
      ]
     },
     "execution_count": 6,
     "metadata": {},
     "output_type": "execute_result"
    }
   ],
   "source": [
    "import numpy\n",
    "numpy.version.version"
   ]
  },
  {
   "cell_type": "code",
   "execution_count": 4,
   "metadata": {
    "collapsed": false
   },
   "outputs": [
    {
     "name": "stdout",
     "output_type": "stream",
     "text": [
      "['/root/anaconda2/lib/python2.7/site-packages/numpy']\n",
      "1.9.2\n"
     ]
    }
   ],
   "source": [
    "import numpy\n",
    "print numpy.__path__\n",
    "print numpy.__version__\n"
   ]
  },
  {
   "cell_type": "markdown",
   "metadata": {},
   "source": [
    "# Consuming APIs (and JSON)\n",
    "\n",
    "Consuming APIs is supposed to be easy (that's the point of having an API).  \n",
    "\n",
    "Let's look at a simple example of consuming a JSON API.  The example we'll look at is a *geocoder*: That is, a service for converting between addresses and normalized geographic information (e.g. latitude and longitude).  Going from addresses to normalized form is \"forward geocoding\" and going the other way is \"reverse geocoding\".\n",
    "\n",
    "We'll interact with a free (and non-authenticated) geocoder run by OpenStreetMap:"
   ]
  },
  {
   "cell_type": "code",
   "execution_count": 1,
   "metadata": {
    "collapsed": false
   },
   "outputs": [
    {
     "data": {
      "text/plain": [
       "[{'address': {'city': 'SF',\n",
       "   'country': 'United States of America',\n",
       "   'country_code': 'us',\n",
       "   'county': 'SF',\n",
       "   'house_number': '865',\n",
       "   'neighbourhood': 'North of Panhandle',\n",
       "   'postcode': '94117',\n",
       "   'road': 'Page Street',\n",
       "   'state': 'California'},\n",
       "  'boundingbox': ['37.772362897959',\n",
       "   '37.772462897959',\n",
       "   '-122.43498053061',\n",
       "   '-122.43488053061'],\n",
       "  'class': 'place',\n",
       "  'display_name': '865, Page Street, North of Panhandle, SF, California, 94117, United States of America',\n",
       "  'importance': 0.301,\n",
       "  'lat': '37.7724128979592',\n",
       "  'licence': u'Data \\xa9 OpenStreetMap contributors, ODbL 1.0. http://www.openstreetmap.org/copyright',\n",
       "  'lon': '-122.434930530612',\n",
       "  'place_id': '477327017',\n",
       "  'type': 'house'}]"
      ]
     },
     "execution_count": 1,
     "metadata": {},
     "output_type": "execute_result"
    }
   ],
   "source": [
    "import urllib2\n",
    "import simplejson as json\n",
    "def geocode(address):\n",
    "    url = \"http://nominatim.openstreetmap.org/search?q=%s&addressdetails=1&format=json\" % (urllib2.quote(address),)\n",
    "    ret = urllib2.urlopen(url).read()\n",
    "    return json.loads(ret)\n",
    "\n",
    "my_home = geocode(\"865 page st, san francisco, ca 94117\")\n",
    "my_home"
   ]
  },
  {
   "cell_type": "markdown",
   "metadata": {},
   "source": [
    "You can also select out elements of JSON blobs in \"the natural way\":"
   ]
  },
  {
   "cell_type": "code",
   "execution_count": null,
   "metadata": {
    "collapsed": false
   },
   "outputs": [],
   "source": [
    "my_home[0]['boundingbox']"
   ]
  },
  {
   "cell_type": "markdown",
   "metadata": {},
   "source": [
    "### Things to note:\n",
    "\n",
    "1.  In this case, the request parameters were encoded in the URL itself.  This is usually the case for simple \"`GET`\" queries.  Because our string contained characters like spaces, we had to \"URL encode\" it (this is what `urllib2.quote` does).  It's usually a bad idea to do your own encoding like this: below we'll talk about the `requests` library, which lets us avoid this.\n",
    "\n",
    "2. The result was returned to us in the form of _JSON_.  JSON is JavaScript Object Notation -- it's a human readable text-based format for transmitting key-value pairs (and strings, numbers, and arrays).  The `json` package lets us convert between this and Python's native dictionaries, etc.\n",
    " \n",
    "3. This was a public API, with no authentication.  We'll go through an example of the code for an authenticated API at the end -- the example will be the free Twitter stream.  (The reason we didn't do this up front is that you can't run the code without signing up for an API key, etc.)"
   ]
  },
  {
   "cell_type": "code",
   "execution_count": 2,
   "metadata": {
    "collapsed": false
   },
   "outputs": [
    {
     "name": "stdout",
     "output_type": "stream",
     "text": [
      "1600 Pennsylvania Avenue, Washington, DC\n",
      "\n",
      "http://nominatim.openstreetmap.org/search?q=1600%20Pennsylvania%20Avenue%2C%20Washington%2C%20DC&addressdetails=1&format=json\n",
      "\n",
      "[{\"place_id\":\"114705257\",\"licence\":\"Data © OpenStreetMap contributors, ODbL 1.0. http:\\/\\/www.openstreetmap.org\\/copyright\",\"osm_type\":\"way\",\"osm_id\":\"238241022\",\"boundingbox\":[\"38.8974898\",\"38.897911\",\"-77.0368539\",\"-77.0362521\"],\"lat\":\"38.8976989\",\"lon\":\"-77.036553192281\",\"display_name\":\"White House, 1600, Pennsylvania Avenue Northwest, Monumental Core, Logan Circle, Washington, District of Columbia, 20500, United States of America\",\"class\":\"building\",\"type\":\"yes\",\"importance\":0.91767573872961,\"address\":{\"building\":\"White House\",\"house_number\":\"1600\",\"pedestrian\":\"Pennsylvania Avenue Northwest\",\"neighbourhood\":\"Monumental Core\",\"suburb\":\"Logan Circle\",\"city\":\"Washington\",\"state\":\"District of Columbia\",\"postcode\":\"20500\",\"country\":\"United States of America\",\"country_code\":\"us\"}},{\"place_id\":\"27830651\",\"licence\":\"Data © OpenStreetMap contributors, ODbL 1.0. http:\\/\\/www.openstreetmap.org\\/copyright\",\"osm_type\":\"node\",\"osm_id\":\"2633633933\",\"boundingbox\":[\"38.897668\",\"38.897768\",\"-77.0365981\",\"-77.0364981\"],\"lat\":\"38.897718\",\"lon\":\"-77.0365481\",\"display_name\":\"1600, Pennsylvania Avenue Northwest, Monumental Core, Logan Circle, Washington, District of Columbia, 20006, United States of America\",\"class\":\"man_made\",\"type\":\"flagpole\",\"importance\":0.311,\"address\":{\"house_number\":\"1600\",\"pedestrian\":\"Pennsylvania Avenue Northwest\",\"neighbourhood\":\"Monumental Core\",\"suburb\":\"Logan Circle\",\"city\":\"Washington\",\"state\":\"District of Columbia\",\"postcode\":\"20006\",\"country\":\"United States of America\",\"country_code\":\"us\"}}]\n",
      "\n"
     ]
    },
    {
     "data": {
      "text/plain": [
       "[{'address': {'building': 'White House',\n",
       "   'city': 'Washington',\n",
       "   'country': 'United States of America',\n",
       "   'country_code': 'us',\n",
       "   'house_number': '1600',\n",
       "   'neighbourhood': 'Monumental Core',\n",
       "   'pedestrian': 'Pennsylvania Avenue Northwest',\n",
       "   'postcode': '20500',\n",
       "   'state': 'District of Columbia',\n",
       "   'suburb': 'Logan Circle'},\n",
       "  'boundingbox': ['38.8974898', '38.897911', '-77.0368539', '-77.0362521'],\n",
       "  'class': 'building',\n",
       "  'display_name': 'White House, 1600, Pennsylvania Avenue Northwest, Monumental Core, Logan Circle, Washington, District of Columbia, 20500, United States of America',\n",
       "  'importance': 0.91767573872961,\n",
       "  'lat': '38.8976989',\n",
       "  'licence': u'Data \\xa9 OpenStreetMap contributors, ODbL 1.0. http://www.openstreetmap.org/copyright',\n",
       "  'lon': '-77.036553192281',\n",
       "  'osm_id': '238241022',\n",
       "  'osm_type': 'way',\n",
       "  'place_id': '114705257',\n",
       "  'type': 'yes'},\n",
       " {'address': {'city': 'Washington',\n",
       "   'country': 'United States of America',\n",
       "   'country_code': 'us',\n",
       "   'house_number': '1600',\n",
       "   'neighbourhood': 'Monumental Core',\n",
       "   'pedestrian': 'Pennsylvania Avenue Northwest',\n",
       "   'postcode': '20006',\n",
       "   'state': 'District of Columbia',\n",
       "   'suburb': 'Logan Circle'},\n",
       "  'boundingbox': ['38.897668', '38.897768', '-77.0365981', '-77.0364981'],\n",
       "  'class': 'man_made',\n",
       "  'display_name': '1600, Pennsylvania Avenue Northwest, Monumental Core, Logan Circle, Washington, District of Columbia, 20006, United States of America',\n",
       "  'importance': 0.311,\n",
       "  'lat': '38.897718',\n",
       "  'licence': u'Data \\xa9 OpenStreetMap contributors, ODbL 1.0. http://www.openstreetmap.org/copyright',\n",
       "  'lon': '-77.0365481',\n",
       "  'osm_id': '2633633933',\n",
       "  'osm_type': 'node',\n",
       "  'place_id': '27830651',\n",
       "  'type': 'flagpole'}]"
      ]
     },
     "execution_count": 2,
     "metadata": {},
     "output_type": "execute_result"
    }
   ],
   "source": [
    "address = \"1600 Pennsylvania Avenue, Washington, DC\"\n",
    "url = \"http://nominatim.openstreetmap.org/search?q=%s&addressdetails=1&format=json\" % (urllib2.quote(address),)\n",
    "\n",
    "print address\n",
    "print\n",
    "print url\n",
    "print\n",
    "print urllib2.urlopen(url).read()\n",
    "print\n",
    "json.loads(urllib2.urlopen(url).read())"
   ]
  },
  {
   "cell_type": "markdown",
   "metadata": {},
   "source": [
    "To make it easier to see what's going on, let's pretty-print that JSON object:\n",
    "\n",
    "    [\n",
    "       {\"place_id\":\"9163027846\",\n",
    "        \"licence\":\"Data \\u00a9 OpenStreetMap contributors, ODbL 1.0. http:\\/\\/www.openstreetmap.org\\/copyright\",\n",
    "        \"osm_type\":\"way\",\n",
    "        \"osm_id\":\"11557939\",\n",
    "        \"boundingbox\": [\"39.655891418457\", \"39.6572189331055\", \n",
    "                        \"-77.5709609985352\", \"-77.5705108642578\"],\n",
    "        \"lat\":\"39.6566765\",\n",
    "        \"lon\":\"-77.5708067\",\n",
    "        \"display_name\":\"Pennsylvania Avenue, Smithsburg, Washington, Maryland, 21783, United States of America\",\n",
    "        \"class\":\"highway\",\n",
    "        \"type\":\"tertiary\",\n",
    "        \"importance\":0.41,\n",
    "        \"address\": {\"road\":\"Pennsylvania Avenue\",\n",
    "                    \"town\":\"Smithsburg\", \n",
    "                    \"county\":\"Washington\", \n",
    "                    \"state\":\"Maryland\", \n",
    "                    \"postcode\":\"21783\", \n",
    "                    \"country\":\"United States of America\", \n",
    "                    \"country_code\":\"us\"\n",
    "                   }\n",
    "       }\n",
    "    ]\n",
    "\n",
    "Just like in Python, `[..]` is for arrays and `{..}` is for a dictionary.  This is pretty much all there is to JSON.\n"
   ]
  },
  {
   "cell_type": "markdown",
   "metadata": {},
   "source": [
    "**Exercise:** There's also a [free API](http://openweathermap.org) for weather information.\n",
    "\n",
    "A sample request might look something like `http://api.openweathermap.org/data/2.5/weather?lat=35&lon=139`\n",
    "\n",
    "Use the geocoder to write a function\n",
    "\n",
    "        def weather_at_address(address):\n",
    "            ....\n",
    "            \n",
    "that gets the current weather (temperature, cloudy or not) from a human-entered address."
   ]
  },
  {
   "cell_type": "markdown",
   "metadata": {},
   "source": [
    "## Handling URL parameters\n",
    "\n",
    "`urllib2` module requires an enormous amount of work to perform the simplest of tasks. The `requests` library provides a higher-level way to do web requests. This is already nice in examples, like the above, where we need to encode parameters into the URL.  It is even more convenient when there are also `POST` parameters (or cookies, or authentication, or...) involved.  (Don't worry if you don't know what that means.)"
   ]
  },
  {
   "cell_type": "code",
   "execution_count": 3,
   "metadata": {
    "collapsed": false
   },
   "outputs": [],
   "source": [
    "import requests\n",
    "def geocode(address):\n",
    "    params = { 'format'        :'json', \n",
    "               'addressdetails': 1, \n",
    "               'q'             : address}\n",
    "    r = requests.get('http://nominatim.openstreetmap.org/search', params=params)\n",
    "    return r.json()"
   ]
  },
  {
   "cell_type": "code",
   "execution_count": 4,
   "metadata": {
    "collapsed": false
   },
   "outputs": [],
   "source": [
    "x = geocode(\"107 Page St., San Francisco\")"
   ]
  },
  {
   "cell_type": "code",
   "execution_count": 5,
   "metadata": {
    "collapsed": false
   },
   "outputs": [
    {
     "data": {
      "text/plain": [
       "{u'address': {u'city': u'SF',\n",
       "  u'country': u'United States of America',\n",
       "  u'country_code': u'us',\n",
       "  u'county': u'SF',\n",
       "  u'house_number': u'107',\n",
       "  u'neighbourhood': u'Western Addition',\n",
       "  u'postcode': u'94102',\n",
       "  u'road': u'Page Street',\n",
       "  u'state': u'California'},\n",
       " u'boundingbox': [u'37.773924413793',\n",
       "  u'37.774024413793',\n",
       "  u'-122.42266903448',\n",
       "  u'-122.42256903448'],\n",
       " u'class': u'place',\n",
       " u'display_name': u'107, Page Street, Western Addition, SF, California, 94102, United States of America',\n",
       " u'importance': 0.201,\n",
       " u'lat': u'37.7739744137931',\n",
       " u'licence': u'Data \\xa9 OpenStreetMap contributors, ODbL 1.0. http://www.openstreetmap.org/copyright',\n",
       " u'lon': u'-122.422619034483',\n",
       " u'place_id': u'477462016',\n",
       " u'type': u'house'}"
      ]
     },
     "execution_count": 5,
     "metadata": {},
     "output_type": "execute_result"
    }
   ],
   "source": [
    "x[0]"
   ]
  },
  {
   "cell_type": "markdown",
   "metadata": {},
   "source": [
    "## Authenticated APIs\n",
    "\n",
    "Lots of interesting APIs are free (or at least free for moderate use) but still require you to register first.  The `requests` library (together with some supporting ones, e.g. `requests_oauthlib`) make it easy to consume these too.\n",
    "\n",
    "**Exercise:** In order to access the Twitter API, you must first sign up: create an app on http://apps.twitter.com, get an access token, et voila, you have your shiny new credentials -- consisting of four pieces of data. The file /secrets/twitter_secrets.json.sample in the datacourse repo has the format template; then rename the file to have a .nogit extension to prevent it being tracked in the repository."
   ]
  },
  {
   "cell_type": "code",
   "execution_count": 9,
   "metadata": {
    "collapsed": false
   },
   "outputs": [],
   "source": [
    "import simplejson\n",
    "from requests_oauthlib import OAuth1\n",
    "\n",
    "with open(\"secrets/twitter_secrets.json.nogit\") as fh:\n",
    "    secrets = simplejson.loads(fh.read())\n",
    "\n",
    "# create an auth object\n",
    "auth = OAuth1(\n",
    "    secrets[\"api_key\"],\n",
    "    secrets[\"api_secret\"],\n",
    "    secrets[\"access_token\"],\n",
    "    secrets[\"access_token_secret\"]\n",
    ")"
   ]
  },
  {
   "cell_type": "code",
   "execution_count": 13,
   "metadata": {
    "collapsed": false
   },
   "outputs": [
    {
     "data": {
      "text/plain": [
       "[(u'dennisjjjdennis', u'dennisjjjreillys'),\n",
       " (u'lie155', u'Liedena Lopez'),\n",
       " (u'Karitho10', u'Carolina Gonzalez'),\n",
       " (u'PictuneApp', u'Pictune'),\n",
       " (u'sarahraniero', u'sarah raniero'),\n",
       " (u'LeopoldoAbreu', u'Leopoldo De Abreu'),\n",
       " (u'DanzoyExisto', u'Claudia Cordido'),\n",
       " (u'Valdivinoaugus1', u'Valdivino augusto'),\n",
       " (u'sidrerialasierr', u'sidrerialasierra'),\n",
       " (u'alfonsoguzmanlu', u'Alfonso Guzm\\xe1n L\\xfa'),\n",
       " (u'atenea8007', u'atenea'),\n",
       " (u'tonyelmasterva1', u'tony'),\n",
       " (u'Danipatafunk', u'Daniel Roa'),\n",
       " (u'CaracasSW', u'Caracas SW'),\n",
       " (u'GrupoMAS3', u'GRUPO MAS 3'),\n",
       " (u'Angie17111', u'Chac\\xf3n Ang\\xe9lica'),\n",
       " (u'1ERCLIP', u'PrimerClip: ADAELLE'),\n",
       " (u'Medicenkios_', u'Charlie Charlie\\u2614\\ufe0f\\u25b2KC'),\n",
       " (u'Herglobalimpact', u'HER GLOBAL IMPACT'),\n",
       " (u'thiagoantonya', u'Thiago Silva'),\n",
       " (u'Andres53825791', u'Andres'),\n",
       " (u'themiguelacho', u'Miguel R'),\n",
       " (u'exp_chilepesca', u'Exp_ChilePesca'),\n",
       " (u'rixio_acosta', u'r'),\n",
       " (u'efrainhenrique6', u'efrain henriquez'),\n",
       " (u'aula7net', u'Aula7'),\n",
       " (u'FumaSinCensura', u'Fuma Sin Censura'),\n",
       " (u'medinarosibel', u'Rosibel Medina'),\n",
       " (u'rocielca', u'gustavo herrera'),\n",
       " (u'GaitasCanigua15', u'Gaitas Canigu\\xe1 2015'),\n",
       " (u'franzuaf1', u'melanye franzua'),\n",
       " (u'EliasYabrudes', u'Edgar Yabrudes'),\n",
       " (u'Foxtrot_1', u'Miguel Eduardo'),\n",
       " (u'humbertoeflores', u'humberto flores'),\n",
       " (u'Revistatusquo', u'Revista Status Quo'),\n",
       " (u'PedroTomasAC', u'Pedro Tomas Allende'),\n",
       " (u'jhova50', u'Jhovanny jimenez '),\n",
       " (u'Dobri26', u'DOBRIX CASTRO'),\n",
       " (u'auravar16112337', u'aura vargas'),\n",
       " (u'karuneyewear', u'Karun'),\n",
       " (u'ostos_marian', u'Marian Ostos'),\n",
       " (u'5cleiber', u'cleiber pi\\xf1eiro '),\n",
       " (u'endryb90', u'Endry Barrera'),\n",
       " (u'Valerialej19', u'Valeria\\u2661\\u2661'),\n",
       " (u'recapolES', u'Recapol S.A.'),\n",
       " (u'RafaelHrnndz12', u'rafael'),\n",
       " (u'LinexisB_14', u'Linexis E.Escalona'),\n",
       " (u'Gabyrodriiguezl', u'Gabriela Rodriguez'),\n",
       " (u'diorlybeth', u'Diorly`Evans'),\n",
       " (u'larrea2272', u'Liz Mariel Larrea')]"
      ]
     },
     "execution_count": 13,
     "metadata": {},
     "output_type": "execute_result"
    }
   ],
   "source": [
    "# See all of Michael's friends\n",
    "r = requests.get(\n",
    "    \"https://api.twitter.com/1.1/followers/ids.json\",\n",
    "    auth=auth,\n",
    "    params={'screen_name' : 'trixandtrax'}\n",
    ")\n",
    "trixandtrax_friends=r.json()\n",
    "\n",
    "r2 = requests.post(\n",
    "    'https://api.twitter.com/1.1/users/lookup.json',\n",
    "    auth=auth,\n",
    "    data={'user_id' : trixandtrax_friends['ids'][:50]}\n",
    ")\n",
    "friends_info = r2.json()\n",
    "[(f['screen_name'], f['name']) for f in friends_info]"
   ]
  },
  {
   "cell_type": "code",
   "execution_count": 14,
   "metadata": {
    "collapsed": false
   },
   "outputs": [
    {
     "name": "stdout",
     "output_type": "stream",
     "text": [
      "😍💙💙😍 https://t.co/EXSrCdUDgf\n",
      "@hezmick @AmvYo q nos dejen volver a los del 86 nos duran cuatro pipas https://t.co/83jQgHfzLa\n",
      "RT @roux_isabelle: #Bruxelles https://t.co/pXhHBZwe0B\n",
      "RT @NiallOfficial: There's way too much anger in the world .\n",
      "RT @whiequalenrol: ils ont décidés de mles péter ou quoi ?\n",
      "RT @talkspanishtome: Sending love to Brussles \n",
      "Enviando amor a Brussles https://t.co/FsPecHTfpU\n",
      "RT @11_dipa: https://t.co/umZJc8MfXX\n",
      "@Peter_Hendrickx [22/03/2016 18:27]  flight (FR164) cancelled\n",
      "https://t.co/U67N9oe1K2\n",
      "Фильм кухня посмотрел тут https://t.co/5ZhPses92o\n",
      "RT @dallascowboys: Moments after signing his new contract, @Trey_Deuces spoke with us for an exclusive interview.\n",
      "https://t.co/OjtrAr0z2J\n",
      "RT @anveymel: Buti nalang dumating ka sa ALDUB sobrang gv mga vids mo kiligness overload ang ganda pa, totoo yan!\n",
      "\n",
      "#EBGodGaveMeYou https://…\n",
      "@sv98 Go  Go  Go\n",
      "(وقالوا لو كنا نسمع أو نعقل ما كنا في أصحاب السعير) [الملك:10] https://t.co/ygRfTU3CjA\n",
      "RT @WSHHFANS: IM CRYING 😭 https://t.co/PWfwhvK18j\n",
      "RT @Doug_Giles: TED &amp; LINDSEY? Establishment Hack And Chief RINO, Lindsey Graham, Fundraises For Ted Cruz https://t.co/Um4rWLfdmF\n",
      "#prayersforbrussels #thoughtsandprayers #prayersfortheworld https://t.co/RrKMSx40qX\n",
      "الحلقة 6 الاسم: تفاعل المسئولين\n",
      "RT @Sankei_news: 【ベルギー同時テロ】ブリュッセルの空港・地下鉄で爆発　当局「テロ攻撃」と断定　２８人が死亡か  https://t.co/zDH9C2jBdk https://t.co/EHPYee5It3\n",
      "RT @SUZANOQUENTIN: Parfois, j'aimerais tout recommencer à zéro, pour ne pas faire les mêmes conneries.\n",
      "RT @_oulala: -Και με τι ασχολείσαι;;;\n",
      "-Παραμυθοπαραγωγός...\n",
      "@dcapassi 😒\n",
      "$AAPL #news https://t.co/LXoGcit8ww\n",
      "RT @Rararaar224: #أخبار_الخلافة\n",
      "صحيفة #النبأ الأسبوعية #العدد23\n",
      "الثلاثاء 12 جمادى الآخرة 1437هـ\n",
      "https://t.co/kzwn2Fj9DL https://t.co/rQPV3J…\n",
      "#tl halo seulgi disini rep yuk new owner nih &gt;&lt; rvseulr\n",
      "いやだから魔窟23時は氏ねって\n",
      "RT @mycanadianhot: La forma en que justin dice \"aw is she scared?\" 😭 https://t.co/HKLCWMW3sR\n",
      "Я получил достижение \"Доспех для головы\" в игре Paradise Island 2! https://t.co/NSHryt16Yq #GameInsight #ParadiseIsland2\n",
      "RT @ConUKya02: คือปกติก็ต้องขึ้นเนื้อร้องอยู่แล้ว เพิ่มเติมคือใส่ชื่อท่อนคนร้องด้วย 5555555555 อะไรจะลืมกับขนาดนั้นวะ #ความเอสเจ https://t.…\n",
      "Stations Schaarbeek en Etterbeek weer dicht https://t.co/ro1j8Bu44W #Brussel\n",
      "Slr malam yaa https://t.co/aROewvHn3g\n",
      "Hizaa! There is a REAL messaging app for #instagram users! Go to instamessage_app download and… https://t.co/UIV5tFXrPF\n",
      "RT @WUCareerCenter: Retweet for a chance to win a t-shirt! #tshirttuesday https://t.co/vbyBmeIErv\n",
      "Gg @KecikImba96 :( https://t.co/SprIu12meK\n",
      "😍 https://t.co/LlWSBvZoS3\n",
      "Meu motivo de ser feliz  💙 https://t.co/Iuv3fNoLEm\n",
      "У нас с Шакирой одинаковый рост. Однако, здравствуйте.\n",
      "RT @hlelinhooo: vos potes qui utilisent l'hashtag #stopislam mais vont lacher des \"trop mashallah\" \"wallah, starfAllah\" archi grosse flemme\n",
      "RT @OnlyTheGens: Ladies if you looking to gain followers DM 2 of your best pics. #OnlyTheGens **MUST BE FOLLOWING FIRST TO BE FEATURED**💙\n",
      "RT @OnlyTheGens: Ladies if you looking to gain followers DM 2 of your best pics. #OnlyTheGens **MUST BE FOLLOWING FIRST TO BE FEATURED**💙\n",
      "RT @OnlyTheGens: Ladies if you looking to gain followers DM 2 of your best pics. #OnlyTheGens **MUST BE FOLLOWING FIRST TO BE FEATURED**💙\n",
      "RT @Adam_Creme: How could we have known without judicial guidance? https://t.co/y72Aus11M7\n",
      "RT @hci_ifma: Looking for more #healthcare #facility insight? Join the discussions in our LinkedIn group https://t.co/HhQoCg1RGH\n",
      "Need my nails done\n",
      "RT @laurentiros: https://t.co/0sfEfiUWSu\n",
      "RT @Dr_alqarnee: \"وَاسْتَعِينُواْ بِالصَّبْرِ وَالصَّلاَةِ\"\n",
      "بصاد الصبر وصاد الصلاة نتجاوز المخاطر والفتن والمحن، ونصل إلى بر الأمان وإلى شا…\n",
      "RT @OnlyTheGens: Ladies if you looking to gain followers DM 2 of your best pics. #OnlyTheGens **MUST BE FOLLOWING FIRST TO BE FEATURED**💙\n",
      "RT @OnlyTheGens: Ladies if you looking to gain followers DM 2 of your best pics. #OnlyTheGens **MUST BE FOLLOWING FIRST TO BE FEATURED**💙\n",
      "RT @_Nxdin: Cardi B out here droppin knowledge too https://t.co/BBOLr9AhQp\n",
      "@TGilbs @ChrisWebby I second that\n",
      "RT @iPhoney_ad: لا تأخذوا دور الله في الأرض وتحاسبوا الغير على عقائدهم ومذاهبهم.. فهم أحرار في عبادتهم وعلى الله حسابهم\n",
      "RT @exel_ler: 너네 누구니? https://t.co/x8Ow5pBYZR\n",
      "@_Abyss__ \n",
      "海外からマットとか転売してお金増やして買おうと思ってますw\n",
      "RT @AboudDandachi: @CUWIOfficial @JackieBlue4u @TheCJN hipsters hijacking arab issues to fill their sorry excuse of a life.\n",
      "RT @JoeSmithSDK: Don't forget to vote or caucus for Bernie Sanders Today. the country needs you Idaho, Utah and Arizona. now is your time.\n",
      "@KingKurmudgeon brainwashed  motherfuckers\n",
      "@yuukochan5 う、うん(^o^)\n",
      "RT @Alextrxm: quand tu racontes un truc à ton pote et qu'il te demande de répéter parce qu'il était sur son telephone https://t.co/yKKutcCf…\n",
      "Que tonto estoy\n",
      "Ay anam ay\n",
      "@octaviagllaghr thank ya\n",
      "Listen Now: https://t.co/0OWx5kqavF Military Network Radio Get Leadership Lessons from the Front Lines.\n",
      "@liquorandkarate you kind of have a point but I also think the bus driver was a mad man\n",
      "RT @WhiteBballPains: White on white crime needs to stop before it gets too late #WhiteBballPains https://t.co/u74rTnL6No\n",
      "https://t.co/rAS2jM744P\n",
      "RT @naosejatrouxa: eu na academia https://t.co/ugJfsrvU9z\n",
      "RT @SexualScene: Neck kisses💋 https://t.co/I3TBo1DtFM\n",
      "RT @_BaileDoTurano: Lembrando que quinta, rola aquele baile na quadra da raia sem hora pra acabar , brota no Turano Bbê 😉👌\n",
      "@mariaceraldixxx I am out in the aft but free before one. Brew time? Xxx\n",
      "Nightmares all night involving Cam and now he doesn't text me all day. Aaayyyyeeee anxietyyyy\n",
      "Cut or Uncut doesn't matter to me I love them all\n",
      "How to save a copy of your Pinterest boards as a PDF. https://t.co/kA3ArqIytw\n",
      "I swear I feel like I'm on candid camera at times.\n",
      "\n",
      "Only mine is called #WTFwouldYouDo\n",
      "RT @astroIogypics: feelings that make the signs happy https://t.co/UYYcf2WLN4\n",
      "RT @BeyonceNBee: Look At These Perfect Bodies (Photo Album)\n",
      "https://t.co/Qz87LoL6qz\n",
      "Cherche personne pour faire bannière et logo .\n",
      "RT @MoreScienceNews: Google Photos Now Builds Perfect Vacation Albums on Its Own -  https://t.co/jWQppqJ6q5 https://t.co/uP6AzQecor\n",
      "Indonesia's Jakarta shut down by taxi-driver protest #Marocconnected https://t.co/J8o76pkmFq\n",
      "RT @O4X92BH: https://t.co/72qqAxQADY\n",
      "Check out my most recent video uploaded on @rude_com https://t.co/fWeimm05FE https://t.co/w1nvaj8PgN\n",
      "Google y Vizio han reinventado la TV: una pantalla tonta y una tablet como mando #Entérate https://t.co/vlfYKoeT71 https://t.co/PMAZiyAJ55\n",
      "https://t.co/iouyiATVi1\n",
      "LoB more likely for IOT PoC or Pilot and Msnsgremrnt and Governance of an IOT environment @GardLittle https://t.co/3ItypBCyEx\n",
      "https://t.co/BXMYL7FM2c\n",
      "RT @Gbraniat: يأتي المساء فتضم الزهرة أوراقها وتنام معانقة شوقها , فحياة الأزهار شوق ووصال٠\n",
      "RT @JacquelinePye: Time maybe to knock up some delicate stem ginger shortbread biscuits? Recipe + pics on my blog: https://t.co/ZKt5EIADsW …\n",
      "@CFLuanSantana será que as madames poderiam me fornecer um ovo? #LuanSantanaCacauShowDia22\n",
      "RT @AmznMovieRevws: Goodfellas. https://t.co/ND9WJO7P1I\n",
      "@mariobautista_ Buenos días en realidad Buenas tarde te amo\n",
      "RT @twiceshidae: Twice will have a \"Descendants of the Sun\" parody next week https://t.co/To2UAvPb6a\n",
      "(له ملك السماوات والأرض يحيي ويميت وهو على كل شيء قدير) [الحديد:2] https://t.co/DJNaQTOUev\n",
      "إن الله إذا ابتلَى عبدا ؛ فقد .. أحبـه فالإبتِلاءُ نوعان : إبتلاء لـ رَدْعْ .. وابتلاء لـ رَفْعْ\n",
      "RT @rirojeremy: Those who contributed their ideas should move on to working on them; it is action that will create the opportunities not th…\n",
      "Учусь капризничать )) https://t.co/cZcgCKQDxY\n",
      "confira: https://t.co/IkuqJGd7DY #twitterchampion\n",
      "‼️‼️‼️‼️‼️‼️ https://t.co/5SLf4UDz8j\n",
      "Wait niggas b fucking they sidebitch raw and shit 😂😂😩\n",
      "RT @abha23: لا احتاج شخص يتعامل معي  بـ ذكاء العقل !\n",
      "احتاج شخص يتعامل معي بـ صفاء القلب ❤️\n",
      "الحب لوعة والوفا فاني\n",
      "والناتج: دموع وسط الليل مع ونه\n",
      "\n",
      "لا تقدر تموت ولا تحب لك ثاني\n",
      "واذا تبي تنتحر ما تدخل الجنه\n",
      "RT @karnsaman: ใช้ชีวิต Slowlife\n",
      "ใช้เงิน Hi-Speed\n",
      "https://t.co/jvkUSGwGua\n"
     ]
    }
   ],
   "source": [
    "## Requests also makes it easy to deal with simple streaming APIs.  Let's stream 100 tweets from the Twitter feed.\n",
    "\n",
    "import json, sys\n",
    "r_stream = requests.get('https://stream.twitter.com/1.1/statuses/sample.json', auth=auth, stream=True)\n",
    "counter = 0\n",
    "for line in r_stream.iter_lines():\n",
    "    # filter out keep-alive new lines\n",
    "    if not line:\n",
    "        continue\n",
    "    tweet = json.loads(line)\n",
    "    if 'text' in tweet:\n",
    "        counter +=1\n",
    "        print tweet['text']\n",
    "    sys.stdout.flush()\n",
    "    if counter > 100:\n",
    "        break"
   ]
  },
  {
   "cell_type": "code",
   "execution_count": 19,
   "metadata": {
    "collapsed": false
   },
   "outputs": [
    {
     "name": "stdout",
     "output_type": "stream",
     "text": [
      "RT @th3j35t3r: URGENT ALERT: Cops in #Brussels seeking info in this guy, believe he's responsible for attacks &amp; still at large &gt;&gt; https://t…\n",
      ".@joshtpm @TPM Because all those Brussels armed raids since Paris prevented those attacks.  Can GOP not be smarter even if they're bigots?\n",
      "RT @JaredTSwift: #Brussels https://t.co/bosEPlTUBH\n",
      "Плешивый не хочет добавки санкций из-за Савченко,гэбня шурует по полной : https://t.co/Hgqv0WtQh7\n",
      "Bomb blasts in Brussels reverberate in presidential race: This is not the first time a horrific terrorist attack… https://t.co/i65rnSd3IY\n",
      "RT @PoliceChiefs: Following #Brussels, we are urging people to be alert but not alarmed. Report anything suspicious to the Anti-Terrorist H…\n",
      "Batman v Superman: Dawn of Justice London Premiere Still On Despite Brussels Attacks, Red… https://t.co/2fikflxu50 https://t.co/P4ZiMl8UBx\n",
      "RT @WDFx2EU: They explained their plains for Brussels Domination months ago. The refugee's are Sperm Donors 4 Islam. #StopIslam\n",
      " https://t.…\n",
      "RT @ddlovato: My heart is broken. These events have eternal impact on the lives of countless people. #Brussels, you're in my prayers\n",
      "RT @realDonaldTrump: My heart &amp; prayers go out to all of the victims of the terrible #Brussels tragedy. This madness must be stopped, and I…\n",
      "Without my car I feel powerless\n",
      "RT @ddlovato: My heart is broken. These events have eternal impact on the lives of countless people. #Brussels, you're in my prayers\n",
      "RT @PizzaPartyBen: Save us please, you're the only one who isn't open borders https://t.co/i4jOlz9bS2\n",
      "RT @JeromeTaylor: Remember, these people are fleeing the same nihilists bringing death to Europe's capitals  https://t.co/Vw1YHwXUgH\n",
      "What has happened in Brussels is tragic. But no one bat an eye at the TWO attacks in turkey that occurred just a few days ago...\n",
      "Hollywood Landmarks On High Alert Following Brussels Bombings - https://t.co/MqW6QRSwKO #IFWT\n",
      "Like you drive a Chevy malibu you must be from California\n",
      "@ddlovato Same thing happened in Turkey a lot of time and many deads.I'm sorry for Brussels but Turkey need same respect too. #PrayForTurkey\n",
      "😭😭😭😂😂😂😂😂 https://t.co/vqKPqIPNVD\n",
      "Hope playlist:\n",
      "Last Hope @paramore \n",
      "Begin Again @the_summer_set \n",
      "Outsiders @ATC_BAND \n",
      "#StandUptoStigma #mentalhealthawareness\n",
      "RT @Alyssa_Milano: My heart is broken for the people of #Brussels. There are no words.\n",
      "RT @LaurenMCorbut: #Breaking @AP French prime minister: \"We are at war. We have been subjected for the last few months in Europe to acts of…\n",
      "God kommentar om #Brussels Molenbeek er et av få steder i verden jeg virkelig har følt meg utenfor og utrygg.  https://t.co/Dp1w4axCUs\n",
      "RT @GEJonathan: Terror is condemnable wherever it occurs and I condemn it whether it occurs in Nigeria or Belgium I call for global unity t…\n",
      "RT @JudgeJeanine: Time for a serious president #Brussels #PrayForBelgium\n",
      "#money U.S. airports on edge after deadly Belgium bombings: NEW YORK (Reuters) - Airports in major U.S. cities were… https://t.co/sSBELVzqpB\n",
      "RT @PandaJay: Stay strong, #Belgium , &amp; fight back. We in India understand your pain more than most &amp; are with you in this fight🙏🙏🙏\n",
      "RT @FoxBusiness: Obama spoke for less a minute about #Brussels before changing subjects to Cuba in a speech. https://t.co/ijoWWpLV7c\n",
      "https:…\n",
      "RT @EnLiEretzAheret: This goes for me too https://t.co/hsMUirWysU\n",
      "RT @foreignoffice: #Brussels travel update: Belgian authorities currently advising against travel to Brussels https://t.co/EbXt9CpEG5 https…\n",
      "@martyconn11 no lol\n",
      "Unbelievable scenes in Brussels today. #PrayForBelgium https://t.co/surKuJfP8T\n",
      "RT @syhartleyjones: @sarahwillers @Bonn1eGreer @mikedixonCAB my friend is missing in Brussels.  Please r/t tofind him. #BrusselsAttacks htt…\n",
      "RT @SnoopDogg: love to #Brussels !! stay strong 🙏🏾🇧🇪 https://t.co/t07OGSztMm\n",
      "RT @realDonaldTrump: My heart &amp; prayers go out to all of the victims of the terrible #Brussels tragedy. This madness must be stopped, and I…\n",
      "RT @NPR: We're continuing to follow the news of the #BrusselsAttacks in 🇧🇪 Here's the latest: https://t.co/LV8SjtiyFt https://t.co/9tHZKEAj…\n",
      "@mattandkim I miss you guys.\n",
      "My heart goes out to all the people in Brussels today. Such a sad day. 💔 #Brussels #brusselsattack https://t.co/cd83YZrHWN\n",
      "Thoughts goes out to the people in Belgium. #Belgiumattack https://t.co/qwRPzTfLaF\n",
      "RT @G2esports: .@G2ScreaM_ &amp; @G2Ex6TenZ are OK and got safely from Belgium to Toulouse!  \n",
      "\n",
      "We send our thoughts to Brussels ♥ https://t.co/…\n",
      "God bless Reddit's personal finance account helping me learn how to adult\n",
      "EXPLOSIONS #ROCK #BRUSSELS AIRPORT, #SUBWAY... https://t.co/aqF4aUuD1Z\n",
      "RT @iconapop: So sad when u wake up to news like this. Sending our love and prayers to #Brussels ❤️ https://t.co/8Weto6IzTg\n",
      "Slide Show: The haunting scene in Brussels after deadly explosions https://t.co/An1jACQRMH #MarketWatch #Business #Finance\n",
      "RT @kourtneykardash: My heart is sad this morning. Praying for Belgium, praying for all of us, praying for peace. https://t.co/EiEuqYikec\n",
      "RT @NiallOfficial: Another tragedy . Thoughts are with the people of Brussels and of course the families of those who lost a relative.\n",
      "My love muffin! I love her so much good heart crazy girl! Dedicated miss her dearly. Still talk in GM occ. ❤️❤️😍 https://t.co/X8cXatXoT6\n",
      "Slide Show: The haunting scene in Brussels after deadly explosions https://t.co/PGhgJSd7ua\n",
      "@bigpapaspence haha you know I always got you G! ✊🏽\n",
      "Season change = people change\n",
      "RT @TeaPartyNevada: Leaked CCTV 'shows suspects' in Brussels attacks that left 34 dead https://t.co/6gFOX6RXS4 #BrusselsTerror https://t.co…\n",
      "RT @AymanM: Belgian Federal Prosecutor releases image of 3 suspects in connection w #brussels airport attack. https://t.co/bqJyBBOFIl\n",
      "😁😍\n",
      "RT @NiallOfficial: Another tragedy . Thoughts are with the people of Brussels and of course the families of those who lost a relative.\n",
      "The 3 presumates terrorist : https://t.co/qMOY7RWnXH\n",
      "I need to approve  of him or you can't date him lil girl 😂😂😈 https://t.co/iTeGjtHd2m\n",
      "RTRT https://t.co/doS0acd1sk\n",
      "Blood in Brussels https://t.co/auGPv1ve3D\n",
      "CBC.ca People react with horror online to Brussels attacks, posting video, photos CBC.ca Explosions hit Brussels… https://t.co/jY4GkR3Pmn\n",
      "People:\"What sign are you?\"\n",
      "Me:\"A Leo\"\n",
      "People: https://t.co/sgca4yRpmS\n",
      "@Pink_Fires hey https://t.co/iKoiLNvPOr\n",
      "RT @realDonaldTrump: My heart &amp; prayers go out to all of the victims of the terrible #Brussels tragedy. This madness must be stopped, and I…\n",
      "RT @DrBinagol: يجب على الأوروبيين أن يسألوا أنفسهم الإرهاب التكفيري الذي يضربهم أين منبعه ومن أي المدارس الفكرية الرجعية التكفيرية ومن يمول…\n",
      "RT @RealAlexJones: \"@tedcruz blamed @realDonaldTrump’s stand on #NATO for the attack in #Brussels - Read more: https://t.co/40Yctxj8DV http…\n",
      "@C9Stewie Stew my man, I got a big time compliment today https://t.co/A7YuMd1CoW\n",
      "Great person love her, love her boobies  https://t.co/wEUOx39bxW\n",
      "The 🌎 floods @twitter with support for #Brussels https://t.co/KHT8lxFtiZ and at #JeSuisBruxelles #Bruxelles #Belgica https://t.co/4QNqZIkwgE\n",
      "#IslamKills Hope everyone in Brussels is okey ❤️ #PrayForBrussels #Brussels\n",
      "RT @EP_President: #Brussels will stand strong, #EU institutions will do likewise -#solidarity twds Belgian people #BrusselsAttacks https://…\n",
      "RT @50sAnd60s: Much love to Belgium, after all..you did give us her https://t.co/F3tG7ikvqs\n",
      "RT @Itskendris: Give him an award for his humanity #Brussels https://t.co/SWIu1H8JS1\n",
      "RT @risetoflyy: @WaltSeher @Pammov889 @Doug_Giles what does this HV to do w a terror attack on Brussels that took more than 1 day to plan?\n",
      "She just always set me straight &amp; dip\n",
      "RT @michellemalkin: Obama: Throw your hands in the air like you just don't care. #baseballwithcommunists #springbreakincuba #Brussels  http…\n",
      "RT @ddlovato: My heart is broken. These events have eternal impact on the lives of countless people. #Brussels, you're in my prayers\n",
      "RT @realDonaldTrump: My heart &amp; prayers go out to all of the victims of the terrible #Brussels tragedy. This madness must be stopped, and I…\n",
      "RT @SaveChildrenIT: Ecco il messaggio di cordoglio che un piccolo #migrante a #Idomeni ha voluto mandare alle vittime di #Bruxelles https:/…\n",
      "RT @glennbeck: Terror in Brussels: Traditional Islam, Not Radical Islam https://t.co/9FMxUWXV7L\n",
      "RT @JeanneMccarthy0: #Brussels #IslamKills RT @MariamDiamond: #PrayForBrussels\n",
      "Mapped: Terror threat around the world: Belgium is just one of more than 40 countries around the world where t... https://t.co/7rKRX9256I\n",
      "😂😂😂😭😭😭 https://t.co/BLECH0DtC2\n",
      "✊🏾 https://t.co/p0uNGqQe9S\n",
      "RT @WhiteHouse: \"The thoughts and prayers of the American people are with the people of Belgium\" —@POTUS on the attacks in #Brussels https:…\n",
      "Shot of @kaylamercuri during a portraitmeet outside the Christian Science Center.\n",
      "Boston, MA.… https://t.co/DDl5YWrCmy\n",
      "IF A BUS PASSENGER can fall out of a wheelchair then any of the MANY passengers PSTA drivers allow to lounge in the aisle can fall on others\n",
      "RT @TODAYshow: Sad sight of hearse parked outside of #Brussels airport (via @gettyimages) https://t.co/6YGde5hXCG\n",
      "2 suicide bombers at Brussels airport, 'actively looking' for third: prosecutor https://t.co/lTOdvrY8Tj\n",
      "RT @elliegoulding: I am so sorry Brussels. My heart goes out to you. What a world this has become\n",
      "Pretty sure I haven't don't that 🐸☕️\n",
      "RT @caitlinmoran: Always good, on days like this, to remind everyone that the guys blowing up Brussels are THE PEOPLE THE REFUGEES ARE RUNN…\n",
      "RT @dcexaminer: NEW: One #Brussels attacks suspect is on the run, subject of massive manhunt  https://t.co/ie55ET4sr1 https://t.co/BKd25DCU…\n",
      "RT @foreignoffice: #Brussels: Anyone affected or concerned about family and friends can contact the @foreignoffice helpline on +44 207 008 …\n",
      "RT @Enrique_Acevedo: Trump calls for border closings after Brussels attacks, but in most cases Europe is dealing with homegrown terrorism h…\n",
      "RT @ddlovato: My heart is broken. These events have eternal impact on the lives of countless people. #Brussels, you're in my prayers\n",
      "😞\n"
     ]
    }
   ],
   "source": [
    "## Here's a variant that's more US-centric.\n",
    "## Question: what does islice do?\n",
    "\n",
    "import json, sys\n",
    "from itertools import islice\n",
    "r_stream = requests.post('https://stream.twitter.com/1.1/statuses/filter.json', auth=auth,\n",
    "                          stream=True, data={\"locations\" : \"-125,23,-70,50\", \"track\": \"Brussels, Belgium\"})\n",
    "for line in islice(r_stream.iter_lines(), 100):\n",
    "    # filter out keep-alive new lines\n",
    "    if not line:\n",
    "        continue\n",
    "    tweet = json.loads(line)\n",
    "    if 'text' in tweet:\n",
    "        print tweet['text']\n",
    "    sys.stdout.flush()"
   ]
  },
  {
   "cell_type": "markdown",
   "metadata": {},
   "source": [
    "### Exercises\n",
    "\n",
    "1. Write a Python script that takes as input an address and outputs 50 tweets from within about 10 miles of it.\n",
    "Now modify it to return the top 10 hashtags within that 10 mile range (based on, say, a 1000 tweet sample).\n",
    "1. You can plot maps using this [Python Package](http://peak5390.wordpress.com/2012/12/08/matplotlib-basemap-tutorial-plotting-points-on-a-simple-map/).  Get geo-located tweets from the streaming API and plot them on the map."
   ]
  },
  {
   "cell_type": "markdown",
   "metadata": {},
   "source": [
    "### Further reading for this lecture\n",
    "\n",
    "To learn more about JSON (there isn't much more to know!):\n",
    " - http://www.secretgeek.net/json_3mins.asp\n",
    " - http://en.wikipedia.org/wiki/JSON (esp. \"Data types, syntax, and examples\")\n",
    " - http://tools.ietf.org/html/rfc7159\n",
    "\n",
    "A useful tool for playing with JSON on the command line is [jq](http://stedolan.github.io/jq/).\n",
    "\n",
    "To learn more about about the prevailing design pattern (\"REST\") for web-based APIs:\n",
    " - http://en.wikipedia.org/wiki/Representational_state_transfer\n",
    " \n",
    "One wildcard is the wide variety of authentication strategies employed (\"basic auth\", cookies, bearer token, OAuth, OAuth 2, etc.).  For several of these, the documentation at http://docs.python-requests.org/en/latest/user/authentication/ is helpful."
   ]
  },
  {
   "cell_type": "markdown",
   "metadata": {
    "collapsed": false
   },
   "source": [
    "### Exit Tickets\n",
    "1. Explain the difference between requests.get() and requests.post().\n",
    "2. What data structures do JSON objects in Python use?\n",
    "3. Describe what the remote site is doing when it receives an API request from you."
   ]
  },
  {
   "cell_type": "markdown",
   "metadata": {},
   "source": [
    "*Copyright &copy; 2015 The Data Incubator.  All rights reserved.*"
   ]
  }
 ],
 "metadata": {
  "kernelspec": {
   "display_name": "Python 2",
   "language": "python",
   "name": "python2"
  },
  "language_info": {
   "codemirror_mode": {
    "name": "ipython",
    "version": 2
   },
   "file_extension": ".py",
   "mimetype": "text/x-python",
   "name": "python",
   "nbconvert_exporter": "python",
   "pygments_lexer": "ipython2",
   "version": "2.7.11"
  }
 },
 "nbformat": 4,
 "nbformat_minor": 0
}
