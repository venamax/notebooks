{
 "cells": [
  {
   "cell_type": "code",
   "execution_count": null,
   "metadata": {
    "collapsed": true
   },
   "outputs": [],
   "source": [
    "%matplotlib inline\n",
    "import matplotlib\n",
    "import seaborn as sns\n",
    "matplotlib.rcParams['savefig.dpi'] = 2 * matplotlib.rcParams['savefig.dpi']"
   ]
  },
  {
   "cell_type": "code",
   "execution_count": null,
   "metadata": {
    "collapsed": false
   },
   "outputs": [],
   "source": [
    "import pandas as pd\n",
    "import numpy as np\n",
    "import matplotlib.pyplot as plt"
   ]
  },
  {
   "cell_type": "code",
   "execution_count": null,
   "metadata": {
    "collapsed": false
   },
   "outputs": [],
   "source": [
    "%cd ~/datacourse/fellow_only_material/projects/HMDA-project/"
   ]
  },
  {
   "cell_type": "code",
   "execution_count": null,
   "metadata": {
    "collapsed": false
   },
   "outputs": [],
   "source": [
    "filename=\"data/fha_by_tract.csv\""
   ]
  },
  {
   "cell_type": "code",
   "execution_count": null,
   "metadata": {
    "collapsed": false
   },
   "outputs": [],
   "source": [
    "names =[\"State_Code\", \"County_Code\", \"Census_Tract_Number\", \"NUM_ALL\", \"NUM_FHA\", \"PCT_NUM_FHA\", \"AMT_ALL\", \"AMT_FHA\", \"PCT_AMT_FHA\"]"
   ]
  },
  {
   "cell_type": "code",
   "execution_count": null,
   "metadata": {
    "collapsed": false
   },
   "outputs": [],
   "source": [
    "df=pd.read_csv(filename,names=names)\n",
    "df['GEOID'] = df['Census_Tract_Number']*100 + 10**6 * df['County_Code'] + 10**9 * df['State_Code']   ## A computed field!"
   ]
  },
  {
   "cell_type": "code",
   "execution_count": null,
   "metadata": {
    "collapsed": false
   },
   "outputs": [],
   "source": [
    "df[df['AMT_ALL']>5000]"
   ]
  },
  {
   "cell_type": "code",
   "execution_count": null,
   "metadata": {
    "collapsed": false
   },
   "outputs": [],
   "source": [
    "df['AMT_ALL'].describe()"
   ]
  },
  {
   "cell_type": "code",
   "execution_count": null,
   "metadata": {
    "collapsed": false
   },
   "outputs": [],
   "source": [
    "## Change the default figure size for inline matplotlib plots\n",
    "import pylab as pylab\n",
    "pylab.rcParams['figure.figsize'] = (10.0, 8.0)"
   ]
  },
  {
   "cell_type": "code",
   "execution_count": null,
   "metadata": {
    "collapsed": false
   },
   "outputs": [],
   "source": [
    "df[df['AMT_ALL']>1000]['PCT_AMT_FHA'].hist(bins=50)"
   ]
  },
  {
   "cell_type": "code",
   "execution_count": null,
   "metadata": {
    "collapsed": false
   },
   "outputs": [],
   "source": [
    "print df['NUM_ALL'].describe()\n",
    "df['NUM_ALL'].apply(np.log).hist(bins=50)"
   ]
  },
  {
   "cell_type": "code",
   "execution_count": null,
   "metadata": {
    "collapsed": false
   },
   "outputs": [],
   "source": [
    "print df['AMT_ALL'].describe()\n",
    "df['AMT_ALL'].apply(np.log).hist(bins=50)"
   ]
  },
  {
   "cell_type": "code",
   "execution_count": null,
   "metadata": {
    "collapsed": false
   },
   "outputs": [],
   "source": [
    "df_geo = pd.read_table(\"data/raw/2013_Gaz_tracts_national.tsv\")\n",
    "df_geo.columns = [u'USPS', u'GEOID', u'ALAND', u'AWATER', u'ALAND_SQMI', u'AWATER_SQMI', u'INTPTLAT', u'INTPTLONG'] # Fix a newline in the lasat one!"
   ]
  },
  {
   "cell_type": "code",
   "execution_count": null,
   "metadata": {
    "collapsed": false
   },
   "outputs": [],
   "source": [
    "df_with_geo = df.merge(df_geo, on=['GEOID'])\n",
    "df_with_geo[df_with_geo['AMT_ALL']>1000].sort('AMT_ALL', ascending=False)"
   ]
  },
  {
   "cell_type": "code",
   "execution_count": null,
   "metadata": {
    "collapsed": false
   },
   "outputs": [],
   "source": [
    "df_tmp = df_with_geo[\n",
    "          (df_with_geo['AMT_ALL']>500) \n",
    "        & (df_with_geo['INTPTLONG']<-50) \n",
    "        & (df_with_geo['INTPTLONG']>-130)\n",
    "        & (df_with_geo['USPS'] != 'PR')]"
   ]
  },
  {
   "cell_type": "code",
   "execution_count": null,
   "metadata": {
    "collapsed": false
   },
   "outputs": [],
   "source": [
    "## Change the default figure size to be even bigger\n",
    "pylab.rcParams['figure.figsize'] = (15.0, 12.0)"
   ]
  },
  {
   "cell_type": "code",
   "execution_count": null,
   "metadata": {
    "collapsed": false
   },
   "outputs": [],
   "source": [
    "# US-wide map of market share.  Size weighted by .. size\n",
    "tot_area = df_tmp['ALAND_SQMI'].sum()\n",
    "c_area = 1.5*10**5\n",
    "plt.scatter(x=df_tmp['INTPTLONG'], y=df_tmp['INTPTLAT'], c=df_tmp['PCT_AMT_FHA'], s=df_tmp['ALAND_SQMI'] * c_area/ tot_area, alpha=0.5, linewidths=(0.0,))"
   ]
  },
  {
   "cell_type": "code",
   "execution_count": null,
   "metadata": {
    "collapsed": false
   },
   "outputs": [],
   "source": [
    "## .. size weighted by total market size\n",
    "#  This is pretty much a population map -- to fix this, we'd need to rearrange\n",
    "#  the circles to not overlap!\n",
    "tot_amt = df_tmp['AMT_ALL'].sum()\n",
    "c_amt = 5*10**5\n",
    "plt.scatter(x=df_tmp['INTPTLONG'], y=df_tmp['INTPTLAT'], c=df_tmp['PCT_AMT_FHA'], s=df_tmp['AMT_ALL'] * c_amt/ tot_amt, alpha=0.5, linewidths=(0.0,))"
   ]
  },
  {
   "cell_type": "code",
   "execution_count": null,
   "metadata": {
    "collapsed": false
   },
   "outputs": [],
   "source": [
    "## ...\n",
    "pylab.rcParams['figure.figsize'] = (20.0, 16.0)\n",
    "\n",
    "def map_state(state):\n",
    "    df_tmp_state = df_tmp[ df_tmp['USPS'] == state ]\n",
    "    \n",
    "    plt.subplot(2,1,1)\n",
    "    tot_area = df_tmp_state['ALAND_SQMI'].sum()\n",
    "    c_area = 0.8 * 10**5\n",
    "    plt.scatter(x=df_tmp_state['INTPTLONG'], y=df_tmp_state['INTPTLAT'], c=df_tmp_state['PCT_AMT_FHA'], s=df_tmp_state['ALAND_SQMI'] * c_area / tot_area, alpha=0.5, linewidths=(0.0,))\n",
    "    plt.title(\"Market share by area\")\n",
    "    \n",
    "    \n",
    "    plt.subplot(2,1,2)\n",
    "    tot_amt = df_tmp['AMT_ALL'].sum()\n",
    "    c_amt = 10**6\n",
    "    plt.scatter(x=df_tmp_state['INTPTLONG'], y=df_tmp_state['INTPTLAT'], c=df_tmp_state['PCT_AMT_FHA'], s=df_tmp_state['AMT_ALL'] * c_amt / tot_amt, alpha=0.5, linewidths=(0.0,))\n",
    "    plt.title(\"Market share by market size\")"
   ]
  },
  {
   "cell_type": "code",
   "execution_count": null,
   "metadata": {
    "collapsed": false
   },
   "outputs": [],
   "source": [
    "map_state('NY')"
   ]
  },
  {
   "cell_type": "code",
   "execution_count": null,
   "metadata": {
    "collapsed": false
   },
   "outputs": [],
   "source": [
    "map_state('CA')"
   ]
  },
  {
   "cell_type": "code",
   "execution_count": null,
   "metadata": {
    "collapsed": false
   },
   "outputs": [],
   "source": []
  },
  {
   "cell_type": "code",
   "execution_count": null,
   "metadata": {
    "collapsed": false
   },
   "outputs": [],
   "source": [
    "map_state('MD')"
   ]
  },
  {
   "cell_type": "code",
   "execution_count": null,
   "metadata": {
    "collapsed": false
   },
   "outputs": [],
   "source": []
  },
  {
   "cell_type": "markdown",
   "metadata": {},
   "source": [
    "*Copyright &copy; 2015 The Data Incubator.  All rights reserved.*"
   ]
  }
 ],
 "metadata": {
  "kernelspec": {
   "display_name": "Python 2",
   "language": "python",
   "name": "python2"
  },
  "language_info": {
   "codemirror_mode": {
    "name": "ipython",
    "version": 2
   },
   "file_extension": ".py",
   "mimetype": "text/x-python",
   "name": "python",
   "nbconvert_exporter": "python",
   "pygments_lexer": "ipython2",
   "version": "2.7.10"
  }
 },
 "nbformat": 4,
 "nbformat_minor": 0
}
