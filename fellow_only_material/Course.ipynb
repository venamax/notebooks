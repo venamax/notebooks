{
 "cells": [
  {
   "cell_type": "code",
   "execution_count": null,
   "metadata": {
    "collapsed": true
   },
   "outputs": [],
   "source": [
    "%matplotlib inline\n",
    "import matplotlib\n",
    "import seaborn as sns\n",
    "matplotlib.rcParams['savefig.dpi'] = 2 * matplotlib.rcParams['savefig.dpi']"
   ]
  },
  {
   "cell_type": "markdown",
   "metadata": {},
   "source": [
    "## Daily / Weekly Format:\n",
    "\n",
    "The main parts of the course are the lecture and miniprojects.\n",
    "\n",
    "- **Lecture:** We'll work through the course material each day at 12 PM EST.  Friday is interview practice day.\n",
    "\n",
    "- **Miniprojects:** Each week's action items are due *by Saturday night*.  We had consensus amongst prior Fellows that working on miniprojects gave them the exposure to concepts that a single large project did not.  Fellows that did miniprojects also had a better chance of getting placed.\n",
    "\n",
    "We encourage the posting of advice/issues/resolved problems on the wiki in the [subpages](https://sites.google.com/a/thedataincubator.com/the-data-incubator-wiki/course-information-and-logistics/course) of the Course section.\n",
    "\n",
    "### Interview Practice\n",
    "We'll do a little bit of practice with interviewing on Fridays.  Here are some notes:\n",
    "- [Programming_Questions](Programming_Questions.ipynb)\n",
    "- [Statistics_Questions](Statistics_Questions.ipynb)\n",
    "  \n",
    "**WARNING:** *It's tempting to just \"discuss the problems in a group.\"  The main point of practicing for interviews is practicing and getting familiar with thinking on your feet with no guidance.  \"Discussing problems in a group\" is not at all useful for this.  We suggest that everyone should solve the problem on their own, timed (give yourself 5 minutes), preferably while standing.  You want to feel as comfortable with this as possible because you will be much more nervous when you interview.  You can discuss the problems afterwards.*\n",
    "    \n",
    "### Capstone Projects\n",
    "\n",
    "**Ghosting** your project and loading your data:\n",
    "1. Decide on the basic format of your presentation (website, ipynb etc.).  Build a bare-bones version of your website / ipynb with some fake data, which are the results you think you'll get.  Your work should tell a story and all the supporting points (there should be at most 3) need to reinforce this story.  Think about how you would present your results.  What kind of graph or visualizations would you need?  Plan your analysis accordingly.\n",
    "1. Once you know the destination, it's a lot easier to lay the groundwork.  That means setting up SQL tables, getting pandas dataframe code loaded, and joining appropriate tables so that you can start working.\n",
    "\n",
    "Capstone projects are an important part of the program.  The advantages of doing a capstone project include:\n",
    "1. Being invited to pitch them to employers at our employer events.\n",
    "1. Some employers judge Fellows based on projects and this can result in invitations to pitch to employers onsite.\n",
    "1. In the past, completing projects consistently resulted in multiple (and higher) offers for Fellows.\n",
    "\n",
    "We're going to be doing 1-2 min screencasts each week.  The format of the video should be roughly:\n",
    "\n",
    "1. Introduce yourself, say 1 - 2 sentences about your academic background.  (\"Hi, I'm Michael.  I got my PhD at Princeton in Applied Math\").\n",
    "2. Introduce your project for The Data Incubator.  Why is it important to businesses?  (\"My Data Incubator project uses machine learning to identify the cutest cat videos on the internet\").\n",
    "3. Talk through two to three \"analytical\" or \"engineering\" points that were *interesting*.  Great lines feel like this:\n",
    "    - We looked at 5 million user reviews collected over 4 years on Yelp.\n",
    "    - I'm using Mongo, a No-SQL datastore, to make my webpage load faster.  \n",
    "    - I used cross validation to train a Random Forest for my Citibike demand predictions.\n",
    "    - I realized that restaurant category tagging was inconsistent and I used a Naive Bayes model on tip text to fill in missing categories.\n",
    "\n",
    "Be sure to be very visual in your explanations (basically, if it can be graphed, do it).  The format should be you showing off your website (if you have one) and code.\n",
    "\n",
    "**Sample Screencasts:**\n",
    "- Here's one that's thematically similar, discussing building a reddit recommender: https://www.youtube.com/watch?v=lGXQ8mQMR0s\n",
    "- Some more from the same Harvard class (CS 109) about [the flu](https://www.youtube.com/watch?v=_eUDtxGzOMo), [predicting salaries](https://www.youtube.com/watch?v=9odQde25oSQ), [predicting NBA games](https://www.youtube.com/watch?v=HlF6eXJ4UgQ), [Twitter response to the Boston Marathon bombing](https://www.youtube.com/watch?v=IbXRxmNn-Jk)\n",
    "\n",
    "**Resources:**\n",
    "1. You can use your camera to record the introduction of yourself and your project.\n",
    "1. You can do a screencast (recording your audio and your desktop as you scroll through demoing things) for the demo portion.  Here are instructions for doing it on [OSX](http://thenextweb.com/apple/2011/01/15/how-to-record-quick-easy-screencast-videos-with-mac-osx/).1. [Recommended Project Structure](Project_Structure.ipynb)"
   ]
  },
  {
   "cell_type": "markdown",
   "metadata": {},
   "source": [
    "## Overview for Module 1:\n",
    "\n",
    "**Goal:** Developing familiarity with basic Python tools and getting practice with them for data analysis\n",
    "\n",
    "- [Numpy, Scipy, and Matplotlib](../module1/Numpy_Scipy_Matplotlib.ipynb)\n",
    "- [Pandas](../module1/Pandas.ipynb)\n",
    "- [Scraping](../module1/Scraping.ipynb)\n",
    "- [APIs and JSON](../module1/APIs_and_JSON.ipynb)\n",
    "- [What Technology to Use](../module1/What_Technology_to_Use.ipynb)\n",
    "- [Good Engineering Practice](../module1/Good_Engineering_Practice.ipynb)\n",
    "\n",
    "**Optional Topics:**\n",
    "\n",
    "- [SQL](../module1/SQL.ipynb)\n",
    "- [Handling Strings in Python](../module1/Dealing_with_Strings.ipynb)\n"
   ]
  },
  {
   "cell_type": "markdown",
   "metadata": {},
   "source": [
    "## Overview for Module 2:\n",
    "\n",
    "**Goal:** Developing familiarity with machine-learning and the Python tooling around it\n",
    "\n",
    "- [Learning and Metrics](../module2/Learning_and_Metrics.ipynb)\n",
    "- [Overfitting](../module2/Overfitting.ipynb)\n",
    "- [Linear Regression](../module2/Linear_Regression.ipynb)\n",
    "- [Unsupervised_Learning](../module2/Unsupervised_Learning.ipynb)\n",
    "- [Scikit-learn Workflow](../module2/Scikit_Learn_Workflow.ipynb)\n",
    "\n",
    "**Optional Topics:**\n",
    "- [K Nearest Neighbors](../module2/K_Nearest_Neighbors.ipynb)"
   ]
  },
  {
   "cell_type": "markdown",
   "metadata": {},
   "source": [
    "## Overview for Module 3:\n",
    "\n",
    "**Goal:** More advanced topics in machine-learning and statistics, and more work on case studies\n",
    "- [Decision Trees and Random Forests](../module3/Decision_Trees_and_Random_Forest.ipynb)\n",
    "- [NLP Example Disambiguation](../module3/Natural_Language_Processing.ipynb)\n",
    "- [Support Vector Machines](../module3/Support_Vector_Machines.ipynb)\n",
    "- [Time Series](../module3/Time_Series.ipynb)\n",
    "\n",
    "**Optional Topics:**\n",
    "- [Comparing ML Algorithms](../module3/Comparing_ML_Algorithms.ipynb)\n",
    "- [Unbalanced Classes](../module3/Unbalanced_Classes.ipynb)"
   ]
  },
  {
   "cell_type": "markdown",
   "metadata": {},
   "source": [
    "## Overview for Module 4:\n",
    "\n",
    "**Goal:** Get familiarity with the tooling around *Big Data*\n",
    "- [Amazon_Web_Services](../module4/Amazon_Web_Services.ipynb)\n",
    "- [Intro_Distributed_Computing](../module4/Intro_Distributed_Computing.ipynb)\n",
    "- [Python Mapreduce](../module4/Python_Mapreduce.ipynb)\n",
    "- [Naive Bayes](../module4/Naive_Bayes.ipynb)\n",
    "- [Out of Core and Online Learning](../module4/Out_of_Core_and_Online_Learning.ipynb)\n",
    "\n",
    "**Optional Topics:**\n",
    "- [Hadoop and Java_Mapreduce](../module4/Hadoop_and_Java_Mapreduce.ipynb)"
   ]
  },
  {
   "cell_type": "markdown",
   "metadata": {},
   "source": [
    "## Overview for Module 5:\n",
    "\n",
    "**Goal:** Introduce Spark and the Python/Scala APIs; introduce Scalding; get a feel for a production data workload\n",
    "- [Intro to PySpark](../module5/PySpark_Intro.ipynb)\n",
    "- [Creating Spark Applications](../module5/Spark_Creating_Applications.ipynb)\n",
    "- [PySpark MlLib](../module5/PySpark_MLlib.ipynb)\n",
    "- [Spark Advanced Topics](../module5/Spark_Advanced_Topics.ipynb)\n",
    "\n",
    "**Optional Topics:**\n",
    "- [Scala Primer](../module5/Scala_Primer.ipynb)\n",
    "- [Scala Spark Intro](../module5/Spark_Intro.ipynb)\n",
    "- [Scala Spark MlLib](../module5/Spark_MLlib.ipynb)\n",
    "- [Scalding](../module5/Scalding.ipynb)\n",
    "- [Spark Streaming](../module5/Spark_Streaming.ipynb)"
   ]
  },
  {
   "cell_type": "markdown",
   "metadata": {},
   "source": [
    "## Overview for Module 6:\n",
    "\n",
    "**Goal:** Thinking about and practicing data visualization\n",
    "- [Exploring Data Visually](../module6/Exploring_Data_Visually.ipynb)\n",
    "- [Visualization Best Practices](../module6/Visualization_Best_Practices.ipynb)\n",
    "- [Visualization with D3](../module6/Visualization_with_D3.ipynb)\n",
    "- [Interactive Visualizations with D3](../module6/D3.ipynb)\n",
    "\n",
    "**Optional Topics:**\n",
    "- [Interactive Plotting in Jupyter Notebooks](../module6/Interactive_Visualizations_in_Notebooks.ipynb)\n",
    "\n",
    "**Action Item (ungraded):** Update your 12-day project to include real-time interactivity such as sliders or drop-down menus. Feel free to use different datasets (e.g. Yelp reviews) to make something interesting and attractive."
   ]
  },
  {
   "cell_type": "markdown",
   "metadata": {},
   "source": [
    "## Overview for Module 7:\n",
    "\n",
    "**Goal:** Thinking more broadly about data and interview prep\n",
    "\n",
    "- [Case Studies](../module7/Case_Studies.ipynb)\n",
    "- [Personal Interview Questions](../module7/Personal_Interview_Questions.ipynb)\n",
    "- [Thinking Outside the Data](../module7/Thinking_Outside_the_Data.ipynb)\n",
    "\n",
    "**Optional Topics:**\n",
    "- [Algorithms and Data Structures](../module7/Algorithms_and_Data_Structures.ipynb)\n",
    "- [Hypothesis Testing](../module7/Hypothesis_Testing.ipynb)\n",
    "- [Statistics.ipynb](../module7/Statistics.ipynb)"
   ]
  },
  {
   "cell_type": "markdown",
   "metadata": {},
   "source": [
    "*Copyright &copy; 2015 The Data Incubator.  All rights reserved.*"
   ]
  }
 ],
 "metadata": {
  "kernelspec": {
   "display_name": "Python 2",
   "language": "python",
   "name": "python2"
  },
  "language_info": {
   "codemirror_mode": {
    "name": "ipython",
    "version": 2
   },
   "file_extension": ".py",
   "mimetype": "text/x-python",
   "name": "python",
   "nbconvert_exporter": "python",
   "pygments_lexer": "ipython2",
   "version": "2.7.11"
  }
 },
 "nbformat": 4,
 "nbformat_minor": 0
}
