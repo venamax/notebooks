{
 "cells": [
  {
   "cell_type": "code",
   "execution_count": 2,
   "metadata": {
    "collapsed": true
   },
   "outputs": [],
   "source": [
    "%matplotlib inline\n",
    "import matplotlib\n",
    "import seaborn as sns\n",
    "matplotlib.rcParams['savefig.dpi'] = 2 * matplotlib.rcParams['savefig.dpi']"
   ]
  },
  {
   "cell_type": "markdown",
   "metadata": {},
   "source": [
    "# PySpark Intro\n",
    "Like _Hadoop_, __Spark__ is a low-level system for distributed computation on a cluster.  It has two major advantages:\n",
    " \n",
    " - It can do in-memory caching between stages, while Hadoop must write everything to disk.  This improves performance.  It also makes it suitable for classes of algorithms that would otherwise be too slow (e.g. iterative algorithms, like the training step in many machine learning algorithms).\n",
    " \n",
    " - It has a more flexible execution model (i.e. not just MapReduce).\n",
    " \n",
    "There are also minor advantages: The default API is much nicer than writing raw MR code. The favored interface is via a language called Scala, but there is also good support for using Python.\n",
    "## How does Spark relate to Hadoop?  \n",
    "\n",
    "__Answer 1__: It's a replacement for it.  You can manage and run your own Spark cluster, independent of Hadoop.  You'll have to figure out the filesystem layer from scratch though.   (In this context, _Spark SQL_ is the replacement for _Hive_, i.e. for SQL-like operation.)\n",
    "\n",
    "__Answer 2__: It's a complement to it.  You can run Spark on top of a Hadoop cluster, and still leverage HDFS and YARN -- then Spark is just replacing MapReduce.  (In this context, _Spark SQL_ can be used as a drop-in replacement for _Hive_.)\n",
    "\n",
    "## The Spark API\n",
    "### Nouns\n",
    "The two main abstractions in Spark are:\n",
    "1. Resilient distributed datasets (RDDs):\n",
    "  This is like a (smartly) distributed list, which is partitioned across the nodes of the cluster and can be operated on in parallel.  The operations take the form of the usual functional list operations as shown above.  There are two types of operations: Transformations and Actions.\n",
    "1. Shared variables used in parallel operations: When Spark runs a function in parallel across nodes, it ships a copy of each variable needed by that function to each node.  There are two types of shared variables:\n",
    " - Broadcast variables: These are used to store a value in memory across all nodes (i.e. their values are \"broadcast\" from the driver node)\n",
    " - Accumulator variables: These are variables which are only added to across nodes, for implementing counters and sums.\n",
    " \n",
    "### Verbs\n",
    "- **Transformations:** This creates a new RDD from an old one: for instance `map` or `flatMap`.  Transformations in Spark are __lazy__, which means that they do not compute the answer right away -- only when it is needed by something else.  Instead they represent the \"idea\" of the transformation applied to the base data set (e.g. for each chaining).  In particular, this means that intermediate results to computations do not necessarily get created and stored -- if the output of your map is going straight into a reduce, Spark should be clever enough to realize this and not actually store the output of the map.  Another consequence of this design is that the results of transformations are, by default, recomputed each time they are needed -- to store them one must explicitly call `cache`.\n",
    "    \n",
    "    [Transformations](https://spark.apache.org/docs/latest/programming-guide.html#transformations) typically *transform* the data and return another RDD.  Common examples include `map`, `filter`, `flatMap`, and also `join`, `cogroup`, `groupByKey`, `reduceByKey`, `countByKey`, and `sample`.\n",
    "\n",
    "- **Actions:** These actually return a value as a result of a computation.  For instance, `reduce` is an action that combines all elements of an RDD using some function and then returns the final result.  (Note that `reduceByKey` actually returns an RDD.)\n",
    "    \n",
    "    [Actions](https://spark.apache.org/docs/latest/programming-guide.html#actions) typically either generate *small* outputs (e.g. `reduce`, `count`, `first`, `take`, `takeSample`, `foreach`, `collect`) or persist to disk (e.g. `saveAsTextFile`, `saveAsSequenceFile`, etc.).\n",
    "\n",
    "\n",
    "**Questions:**\n",
    "1. What's the difference between `map` and `foreach` in (non-Spark) Scala?  Why is `map` a transformation but `foreach` an action in Spark?\n",
    "1. Why is `reduceByKey` a transformation but `reduce` an action?"
   ]
  },
  {
   "cell_type": "code",
   "execution_count": 3,
   "metadata": {
    "collapsed": true
   },
   "outputs": [],
   "source": [
    "import random, re, time\n",
    "from datetime import datetime"
   ]
  },
  {
   "cell_type": "markdown",
   "metadata": {},
   "source": [
    "## Creating a Spark Context"
   ]
  },
  {
   "cell_type": "code",
   "execution_count": 4,
   "metadata": {
    "collapsed": false
   },
   "outputs": [
    {
     "name": "stdout",
     "output_type": "stream",
     "text": [
      "1.5.1\n"
     ]
    }
   ],
   "source": [
    "from pyspark import SparkContext\n",
    "sc = SparkContext(\"local[*]\", \"temp\")\n",
    "print sc.version"
   ]
  },
  {
   "cell_type": "markdown",
   "metadata": {},
   "source": [
    "## Spark examples"
   ]
  },
  {
   "cell_type": "code",
   "execution_count": 5,
   "metadata": {
    "collapsed": true
   },
   "outputs": [],
   "source": [
    "import os\n",
    "def localpath(path):\n",
    "    return 'file://' + str(os.path.abspath(os.path.curdir)) + '/' + path"
   ]
  },
  {
   "cell_type": "code",
   "execution_count": null,
   "metadata": {
    "collapsed": false
   },
   "outputs": [],
   "source": [
    "# Basic wordcount\n",
    "lines = sc.textFile(localpath('small_data/gutenberg/'))\n",
    "totalLines = lines.count()\n",
    "print \"total lines: %d\" % totalLines\n",
    "\n",
    "lines.flatMap(lambda line: line.split(\" \")) \\\n",
    "    .map(lambda word: (word.lower(), 1)) \\\n",
    "    .reduceByKey(lambda x, y: x + y) \\\n",
    "    .sortByKey() \\\n",
    "    .saveAsTextFile(\"/tmp/output_gutenberg\" + str(time.time()))"
   ]
  },
  {
   "cell_type": "markdown",
   "metadata": {},
   "source": [
    "**Exercise:** There are a lot of special symbols in the output.  How would you do wordcount only on pure characters?  Hint: in Python, you can test for regular expressions this way:"
   ]
  },
  {
   "cell_type": "code",
   "execution_count": null,
   "metadata": {
    "collapsed": false
   },
   "outputs": [],
   "source": [
    "matches = re.search(\"^\\\\w+$\", \"abc\")\n",
    "matches.group(0)"
   ]
  },
  {
   "cell_type": "markdown",
   "metadata": {},
   "source": [
    "### Example: a simple simulation for $\\pi$"
   ]
  },
  {
   "cell_type": "code",
   "execution_count": null,
   "metadata": {
    "collapsed": false
   },
   "outputs": [],
   "source": [
    "import random\n",
    "numSamples = 100000\n",
    "\n",
    "def generate_point(self):\n",
    "    x = random.random()\n",
    "    y = random.random()\n",
    "    if x * x + y * y < 1:\n",
    "        return 1\n",
    "    else:\n",
    "        return 0\n",
    "\n",
    "count = sc.parallelize(xrange(1, numSamples + 1)) \\\n",
    "    .map(generate_point) \\\n",
    "    .reduce(lambda x, y: x + y)\n",
    "    \n",
    "print \"Pi is roughly \" + str(4.0 * count / numSamples)"
   ]
  },
  {
   "cell_type": "markdown",
   "metadata": {},
   "source": [
    "## ETL in Spark\n",
    "\n",
    "#### Premise\n",
    "The first steps of any data science project usually involve ETL'ing and performing exploratory analytics on a dataset.\n",
    "Here we'll acquaint ourselves both with the Spark shell and some Spark functions that we can use to perform such tasks.\n",
    "\n",
    "#### The dataset\n",
    "From https://archive.ics.uci.edu/ml/datasets/EEG+Database:  \n",
    "> \"The first four lines are header information. Line 1 contains the subject identifier and indicates if the subject was an alcoholic (a) or control (c) subject by the fourth letter. Line 4 identifies the matching conditions: a single object shown (S1 obj), object 2 shown in a matching condition (S2 match), and object 2 shown in a non matching condition (S2 nomatch). Line 5 identifies the start of the data from sensor FP1. The four columns of data are: the trial number, sensor position, sample number (0-255), and sensor value (in micro volts).\"\n",
    "\n",
    "There are 16,452 rows in this file including the header. Here's a preview of the first 10 lines and last 10 lines:\n",
    "```\n",
    "# co2a0000364.rd\n",
    "# 120 trials, 64 chans, 416 samples 368 post_stim samples\n",
    "# 3.906000 msecs uV\n",
    "# S1 obj , trial 0\n",
    "# FP1 chan 0\n",
    "0 FP1 0 -8.921\n",
    "0 FP1 1 -8.433\n",
    "0 FP1 2 -2.574\n",
    "0 FP1 3 5.239\n",
    "0 FP1 4 11.587\n",
    "    ...\n",
    "0 Y 246 24.150\n",
    "0 Y 247 20.243\n",
    "0 Y 248 11.454\n",
    "0 Y 249 4.618\n",
    "0 Y 250 3.153\n",
    "0 Y 251 6.571\n",
    "0 Y 252 12.431\n",
    "0 Y 253 15.849\n",
    "0 Y 254 16.337\n",
    "0 Y 255 14.872\n",
    "```\n",
    "\n",
    "\n",
    "#### Summary stats on the dataset\n",
    "\n",
    "1. There is an action for `RDD[Double]` called `stats` that will provide us with summary statistics about the values in the RDD. How can we get out summary stats of the `reading` column across the entire dataset?\n",
    "\n",
    "1. How can we do the same but for only the `posn` \"FP1\"?\n",
    "\n",
    "1. Let's make sure there are 256 samples per `posn` in this dataset. How can we do this? "
   ]
  },
  {
   "cell_type": "code",
   "execution_count": 6,
   "metadata": {
    "collapsed": false
   },
   "outputs": [],
   "source": [
    "def isHeader(line):\n",
    "    return \"# \" in line\n",
    "\n",
    "class Record(object):\n",
    "    def __init__(self, trial, posn, sample, reading):\n",
    "        self.trial = trial\n",
    "        self.posn = posn\n",
    "        self.sample = sample\n",
    "        self.reading = reading\n",
    "\n",
    "def parse(line):\n",
    "    tokens = line.split()\n",
    "    trial = int(tokens[0])\n",
    "    posn = tokens[1]\n",
    "    sample = int(tokens[2])\n",
    "    reading = float(tokens[3])\n",
    "    return Record(trial, posn, sample, reading)\n",
    "\n",
    "data = sc.textFile(localpath(\"small_data/eeg/*\")) \\\n",
    "    .filter(lambda x: not isHeader(x)) \\\n",
    "    .map(parse)"
   ]
  },
  {
   "cell_type": "code",
   "execution_count": 7,
   "metadata": {
    "collapsed": false
   },
   "outputs": [
    {
     "name": "stdout",
     "output_type": "stream",
     "text": [
      "(count: 491520, mean: -0.0793460876465, stdev: 6.19831990956, max: 48.472, min: -49.072)\n"
     ]
    }
   ],
   "source": [
    "print data.map(lambda x: x.reading).stats()"
   ]
  },
  {
   "cell_type": "code",
   "execution_count": null,
   "metadata": {
    "collapsed": false
   },
   "outputs": [],
   "source": [
    "print data.filter(lambda x: x.posn == \"FP1\").map(lambda x: x.reading).stats()"
   ]
  },
  {
   "cell_type": "code",
   "execution_count": null,
   "metadata": {
    "collapsed": false
   },
   "outputs": [],
   "source": [
    "samples = data.map(lambda x: ((x.trial, x.posn), 1)).reduceByKey(lambda x, y: x + y)\n",
    "posns = samples.map(lambda (x, y): (x[1], y)).distinct()\n",
    "\n",
    "assert posns.take(1)[0][1] == 256\n",
    "assert posns.count() == posns.filter(lambda (x, y): y == 256).count()"
   ]
  },
  {
   "cell_type": "markdown",
   "metadata": {},
   "source": [
    "*Question:* How do you make sure the sample numbers are all correct?"
   ]
  },
  {
   "cell_type": "markdown",
   "metadata": {},
   "source": [
    "## Joins in Spark\n",
    "\n",
    "Like in MapReduce, a join is accomplished by emitting key-value pairs `(k, v)` and joining on similar keys.  It is accomplished by roughly the same mechanism (sending similar keys to the same *node*), although in Spark those key-value pairs may not (necessarily) be persisted to disk."
   ]
  },
  {
   "cell_type": "code",
   "execution_count": null,
   "metadata": {
    "collapsed": false,
    "scrolled": false
   },
   "outputs": [],
   "source": [
    "class Transaction(object):\n",
    "    def __init__(self, transactionId, productId, userId, amount):\n",
    "        self.transactionId = transactionId\n",
    "        self.productId = productId\n",
    "        self.userId = userId\n",
    "        self.amount = int(amount)\n",
    "\n",
    "class User(object):\n",
    "    def __init__(self, userId, email, language, country):\n",
    "        self.userId = userId\n",
    "        self.email = email\n",
    "        self.language = language\n",
    "        self.country = country\n",
    "\n",
    "def construct_user(line):\n",
    "    data = line.split(\",\")\n",
    "    return User(data[1], data[2], data[3], data[4])\n",
    "\n",
    "def construct_transaction(line):\n",
    "    data = line.split(\",\")\n",
    "    if data[0] == \"sales\":\n",
    "        return Transaction(data[1], data[2], data[3], data[4])\n",
    "    else:\n",
    "        return None\n",
    "\n",
    "users = sc.textFile(localpath(\"small_data/employee/users.csv\")) \\\n",
    "    .map(construct_user)\n",
    "\n",
    "transactions = sc.textFile(localpath(\"small_data/employee/sales.csv\")) \\\n",
    "    .map(construct_transaction)\n",
    "\n",
    "totalSales = transactions.filter(lambda x: x is not None).map(lambda x: x.amount).sum()\n",
    "usersByCountryCount = users.map(lambda u: (u.country, u)).countByKey()\n",
    "\n",
    "print \"total sales %f\" % totalSales\n",
    "print \"Users by country\"\n",
    "for key, val in usersByCountryCount.items():\n",
    "    print key, val\n",
    "\n",
    "# This is (userId, (transaction, user))\n",
    "salesByCountry = transactions.filter(lambda x: x is not None) \\\n",
    "                .map(lambda t: (t.userId, t.amount)) \\\n",
    "                .join(users.map(lambda u: (u.userId, u.country))) \\\n",
    "                .map(lambda (id, (amount, country)): (country, amount)) \\\n",
    "                .reduceByKey(lambda x, y: x + y) \\\n",
    "                .collect()\n",
    "\n",
    "print \"Transactions by country\"\n",
    "for country in salesByCountry:\n",
    "    print country[0], country[1]"
   ]
  },
  {
   "cell_type": "markdown",
   "metadata": {},
   "source": [
    "### A warning about traversables\n",
    "\n",
    "The transformations `mapPartitions`, `groupByKey`, `mapPartitionsWithIndex`, and `cogroup` return iterators.  Much like Python iterators, you can only traverse them once.  Here's a common anti-pattern:"
   ]
  },
  {
   "cell_type": "code",
   "execution_count": null,
   "metadata": {
    "collapsed": false
   },
   "outputs": [],
   "source": [
    "# Anti-example\n",
    "\n",
    "def mean(iterable):\n",
    "    _size = len(iterable)\n",
    "    _sum = float(sum(iterable))\n",
    "    return _sum / _size\n",
    "\n",
    "listMean = mean(range(1,6))\n",
    "print \"list mean: %f\" % listMean\n",
    "\n",
    "# iterMean = mean(iter(range(1, 6)))\n",
    "# print \"iterator mean: %f\" % iterMean"
   ]
  },
  {
   "cell_type": "markdown",
   "metadata": {},
   "source": [
    "### RDD Persistence\n",
    "When you persist an RDD, each node stores any partitions of it that it computes in memory and reuses them in other actions on that dataset (or datasets derived from it). This allows future actions to be much faster.\n",
    "\n",
    "The argument passed to the persist method determines how the RDD will be stored. In general, you may choose\n",
    "* Deserialized or serialized formats (serialized Java objects are more space-efficient but more CPU-intensive to read)\n",
    "* In-memory only or allow spilling to disk\n",
    "* *Fast* fault tolerance via redundancy\n",
    "* [Full documentation](http://spark.apache.org/docs/latest/programming-guide.html#rdd-persistence)\n",
    "\n",
    "\n",
    "*Serialization*: the process of translating data structures or object states into a format (i.e. series of bits) that can be stored and reconstructed later. Note that in Python, object storage is always handled by Pickle, so there's no distinction between serialized or deserialized.\n",
    "\n",
    "1. The cache method is a shortcut for the default behavior: in memory and deserialized:\n",
    "```python\n",
    "myRdd.cache()\n",
    "```\n",
    "2. Otherwise, specify the desired behavior:\n",
    "```python\n",
    "myRdd.persist(MEMORY_ONLY_SER)\n",
    "```\n",
    "3. Cleaning up cached data is important for memory management. During shuffles, some intermediate data is automatically persisted, so it can be worthwhile to manually unpersist RDDs instead of waiting for garbage collection:\n",
    "```python\n",
    "myRDD.unpersist()\n",
    "```\n",
    "**Question:** Caching is a key tool for iterative algorithms and fast interactive use.  Why might you not always do it?"
   ]
  },
  {
   "cell_type": "code",
   "execution_count": null,
   "metadata": {
    "collapsed": false
   },
   "outputs": [],
   "source": [
    "def randomStream():\n",
    "    return sc.parallelize(xrange(1,10000001)).map(lambda x: random.random())\n",
    "\n",
    "uncachedLines = randomStream()\n",
    "cachedLines = randomStream().cache()"
   ]
  },
  {
   "cell_type": "code",
   "execution_count": null,
   "metadata": {
    "collapsed": false
   },
   "outputs": [],
   "source": [
    "%timeit -n1 -r1 add = uncachedLines.reduce(lambda x, y: x + y)\n",
    "%timeit -n1 -r1 sub = uncachedLines.reduce(lambda x, y: x - y)\n",
    "%timeit -n1 -r1 mult = uncachedLines.reduce(lambda x, y: x * y)"
   ]
  },
  {
   "cell_type": "code",
   "execution_count": null,
   "metadata": {
    "collapsed": false
   },
   "outputs": [],
   "source": [
    "%timeit -n1 -r1 add = cachedLines.reduce(lambda x, y: x + y)\n",
    "%timeit -n1 -r1 sub = cachedLines.reduce(lambda x, y: x - y)\n",
    "%timeit -n1 -r1 mult = cachedLines.reduce(lambda x, y: x * y)"
   ]
  },
  {
   "cell_type": "markdown",
   "metadata": {},
   "source": [
    "## Accumulators\n",
    "\n",
    "We'll want to implement counters (like we had in `mrjob` and Hadoop in general).  As usual, here is a first anti-example:"
   ]
  },
  {
   "cell_type": "code",
   "execution_count": null,
   "metadata": {
    "collapsed": false
   },
   "outputs": [],
   "source": [
    "# Anti-example\n",
    "\n",
    "class Counter(object):\n",
    "    def __init__(self):\n",
    "        self.counter = 0\n",
    "        pass\n",
    "\n",
    "    def increment(self, amt=1):\n",
    "        self.counter += amt\n",
    "        pass\n",
    "\n",
    "counter = Counter()\n",
    "\n",
    "sc.parallelize(xrange(1,11)).foreach(lambda x: counter.increment(1))\n",
    "\n",
    "print counter.counter  # what's happening here?"
   ]
  },
  {
   "cell_type": "markdown",
   "metadata": {},
   "source": [
    "Here's the correct way to implement this using [Accumulators](https://spark.apache.org/docs/1.3.0/api/scala/index.html#org.apache.spark.Accumulator).  We are just using them for integer addition but you can use them for any [monoid](https://en.wikipedia.org/wiki/Monoid).  You'll hear about these a lot in Scala."
   ]
  },
  {
   "cell_type": "code",
   "execution_count": null,
   "metadata": {
    "collapsed": false
   },
   "outputs": [],
   "source": [
    "# Example\n",
    "\n",
    "accumCounter = sc.accumulator(0)\n",
    "\n",
    "sc.parallelize(xrange(1,11)).foreach(lambda x: accumCounter.add(1))\n",
    "\n",
    "print accumCounter"
   ]
  },
  {
   "cell_type": "code",
   "execution_count": null,
   "metadata": {
    "collapsed": false
   },
   "outputs": [],
   "source": [
    "# Lazy example\n",
    "\n",
    "def update(x):\n",
    "    accumCounter.add(1)\n",
    "    return x\n",
    "\n",
    "accumCounter = sc.accumulator(0)\n",
    "\n",
    "myRdd = sc.parallelize(xrange(1, 11)).map(update)\n",
    "\n",
    "print \"counter: \", accumCounter\n",
    "\n",
    "print myRdd.reduce(lambda x, y: x + y)\n",
    "\n",
    "print \"counter: \", accumCounter\n",
    "\n",
    "myRdd.take(1)\n",
    "\n",
    "print \"counter: \", accumCounter"
   ]
  },
  {
   "cell_type": "markdown",
   "metadata": {},
   "source": [
    "## Broadcast variables\n",
    "\n",
    "Broad variables are the Spark equivalent of Hadoop's distributed cache: they deposit read-only data cached on each machine rather than shipping a copy of it with tasks."
   ]
  },
  {
   "cell_type": "code",
   "execution_count": null,
   "metadata": {
    "collapsed": false
   },
   "outputs": [],
   "source": [
    "# Basic usage:\n",
    "\n",
    "iBV = sc.broadcast(10)\n",
    "assert(iBV.value == 10)"
   ]
  },
  {
   "cell_type": "markdown",
   "metadata": {},
   "source": [
    "Here's a more realistic example to show how you might implement this:"
   ]
  },
  {
   "cell_type": "code",
   "execution_count": null,
   "metadata": {
    "collapsed": false
   },
   "outputs": [],
   "source": [
    "class Sale(object):\n",
    "    def __init__(self, state, sales):\n",
    "        self.state = state\n",
    "        self.sales = sales\n",
    "        \n",
    "def constructSale(tup):\n",
    "    return Sale(tup[0], tup[1])"
   ]
  },
  {
   "cell_type": "code",
   "execution_count": null,
   "metadata": {
    "collapsed": false
   },
   "outputs": [],
   "source": [
    "states = {\n",
    "    0: \"AL\",\n",
    "    1: \"KY\",\n",
    "    2: \"VT\",\n",
    "}\n",
    "\n",
    "statesBV = sc.broadcast(states)\n",
    "\n",
    "data = sc.parallelize([(0, 30.), (1, 40.), (2, 20.), (2, 10.)]).map(constructSale)"
   ]
  },
  {
   "cell_type": "code",
   "execution_count": null,
   "metadata": {
    "collapsed": false
   },
   "outputs": [],
   "source": [
    "%%timeit -r1 -n100\n",
    "# This works but it will send `states` to each node again if run twice\n",
    "results1 = data.map(lambda s: (states[s.state], s.sales)).collect()"
   ]
  },
  {
   "cell_type": "code",
   "execution_count": null,
   "metadata": {
    "collapsed": false
   },
   "outputs": [],
   "source": [
    "%%timeit -r1 -n100\n",
    "# broadcast to each node once, and can be used freely inside map\n",
    "results2 = data.map(lambda s: (statesBV.value[s.state], s.sales)).collect()"
   ]
  },
  {
   "cell_type": "code",
   "execution_count": null,
   "metadata": {
    "collapsed": false
   },
   "outputs": [],
   "source": [
    "results1 = data.map(lambda s: (states[s.state], s.sales)).collect()\n",
    "results2 = data.map(lambda s: (statesBV.value[s.state], s.sales)).collect()\n",
    "assert(results1 == results2)"
   ]
  },
  {
   "cell_type": "markdown",
   "metadata": {},
   "source": [
    "**Two caveats:**\n",
    "1. After the broadcast variable is created, it should be used instead of the value so that it is not shipped to the nodes more than once.\n",
    "2. The broadcast variable should not be modified after it is broadcast in order to ensure that all nodes get the same value of the broadcast variable.\n",
    "3. How does the memory footprint of broadcasting scale with the number of tasks? With the number of executors?\n",
    "\n",
    "**Question:** The above example is called a map-side join.  \n",
    "1. Why is it called this?\n",
    "1. What are the strengths and weaknesses of this versus a full join (i.e. emitting key-value pairs to common keys)?"
   ]
  },
  {
   "cell_type": "code",
   "execution_count": null,
   "metadata": {
    "collapsed": false
   },
   "outputs": [],
   "source": [
    "sc.stop()"
   ]
  },
  {
   "cell_type": "markdown",
   "metadata": {},
   "source": [
    "*Copyright &copy; 2015 The Data Incubator.  All rights reserved.*"
   ]
  }
 ],
 "metadata": {
  "kernelspec": {
   "display_name": "Python 2",
   "language": "python",
   "name": "python2"
  },
  "language_info": {
   "codemirror_mode": {
    "name": "ipython",
    "version": 2
   },
   "file_extension": ".py",
   "mimetype": "text/x-python",
   "name": "python",
   "nbconvert_exporter": "python",
   "pygments_lexer": "ipython2",
   "version": "2.7.10"
  }
 },
 "nbformat": 4,
 "nbformat_minor": 0
}
