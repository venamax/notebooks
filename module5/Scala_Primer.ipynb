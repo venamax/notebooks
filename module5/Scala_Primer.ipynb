{
 "cells": [
  {
   "cell_type": "markdown",
   "metadata": {},
   "source": [
    "# Scala Primer\n",
    "\n",
    "[Scala](https://en.wikipedia.org/wiki/Scala_(programming_language) is JVM based and has both object-oriented and functional aspects.  Whereas Python is an older imperative language that has tried to graft in functional programming elements, Scala was built ground-up as a [functional language](https://en.wikipedia.org/wiki/Functional_programming), with appropriate concessions for [object-oriented programming](https://en.wikipedia.org/wiki/Object-oriented_programming).\n",
    "- Scala is [strongly typed](https://en.wikipedia.org/wiki/Strong_and_weak_typing), and strongly-typed functional programming languages have the nice (empirical) property that if you can get the code to compile, it will almost always work as intended.\n",
    "- Unlike many other typed programming languages, you do not have to annotate every variable because the compiler has a strong [type inference](http://www.scala-lang.org/old/node/127).\n",
    "- Scala is JVM so it can directly tap into existing [Java libraries](http://docs.scala-lang.org/tutorials/scala-for-java-programmers.html).\n",
    "- The downside of Scala is that the compiler is [notoriously slow](http://www.quora.com/Why-is-the-Scala-compiler-so-slow)."
   ]
  },
  {
   "cell_type": "code",
   "execution_count": 1,
   "metadata": {
    "collapsed": false
   },
   "outputs": [
    {
     "name": "stdout",
     "output_type": "stream",
     "text": [
      "x: 2, y: 2\n"
     ]
    },
    {
     "name": "stderr",
     "output_type": "stream",
     "text": []
    }
   ],
   "source": [
    "val x: Int = 1+1         // you can annotate the type\n",
    "val z= 1+1            // or not\n",
    "assert(x == z)\n",
    "println(s\"x: $x, y: $z\") // string interpolation"
   ]
  },
  {
   "cell_type": "code",
   "execution_count": 3,
   "metadata": {
    "collapsed": false
   },
   "outputs": [
    {
     "name": "stderr",
     "output_type": "stream",
     "text": []
    },
    {
     "name": "stdout",
     "output_type": "stream",
     "text": [
      "1\n",
      "2\n",
      "3\n",
      "4\n"
     ]
    }
   ],
   "source": [
    "// + is actually a method of the \"Int\" class\n",
    "assert(x.+(z) == x + z)\n",
    "\n",
    "// you can also omit traditional class method invocation syntax (but probably shouldn't)\n",
    "(1 until 5) foreach println"
   ]
  },
  {
   "cell_type": "markdown",
   "metadata": {},
   "source": [
    "## Values vs. Variables"
   ]
  },
  {
   "cell_type": "code",
   "execution_count": 4,
   "metadata": {
    "collapsed": false
   },
   "outputs": [
    {
     "name": "stdout",
     "output_type": "stream",
     "text": []
    },
    {
     "name": "stderr",
     "output_type": "stream",
     "text": []
    },
    {
     "data": {
      "text/plain": [
       "1"
      ]
     },
     "execution_count": 4,
     "metadata": {},
     "output_type": "execute_result"
    }
   ],
   "source": [
    "var x = 1\n",
    "x = 2   // but don't use vars!\n",
    "val y = 1  // this throws an exception\n",
    "// y = 2"
   ]
  },
  {
   "cell_type": "markdown",
   "metadata": {},
   "source": [
    "## Chaining and anonymous functions"
   ]
  },
  {
   "cell_type": "code",
   "execution_count": 2,
   "metadata": {
    "collapsed": false
   },
   "outputs": [
    {
     "name": "stdout",
     "output_type": "stream",
     "text": []
    },
    {
     "name": "stderr",
     "output_type": "stream",
     "text": []
    }
   ],
   "source": [
    "val urls = List(\n",
    "    \"http://www.google.com\",\n",
    "    \"http://www.google.com?q=scala\",\n",
    "    \"http://www.yahoo.com\",\n",
    "    \"http://www.bing.com\"\n",
    ")\n",
    "\n",
    "// chained maps\n",
    "val names1 = urls\n",
    "    .map(_.split(\"//\").last)\n",
    "    .map(_.split('.')(1))\n",
    "\n",
    "\n",
    "// multiline anonymous function\n",
    "val names2 = urls.map({x =>\n",
    "    val domain = x.split(\"//\").last\n",
    "    domain.split('.')(1)\n",
    "})\n",
    "\n",
    "assert(names1 == names2)"
   ]
  },
  {
   "cell_type": "code",
   "execution_count": 3,
   "metadata": {
    "collapsed": false
   },
   "outputs": [
    {
     "name": "stdout",
     "output_type": "stream",
     "text": []
    },
    {
     "name": "stderr",
     "output_type": "stream",
     "text": []
    },
    {
     "data": {
      "text/plain": [
       "List(google, google, yahoo, bing)"
      ]
     },
     "execution_count": 3,
     "metadata": {},
     "output_type": "execute_result"
    }
   ],
   "source": [
    "names1"
   ]
  },
  {
   "cell_type": "markdown",
   "metadata": {},
   "source": [
    "## Basic data structures"
   ]
  },
  {
   "cell_type": "code",
   "execution_count": 5,
   "metadata": {
    "collapsed": false
   },
   "outputs": [
    {
     "name": "stdout",
     "output_type": "stream",
     "text": [
      "1\n",
      "2\n",
      "3\n",
      "(a,1)\n",
      "(b,2)\n"
     ]
    },
    {
     "name": "stderr",
     "output_type": "stream",
     "text": []
    }
   ],
   "source": [
    "val smallList = List(1, 2, 3)\n",
    "val smallMap = Map('a' -> 1, 'b' -> 2)        // equiv: Map(('a', 1), ('b', 2))\n",
    "val smallSet = Set('a', 'b')\n",
    "val smallArray = Array(1, 2, 3)\n",
    "val optSome = Some(2)                         // Option type\n",
    "val optNone = None\n",
    "\n",
    "val list = (0 until 10).toList                 // alt: (0 to 9).toList\n",
    "val largerNumbers = list.map(_ + 1000)         // alt: list.map(x => x + 1000)\n",
    "val evens = list.filter(_ % 2 == 0)\n",
    "val set = list.toSet                           // alt: list.toSet(), parens optional\n",
    "val alphabet = ('a' to 'z').toList\n",
    "val alphabetMap = alphabet.zipWithIndex.toMap  // like python's enumerate function\n",
    "\n",
    "// foreach is like map but when you don't expect a return value\n",
    "smallList.foreach(println)\n",
    "smallMap.foreach(println)"
   ]
  },
  {
   "cell_type": "markdown",
   "metadata": {},
   "source": [
    "## Equality in Scala\n",
    "\n",
    "*It depends on what the meaning of the word 'is' is*: [a famous ex-president.]\n",
    "\n",
    "There are [two notions](https://en.wikipedia.org/wiki/Relational_operator#Object_identity_vs._content_equality) of `==`:\n",
    "- *Object identity* or *shallow equality* is when two objects are pointing  at the same thing (in C, we might call this a pointer check)\n",
    "- *Structural equality* or *deep equality* is when the two objects reference equivalent sturctures\n",
    "\n",
    "This can be a little confusing because `==` can mean both:"
   ]
  },
  {
   "cell_type": "code",
   "execution_count": 6,
   "metadata": {
    "collapsed": false
   },
   "outputs": [
    {
     "name": "stdout",
     "output_type": "stream",
     "text": []
    },
    {
     "name": "stderr",
     "output_type": "stream",
     "text": []
    }
   ],
   "source": [
    "val a1 = (0 to 10).toArray\n",
    "val a2 = (0 to 10).toArray\n",
    "assert(a1 != a2)  // legacy java notion of comparison\n",
    "\n",
    "val l1 = (0 to 10).toList\n",
    "val l2 = (0 to 10).toList\n",
    "assert(l1 == l2)"
   ]
  },
  {
   "cell_type": "code",
   "execution_count": 17,
   "metadata": {
    "collapsed": false
   },
   "outputs": [
    {
     "name": "stdout",
     "output_type": "stream",
     "text": [
      "0\n",
      "1\n",
      "2\n",
      "3\n",
      "4\n",
      "5\n",
      "6\n",
      "7\n",
      "8\n",
      "9\n",
      "10\n"
     ]
    },
    {
     "name": "stderr",
     "output_type": "stream",
     "text": []
    }
   ],
   "source": [
    "\n",
    "l1.foreach(println)"
   ]
  },
  {
   "cell_type": "markdown",
   "metadata": {},
   "source": [
    "## List vs. Array\n",
    "\n",
    "A Scala `List` is implemented as a linked list.  An `Array` is really a fixed length in memory buffer (just like the Java array).  They both inherit from the more generic `Seq` interface."
   ]
  },
  {
   "cell_type": "code",
   "execution_count": 15,
   "metadata": {
    "collapsed": false
   },
   "outputs": [
    {
     "name": "stderr",
     "output_type": "stream",
     "text": []
    },
    {
     "name": "stdout",
     "output_type": "stream",
     "text": []
    }
   ],
   "source": [
    "// construct list\n",
    "val list = 1 :: 2 :: 3 :: Nil // 1 -> 2 -> 3 -> end \n",
    "\n",
    "// and use it\n",
    "def sum(list: List[Int]): Int = list match {\n",
    "    case head :: tail => head + sum(tail)\n",
    "    case Nil => 0\n",
    "}\n",
    "assert(sum(list) == 6)\n",
    "\n",
    "// construct an array\n",
    "val array = new Array[Int](3)\n",
    "array(0) = 1\n",
    "array(1) = 2\n",
    "array(2) = 3\n",
    "// array(4) = 4  // this throws an exception\n",
    "\n",
    "assert(list(2) == array(2))  // select\n",
    "assert((0 :: list) == (0 +: array).toList)  // prepend\n",
    "assert((list :+ 4) == (array :+ 4).toList)  // append"
   ]
  },
  {
   "cell_type": "code",
   "execution_count": 21,
   "metadata": {
    "collapsed": false
   },
   "outputs": [
    {
     "name": "stdout",
     "output_type": "stream",
     "text": [
      "1\n",
      "2\n",
      "3\n"
     ]
    },
    {
     "name": "stderr",
     "output_type": "stream",
     "text": []
    }
   ],
   "source": [
    "array.foreach(println)\n"
   ]
  },
  {
   "cell_type": "markdown",
   "metadata": {},
   "source": [
    "**Question:**\n",
    "- What is the running time of `list(n)` in Scala (and Python)?\n",
    "- What is the running time of `array(n)`?\n",
    "- What is the cost of prepending to `list` (i.e. `a :: list`)?\n",
    "- What is the cost of prepending to `array` (i.e. `a +: list`)?\n",
    "- What is the cost of appending to `list` (i.e. `list :+ a`)?\n",
    "- What is the cost of appending to `array` (i.e. `list :+ a`)?"
   ]
  },
  {
   "cell_type": "markdown",
   "metadata": {},
   "source": [
    "## Monads and map, flatMap, filter, foreach"
   ]
  },
  {
   "cell_type": "markdown",
   "metadata": {},
   "source": [
    "#### In Python\n",
    "It is Pythonic to operate on lists -- element-wise operations, filtering, etc. -- by using list comprehensions.  In many other languages, starting with Lisp but extending to many \"functional\" programming languages, a different style is preferred:\n",
    "\n",
    "The idea is that if `f` is a function, then one thinks of the application\n",
    ">          \n",
    "    list   |---->   [ f(x) for x in list ]\n",
    "\n",
    "on lists as a function of _two_ arguments: `f` and `list`.  The idea of viewing the function `f` as a parameter is typical in functional programming languages, and can be taken as a definition of the later term.\n",
    "\n",
    "Some common idioms in this style, with Pythonic equivalents, are:\n",
    "\n",
    "- Apply `f` element-wise to `list`:\n",
    "    ```python\n",
    "    map(f, list) == [ f(x) for x in list ]\n",
    "    ```\n",
    "- Filter `list` using `f`:\n",
    "    ```python\n",
    "    filter(f, list) == [ x for x in list if f(x) ]\n",
    "    ```\n",
    "- Here `f` is a function that eats elements (of the type contained in `list`) and spits out lists, and `flatMap` first applies `f` element-wise to the elements of `list` and then _flattens_ or _concatenates_ the resulting lists.  It is sometimes also called `concatMap`.\n",
    "    ```python\n",
    "    flatMap(f, list) == [ x for y in list for x in f(y) ]\n",
    "    ```\n",
    "- `reduce(f, list[, initial])`: Here `f` is a function of _two_ variables, and folds over the list applying `f` to the \"accumulator\" and the next value in the list.  That is, it performs the following recursion\n",
    "    $$    a_{-1} = \\mathrm{initial} $$\n",
    "    $$    a_i = f(a_{i-1}, \\mathrm{list}_i) $$\n",
    "    with the final answer being $a_{\\mathrm{len}(\\mathrm{list})-1}$.  (If initial is omitted, just start with $a_0 = \\mathrm{list}_0$.)  For instance,\n",
    "    ``` python           \n",
    "    reduce(lambda x,y: x+y, [1,2,3,4]) == ((1+2)+3)+4 == 10\n",
    "    ```\n",
    "    \n",
    "    \n",
    "###Remark:\n",
    "This is where the name \"map reduce\" comes from."
   ]
  },
  {
   "cell_type": "markdown",
   "metadata": {},
   "source": [
    "### Examples:\n",
    "Below are some examples of iterations."
   ]
  },
  {
   "cell_type": "code",
   "execution_count": 22,
   "metadata": {
    "collapsed": false
   },
   "outputs": [
    {
     "name": "stdout",
     "output_type": "stream",
     "text": []
    },
    {
     "name": "stderr",
     "output_type": "stream",
     "text": []
    },
    {
     "data": {
      "text/plain": [
       "Map(5 -> 2, 10 -> 1, 1 -> 10, 6 -> 1, 9 -> 1, 2 -> 5, 7 -> 1, 3 -> 3, 8 -> 1, 4 -> 2)"
      ]
     },
     "execution_count": 22,
     "metadata": {},
     "output_type": "execute_result"
    }
   ],
   "source": [
    "// All factors of a number: what type does this return?\n",
    "def factors(num: Int) = {\n",
    "    (1 to num).filter(num % _ == 0).toList  // last line in function is returned\n",
    "}\n",
    "\n",
    "val factors6 = factors(6)\n",
    "\n",
    "// count of all factors up to n\n",
    "def factorSum(num: Int) = {\n",
    "    val allFactors = (1 to num).flatMap(factors)\n",
    "    allFactors.groupBy(x => x).map(t => (t._1, t._2.length))  // can map over a HashMap\n",
    "}\n",
    "\n",
    "val factorSum10 = factorSum(10)"
   ]
  },
  {
   "cell_type": "code",
   "execution_count": 23,
   "metadata": {
    "collapsed": false
   },
   "outputs": [
    {
     "name": "stderr",
     "output_type": "stream",
     "text": []
    },
    {
     "name": "stdout",
     "output_type": "stream",
     "text": []
    }
   ],
   "source": [
    "// largest palindrome that is the product of two 3-digit numbers\n",
    "\n",
    "// this is hard to read\n",
    "val r1 = ((100 to 999).view\n",
    "            .flatMap(i => (i to 999).map(i * _))\n",
    "            .filter(n => n.toString == n.toString.reverse)\n",
    "            .max)\n",
    "\n",
    "// for comprehension is easier to read\n",
    "val r2 = (for {\n",
    "    i <- 100 to 999\n",
    "    j <- i to 999\n",
    "    val n = (i * j)\n",
    "    val s = n.toString\n",
    "    if s == s.reverse\n",
    "} yield { n }).max\n",
    "\n",
    "assert(r1 == r2)"
   ]
  },
  {
   "cell_type": "code",
   "execution_count": 24,
   "metadata": {
    "collapsed": false
   },
   "outputs": [
    {
     "name": "stdout",
     "output_type": "stream",
     "text": []
    },
    {
     "name": "stderr",
     "output_type": "stream",
     "text": []
    },
    {
     "data": {
      "text/plain": [
       "906609"
      ]
     },
     "execution_count": 24,
     "metadata": {},
     "output_type": "execute_result"
    }
   ],
   "source": [
    "r2"
   ]
  },
  {
   "cell_type": "markdown",
   "metadata": {},
   "source": [
    "## Options and map\n",
    "\n",
    "`Option` is a funny collection because it contains at most a single object.  But it turns out to be the most useful and very powerful when combined with `map` and `flatMap`.  The type system checks that you've considered all the corner cases."
   ]
  },
  {
   "cell_type": "code",
   "execution_count": null,
   "metadata": {
    "collapsed": false
   },
   "outputs": [],
   "source": [
    "// so what are options for?\n",
    "import java.util.Arrays\n",
    "\n",
    "// binary search does not always return an index, so the return type should be optional\n",
    "def binarySearch(array: Array[Char], key: Char): Option[Int] = {\n",
    "    Arrays.binarySearch(array, key) match {\n",
    "        case index if index < 0 => None\n",
    "        case index => Some(index)\n",
    "    }\n",
    "}\n",
    "\n",
    "val array = ('a' to 'z').toArray\n",
    "\n",
    "assert(binarySearch(array, 'b') == Some(1))\n",
    "assert(binarySearch(array, 'B') == None)\n",
    "\n",
    "// character after 'b' (don't forget the null case)\n",
    "def letterAfter1(array: Array[Char], key: Char): Option[Char] = {\n",
    "    binarySearch(array, key) match {\n",
    "        case Some(index) => if (array.isDefinedAt(index + 1)) {\n",
    "            Some(array(index + 1))\n",
    "        } else {\n",
    "            None\n",
    "        }\n",
    "        case None => None\n",
    "    }\n",
    "}\n",
    "\n",
    "// an even more idiomatic implementation\n",
    "def letterAfter2(array: Array[Char], key: Char): Option[Char] = {\n",
    "    binarySearch(array, key)\n",
    "        .flatMap(index => array.drop(index+1).headOption)\n",
    "}\n",
    "\n",
    "assert(letterAfter1(array, 'b') == letterAfter2(array, 'b'))\n",
    "assert(letterAfter1(array, 'z') == letterAfter2(array, 'z'))\n",
    "assert(letterAfter1(array, 'B') == letterAfter2(array, 'B'))"
   ]
  },
  {
   "cell_type": "markdown",
   "metadata": {},
   "source": [
    "## Classes and objects"
   ]
  },
  {
   "cell_type": "markdown",
   "metadata": {},
   "source": [
    "### A simple example"
   ]
  },
  {
   "cell_type": "code",
   "execution_count": 25,
   "metadata": {
    "collapsed": false
   },
   "outputs": [
    {
     "name": "stdout",
     "output_type": "stream",
     "text": []
    },
    {
     "name": "stderr",
     "output_type": "stream",
     "text": []
    }
   ],
   "source": [
    "trait PointTrait {\n",
    "    def square(x: Double) = x * x // don't even need to declare return type\n",
    "}\n",
    "\n",
    "class Point(val x: Double, val y: Double) extends PointTrait {\n",
    "    // val means constructor arguements are public    \n",
    "    def distance(p: Point): Double = {\n",
    "        math.sqrt(square(p.x - x) + square(p.y - y))\n",
    "    }\n",
    "    \n",
    "    val norm = math.sqrt(square(x) + square(y))  // as if in constructor (e.g. __init__)\n",
    "}\n",
    "\n",
    "object Point extends PointTrait\n",
    "\n",
    "assert(new Point(0., 0.).distance(new Point(1., 1.)) == new Point(1., 1. ).norm)"
   ]
  },
  {
   "cell_type": "markdown",
   "metadata": {},
   "source": [
    "### A more complex example"
   ]
  },
  {
   "cell_type": "code",
   "execution_count": 27,
   "metadata": {
    "collapsed": false
   },
   "outputs": [
    {
     "name": "stderr",
     "output_type": "stream",
     "text": []
    },
    {
     "name": "stdout",
     "output_type": "stream",
     "text": []
    }
   ],
   "source": [
    "class Stack[T] {  // T is a type parameter (see usage)\n",
    "    var data: List[T] = Nil\n",
    "    \n",
    "    def push(x: T) {  // no return value => don't need '='\n",
    "        data = x :: data\n",
    "    }\n",
    "\n",
    "    def pop: Option[T] = data match {  // matches on type of \n",
    "        case init :: tail => {  // matches non-empty list\n",
    "            data = tail\n",
    "            Some(init)\n",
    "        }\n",
    "        case Nil => None  // matches empty list\n",
    "    }\n",
    "}\n",
    "\n",
    "val stack = new Stack[Int]\n",
    "stack.push(2)\n",
    "stack.push(3)\n",
    "assert(stack.pop == Some(3))\n",
    "assert(stack.pop == Some(2))\n",
    "assert(stack.pop == None)"
   ]
  },
  {
   "cell_type": "markdown",
   "metadata": {},
   "source": [
    "A good [reference](https://twitter.github.io/scala_school/type-basics.html) for Scala typing."
   ]
  },
  {
   "cell_type": "markdown",
   "metadata": {},
   "source": [
    "## Pass arguments by name or value"
   ]
  },
  {
   "cell_type": "code",
   "execution_count": 28,
   "metadata": {
    "collapsed": false
   },
   "outputs": [
    {
     "name": "stdout",
     "output_type": "stream",
     "text": [
      "hello\n",
      "x1=3\n",
      "x2=3\n",
      "-----\n",
      "hello\n",
      "x1=3\n",
      "hello\n",
      "x2=3\n"
     ]
    },
    {
     "name": "stderr",
     "output_type": "stream",
     "text": []
    }
   ],
   "source": [
    "def passValue(x: Int) = {\n",
    "  println(\"x1=\" + x)\n",
    "  println(\"x2=\" + x)\n",
    "}\n",
    "\n",
    "def passAnonymousFunction(x: => Int) = {\n",
    "  println(\"x1=\" + x)\n",
    "  println(\"x2=\" + x)\n",
    "}\n",
    "\n",
    "def printfn() = {\n",
    "    println(\"hello\")\n",
    "    3\n",
    "}\n",
    "\n",
    "passValue(printfn)\n",
    "println(\"-----\")\n",
    "passAnonymousFunction(printfn)"
   ]
  },
  {
   "cell_type": "markdown",
   "metadata": {},
   "source": [
    "## Try, catch, and finally\n",
    "Try and catch in scala is a lot like "
   ]
  },
  {
   "cell_type": "code",
   "execution_count": 29,
   "metadata": {
    "collapsed": false
   },
   "outputs": [
    {
     "name": "stdout",
     "output_type": "stream",
     "text": [
      "Before the exception\n",
      "got an exception: java.lang.IllegalArgumentException: \n",
      "print me no matter what\n"
     ]
    },
    {
     "name": "stderr",
     "output_type": "stream",
     "text": []
    }
   ],
   "source": [
    "try{\n",
    "    println(\"Before the exception\")\n",
    "    throw new IllegalArgumentException (\"\")\n",
    "    println(\"After the exception\")\n",
    "} catch {\n",
    "    case e: Exception => println(\"got an exception: \" + e)\n",
    "} finally {\n",
    "    println(\"print me no matter what\")\n",
    "}"
   ]
  },
  {
   "cell_type": "markdown",
   "metadata": {},
   "source": [
    "## Advantages and disadvantages of Scala?\n",
    "1. It reduces performance overhead\n",
    "2. Access to the latest and greatest\n",
    "3. Understand the underlying philosophy of computation that Spark inherits from being developed in Scala\n",
    "4. One language to rule them all:\n",
    "> With Spark and Scala, the experience is different, because you’re using the same language for everything. You’re writing Scala to retrieve data from the cluster via Spark. You’re writing Scala to manipulate that data locally on your own machine. And then — and this is the really neat part — you can send Scala code into the cluster so that you can perform the exact same transformations that you performed locally on data that is still stored in the cluster. It’s difficult to express how transformative it is to do all of your data munging and analysis in a single environment, regardless of where the data itself is stored and processed. It’s the sort of thing that you have to experience for yourself to understand, and we wanted to be sure that our recipes captured some of that same magic feeling that we felt when we first started using Spark."
   ]
  },
  {
   "cell_type": "markdown",
   "metadata": {},
   "source": [
    "## Additional resources\n",
    "\n",
    "- [Scala for Python programmers](http://bugra.github.io/work/notes/2014-10-18/scala-basics-for-python-developers/)\n",
    "- [The Official Scala-Lang Learning Page](http://www.scala-lang.org/documentation/)\n",
    "- [Another tutorial on Scala](http://www.scala-lang.org/docu/files/ScalaTutorial.pdf)\n",
    "- [Scala For The Impatient](http://fileadmin.cs.lth.se/scala/scala-impatient.pdf)"
   ]
  },
  {
   "cell_type": "markdown",
   "metadata": {},
   "source": [
    "#### Exit Tickets\n",
    "1. Explain flatMap to a layman.\n",
    "1. Write a fully typed function that accepts an integer as input, returns the integer if it is divisible by k, and if not returns None."
   ]
  },
  {
   "cell_type": "markdown",
   "metadata": {},
   "source": [
    "*Copyright &copy; 2015 The Data Incubator.  All rights reserved.*"
   ]
  }
 ],
 "metadata": {
  "kernelspec": {
   "display_name": "Spark 1.3 (Scala 2.10)",
   "language": "scala",
   "name": "spark-1.3-scala-2.10"
  },
  "language_info": {
   "codemirror_mode": "text/x-scala",
   "file_extension": "scala",
   "mimetype": "text/x-scala",
   "name": "scala"
  }
 },
 "nbformat": 4,
 "nbformat_minor": 0
}
