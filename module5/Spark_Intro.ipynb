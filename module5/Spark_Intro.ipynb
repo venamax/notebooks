{
 "cells": [
  {
   "cell_type": "markdown",
   "metadata": {},
   "source": [
    "# Spark Intro\n",
    "Like _Hadoop_, __Spark__ is a low-level system for distributed computation on a cluster.  It has two major advantages over MapReduce:\n",
    " \n",
    " - It can do in-memory caching between stages, while Hadoop must write everything to disk.  This improves performance.  It also makes it suitable for classes of algorithms that would otherwise be too slow (e.g. iterative algorithms, like the training step in many machine learning algorithms).\n",
    " \n",
    " - It has a more flexible execution model (i.e. not just MapReduce).\n",
    " \n",
    "There are also minor advantages: The default API is much nicer than writing raw MR code. The favored interface is via a language called Scala, but there is also good support for using Python.\n",
    "\n",
    "## How does Spark relate to Hadoop?  \n",
    "\n",
    "__Answer 1__: It's a replacement for it.  You can manage and run your own Spark cluster, independent of Hadoop.  You'll have to figure out the filesystem layer from scratch though.   (In this context, _Spark SQL_ is the replacement for _Hive_, i.e. for SQL-like operation.)\n",
    "\n",
    "__Answer 2__: It's a complement to it.  You can run Spark on top of a Hadoop cluster, and still leverage HDFS and YARN -- then Spark is just replacing MapReduce.  (In this context, _Spark SQL_ can be used as a drop-in replacement for _Hive_.)\n",
    "\n",
    "## The Spark API\n",
    "### Nouns\n",
    "The two main abstractions in Spark are:\n",
    "1. Resilient distributed datasets (RDDs):\n",
    "  This is like a (smartly) distributed list, which is partitioned across the nodes of the cluster and can be operated on in parallel.  The operations take the form of the usual functional list operations as shown above.  There are two types of operations: Transformations and Actions.\n",
    "1. Shared variables used in parallel operations: When Spark runs a function in parallel across nodes, it ships a copy of each variable needed by that function to each node.  There are two types of shared variables:\n",
    " - Broadcast variables: These are used to store a value in memory across all nodes (i.e. their values are \"broadcast\" from the driver node)\n",
    " - Accumulator variables: These are variables which are only added to across nodes, for implementing counters and sums.\n",
    " \n",
    "### Verbs\n",
    "- **Transformations:** This creates a new RDD from an old one: for instance `map` or `flatMap`.  Transformations in Spark are __lazy__, which means that they do not compute the answer right away -- only when it is needed by something else.  Instead they represent the \"idea\" of the transformation applied to the base data set (e.g. for each chaining).  In particular, this means that intermediate results to computations do not necessarily get created and stored -- if the output of your map is going straight into a reduce, Spark should be clever enough to realize this and not actually store the output of the map.  Another consequence of this design is that the results of transformations are, by default, recomputed each time they are needed -- to store them one must explicitly call `cache`.\n",
    "    \n",
    "    [Transformations](https://spark.apache.org/docs/latest/programming-guide.html#transformations) typically *transform* the data and return another RDD.  Common examples include `map`, `filter`, `flatMap`, and also `join`, `cogroup`, `groupByKey`, `reduceByKey`, `countByKey`, and `sample`.\n",
    "\n",
    "- **Actions:** These actually return a value as a result of a computation.  For instance, `reduce` is an action that combines all elements of an RDD using some function and then returns the final result.  (Note that `reduceByKey` actually returns an RDD.)\n",
    "    \n",
    "    [Actions](https://spark.apache.org/docs/latest/programming-guide.html#actions) typically either generate *small* outputs (e.g. `reduce`, `count`, `first`, `take`, `takeSample`, `foreach`, `collect`) or persist to disk (e.g. `saveAsTextFile`, `saveAsSequenceFile`, etc.).\n",
    "\n",
    "\n",
    "**Questions:**\n",
    "1. What's the difference between `map` and `foreach` in (non-Spark) Scala?  Why is `map` a transformation but `foreach` an action in Spark?\n",
    "1. Why is `reduceByKey` a transformation but `reduce` an action?"
   ]
  },
  {
   "cell_type": "code",
   "execution_count": 1,
   "metadata": {
    "collapsed": false
   },
   "outputs": [
    {
     "name": "stderr",
     "output_type": "stream",
     "text": []
    },
    {
     "name": "stdout",
     "output_type": "stream",
     "text": []
    }
   ],
   "source": [
    "def time[R](block: => R): R = {\n",
    "    val start: Long = System.nanoTime()\n",
    "    val result = block\n",
    "    val end: Long = System.nanoTime()\n",
    "    val duration: Double = (end - start) / 1000000000.0  // what happens if you leave off the decimal point?\n",
    "    println(\"Elapsed time: \" + duration + \"s\")\n",
    "    result\n",
    "}"
   ]
  },
  {
   "cell_type": "markdown",
   "metadata": {},
   "source": [
    "## Creating a Spark Context"
   ]
  },
  {
   "cell_type": "code",
   "execution_count": 2,
   "metadata": {
    "collapsed": false
   },
   "outputs": [
    {
     "name": "stderr",
     "output_type": "stream",
     "text": []
    },
    {
     "name": "stdout",
     "output_type": "stream",
     "text": []
    },
    {
     "data": {
      "text/plain": [
       "1.3.0"
      ]
     },
     "execution_count": 2,
     "metadata": {},
     "output_type": "execute_result"
    }
   ],
   "source": [
    "import org.apache.spark.SparkContext\n",
    "classOf[SparkContext].getPackage.getImplementationVersion"
   ]
  },
  {
   "cell_type": "markdown",
   "metadata": {},
   "source": [
    "## Spark examples\n",
    "\n",
    "Now that you have some basic familiarity with Scala, let's try working with Spark."
   ]
  },
  {
   "cell_type": "code",
   "execution_count": 3,
   "metadata": {
    "collapsed": false
   },
   "outputs": [
    {
     "name": "stdout",
     "output_type": "stream",
     "text": [
      "total lines: 77931\n",
      "Elapsed time: 3.619031605s\n"
     ]
    },
    {
     "name": "stderr",
     "output_type": "stream",
     "text": []
    }
   ],
   "source": [
    "// Basic wordcount. `val spark` is already introduced in the namespace.\n",
    "time {\n",
    "    val lines = spark.textFile(\"small_data/gutenberg/\")\n",
    "    val totalLines = lines.count()\n",
    "    println(s\"total lines: $totalLines\")\n",
    "\n",
    "    lines.flatMap(line => line.split(\" \"))\n",
    "        .map(word => (word.toLowerCase(), 1))\n",
    "        .reduceByKey(_ + _)\n",
    "        .sortByKey()\n",
    "        .saveAsTextFile(\"/tmp/output_gutenberg\" + (System.currentTimeMillis / 1000).toString)\n",
    "}"
   ]
  },
  {
   "cell_type": "markdown",
   "metadata": {},
   "source": [
    "**Exercise:** There are a lot of special symbols in the output.  How would you do wordcount only on pure characters?  Hint: in Scala and Java, you can test for regular expressions this way:\n",
    "```scala\n",
    "\"abc\".matches(\"^\\\\w+$\")\n",
    "```"
   ]
  },
  {
   "cell_type": "markdown",
   "metadata": {},
   "source": [
    "### Example: a simple simulation for $\\pi$"
   ]
  },
  {
   "cell_type": "code",
   "execution_count": 11,
   "metadata": {
    "collapsed": false
   },
   "outputs": [
    {
     "name": "stdout",
     "output_type": "stream",
     "text": [
      "Pi is roughly 3.1558\n"
     ]
    },
    {
     "name": "stderr",
     "output_type": "stream",
     "text": []
    }
   ],
   "source": [
    "val numSamples = 100000\n",
    "\n",
    "val count = spark.parallelize(1 to numSamples).map{_ =>\n",
    "  val x = Math.random()\n",
    "  val y = Math.random()\n",
    "  if (x*x + y*y < 1) 1 else 0\n",
    "}.reduce(_ + _)\n",
    "println(\"Pi is roughly \" + 4.0 * count / numSamples)"
   ]
  },
  {
   "cell_type": "markdown",
   "metadata": {},
   "source": [
    "## ETL in Spark\n",
    "\n",
    "#### Premise\n",
    "The first steps of any data science project usually involve ETL'ing and performing exploratory analytics on a dataset.\n",
    "Here we'll acquaint ourselves both with the Spark shell and some Spark functions that we can use to perform such tasks.\n",
    "\n",
    "#### The dataset\n",
    "From https://archive.ics.uci.edu/ml/datasets/EEG+Database:  \n",
    "> \"The first four lines are header information. Line 1 contains the subject identifier and indicates if the subject was an alcoholic (a) or control (c) subject by the fourth letter. Line 4 identifies the matching conditions: a single object shown (S1 obj), object 2 shown in a matching condition (S2 match), and object 2 shown in a non matching condition (S2 nomatch). Line 5 identifies the start of the data from sensor FP1. The four columns of data are: the trial number, sensor position, sample number (0-255), and sensor value (in micro volts).\"\n",
    "\n",
    "There are 16,452 rows in this file including the header. Here's a preview of the first 10 lines and last 10 lines:\n",
    "```\n",
    "# co2a0000364.rd\n",
    "# 120 trials, 64 chans, 416 samples 368 post_stim samples\n",
    "# 3.906000 msecs uV\n",
    "# S1 obj , trial 0\n",
    "# FP1 chan 0\n",
    "0 FP1 0 -8.921\n",
    "0 FP1 1 -8.433\n",
    "0 FP1 2 -2.574\n",
    "0 FP1 3 5.239\n",
    "0 FP1 4 11.587\n",
    "    ...\n",
    "0 Y 246 24.150\n",
    "0 Y 247 20.243\n",
    "0 Y 248 11.454\n",
    "0 Y 249 4.618\n",
    "0 Y 250 3.153\n",
    "0 Y 251 6.571\n",
    "0 Y 252 12.431\n",
    "0 Y 253 15.849\n",
    "0 Y 254 16.337\n",
    "0 Y 255 14.872\n",
    "```\n",
    "\n",
    "\n",
    "#### Summary stats on the dataset\n",
    "\n",
    "1. There is an action for `RDD[Double]` called `stats` that will provide us with summary statistics about the values in the RDD. How can we get out summary stats of the `reading` column across the entire dataset?\n",
    "\n",
    "1. How can we do the same but for only the `posn` \"FP1\"?\n",
    "\n",
    "1. Let's make sure there are 256 samples per `posn` in this dataset. How can we do this? "
   ]
  },
  {
   "cell_type": "code",
   "execution_count": 12,
   "metadata": {
    "collapsed": false
   },
   "outputs": [
    {
     "name": "stdout",
     "output_type": "stream",
     "text": []
    },
    {
     "name": "stderr",
     "output_type": "stream",
     "text": []
    },
    {
     "data": {
      "text/plain": [
       "MapPartitionsRDD[14] at map at <console>:31"
      ]
     },
     "execution_count": 12,
     "metadata": {},
     "output_type": "execute_result"
    }
   ],
   "source": [
    "def isHeader(line: String) : Boolean = {\n",
    "    line.contains(\"# \")\n",
    "}\n",
    "\n",
    "case class Record(\n",
    "    trial: Int,\n",
    "    posn: String,\n",
    "    sample: Int,\n",
    "    reading: Double\n",
    ")\n",
    "\n",
    "def parse(line: String) = {\n",
    "    val tokens = line.split(\"\\\\s+\")\n",
    "    val trial = tokens(0).toInt\n",
    "    val posn = tokens(1)\n",
    "    val sample = tokens(2).toInt\n",
    "    val reading = tokens(3).toDouble\n",
    "    Record(trial, posn, sample, reading)\n",
    "}\n",
    "\n",
    "val data = spark.textFile(\"small_data/eeg/*\")\n",
    "                .filter(x => !isHeader(x))\n",
    "                .map(parse)"
   ]
  },
  {
   "cell_type": "code",
   "execution_count": 13,
   "metadata": {
    "collapsed": false
   },
   "outputs": [
    {
     "name": "stdout",
     "output_type": "stream",
     "text": [
      "(count: 491520, mean: -0.079346, stdev: 6.198320, max: 48.472000, min: -49.072000)\n"
     ]
    },
    {
     "name": "stderr",
     "output_type": "stream",
     "text": []
    }
   ],
   "source": [
    "println(data.map(_.reading).stats())"
   ]
  },
  {
   "cell_type": "code",
   "execution_count": 14,
   "metadata": {
    "collapsed": false
   },
   "outputs": [
    {
     "name": "stdout",
     "output_type": "stream",
     "text": [
      "(count: 7680, mean: 0.817634, stdev: 8.418456, max: 27.649000, min: -25.513000)\n"
     ]
    },
    {
     "name": "stderr",
     "output_type": "stream",
     "text": []
    }
   ],
   "source": [
    "println(data.filter(_.posn == \"FP1\").map(_.reading).stats())"
   ]
  },
  {
   "cell_type": "code",
   "execution_count": 15,
   "metadata": {
    "collapsed": false
   },
   "outputs": [
    {
     "name": "stderr",
     "output_type": "stream",
     "text": []
    },
    {
     "name": "stdout",
     "output_type": "stream",
     "text": []
    }
   ],
   "source": [
    "val samples = data.map(x => ((x.trial, x.posn), 1)).reduceByKey(_ + _)\n",
    "val posns = samples.map{case (x, y) => (x._2, y)}.distinct()\n",
    "\n",
    "assert(posns.take(1)(0)._2 == 256) // _2 second element of tuple \n",
    "assert(posns.count() == posns.filter{case (x, y) => y == 256}.count())"
   ]
  },
  {
   "cell_type": "code",
   "execution_count": 16,
   "metadata": {
    "collapsed": false
   },
   "outputs": [
    {
     "data": {
      "text/plain": [
       "Array(((65,FC4),256), ((3,FC1),256), ((1,FPZ),256), ((29,CP5),256), ((29,CPZ),256))"
      ]
     },
     "execution_count": 16,
     "metadata": {},
     "output_type": "execute_result"
    },
    {
     "name": "stdout",
     "output_type": "stream",
     "text": []
    },
    {
     "name": "stderr",
     "output_type": "stream",
     "text": []
    }
   ],
   "source": [
    "samples.take(5)"
   ]
  },
  {
   "cell_type": "code",
   "execution_count": 19,
   "metadata": {
    "collapsed": false
   },
   "outputs": [
    {
     "name": "stderr",
     "output_type": "stream",
     "text": []
    },
    {
     "name": "stdout",
     "output_type": "stream",
     "text": []
    },
    {
     "data": {
      "text/plain": [
       "Array((FT8,256), (Y,256), (F3,256), (PO8,256), (FT7,256))"
      ]
     },
     "execution_count": 19,
     "metadata": {},
     "output_type": "execute_result"
    }
   ],
   "source": [
    "posns.take(5)"
   ]
  },
  {
   "cell_type": "code",
   "execution_count": 21,
   "metadata": {
    "collapsed": false
   },
   "outputs": [
    {
     "name": "stderr",
     "output_type": "stream",
     "text": []
    },
    {
     "data": {
      "text/plain": [
       "FT8"
      ]
     },
     "execution_count": 21,
     "metadata": {},
     "output_type": "execute_result"
    },
    {
     "name": "stdout",
     "output_type": "stream",
     "text": []
    }
   ],
   "source": [
    "posns.take(5)(0)._1"
   ]
  },
  {
   "cell_type": "markdown",
   "metadata": {},
   "source": [
    "## Joins in Spark\n",
    "\n",
    "Like in MapReduce, a join is accomplished by emitting key-value pairs `(k, v)` and joining on similar keys.  It is accomplished by roughly the same mechanism (sending similar keys to the same *node*), although in Spark those key-value pairs may not (necessarily) be persisted to disk."
   ]
  },
  {
   "cell_type": "code",
   "execution_count": 22,
   "metadata": {
    "collapsed": false,
    "scrolled": false
   },
   "outputs": [
    {
     "name": "stdout",
     "output_type": "stream",
     "text": [
      "total sales 700.0\n",
      "Users by country\n",
      "(FR,2)\n",
      "(US,1)\n",
      "(GB,1)\n",
      "Transactions by country\n",
      "(FR,150)\n",
      "(US,400)\n",
      "(GB,150)\n"
     ]
    },
    {
     "name": "stderr",
     "output_type": "stream",
     "text": []
    }
   ],
   "source": [
    "case class Transaction(\n",
    "    transactionId: String,\n",
    "    productId: String,\n",
    "    userId: String,\n",
    "    amount: Int\n",
    ")\n",
    "\n",
    "case class User(\n",
    "    userId: String,\n",
    "    email: String,\n",
    "    language: String,\n",
    "    country: String\n",
    ")\n",
    "\n",
    "val users = (spark.textFile(\"small_data/employee/users.csv\")\n",
    "    .map({line => \n",
    "        val data = line.split(\",\")\n",
    "        User(data(1), data(2), data(3), data(4))\n",
    "    }))\n",
    "\n",
    "val transactions = (spark.textFile(\"small_data/employee/sales.csv\")\n",
    "    .flatMap({ _.split(\",\") match {\n",
    "        case Array(\n",
    "            \"sales\",\n",
    "            transactionId: String,\n",
    "            productId: String,\n",
    "            user: String,\n",
    "            amount: String\n",
    "        ) => Some(new Transaction(transactionId, productId, user, amount.toInt))\n",
    "        case _ => None\n",
    "    }}))\n",
    "\n",
    "val totalSales = transactions.map(_.amount).sum\n",
    "val usersByCountryCount = users.map(u => (u.country, u)).countByKey\n",
    "\n",
    "println(s\"total sales $totalSales\")\n",
    "println(\"Users by country\")\n",
    "usersByCountryCount foreach println\n",
    "\n",
    "// This is (userId, (transaction, user))\n",
    "val salesByCountry = (transactions.map(t => (t.userId, t.amount))\n",
    "                .join(users.map(u => (u.userId, u.country)))\n",
    "                .map({ \n",
    "                  case (userId: String, (amount: Int, country: String)) \n",
    "                      => (country, amount)\n",
    "                }) \n",
    "                .reduceByKey(_ + _)\n",
    "                .collect)\n",
    "\n",
    "println(\"Transactions by country\")\n",
    "salesByCountry foreach println"
   ]
  },
  {
   "cell_type": "code",
   "execution_count": null,
   "metadata": {
    "collapsed": true
   },
   "outputs": [],
   "source": []
  },
  {
   "cell_type": "markdown",
   "metadata": {},
   "source": [
    "### A warning about traversables\n",
    "\n",
    "The transformations `mapPartitions`, `groupByKey`, `mapPartitionsWithIndex`, and `cogroup` return iterators.  Much like Python iterators, you can only traverse them once.  Here's a common anti-pattern:"
   ]
  },
  {
   "cell_type": "code",
   "execution_count": null,
   "metadata": {
    "collapsed": false
   },
   "outputs": [],
   "source": [
    "// Anti-example\n",
    "\n",
    "def mean(iter: TraversableOnce[Int]) = {\n",
    "    val size = iter.size\n",
    "    val sum = iter.sum.toDouble\n",
    "    sum / size\n",
    "}\n",
    "\n",
    "val iterMean = mean(Iterator(1, 2, 3, 4, 5))\n",
    "val listMean = mean(List(1, 2, 3, 4, 5))\n",
    "\n",
    "println(s\"iterator mean: $iterMean\\nlist mean: $listMean\")"
   ]
  },
  {
   "cell_type": "markdown",
   "metadata": {},
   "source": [
    "## Persisting RDDs\n",
    "When you persist an RDD, each node stores any partitions of it that it computes in memory and reuses them in other actions on that dataset (or datasets derived from it). This allows future actions to be much faster.\n",
    "\n",
    "The argument passed to the persist method determines how the RDD will be stored. In general, you may choose\n",
    "* Deserialized or serialized formats (serialized Java objects are more space-efficient but more CPU-intensive to read)\n",
    "* In-memory only or allow spilling to disk\n",
    "* *Fast* fault tolerance via redundancy\n",
    "* [Full documentation](http://spark.apache.org/docs/latest/programming-guide.html#rdd-persistence)\n",
    "\n",
    "\n",
    "*Serialization*: the process of translating data structures or object states into a format (i.e. series of bits) that can be stored and reconstructed later.\n",
    "\n",
    "\n",
    "1. The cache method is a shortcut for the default behavior: in memory and deserialized:\n",
    "```scala\n",
    "myRdd.cache()\n",
    "```\n",
    "2. Otherwise, specify the desired behavior:\n",
    "```scala\n",
    "myRdd.persist(MEMORY_ONLY_SER)\n",
    "```\n",
    "3. Cleaning up cached data is important for memory management. During shuffles, some intermediate data is automatically persisted, so it can be worthwhile to manually unpersist RDDs instead of waiting for garbage collection:\n",
    "```scala\n",
    "myRDD.unpersist()\n",
    "```\n",
    "\n",
    "**Question:** Caching is a key tool for iterative algorithms and fast interactive use.  Why might you not always do it?"
   ]
  },
  {
   "cell_type": "code",
   "execution_count": null,
   "metadata": {
    "collapsed": false
   },
   "outputs": [],
   "source": [
    "def randomStream = spark.parallelize(1 to 1000000).map{_ => Math.random()}\n",
    "\n",
    "val uncachedLines = randomStream\n",
    "val cachedLines = randomStream.cache()\n",
    "\n",
    "time{uncachedLines.count()}\n",
    "time{uncachedLines.count()}\n",
    "time{cachedLines.count()}\n",
    "time{cachedLines.count()} // this runs faster the 2nd time"
   ]
  },
  {
   "cell_type": "markdown",
   "metadata": {},
   "source": [
    "## Accumulators\n",
    "\n",
    "We'll want to implement counters (like we had in `mrjob` and Hadoop in general).  As usual, here is a first anti-example:"
   ]
  },
  {
   "cell_type": "code",
   "execution_count": 24,
   "metadata": {
    "collapsed": false
   },
   "outputs": [
    {
     "name": "stdout",
     "output_type": "stream",
     "text": [
      "0\n"
     ]
    },
    {
     "name": "stderr",
     "output_type": "stream",
     "text": []
    }
   ],
   "source": [
    "// Anti-example\n",
    "\n",
    "var counter: Int = 0\n",
    "\n",
    "spark.parallelize((1 to 10))\n",
    "    .foreach(x => counter += 1)\n",
    "\n",
    "println(counter)  // what's happening here?"
   ]
  },
  {
   "cell_type": "markdown",
   "metadata": {},
   "source": [
    "Here's the correct way to implement this using [Accumulators](https://spark.apache.org/docs/1.3.0/api/scala/index.html#org.apache.spark.Accumulator).  We are just using them for integer addition but you can use them for any [monoid](https://en.wikipedia.org/wiki/Monoid).  You'll hear about these a lot in Scala."
   ]
  },
  {
   "cell_type": "code",
   "execution_count": 25,
   "metadata": {
    "collapsed": false
   },
   "outputs": [
    {
     "name": "stdout",
     "output_type": "stream",
     "text": [
      "10\n"
     ]
    },
    {
     "name": "stderr",
     "output_type": "stream",
     "text": []
    }
   ],
   "source": [
    "// Example\n",
    "\n",
    "var accumCounter = spark.accumulator(0)\n",
    "\n",
    "spark.parallelize((1 to 10))\n",
    "    .foreach(x => accumCounter += 1)\n",
    "\n",
    "println(accumCounter)"
   ]
  },
  {
   "cell_type": "code",
   "execution_count": 26,
   "metadata": {
    "collapsed": false
   },
   "outputs": [
    {
     "name": "stdout",
     "output_type": "stream",
     "text": [
      "counter: 0\n",
      "55\n",
      "counter: 10\n",
      "1\n",
      "2\n",
      "3\n",
      "counter: 15\n"
     ]
    },
    {
     "name": "stderr",
     "output_type": "stream",
     "text": []
    }
   ],
   "source": [
    "// Lazy example\n",
    "\n",
    "var accumCounter = spark.accumulator(0)\n",
    "\n",
    "val myRdd = spark.parallelize((1 to 10))\n",
    "    .map{x => accumCounter += 1\n",
    "         x}\n",
    "\n",
    "println(\"counter: \" + accumCounter)\n",
    "\n",
    "println(myRdd.reduce(_ + _))\n",
    "\n",
    "println(\"counter: \" + accumCounter)\n",
    "\n",
    "myRdd.take(3).foreach(println)\n",
    "\n",
    "println(\"counter: \" + accumCounter)"
   ]
  },
  {
   "cell_type": "markdown",
   "metadata": {},
   "source": [
    "## Broadcast variables\n",
    "\n",
    "Broad variables are the Spark equivalent of Hadoop's distributed cache: they deposit read-only data cached on each machine rather than shipping a copy of it with tasks."
   ]
  },
  {
   "cell_type": "code",
   "execution_count": 27,
   "metadata": {
    "collapsed": false
   },
   "outputs": [
    {
     "name": "stderr",
     "output_type": "stream",
     "text": []
    },
    {
     "name": "stdout",
     "output_type": "stream",
     "text": []
    }
   ],
   "source": [
    "// Basic usage:\n",
    "\n",
    "val iBV = spark.broadcast(10)\n",
    "assert(iBV.value == 10)"
   ]
  },
  {
   "cell_type": "markdown",
   "metadata": {},
   "source": [
    "Here's a more realistic example to show how you might implement this:"
   ]
  },
  {
   "cell_type": "code",
   "execution_count": 28,
   "metadata": {
    "collapsed": false
   },
   "outputs": [
    {
     "name": "stdout",
     "output_type": "stream",
     "text": [
      "Elapsed time: 0.087469965s\n",
      "Elapsed time: 0.048489677s\n"
     ]
    },
    {
     "name": "stderr",
     "output_type": "stream",
     "text": []
    }
   ],
   "source": [
    "val states = Map(\n",
    "    0 -> \"AL\",\n",
    "    1 -> \"KY\",\n",
    "    2 -> \"VT\" // etc.\n",
    ")\n",
    "\n",
    "case class Sale(state: Int, sales: Double)\n",
    "\n",
    "val data = spark.parallelize(Array(\n",
    "    Sale(0, 30.),\n",
    "    Sale(1, 40.),\n",
    "    Sale(2, 20.),\n",
    "    Sale(2, 10.)\n",
    "))\n",
    "\n",
    "// This works but it will send `states` to each node again if run twice\n",
    "time{val results1 = data.map(s => (states(s.state), s.sales)).collect()}\n",
    "\n",
    "// // broadcast to each node once, and can be used freely inside map\n",
    "val statesBV = spark.broadcast(states)\n",
    "time{val results2 = data.map(s => (statesBV.value(s.state), s.sales)).collect()}"
   ]
  },
  {
   "cell_type": "code",
   "execution_count": 29,
   "metadata": {
    "collapsed": false
   },
   "outputs": [
    {
     "name": "stdout",
     "output_type": "stream",
     "text": []
    },
    {
     "name": "stderr",
     "output_type": "stream",
     "text": []
    }
   ],
   "source": [
    "val results1 = data.map(s => (states(s.state), s.sales)).collect()\n",
    "val results2 = data.map(s => (statesBV.value(s.state), s.sales)).collect()\n",
    "assert(results1.toList == results2.toList) // why do we need .toList?"
   ]
  },
  {
   "cell_type": "markdown",
   "metadata": {},
   "source": [
    "**Some caveats:**\n",
    "1. After the broadcast variable is created, it should be used instead of the value so that it is not shipped to the nodes more than once.\n",
    "2. The broadcast variable should not be modified after it is broadcast in order to ensure that all nodes get the same value of the broadcast variable.\n",
    "3. How does the memory footprint of broadcasting scale with the number of tasks? With the number of executors?\n",
    "\n",
    "**Question:** The above example is called a map-side join.  \n",
    "1. Why is it called this?\n",
    "1. What are the strengths and weaknesses of this versus a full join (i.e. emitting key-value pairs to common keys)?"
   ]
  },
  {
   "cell_type": "markdown",
   "metadata": {},
   "source": [
    "#### Exit Tickets\n",
    "1. What are the main distinguishing factors of Spark versus Hadoop?\n",
    "1. Go over the pros and cons of caching/broadcasting information for MapReduce jobs.\n",
    "1. What are the inputs and outputs for actions and transformations, respectively?\n",
    "1. `union` is a funciton that \"merges\" two RDDs \"vertically\".  How do you have a union between an `RDD` of type `S` and one of type `T` in a statically typed language?"
   ]
  },
  {
   "cell_type": "markdown",
   "metadata": {},
   "source": [
    "*Copyright &copy; 2015 The Data Incubator.  All rights reserved.*"
   ]
  }
 ],
 "metadata": {
  "kernelspec": {
   "display_name": "Spark 1.3 (Scala 2.10)",
   "language": "scala",
   "name": "spark-1.3-scala-2.10"
  },
  "language_info": {
   "codemirror_mode": "text/x-scala",
   "file_extension": "scala",
   "mimetype": "text/x-scala",
   "name": "scala"
  }
 },
 "nbformat": 4,
 "nbformat_minor": 0
}
